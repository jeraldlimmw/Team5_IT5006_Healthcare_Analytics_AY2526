{
  "cells": [
    {
      "cell_type": "markdown",
      "id": "o_it2HjyEjwL",
      "metadata": {
        "id": "o_it2HjyEjwL"
      },
      "source": [
        "# Retrieval of Dataset"
      ]
    },
    {
      "cell_type": "code",
      "execution_count": 1,
      "id": "0gL07cjrzwG-",
      "metadata": {
        "id": "0gL07cjrzwG-"
      },
      "outputs": [],
      "source": [
        "import plotly.express as px\n",
        "import pandas as pd\n",
        "import numpy as np\n",
        "import matplotlib.pyplot as plt\n",
        "import seaborn as sns\n",
        "from scipy import stats\n",
        "from sklearn.model_selection import train_test_split, GridSearchCV, StratifiedKFold\n",
        "from sklearn.preprocessing import StandardScaler, LabelEncoder, OneHotEncoder\n",
        "from sklearn.impute import SimpleImputer\n",
        "from sklearn.decomposition import PCA\n",
        "from sklearn.feature_selection import SelectKBest, f_regression, mutual_info_regression\n",
        "from sklearn.linear_model import LinearRegression, Ridge, Lasso, ElasticNet\n",
        "from sklearn.ensemble import RandomForestRegressor\n",
        "from sklearn.metrics import mean_squared_error, mean_absolute_error, r2_score\n",
        "from sklearn.ensemble import RandomForestRegressor, GradientBoostingRegressor\n",
        "\n",
        "from sklearn.ensemble import RandomForestClassifier\n",
        "from sklearn.metrics import classification_report\n",
        "from sklearn.linear_model import LogisticRegression\n",
        "import xgboost as xgb\n",
        "from sklearn.naive_bayes import GaussianNB\n",
        "from imblearn.over_sampling import SMOTE\n",
        "from imblearn.pipeline import Pipeline\n",
        "\n",
        "from sklearn.compose import ColumnTransformer\n",
        "from sklearn.pipeline import Pipeline\n",
        "from imblearn.pipeline import Pipeline as ImbPipeline\n",
        "from imblearn.over_sampling import SMOTE\n",
        "from imblearn.combine import SMOTEENN\n",
        "import lightgbm as lgb\n",
        "from sklearn.metrics import classification_report, roc_auc_score, roc_curve, auc, accuracy_score\n",
        "\n",
        "from sklearn.ensemble import VotingClassifier\n",
        "from sklearn.metrics import confusion_matrix\n",
        "\n",
        "import warnings\n",
        "warnings.filterwarnings(\"ignore\")"
      ]
    },
    {
      "cell_type": "code",
      "execution_count": 2,
      "id": "7744262e",
      "metadata": {
        "id": "7744262e"
      },
      "outputs": [],
      "source": [
        "# pd.set_option('display.max_rows', None)\n",
        "# pd.set_option('display.max_columns', None)\n",
        "# pd.set_option('display.max_colwidth', None)"
      ]
    },
    {
      "cell_type": "code",
      "execution_count": 3,
      "id": "6d28f8ed",
      "metadata": {
        "colab": {
          "base_uri": "https://localhost:8080/",
          "height": 360
        },
        "id": "6d28f8ed",
        "outputId": "65ab3b98-88e2-47bc-fcc8-68d3853a5224"
      },
      "outputs": [
        {
          "data": {
            "text/html": [
              "<div>\n",
              "<style scoped>\n",
              "    .dataframe tbody tr th:only-of-type {\n",
              "        vertical-align: middle;\n",
              "    }\n",
              "\n",
              "    .dataframe tbody tr th {\n",
              "        vertical-align: top;\n",
              "    }\n",
              "\n",
              "    .dataframe thead th {\n",
              "        text-align: right;\n",
              "    }\n",
              "</style>\n",
              "<table border=\"1\" class=\"dataframe\">\n",
              "  <thead>\n",
              "    <tr style=\"text-align: right;\">\n",
              "      <th></th>\n",
              "      <th>encounter_id</th>\n",
              "      <th>patient_nbr</th>\n",
              "      <th>race</th>\n",
              "      <th>gender</th>\n",
              "      <th>age</th>\n",
              "      <th>weight</th>\n",
              "      <th>admission_type_id</th>\n",
              "      <th>discharge_disposition_id</th>\n",
              "      <th>admission_source_id</th>\n",
              "      <th>time_in_hospital</th>\n",
              "      <th>...</th>\n",
              "      <th>citoglipton</th>\n",
              "      <th>insulin</th>\n",
              "      <th>glyburide-metformin</th>\n",
              "      <th>glipizide-metformin</th>\n",
              "      <th>glimepiride-pioglitazone</th>\n",
              "      <th>metformin-rosiglitazone</th>\n",
              "      <th>metformin-pioglitazone</th>\n",
              "      <th>change</th>\n",
              "      <th>diabetesMed</th>\n",
              "      <th>readmitted</th>\n",
              "    </tr>\n",
              "  </thead>\n",
              "  <tbody>\n",
              "    <tr>\n",
              "      <th>0</th>\n",
              "      <td>2278392</td>\n",
              "      <td>8222157</td>\n",
              "      <td>Caucasian</td>\n",
              "      <td>Female</td>\n",
              "      <td>[0-10)</td>\n",
              "      <td>NaN</td>\n",
              "      <td>6</td>\n",
              "      <td>25</td>\n",
              "      <td>1</td>\n",
              "      <td>1</td>\n",
              "      <td>...</td>\n",
              "      <td>No</td>\n",
              "      <td>No</td>\n",
              "      <td>No</td>\n",
              "      <td>No</td>\n",
              "      <td>No</td>\n",
              "      <td>No</td>\n",
              "      <td>No</td>\n",
              "      <td>No</td>\n",
              "      <td>No</td>\n",
              "      <td>NO</td>\n",
              "    </tr>\n",
              "    <tr>\n",
              "      <th>1</th>\n",
              "      <td>149190</td>\n",
              "      <td>55629189</td>\n",
              "      <td>Caucasian</td>\n",
              "      <td>Female</td>\n",
              "      <td>[10-20)</td>\n",
              "      <td>NaN</td>\n",
              "      <td>1</td>\n",
              "      <td>1</td>\n",
              "      <td>7</td>\n",
              "      <td>3</td>\n",
              "      <td>...</td>\n",
              "      <td>No</td>\n",
              "      <td>Up</td>\n",
              "      <td>No</td>\n",
              "      <td>No</td>\n",
              "      <td>No</td>\n",
              "      <td>No</td>\n",
              "      <td>No</td>\n",
              "      <td>Ch</td>\n",
              "      <td>Yes</td>\n",
              "      <td>&gt;30</td>\n",
              "    </tr>\n",
              "    <tr>\n",
              "      <th>2</th>\n",
              "      <td>64410</td>\n",
              "      <td>86047875</td>\n",
              "      <td>AfricanAmerican</td>\n",
              "      <td>Female</td>\n",
              "      <td>[20-30)</td>\n",
              "      <td>NaN</td>\n",
              "      <td>1</td>\n",
              "      <td>1</td>\n",
              "      <td>7</td>\n",
              "      <td>2</td>\n",
              "      <td>...</td>\n",
              "      <td>No</td>\n",
              "      <td>No</td>\n",
              "      <td>No</td>\n",
              "      <td>No</td>\n",
              "      <td>No</td>\n",
              "      <td>No</td>\n",
              "      <td>No</td>\n",
              "      <td>No</td>\n",
              "      <td>Yes</td>\n",
              "      <td>NO</td>\n",
              "    </tr>\n",
              "    <tr>\n",
              "      <th>3</th>\n",
              "      <td>500364</td>\n",
              "      <td>82442376</td>\n",
              "      <td>Caucasian</td>\n",
              "      <td>Male</td>\n",
              "      <td>[30-40)</td>\n",
              "      <td>NaN</td>\n",
              "      <td>1</td>\n",
              "      <td>1</td>\n",
              "      <td>7</td>\n",
              "      <td>2</td>\n",
              "      <td>...</td>\n",
              "      <td>No</td>\n",
              "      <td>Up</td>\n",
              "      <td>No</td>\n",
              "      <td>No</td>\n",
              "      <td>No</td>\n",
              "      <td>No</td>\n",
              "      <td>No</td>\n",
              "      <td>Ch</td>\n",
              "      <td>Yes</td>\n",
              "      <td>NO</td>\n",
              "    </tr>\n",
              "    <tr>\n",
              "      <th>4</th>\n",
              "      <td>16680</td>\n",
              "      <td>42519267</td>\n",
              "      <td>Caucasian</td>\n",
              "      <td>Male</td>\n",
              "      <td>[40-50)</td>\n",
              "      <td>NaN</td>\n",
              "      <td>1</td>\n",
              "      <td>1</td>\n",
              "      <td>7</td>\n",
              "      <td>1</td>\n",
              "      <td>...</td>\n",
              "      <td>No</td>\n",
              "      <td>Steady</td>\n",
              "      <td>No</td>\n",
              "      <td>No</td>\n",
              "      <td>No</td>\n",
              "      <td>No</td>\n",
              "      <td>No</td>\n",
              "      <td>Ch</td>\n",
              "      <td>Yes</td>\n",
              "      <td>NO</td>\n",
              "    </tr>\n",
              "  </tbody>\n",
              "</table>\n",
              "<p>5 rows × 50 columns</p>\n",
              "</div>"
            ],
            "text/plain": [
              "   encounter_id  patient_nbr             race  gender      age weight  \\\n",
              "0       2278392      8222157        Caucasian  Female   [0-10)    NaN   \n",
              "1        149190     55629189        Caucasian  Female  [10-20)    NaN   \n",
              "2         64410     86047875  AfricanAmerican  Female  [20-30)    NaN   \n",
              "3        500364     82442376        Caucasian    Male  [30-40)    NaN   \n",
              "4         16680     42519267        Caucasian    Male  [40-50)    NaN   \n",
              "\n",
              "   admission_type_id  discharge_disposition_id  admission_source_id  \\\n",
              "0                  6                        25                    1   \n",
              "1                  1                         1                    7   \n",
              "2                  1                         1                    7   \n",
              "3                  1                         1                    7   \n",
              "4                  1                         1                    7   \n",
              "\n",
              "   time_in_hospital  ... citoglipton insulin  glyburide-metformin  \\\n",
              "0                 1  ...          No      No                   No   \n",
              "1                 3  ...          No      Up                   No   \n",
              "2                 2  ...          No      No                   No   \n",
              "3                 2  ...          No      Up                   No   \n",
              "4                 1  ...          No  Steady                   No   \n",
              "\n",
              "   glipizide-metformin  glimepiride-pioglitazone  metformin-rosiglitazone  \\\n",
              "0                   No                        No                       No   \n",
              "1                   No                        No                       No   \n",
              "2                   No                        No                       No   \n",
              "3                   No                        No                       No   \n",
              "4                   No                        No                       No   \n",
              "\n",
              "   metformin-pioglitazone  change diabetesMed readmitted  \n",
              "0                      No      No          No         NO  \n",
              "1                      No      Ch         Yes        >30  \n",
              "2                      No      No         Yes         NO  \n",
              "3                      No      Ch         Yes         NO  \n",
              "4                      No      Ch         Yes         NO  \n",
              "\n",
              "[5 rows x 50 columns]"
            ]
          },
          "execution_count": 3,
          "metadata": {},
          "output_type": "execute_result"
        }
      ],
      "source": [
        "diabetes_df = pd.read_csv(\"https://archive.ics.uci.edu/static/public/296/data.csv\", low_memory=False)\n",
        "diabetes_df.head()"
      ]
    },
    {
      "cell_type": "code",
      "execution_count": 4,
      "id": "1e0a0a62",
      "metadata": {
        "colab": {
          "base_uri": "https://localhost:8080/"
        },
        "id": "1e0a0a62",
        "outputId": "85b53f0a-69cb-4cdc-c899-b8c0a8d32ed0"
      },
      "outputs": [
        {
          "data": {
            "text/plain": [
              "(101766, 50)"
            ]
          },
          "execution_count": 4,
          "metadata": {},
          "output_type": "execute_result"
        }
      ],
      "source": [
        "diabetes_df.shape"
      ]
    },
    {
      "cell_type": "code",
      "execution_count": 5,
      "id": "0a51a127",
      "metadata": {
        "colab": {
          "base_uri": "https://localhost:8080/",
          "height": 1000
        },
        "id": "0a51a127",
        "outputId": "44e6f1c6-763b-43a5-cdb8-ed792bfd6b9f"
      },
      "outputs": [
        {
          "data": {
            "text/plain": [
              "encounter_id                 int64\n",
              "patient_nbr                  int64\n",
              "race                        object\n",
              "gender                      object\n",
              "age                         object\n",
              "weight                      object\n",
              "admission_type_id            int64\n",
              "discharge_disposition_id     int64\n",
              "admission_source_id          int64\n",
              "time_in_hospital             int64\n",
              "payer_code                  object\n",
              "medical_specialty           object\n",
              "num_lab_procedures           int64\n",
              "num_procedures               int64\n",
              "num_medications              int64\n",
              "number_outpatient            int64\n",
              "number_emergency             int64\n",
              "number_inpatient             int64\n",
              "diag_1                      object\n",
              "diag_2                      object\n",
              "diag_3                      object\n",
              "number_diagnoses             int64\n",
              "max_glu_serum               object\n",
              "A1Cresult                   object\n",
              "metformin                   object\n",
              "repaglinide                 object\n",
              "nateglinide                 object\n",
              "chlorpropamide              object\n",
              "glimepiride                 object\n",
              "acetohexamide               object\n",
              "glipizide                   object\n",
              "glyburide                   object\n",
              "tolbutamide                 object\n",
              "pioglitazone                object\n",
              "rosiglitazone               object\n",
              "acarbose                    object\n",
              "miglitol                    object\n",
              "troglitazone                object\n",
              "tolazamide                  object\n",
              "examide                     object\n",
              "citoglipton                 object\n",
              "insulin                     object\n",
              "glyburide-metformin         object\n",
              "glipizide-metformin         object\n",
              "glimepiride-pioglitazone    object\n",
              "metformin-rosiglitazone     object\n",
              "metformin-pioglitazone      object\n",
              "change                      object\n",
              "diabetesMed                 object\n",
              "readmitted                  object\n",
              "dtype: object"
            ]
          },
          "execution_count": 5,
          "metadata": {},
          "output_type": "execute_result"
        }
      ],
      "source": [
        "diabetes_df.dtypes"
      ]
    },
    {
      "cell_type": "code",
      "execution_count": 6,
      "id": "76303e77",
      "metadata": {
        "colab": {
          "base_uri": "https://localhost:8080/",
          "height": 320
        },
        "id": "76303e77",
        "outputId": "083aba72-6ccb-4ed7-9ac8-b429916db890"
      },
      "outputs": [
        {
          "data": {
            "text/html": [
              "<div>\n",
              "<style scoped>\n",
              "    .dataframe tbody tr th:only-of-type {\n",
              "        vertical-align: middle;\n",
              "    }\n",
              "\n",
              "    .dataframe tbody tr th {\n",
              "        vertical-align: top;\n",
              "    }\n",
              "\n",
              "    .dataframe thead th {\n",
              "        text-align: right;\n",
              "    }\n",
              "</style>\n",
              "<table border=\"1\" class=\"dataframe\">\n",
              "  <thead>\n",
              "    <tr style=\"text-align: right;\">\n",
              "      <th></th>\n",
              "      <th>encounter_id</th>\n",
              "      <th>patient_nbr</th>\n",
              "      <th>admission_type_id</th>\n",
              "      <th>discharge_disposition_id</th>\n",
              "      <th>admission_source_id</th>\n",
              "      <th>time_in_hospital</th>\n",
              "      <th>num_lab_procedures</th>\n",
              "      <th>num_procedures</th>\n",
              "      <th>num_medications</th>\n",
              "      <th>number_outpatient</th>\n",
              "      <th>number_emergency</th>\n",
              "      <th>number_inpatient</th>\n",
              "      <th>number_diagnoses</th>\n",
              "    </tr>\n",
              "  </thead>\n",
              "  <tbody>\n",
              "    <tr>\n",
              "      <th>count</th>\n",
              "      <td>1.017660e+05</td>\n",
              "      <td>1.017660e+05</td>\n",
              "      <td>101766.000000</td>\n",
              "      <td>101766.000000</td>\n",
              "      <td>101766.000000</td>\n",
              "      <td>101766.000000</td>\n",
              "      <td>101766.000000</td>\n",
              "      <td>101766.000000</td>\n",
              "      <td>101766.000000</td>\n",
              "      <td>101766.000000</td>\n",
              "      <td>101766.000000</td>\n",
              "      <td>101766.000000</td>\n",
              "      <td>101766.000000</td>\n",
              "    </tr>\n",
              "    <tr>\n",
              "      <th>mean</th>\n",
              "      <td>1.652016e+08</td>\n",
              "      <td>5.433040e+07</td>\n",
              "      <td>2.024006</td>\n",
              "      <td>3.715642</td>\n",
              "      <td>5.754437</td>\n",
              "      <td>4.395987</td>\n",
              "      <td>43.095641</td>\n",
              "      <td>1.339730</td>\n",
              "      <td>16.021844</td>\n",
              "      <td>0.369357</td>\n",
              "      <td>0.197836</td>\n",
              "      <td>0.635566</td>\n",
              "      <td>7.422607</td>\n",
              "    </tr>\n",
              "    <tr>\n",
              "      <th>std</th>\n",
              "      <td>1.026403e+08</td>\n",
              "      <td>3.869636e+07</td>\n",
              "      <td>1.445403</td>\n",
              "      <td>5.280166</td>\n",
              "      <td>4.064081</td>\n",
              "      <td>2.985108</td>\n",
              "      <td>19.674362</td>\n",
              "      <td>1.705807</td>\n",
              "      <td>8.127566</td>\n",
              "      <td>1.267265</td>\n",
              "      <td>0.930472</td>\n",
              "      <td>1.262863</td>\n",
              "      <td>1.933600</td>\n",
              "    </tr>\n",
              "    <tr>\n",
              "      <th>min</th>\n",
              "      <td>1.252200e+04</td>\n",
              "      <td>1.350000e+02</td>\n",
              "      <td>1.000000</td>\n",
              "      <td>1.000000</td>\n",
              "      <td>1.000000</td>\n",
              "      <td>1.000000</td>\n",
              "      <td>1.000000</td>\n",
              "      <td>0.000000</td>\n",
              "      <td>1.000000</td>\n",
              "      <td>0.000000</td>\n",
              "      <td>0.000000</td>\n",
              "      <td>0.000000</td>\n",
              "      <td>1.000000</td>\n",
              "    </tr>\n",
              "    <tr>\n",
              "      <th>25%</th>\n",
              "      <td>8.496119e+07</td>\n",
              "      <td>2.341322e+07</td>\n",
              "      <td>1.000000</td>\n",
              "      <td>1.000000</td>\n",
              "      <td>1.000000</td>\n",
              "      <td>2.000000</td>\n",
              "      <td>31.000000</td>\n",
              "      <td>0.000000</td>\n",
              "      <td>10.000000</td>\n",
              "      <td>0.000000</td>\n",
              "      <td>0.000000</td>\n",
              "      <td>0.000000</td>\n",
              "      <td>6.000000</td>\n",
              "    </tr>\n",
              "    <tr>\n",
              "      <th>50%</th>\n",
              "      <td>1.523890e+08</td>\n",
              "      <td>4.550514e+07</td>\n",
              "      <td>1.000000</td>\n",
              "      <td>1.000000</td>\n",
              "      <td>7.000000</td>\n",
              "      <td>4.000000</td>\n",
              "      <td>44.000000</td>\n",
              "      <td>1.000000</td>\n",
              "      <td>15.000000</td>\n",
              "      <td>0.000000</td>\n",
              "      <td>0.000000</td>\n",
              "      <td>0.000000</td>\n",
              "      <td>8.000000</td>\n",
              "    </tr>\n",
              "    <tr>\n",
              "      <th>75%</th>\n",
              "      <td>2.302709e+08</td>\n",
              "      <td>8.754595e+07</td>\n",
              "      <td>3.000000</td>\n",
              "      <td>4.000000</td>\n",
              "      <td>7.000000</td>\n",
              "      <td>6.000000</td>\n",
              "      <td>57.000000</td>\n",
              "      <td>2.000000</td>\n",
              "      <td>20.000000</td>\n",
              "      <td>0.000000</td>\n",
              "      <td>0.000000</td>\n",
              "      <td>1.000000</td>\n",
              "      <td>9.000000</td>\n",
              "    </tr>\n",
              "    <tr>\n",
              "      <th>max</th>\n",
              "      <td>4.438672e+08</td>\n",
              "      <td>1.895026e+08</td>\n",
              "      <td>8.000000</td>\n",
              "      <td>28.000000</td>\n",
              "      <td>25.000000</td>\n",
              "      <td>14.000000</td>\n",
              "      <td>132.000000</td>\n",
              "      <td>6.000000</td>\n",
              "      <td>81.000000</td>\n",
              "      <td>42.000000</td>\n",
              "      <td>76.000000</td>\n",
              "      <td>21.000000</td>\n",
              "      <td>16.000000</td>\n",
              "    </tr>\n",
              "  </tbody>\n",
              "</table>\n",
              "</div>"
            ],
            "text/plain": [
              "       encounter_id   patient_nbr  admission_type_id  \\\n",
              "count  1.017660e+05  1.017660e+05      101766.000000   \n",
              "mean   1.652016e+08  5.433040e+07           2.024006   \n",
              "std    1.026403e+08  3.869636e+07           1.445403   \n",
              "min    1.252200e+04  1.350000e+02           1.000000   \n",
              "25%    8.496119e+07  2.341322e+07           1.000000   \n",
              "50%    1.523890e+08  4.550514e+07           1.000000   \n",
              "75%    2.302709e+08  8.754595e+07           3.000000   \n",
              "max    4.438672e+08  1.895026e+08           8.000000   \n",
              "\n",
              "       discharge_disposition_id  admission_source_id  time_in_hospital  \\\n",
              "count             101766.000000        101766.000000     101766.000000   \n",
              "mean                   3.715642             5.754437          4.395987   \n",
              "std                    5.280166             4.064081          2.985108   \n",
              "min                    1.000000             1.000000          1.000000   \n",
              "25%                    1.000000             1.000000          2.000000   \n",
              "50%                    1.000000             7.000000          4.000000   \n",
              "75%                    4.000000             7.000000          6.000000   \n",
              "max                   28.000000            25.000000         14.000000   \n",
              "\n",
              "       num_lab_procedures  num_procedures  num_medications  number_outpatient  \\\n",
              "count       101766.000000   101766.000000    101766.000000      101766.000000   \n",
              "mean            43.095641        1.339730        16.021844           0.369357   \n",
              "std             19.674362        1.705807         8.127566           1.267265   \n",
              "min              1.000000        0.000000         1.000000           0.000000   \n",
              "25%             31.000000        0.000000        10.000000           0.000000   \n",
              "50%             44.000000        1.000000        15.000000           0.000000   \n",
              "75%             57.000000        2.000000        20.000000           0.000000   \n",
              "max            132.000000        6.000000        81.000000          42.000000   \n",
              "\n",
              "       number_emergency  number_inpatient  number_diagnoses  \n",
              "count     101766.000000     101766.000000     101766.000000  \n",
              "mean           0.197836          0.635566          7.422607  \n",
              "std            0.930472          1.262863          1.933600  \n",
              "min            0.000000          0.000000          1.000000  \n",
              "25%            0.000000          0.000000          6.000000  \n",
              "50%            0.000000          0.000000          8.000000  \n",
              "75%            0.000000          1.000000          9.000000  \n",
              "max           76.000000         21.000000         16.000000  "
            ]
          },
          "execution_count": 6,
          "metadata": {},
          "output_type": "execute_result"
        }
      ],
      "source": [
        "diabetes_df.describe()"
      ]
    },
    {
      "cell_type": "code",
      "execution_count": 7,
      "id": "9a58ca00",
      "metadata": {
        "id": "9a58ca00"
      },
      "outputs": [],
      "source": [
        "# print(diabetes_df['time_in_hospital'].unique())\n",
        "# print(diabetes_df['age'].unique())\n",
        "# print(diabetes_df['race'].unique()) # we were thinking if we can get heights information based on race, but too many Other and NaN values hinders us from doing it"
      ]
    },
    {
      "cell_type": "markdown",
      "id": "X44ZJ74iGmwU",
      "metadata": {
        "id": "X44ZJ74iGmwU"
      },
      "source": [
        "# Feature Engineering"
      ]
    },
    {
      "cell_type": "markdown",
      "id": "NW6QqClP5fUD",
      "metadata": {
        "id": "NW6QqClP5fUD"
      },
      "source": [
        "## Handling Missing Values:"
      ]
    },
    {
      "cell_type": "code",
      "execution_count": 8,
      "id": "246212a2",
      "metadata": {
        "colab": {
          "base_uri": "https://localhost:8080/",
          "height": 1000
        },
        "collapsed": true,
        "id": "246212a2",
        "outputId": "563f165a-b63b-44bd-b09c-b5ab18e97402"
      },
      "outputs": [
        {
          "data": {
            "text/plain": [
              "weight                      98569\n",
              "max_glu_serum               96420\n",
              "A1Cresult                   84748\n",
              "medical_specialty           49949\n",
              "payer_code                  40256\n",
              "race                         2273\n",
              "diag_3                       1423\n",
              "diag_2                        358\n",
              "diag_1                         21\n",
              "encounter_id                    0\n",
              "troglitazone                    0\n",
              "tolbutamide                     0\n",
              "pioglitazone                    0\n",
              "rosiglitazone                   0\n",
              "acarbose                        0\n",
              "miglitol                        0\n",
              "citoglipton                     0\n",
              "tolazamide                      0\n",
              "examide                         0\n",
              "glipizide                       0\n",
              "insulin                         0\n",
              "glyburide-metformin             0\n",
              "glipizide-metformin             0\n",
              "glimepiride-pioglitazone        0\n",
              "metformin-rosiglitazone         0\n",
              "metformin-pioglitazone          0\n",
              "change                          0\n",
              "diabetesMed                     0\n",
              "glyburide                       0\n",
              "repaglinide                     0\n",
              "acetohexamide                   0\n",
              "glimepiride                     0\n",
              "gender                          0\n",
              "age                             0\n",
              "admission_type_id               0\n",
              "discharge_disposition_id        0\n",
              "admission_source_id             0\n",
              "time_in_hospital                0\n",
              "num_lab_procedures              0\n",
              "num_procedures                  0\n",
              "num_medications                 0\n",
              "number_outpatient               0\n",
              "number_emergency                0\n",
              "number_inpatient                0\n",
              "number_diagnoses                0\n",
              "metformin                       0\n",
              "patient_nbr                     0\n",
              "nateglinide                     0\n",
              "chlorpropamide                  0\n",
              "readmitted                      0\n",
              "dtype: int64"
            ]
          },
          "execution_count": 8,
          "metadata": {},
          "output_type": "execute_result"
        }
      ],
      "source": [
        "diabetes_df.isnull().sum().sort_values(ascending=False)\n"
      ]
    },
    {
      "cell_type": "code",
      "execution_count": 9,
      "id": "fBjez3eT9cFt",
      "metadata": {
        "colab": {
          "base_uri": "https://localhost:8080/",
          "height": 520
        },
        "id": "fBjez3eT9cFt",
        "outputId": "6169ad1a-9ac8-40f9-e69c-f17130a5e22d"
      },
      "outputs": [
        {
          "data": {
            "text/html": [
              "<div>\n",
              "<style scoped>\n",
              "    .dataframe tbody tr th:only-of-type {\n",
              "        vertical-align: middle;\n",
              "    }\n",
              "\n",
              "    .dataframe tbody tr th {\n",
              "        vertical-align: top;\n",
              "    }\n",
              "\n",
              "    .dataframe thead th {\n",
              "        text-align: right;\n",
              "    }\n",
              "</style>\n",
              "<table border=\"1\" class=\"dataframe\">\n",
              "  <thead>\n",
              "    <tr style=\"text-align: right;\">\n",
              "      <th></th>\n",
              "      <th>missing_ratio</th>\n",
              "    </tr>\n",
              "  </thead>\n",
              "  <tbody>\n",
              "    <tr>\n",
              "      <th>weight</th>\n",
              "      <td>0.968585</td>\n",
              "    </tr>\n",
              "    <tr>\n",
              "      <th>max_glu_serum</th>\n",
              "      <td>0.947468</td>\n",
              "    </tr>\n",
              "    <tr>\n",
              "      <th>A1Cresult</th>\n",
              "      <td>0.832773</td>\n",
              "    </tr>\n",
              "    <tr>\n",
              "      <th>medical_specialty</th>\n",
              "      <td>0.490822</td>\n",
              "    </tr>\n",
              "    <tr>\n",
              "      <th>payer_code</th>\n",
              "      <td>0.395574</td>\n",
              "    </tr>\n",
              "    <tr>\n",
              "      <th>race</th>\n",
              "      <td>0.022336</td>\n",
              "    </tr>\n",
              "    <tr>\n",
              "      <th>diag_3</th>\n",
              "      <td>0.013983</td>\n",
              "    </tr>\n",
              "    <tr>\n",
              "      <th>diag_2</th>\n",
              "      <td>0.003518</td>\n",
              "    </tr>\n",
              "    <tr>\n",
              "      <th>diag_1</th>\n",
              "      <td>0.000206</td>\n",
              "    </tr>\n",
              "    <tr>\n",
              "      <th>encounter_id</th>\n",
              "      <td>0.000000</td>\n",
              "    </tr>\n",
              "    <tr>\n",
              "      <th>troglitazone</th>\n",
              "      <td>0.000000</td>\n",
              "    </tr>\n",
              "    <tr>\n",
              "      <th>tolbutamide</th>\n",
              "      <td>0.000000</td>\n",
              "    </tr>\n",
              "    <tr>\n",
              "      <th>pioglitazone</th>\n",
              "      <td>0.000000</td>\n",
              "    </tr>\n",
              "    <tr>\n",
              "      <th>rosiglitazone</th>\n",
              "      <td>0.000000</td>\n",
              "    </tr>\n",
              "    <tr>\n",
              "      <th>acarbose</th>\n",
              "      <td>0.000000</td>\n",
              "    </tr>\n",
              "  </tbody>\n",
              "</table>\n",
              "</div>"
            ],
            "text/plain": [
              "                   missing_ratio\n",
              "weight                  0.968585\n",
              "max_glu_serum           0.947468\n",
              "A1Cresult               0.832773\n",
              "medical_specialty       0.490822\n",
              "payer_code              0.395574\n",
              "race                    0.022336\n",
              "diag_3                  0.013983\n",
              "diag_2                  0.003518\n",
              "diag_1                  0.000206\n",
              "encounter_id            0.000000\n",
              "troglitazone            0.000000\n",
              "tolbutamide             0.000000\n",
              "pioglitazone            0.000000\n",
              "rosiglitazone           0.000000\n",
              "acarbose                0.000000"
            ]
          },
          "execution_count": 9,
          "metadata": {},
          "output_type": "execute_result"
        }
      ],
      "source": [
        "# calculate the missing ratio to see what data variables are useful\n",
        "miss = diabetes_df.isna().mean().sort_values(ascending=False).to_frame(\"missing_ratio\")\n",
        "miss.head(15)"
      ]
    },
    {
      "cell_type": "markdown",
      "id": "K2iiAmbu-XXv",
      "metadata": {
        "id": "K2iiAmbu-XXv"
      },
      "source": [
        "**Looking at the missing values ratio, we find out that the problematic variables (major missing data issues):**\n",
        "\n",
        "* payer_code - 39.6% missing (ony ~60% of data available)\n",
        "* medical_specialty - 49.1% missing (ony ~50% of data available)\n",
        "* A1Cresult - 83.3% missing (only ~17% of data available)\n",
        "* max_glu_serum - 94.7% missing (only ~5% of data available)\n",
        "* weight - 96.9% missing (only ~3% of data available)\n",
        "\n",
        "**Thus, we will not conduct analysis on these variables.**"
      ]
    },
    {
      "cell_type": "code",
      "execution_count": 10,
      "id": "V6iS_UjB6WHd",
      "metadata": {
        "colab": {
          "base_uri": "https://localhost:8080/"
        },
        "id": "V6iS_UjB6WHd",
        "outputId": "dc923a18-720f-456e-9d91-a18b626119bb"
      },
      "outputs": [
        {
          "data": {
            "text/plain": [
              "(101766, 45)"
            ]
          },
          "execution_count": 10,
          "metadata": {},
          "output_type": "execute_result"
        }
      ],
      "source": [
        "cols_to_drop = ['weight', 'max_glu_serum', 'A1Cresult', 'payer_code', 'medical_specialty']\n",
        "for col in cols_to_drop:\n",
        "  if col in diabetes_df:\n",
        "    diabetes_df.drop(columns=col, inplace=True)\n",
        "diabetes_df.shape"
      ]
    },
    {
      "cell_type": "markdown",
      "id": "MreRIQ1EBZ3I",
      "metadata": {
        "id": "MreRIQ1EBZ3I"
      },
      "source": [
        "### Replace Missing Values"
      ]
    },
    {
      "cell_type": "markdown",
      "id": "_9a7vqnt6IZv",
      "metadata": {
        "id": "_9a7vqnt6IZv"
      },
      "source": [
        "Find and replace the empty values in `payer_code`, `medical_specialty`, `race`"
      ]
    },
    {
      "cell_type": "code",
      "execution_count": 11,
      "id": "G-fZnj706SHI",
      "metadata": {
        "colab": {
          "base_uri": "https://localhost:8080/"
        },
        "id": "G-fZnj706SHI",
        "outputId": "27c8edf7-f16b-4b25-cbb5-4fefa04b9ed2"
      },
      "outputs": [
        {
          "name": "stdout",
          "output_type": "stream",
          "text": [
            "['Caucasian' 'AfricanAmerican' nan 'Other' 'Asian' 'Hispanic']\n"
          ]
        }
      ],
      "source": [
        "# print(diabetes_df['payer_code'].unique())\n",
        "# print(diabetes_df['medical_specialty'].unique())\n",
        "print(diabetes_df['race'].unique())"
      ]
    },
    {
      "cell_type": "code",
      "execution_count": 12,
      "id": "FlNDw5SkBZZe",
      "metadata": {
        "colab": {
          "base_uri": "https://localhost:8080/"
        },
        "id": "FlNDw5SkBZZe",
        "outputId": "baa87da5-67d8-4967-b95c-213fa5e59776"
      },
      "outputs": [
        {
          "name": "stdout",
          "output_type": "stream",
          "text": [
            "['Caucasian' 'AfricanAmerican' 'Other' 'Asian' 'Hispanic']\n"
          ]
        }
      ],
      "source": [
        "# replace nan values\n",
        "diabetes_df['race'] = diabetes_df['race'].fillna('Other')\n",
        "print(diabetes_df['race'].unique())"
      ]
    },
    {
      "cell_type": "markdown",
      "id": "5F8GcaTc8Bid",
      "metadata": {
        "id": "5F8GcaTc8Bid"
      },
      "source": [
        "#### Separate numeric features and categorical features"
      ]
    },
    {
      "cell_type": "code",
      "execution_count": 13,
      "id": "C63h9zf67k1N",
      "metadata": {
        "colab": {
          "base_uri": "https://localhost:8080/"
        },
        "id": "C63h9zf67k1N",
        "outputId": "54afcf9d-9b73-4057-eaaf-6269136e3605"
      },
      "outputs": [
        {
          "name": "stdout",
          "output_type": "stream",
          "text": [
            "  - race: 5 unique values\n",
            "  - gender: 3 unique values\n",
            "  - age: 10 unique values\n",
            "  - diag_1: 716 unique values\n",
            "  - diag_2: 748 unique values\n",
            "  - diag_3: 789 unique values\n",
            "  - metformin: 4 unique values\n",
            "  - repaglinide: 4 unique values\n",
            "  - nateglinide: 4 unique values\n",
            "  - chlorpropamide: 4 unique values\n",
            "  - glimepiride: 4 unique values\n",
            "  - acetohexamide: 2 unique values\n",
            "  - glipizide: 4 unique values\n",
            "  - glyburide: 4 unique values\n",
            "  - tolbutamide: 2 unique values\n",
            "  - pioglitazone: 4 unique values\n",
            "  - rosiglitazone: 4 unique values\n",
            "  - acarbose: 4 unique values\n",
            "  - miglitol: 4 unique values\n",
            "  - troglitazone: 2 unique values\n",
            "  - tolazamide: 3 unique values\n",
            "  - examide: 1 unique values\n",
            "  - citoglipton: 1 unique values\n",
            "  - insulin: 4 unique values\n",
            "  - glyburide-metformin: 4 unique values\n",
            "  - glipizide-metformin: 2 unique values\n",
            "  - glimepiride-pioglitazone: 2 unique values\n",
            "  - metformin-rosiglitazone: 2 unique values\n",
            "  - metformin-pioglitazone: 2 unique values\n",
            "  - change: 2 unique values\n",
            "  - diabetesMed: 2 unique values\n",
            "  - readmitted: 3 unique values\n"
          ]
        }
      ],
      "source": [
        "numeric_features = diabetes_df.select_dtypes(include=['int64', 'float64']).columns.tolist()\n",
        "categorical_features = diabetes_df.select_dtypes(include=['object']).columns.tolist()\n",
        "\n",
        "for col in categorical_features[:]:\n",
        "    n_unique = diabetes_df[col].nunique()\n",
        "    print(f\"  - {col}: {n_unique} unique values\")"
      ]
    },
    {
      "cell_type": "markdown",
      "id": "v294ma-DqkRm",
      "metadata": {
        "id": "v294ma-DqkRm"
      },
      "source": [
        "Since `examide` and `citoglipton` have **only one** unique value, they can be removed."
      ]
    },
    {
      "cell_type": "code",
      "execution_count": 14,
      "id": "TWbXNzGvqinj",
      "metadata": {
        "colab": {
          "base_uri": "https://localhost:8080/"
        },
        "id": "TWbXNzGvqinj",
        "outputId": "24560419-c9ed-4e93-c3a3-e863458f258f"
      },
      "outputs": [
        {
          "data": {
            "text/plain": [
              "(101766, 43)"
            ]
          },
          "execution_count": 14,
          "metadata": {},
          "output_type": "execute_result"
        }
      ],
      "source": [
        "cols_with_one_value = ['examide', 'citoglipton']\n",
        "for col in cols_with_one_value:\n",
        "  if col in diabetes_df:\n",
        "    diabetes_df.drop(columns=col, inplace=True)\n",
        "diabetes_df.shape"
      ]
    },
    {
      "cell_type": "markdown",
      "id": "qyzNiuZ7J7wO",
      "metadata": {
        "id": "qyzNiuZ7J7wO"
      },
      "source": [
        "### Handling Unknown values in gender feature"
      ]
    },
    {
      "cell_type": "code",
      "execution_count": 15,
      "id": "liCfx4xoxR5e",
      "metadata": {
        "colab": {
          "base_uri": "https://localhost:8080/",
          "height": 210
        },
        "id": "liCfx4xoxR5e",
        "outputId": "f4f625de-6894-4abf-f780-d59f108912a5"
      },
      "outputs": [
        {
          "data": {
            "text/plain": [
              "gender\n",
              "Female             54708\n",
              "Male               47055\n",
              "Unknown/Invalid        3\n",
              "Name: count, dtype: int64"
            ]
          },
          "execution_count": 15,
          "metadata": {},
          "output_type": "execute_result"
        }
      ],
      "source": [
        "diabetes_df['gender'].value_counts()"
      ]
    },
    {
      "cell_type": "markdown",
      "id": "QJSdzqwSEDyz",
      "metadata": {
        "id": "QJSdzqwSEDyz"
      },
      "source": [
        "Since there are only three records with value \"Unknown/Invalid\", these records will be removed."
      ]
    },
    {
      "cell_type": "code",
      "execution_count": 16,
      "id": "Igr_NtjgCJmc",
      "metadata": {
        "colab": {
          "base_uri": "https://localhost:8080/"
        },
        "id": "Igr_NtjgCJmc",
        "outputId": "e412bf58-1eb2-419d-f30f-1912cf469b8a"
      },
      "outputs": [
        {
          "data": {
            "text/plain": [
              "(101763, 43)"
            ]
          },
          "execution_count": 16,
          "metadata": {},
          "output_type": "execute_result"
        }
      ],
      "source": [
        "diabetes_df = diabetes_df[diabetes_df['gender'] != 'Unknown/Invalid']\t\t\t# removing the nan values in gender column\n",
        "diabetes_df.shape"
      ]
    },
    {
      "cell_type": "code",
      "execution_count": 17,
      "id": "ElY9CHGxJ4YT",
      "metadata": {
        "colab": {
          "base_uri": "https://localhost:8080/"
        },
        "id": "ElY9CHGxJ4YT",
        "outputId": "3d03055a-7e69-44d4-f102-22f6e5690300"
      },
      "outputs": [
        {
          "data": {
            "text/plain": [
              "(101763, 71515)"
            ]
          },
          "execution_count": 17,
          "metadata": {},
          "output_type": "execute_result"
        }
      ],
      "source": [
        "# total unique patients\n",
        "len(diabetes_df.patient_nbr), diabetes_df.patient_nbr.nunique()"
      ]
    },
    {
      "cell_type": "code",
      "execution_count": 18,
      "id": "3e5BntZ3KAo-",
      "metadata": {
        "colab": {
          "base_uri": "https://localhost:8080/",
          "height": 490
        },
        "id": "3e5BntZ3KAo-",
        "outputId": "b752213d-2ce5-4050-8680-0a6509210768"
      },
      "outputs": [
        {
          "data": {
            "text/plain": [
              "patient_nbr\n",
              "88785891     40\n",
              "43140906     28\n",
              "23199021     23\n",
              "1660293      23\n",
              "88227540     23\n",
              "             ..\n",
              "11005362      1\n",
              "98252496      1\n",
              "1019673       1\n",
              "13396320      1\n",
              "175429310     1\n",
              "Name: count, Length: 71515, dtype: int64"
            ]
          },
          "execution_count": 18,
          "metadata": {},
          "output_type": "execute_result"
        }
      ],
      "source": [
        "# locate number of patient visits using patient_id\n",
        "diabetes_df.patient_nbr.value_counts()"
      ]
    },
    {
      "cell_type": "code",
      "execution_count": 19,
      "id": "bmjagoB8JyFG",
      "metadata": {
        "colab": {
          "base_uri": "https://localhost:8080/"
        },
        "id": "bmjagoB8JyFG",
        "outputId": "92c0b0b8-78fb-49a2-b352-4a7467c298bd"
      },
      "outputs": [
        {
          "data": {
            "text/plain": [
              "(71515, 43)"
            ]
          },
          "execution_count": 19,
          "metadata": {},
          "output_type": "execute_result"
        }
      ],
      "source": [
        "# keep only one record for each patient, the first visit\n",
        "diabetes_df = diabetes_df.drop_duplicates(['patient_nbr'], keep='first')\n",
        "diabetes_df.shape"
      ]
    },
    {
      "cell_type": "code",
      "execution_count": 20,
      "id": "5UrLxgMw70zq",
      "metadata": {
        "colab": {
          "base_uri": "https://localhost:8080/"
        },
        "id": "5UrLxgMw70zq",
        "outputId": "640ee933-22f4-49bb-e928-eb861624387b"
      },
      "outputs": [
        {
          "data": {
            "text/plain": [
              "(71515, 41)"
            ]
          },
          "execution_count": 20,
          "metadata": {},
          "output_type": "execute_result"
        }
      ],
      "source": [
        "#ids coloumns are not useful\n",
        "id_cols = ['encounter_id', 'patient_nbr']\n",
        "for col in id_cols:\n",
        "  if col in diabetes_df:\n",
        "    diabetes_df.drop(columns=col, inplace=True)\n",
        "diabetes_df.shape"
      ]
    },
    {
      "cell_type": "markdown",
      "id": "Yd_PSx93CTA6",
      "metadata": {
        "id": "Yd_PSx93CTA6"
      },
      "source": [
        "## New features generation\n"
      ]
    },
    {
      "cell_type": "markdown",
      "id": "IDYgD6mux--f",
      "metadata": {
        "id": "IDYgD6mux--f"
      },
      "source": [
        "We mapped the ages to the median age of each strata"
      ]
    },
    {
      "cell_type": "code",
      "execution_count": 21,
      "id": "avTRsmHtDjVV",
      "metadata": {
        "id": "avTRsmHtDjVV"
      },
      "outputs": [],
      "source": [
        "# # remapping age feature\n",
        "\n",
        "# age_mapping = {\n",
        "#     '[0-10)': 5, '[10-20)': 15, '[20-30)': 25, '[30-40)': 35,\n",
        "#     '[40-50)': 45, '[50-60)': 55, '[60-70)': 65, '[70-80)': 75,\n",
        "#     '[80-90)': 85, '[90-100)': 95\n",
        "# }\n",
        "\n",
        "# diabetes_df['age_numeric'] = diabetes_df['age'].map(age_mapping)\n",
        "# diabetes_df = diabetes_df.drop('age', axis=1)"
      ]
    },
    {
      "cell_type": "code",
      "execution_count": 22,
      "id": "cb1458a9",
      "metadata": {},
      "outputs": [
        {
          "data": {
            "text/plain": [
              "count                    71515\n",
              "unique                       4\n",
              "top       elderly_more_than_70\n",
              "freq                     31697\n",
              "Name: age_simplified, dtype: object"
            ]
          },
          "execution_count": 22,
          "metadata": {},
          "output_type": "execute_result"
        }
      ],
      "source": [
        "def simplify_age_group(age_str):\n",
        "    if pd.isna(age_str):\n",
        "        return \"Unknown\"\n",
        "    age_num = int(age_str.split('-')[0].replace('[', ''))\n",
        "    if age_num < 30:\n",
        "        return \"young_less_than_30\"\n",
        "    elif age_num < 50:\n",
        "        return \"middle_30_49\"\n",
        "    elif age_num < 70:\n",
        "        return \"older_50_69\"\n",
        "    else:\n",
        "        return \"elderly_more_than_70\"\n",
        "\n",
        "diabetes_df[\"age_simplified\"] = diabetes_df[\"age\"].apply(simplify_age_group)\n",
        "diabetes_df[\"age_simplified\"].describe().T"
      ]
    },
    {
      "cell_type": "code",
      "execution_count": 23,
      "id": "Ygf20kYkFF61",
      "metadata": {
        "colab": {
          "base_uri": "https://localhost:8080/"
        },
        "id": "Ygf20kYkFF61",
        "outputId": "38be9422-37a1-47c3-ea7d-2c0981a61e61"
      },
      "outputs": [
        {
          "name": "stdout",
          "output_type": "stream",
          "text": [
            "Created primary_diag_category from diag_1\n",
            "Created secondary_diag_category from diag_2\n",
            "Created tertiary_diag_category from diag_3\n"
          ]
        }
      ],
      "source": [
        "# grouping several diag_* code\n",
        "# because there are >700 unique categories\n",
        "# https://www.aapc.com/codes/icd9-codes-range/?srsltid=AfmBOooBDx6E2wskWazI-Yd5atr32f5yEMfuSjylM-ectUrzvcVqUg9W\n",
        "\n",
        "def categorize_diagnosis(diag_code):\n",
        "    if pd.isna(diag_code):\n",
        "        return 'Unknown'\n",
        "\n",
        "    diag_str = str(diag_code)\n",
        "\n",
        "    # Extract numeric part\n",
        "    if diag_str.startswith('V') or diag_str.startswith('E'):\n",
        "        return 'Other'\n",
        "\n",
        "    try:\n",
        "        diag_num = float(diag_str)\n",
        "    except:\n",
        "        return 'Other'\n",
        "\n",
        "    # Categorize based on ICD-9 code ranges\n",
        "    if 390 <= diag_num <= 459 or diag_num == 785:\n",
        "        return 'Circulatory'\n",
        "    elif 460 <= diag_num <= 519 or diag_num == 786:\n",
        "        return 'Respiratory'\n",
        "    elif 520 <= diag_num <= 579 or diag_num == 787:\n",
        "        return 'Digestive'\n",
        "    elif 250 <= diag_num < 251:\n",
        "        return 'Diabetes'\n",
        "    elif 800 <= diag_num <= 999:\n",
        "        return 'Injury'\n",
        "    elif 710 <= diag_num <= 739:\n",
        "        return 'Musculoskeletal'\n",
        "    elif 580 <= diag_num <= 629 or diag_num == 788:\n",
        "        return 'Genitourinary'\n",
        "    elif 140 <= diag_num <= 239:\n",
        "        return 'Neoplasms'\n",
        "    else:\n",
        "        return 'Other'\n",
        "\n",
        "\n",
        "diabetes_df['diag_1_cat'] = diabetes_df['diag_1'].apply(categorize_diagnosis)\n",
        "print(\"Created primary_diag_category from diag_1\")\n",
        "\n",
        "diabetes_df['diag_2_cat'] = diabetes_df['diag_2'].apply(categorize_diagnosis)\n",
        "print(\"Created secondary_diag_category from diag_2\")\n",
        "\n",
        "diabetes_df['diag_3_cat'] = diabetes_df['diag_3'].apply(categorize_diagnosis)\n",
        "print(\"Created tertiary_diag_category from diag_3\")"
      ]
    },
    {
      "cell_type": "code",
      "execution_count": 24,
      "id": "XFEhOrAwAWvh",
      "metadata": {
        "colab": {
          "base_uri": "https://localhost:8080/"
        },
        "id": "XFEhOrAwAWvh",
        "outputId": "ff01fa46-01e9-494a-8950-39f48a1c65fb"
      },
      "outputs": [
        {
          "name": "stdout",
          "output_type": "stream",
          "text": [
            "['Diabetes' 'Other' 'Neoplasms' 'Circulatory' 'Respiratory' 'Injury'\n",
            " 'Musculoskeletal' 'Digestive' 'Genitourinary' 'Unknown']\n",
            "['Unknown' 'Diabetes' 'Neoplasms' 'Circulatory' 'Respiratory' 'Other'\n",
            " 'Injury' 'Musculoskeletal' 'Genitourinary' 'Digestive']\n",
            "['Unknown' 'Other' 'Circulatory' 'Diabetes' 'Respiratory' 'Injury'\n",
            " 'Neoplasms' 'Genitourinary' 'Musculoskeletal' 'Digestive']\n"
          ]
        }
      ],
      "source": [
        "print(diabetes_df['diag_1_cat'].unique())\n",
        "print(diabetes_df['diag_2_cat'].unique())\n",
        "print(diabetes_df['diag_3_cat'].unique())"
      ]
    },
    {
      "cell_type": "code",
      "execution_count": 25,
      "id": "CGSGQZAz8-dp",
      "metadata": {
        "colab": {
          "base_uri": "https://localhost:8080/"
        },
        "id": "CGSGQZAz8-dp",
        "outputId": "8dc376f1-fb73-4c1c-c0e4-0f7fb81c7af3"
      },
      "outputs": [
        {
          "data": {
            "text/plain": [
              "(71515, 42)"
            ]
          },
          "execution_count": 25,
          "metadata": {},
          "output_type": "execute_result"
        }
      ],
      "source": [
        "diagnosis_cols = ['diag_1', 'diag_2', 'diag_3']\n",
        "for col in diagnosis_cols:\n",
        "  if col in diabetes_df:\n",
        "    diabetes_df.drop(columns=col, inplace=True)\n",
        "diabetes_df.shape"
      ]
    },
    {
      "cell_type": "markdown",
      "id": "TD0FMKEJIiOk",
      "metadata": {
        "id": "TD0FMKEJIiOk"
      },
      "source": [
        "### Healthcare Utilization Features Engineering"
      ]
    },
    {
      "cell_type": "markdown",
      "id": "27uVdx8RQyxl",
      "metadata": {
        "id": "27uVdx8RQyxl"
      },
      "source": [
        "The data contains variables for number of inpatient (admissions), emergency room visits and outpatient visits for a given patient in the previous one year. These measure how much hospital/clinic services a person has used in the past year. We added these three to create a new variable called service_utilization."
      ]
    },
    {
      "cell_type": "code",
      "execution_count": 26,
      "id": "h8ZeHR9EH95T",
      "metadata": {
        "id": "h8ZeHR9EH95T"
      },
      "outputs": [],
      "source": [
        "diabetes_df['total_visits'] = (\n",
        "    diabetes_df.get('number_outpatient', 0) +\n",
        "    diabetes_df.get('number_inpatient', 0) +\n",
        "    diabetes_df.get('number_emergency', 0)\n",
        ").astype(np.int64)"
      ]
    },
    {
      "cell_type": "code",
      "execution_count": 27,
      "id": "jD2LnBvPJJy4",
      "metadata": {
        "id": "jD2LnBvPJJy4"
      },
      "outputs": [],
      "source": [
        "diabetes_df['procedure_intensity'] = (\n",
        "    diabetes_df.get('num_lab_procedures', 0) +\n",
        "    diabetes_df.get('num_procedures', 0)\n",
        ").astype(np.int64)"
      ]
    },
    {
      "cell_type": "code",
      "execution_count": 28,
      "id": "aB2CM6WQJbbA",
      "metadata": {
        "id": "aB2CM6WQJbbA"
      },
      "outputs": [],
      "source": [
        "#to avoid the denominator becomes zero later\n",
        "denom = diabetes_df['number_diagnoses'].replace(0, np.nan)"
      ]
    },
    {
      "cell_type": "code",
      "execution_count": 29,
      "id": "bOA_EQfxJRHp",
      "metadata": {
        "id": "bOA_EQfxJRHp"
      },
      "outputs": [],
      "source": [
        "diabetes_df['medication_intensity'] = np.where(\n",
        "    denom.isna(),\n",
        "    0.0,\n",
        "    diabetes_df['num_medications'] / denom\n",
        ").astype(float)"
      ]
    },
    {
      "cell_type": "code",
      "execution_count": 30,
      "id": "51a362a4",
      "metadata": {},
      "outputs": [],
      "source": [
        "diabetes_df['care_intensity_score'] = (\n",
        "    diabetes_df['num_medications'] * 0.3 +\n",
        "    diabetes_df['num_procedures'] * 0.3 +\n",
        "    diabetes_df['num_lab_procedures'] * 0.2 +\n",
        "    diabetes_df['number_diagnoses'] * 0.2\n",
        ")"
      ]
    },
    {
      "cell_type": "markdown",
      "id": "ppyAXrPc9TiD",
      "metadata": {
        "id": "ppyAXrPc9TiD"
      },
      "source": [
        "### Simplifying medication change features\n",
        "\n",
        "The dataset contains 23 features for 23 drugs (or combos) which indicate for each of these, whether a change in that medication was made or not during the current hospital stay of patient. Medication change for diabetics upon admission has been shown by previous research to be associated with lower readmission rates. We decided to count how many changes were made in total for each patient, and declared that a new feature. The reasoning here was to both simplify the model and possibly discover a relationship with number of changes regardless of which drug was changed."
      ]
    },
    {
      "cell_type": "code",
      "execution_count": 31,
      "id": "2FWVeiwR8E6W",
      "metadata": {
        "colab": {
          "base_uri": "https://localhost:8080/",
          "height": 272
        },
        "id": "2FWVeiwR8E6W",
        "outputId": "b7e7dc70-ec64-435b-d59b-c12acba03474"
      },
      "outputs": [
        {
          "data": {
            "text/plain": [
              "numchange\n",
              "0    53867\n",
              "1    16638\n",
              "2      933\n",
              "3       74\n",
              "4        3\n",
              "Name: count, dtype: int64"
            ]
          },
          "execution_count": 31,
          "metadata": {},
          "output_type": "execute_result"
        }
      ],
      "source": [
        "drug_keys = ['metformin', 'repaglinide', 'nateglinide', 'chlorpropamide', 'glimepiride', 'glipizide', 'glyburide', 'pioglitazone', 'rosiglitazone', 'acarbose', 'miglitol', 'insulin', 'glyburide-metformin', 'tolazamide', 'metformin-pioglitazone','metformin-rosiglitazone', 'glimepiride-pioglitazone', 'glipizide-metformin', 'troglitazone', 'tolbutamide', 'acetohexamide']\n",
        "\n",
        "for col in drug_keys:\n",
        "    colname = str(col) + 'temp'\n",
        "    diabetes_df[colname] = diabetes_df[col].apply(lambda x: 0 if (x == 'No' or x == 'Steady') else 1)\n",
        "diabetes_df['numchange'] = 0\n",
        "for col in drug_keys:\n",
        "    colname = str(col) + 'temp'\n",
        "    diabetes_df['numchange'] = diabetes_df['numchange'] + diabetes_df[colname]\n",
        "    del diabetes_df[colname]\n",
        "\n",
        "diabetes_df['numchange'].value_counts()"
      ]
    },
    {
      "cell_type": "markdown",
      "id": "a66f21a6",
      "metadata": {},
      "source": [
        "#### Here we will create a new feature representing the **admission-dishcarge path**."
      ]
    },
    {
      "cell_type": "code",
      "execution_count": 32,
      "id": "cc287c14",
      "metadata": {},
      "outputs": [],
      "source": [
        "for c in ['admission_type_id','discharge_disposition_id']:\n",
        "    if c in diabetes_df.columns: diabetes_df[c] = pd.to_numeric(diabetes_df[c], errors='coerce')\n",
        "\n",
        "adm_map = {1:'Emergency',2:'Urgent',3:'Elective',4:'Newborn',7:'Trauma'}\n",
        "diabetes_df['admission_cat'] = diabetes_df['admission_type_id'].map(adm_map).fillna('Other')\n",
        "\n",
        "home_set={1}; transfer_set={2}; postacute_set={3,4,5,6}; ama_set={7}; death_set={11,19,20,21}; hospice_set={50,51}\n",
        "def discharge_bucket(x):\n",
        "    if pd.isna(x): return 'Unknown'\n",
        "    x=int(x)\n",
        "    if x in home_set: return 'Home'\n",
        "    if x in postacute_set: return 'PostAcute'\n",
        "    if x in transfer_set: return 'Transfer'\n",
        "    if x in ama_set: return 'AMA'\n",
        "    if x in death_set: return 'Died'\n",
        "    if x in hospice_set: return 'Hospice'\n",
        "    return 'Other'\n",
        "\n",
        "diabetes_df['discharge_cat'] = diabetes_df['discharge_disposition_id'].apply(discharge_bucket)\n",
        "\n",
        "diabetes_df['discharged_to_home'] = (diabetes_df['discharge_cat']=='Home').astype(int)\n",
        "diabetes_df['postacute_discharge'] = (diabetes_df['discharge_cat']=='PostAcute').astype(int)\n",
        "diabetes_df['transfer_discharge'] = (diabetes_df['discharge_cat']=='Transfer').astype(int)\n",
        "diabetes_df['left_against_medical'] = (diabetes_df['discharge_cat']=='AMA').astype(int)\n",
        "diabetes_df['in_hospital_mortality'] = (diabetes_df['discharge_cat']=='Died').astype(int)\n",
        "diabetes_df['hospice_discharge'] = (diabetes_df['discharge_cat']=='Hospice').astype(int)\n",
        "\n",
        "diabetes_df['adm_dis_path'] = diabetes_df['admission_cat'].str.cat(diabetes_df['discharge_cat'], sep='→')\n",
        "path_freq = diabetes_df['adm_dis_path'].value_counts()\n",
        "diabetes_df['adm_dis_path_freq'] = diabetes_df['adm_dis_path'].map(path_freq)\n",
        "\n",
        "K = 10\n",
        "topK_paths = path_freq.index[:K]\n",
        "for p in topK_paths:\n",
        "    diabetes_df['path_' + p.replace('→','_to_')] = (diabetes_df['adm_dis_path']==p).astype(int)\n",
        "\n",
        "diabetes_df['emergency_postacute'] = ((diabetes_df['admission_cat']=='Emergency') & (diabetes_df['postacute_discharge']==1)).astype(int)\n",
        "diabetes_df['elective_home']       = ((diabetes_df['admission_cat']=='Elective') & (diabetes_df['discharged_to_home']==1)).astype(int)\n"
      ]
    },
    {
      "cell_type": "code",
      "execution_count": 33,
      "id": "Us_knuHKzdmX",
      "metadata": {
        "colab": {
          "base_uri": "https://localhost:8080/"
        },
        "id": "Us_knuHKzdmX",
        "outputId": "1eb29f2f-c0cb-4703-d43c-38cc8003a796"
      },
      "outputs": [
        {
          "data": {
            "text/plain": [
              "(71515, 69)"
            ]
          },
          "execution_count": 33,
          "metadata": {},
          "output_type": "execute_result"
        }
      ],
      "source": [
        "diabetes_df.shape"
      ]
    },
    {
      "cell_type": "markdown",
      "id": "l0gPwZqjCLyv",
      "metadata": {
        "id": "l0gPwZqjCLyv"
      },
      "source": [
        "## Create Target variable\n",
        "\n",
        "Because we are doing the classification of patient readmission within 30 days, below we relabel the target variable to numerical"
      ]
    },
    {
      "cell_type": "code",
      "execution_count": 34,
      "id": "eRsjAe_qCP0o",
      "metadata": {
        "colab": {
          "base_uri": "https://localhost:8080/",
          "height": 210
        },
        "id": "eRsjAe_qCP0o",
        "outputId": "63b78aed-7330-43e6-d325-acc61fd21b84"
      },
      "outputs": [
        {
          "data": {
            "text/plain": [
              "readmitted\n",
              "NO     42982\n",
              ">30    22240\n",
              "<30     6293\n",
              "Name: count, dtype: int64"
            ]
          },
          "execution_count": 34,
          "metadata": {},
          "output_type": "execute_result"
        }
      ],
      "source": [
        "diabetes_df['readmitted'].value_counts()"
      ]
    },
    {
      "cell_type": "code",
      "execution_count": 35,
      "id": "ec8YJ7EfCRI7",
      "metadata": {
        "colab": {
          "base_uri": "https://localhost:8080/",
          "height": 234
        },
        "id": "ec8YJ7EfCRI7",
        "outputId": "d43c2b33-b16c-498f-ca17-e26f95d88e99"
      },
      "outputs": [
        {
          "data": {
            "text/plain": [
              "readmitted\n",
              "0    65222\n",
              "1     6293\n",
              "Name: count, dtype: int64"
            ]
          },
          "execution_count": 35,
          "metadata": {},
          "output_type": "execute_result"
        }
      ],
      "source": [
        "diabetes_df['readmitted'] = diabetes_df['readmitted'].replace('>30', 0)\n",
        "diabetes_df['readmitted'] = diabetes_df['readmitted'].replace('<30', 1)\n",
        "diabetes_df['readmitted'] = diabetes_df['readmitted'].replace('NO', 0)\n",
        "diabetes_df['readmitted'].value_counts()"
      ]
    },
    {
      "cell_type": "markdown",
      "id": "aVz-K3WCNP7Y",
      "metadata": {
        "id": "aVz-K3WCNP7Y"
      },
      "source": [
        "### Data overview after feature engineering"
      ]
    },
    {
      "cell_type": "code",
      "execution_count": 36,
      "id": "vaOWAWTeGGHe",
      "metadata": {
        "colab": {
          "base_uri": "https://localhost:8080/",
          "height": 1000
        },
        "id": "vaOWAWTeGGHe",
        "outputId": "b8569700-d7e2-42df-8e89-522f2c817b4e"
      },
      "outputs": [
        {
          "data": {
            "text/html": [
              "<div>\n",
              "<style scoped>\n",
              "    .dataframe tbody tr th:only-of-type {\n",
              "        vertical-align: middle;\n",
              "    }\n",
              "\n",
              "    .dataframe tbody tr th {\n",
              "        vertical-align: top;\n",
              "    }\n",
              "\n",
              "    .dataframe thead th {\n",
              "        text-align: right;\n",
              "    }\n",
              "</style>\n",
              "<table border=\"1\" class=\"dataframe\">\n",
              "  <thead>\n",
              "    <tr style=\"text-align: right;\">\n",
              "      <th></th>\n",
              "      <th>missing_ratio</th>\n",
              "    </tr>\n",
              "  </thead>\n",
              "  <tbody>\n",
              "    <tr>\n",
              "      <th>race</th>\n",
              "      <td>0.0</td>\n",
              "    </tr>\n",
              "    <tr>\n",
              "      <th>medication_intensity</th>\n",
              "      <td>0.0</td>\n",
              "    </tr>\n",
              "    <tr>\n",
              "      <th>postacute_discharge</th>\n",
              "      <td>0.0</td>\n",
              "    </tr>\n",
              "    <tr>\n",
              "      <th>discharged_to_home</th>\n",
              "      <td>0.0</td>\n",
              "    </tr>\n",
              "    <tr>\n",
              "      <th>discharge_cat</th>\n",
              "      <td>0.0</td>\n",
              "    </tr>\n",
              "    <tr>\n",
              "      <th>...</th>\n",
              "      <td>...</td>\n",
              "    </tr>\n",
              "    <tr>\n",
              "      <th>insulin</th>\n",
              "      <td>0.0</td>\n",
              "    </tr>\n",
              "    <tr>\n",
              "      <th>glyburide-metformin</th>\n",
              "      <td>0.0</td>\n",
              "    </tr>\n",
              "    <tr>\n",
              "      <th>glipizide-metformin</th>\n",
              "      <td>0.0</td>\n",
              "    </tr>\n",
              "    <tr>\n",
              "      <th>glimepiride-pioglitazone</th>\n",
              "      <td>0.0</td>\n",
              "    </tr>\n",
              "    <tr>\n",
              "      <th>elective_home</th>\n",
              "      <td>0.0</td>\n",
              "    </tr>\n",
              "  </tbody>\n",
              "</table>\n",
              "<p>69 rows × 1 columns</p>\n",
              "</div>"
            ],
            "text/plain": [
              "                          missing_ratio\n",
              "race                                0.0\n",
              "medication_intensity                0.0\n",
              "postacute_discharge                 0.0\n",
              "discharged_to_home                  0.0\n",
              "discharge_cat                       0.0\n",
              "...                                 ...\n",
              "insulin                             0.0\n",
              "glyburide-metformin                 0.0\n",
              "glipizide-metformin                 0.0\n",
              "glimepiride-pioglitazone            0.0\n",
              "elective_home                       0.0\n",
              "\n",
              "[69 rows x 1 columns]"
            ]
          },
          "execution_count": 36,
          "metadata": {},
          "output_type": "execute_result"
        }
      ],
      "source": [
        "miss_2 = diabetes_df.isna().mean().sort_values(ascending=False).to_frame(\"missing_ratio\")\n",
        "miss_2"
      ]
    },
    {
      "cell_type": "code",
      "execution_count": 37,
      "id": "mt8wsM2lwJTB",
      "metadata": {
        "colab": {
          "base_uri": "https://localhost:8080/"
        },
        "id": "mt8wsM2lwJTB",
        "outputId": "fe2c5885-f19e-49b1-e79c-c8f110f30e12"
      },
      "outputs": [
        {
          "name": "stdout",
          "output_type": "stream",
          "text": [
            "  - race: 5 unique values\n",
            "  - gender: 2 unique values\n",
            "  - age: 10 unique values\n",
            "  - metformin: 4 unique values\n",
            "  - repaglinide: 4 unique values\n",
            "  - nateglinide: 4 unique values\n",
            "  - chlorpropamide: 4 unique values\n",
            "  - glimepiride: 4 unique values\n",
            "  - acetohexamide: 2 unique values\n",
            "  - glipizide: 4 unique values\n",
            "  - glyburide: 4 unique values\n",
            "  - tolbutamide: 2 unique values\n",
            "  - pioglitazone: 4 unique values\n",
            "  - rosiglitazone: 4 unique values\n",
            "  - acarbose: 3 unique values\n",
            "  - miglitol: 4 unique values\n",
            "  - troglitazone: 2 unique values\n",
            "  - tolazamide: 2 unique values\n",
            "  - insulin: 4 unique values\n",
            "  - glyburide-metformin: 4 unique values\n",
            "  - glipizide-metformin: 2 unique values\n",
            "  - glimepiride-pioglitazone: 1 unique values\n",
            "  - metformin-rosiglitazone: 2 unique values\n",
            "  - metformin-pioglitazone: 2 unique values\n",
            "  - change: 2 unique values\n",
            "  - diabetesMed: 2 unique values\n",
            "  - age_simplified: 4 unique values\n",
            "  - diag_1_cat: 10 unique values\n",
            "  - diag_2_cat: 10 unique values\n",
            "  - diag_3_cat: 10 unique values\n",
            "  - admission_cat: 6 unique values\n",
            "  - discharge_cat: 6 unique values\n",
            "  - adm_dis_path: 31 unique values\n"
          ]
        }
      ],
      "source": [
        "numeric_features = diabetes_df.select_dtypes(include=['int64', 'float64']).columns.tolist()\n",
        "categorical_features = diabetes_df.select_dtypes(include=['object']).columns.tolist()\n",
        "\n",
        "if 'readmitted' in categorical_features:\n",
        "    categorical_features.remove('readmitted')\n",
        "\n",
        "for col in categorical_features[:]:\n",
        "    n_unique = diabetes_df[col].nunique()\n",
        "    print(f\"  - {col}: {n_unique} unique values\")"
      ]
    },
    {
      "cell_type": "markdown",
      "id": "55DDKNi4HtoT",
      "metadata": {
        "id": "55DDKNi4HtoT"
      },
      "source": [
        "## Summary for Feature Engineering\n",
        "\n",
        "\n",
        "*  Columns drop\n",
        "    * weight : many missing values\n",
        "    * max_glu_serum : many missing values\n",
        "    * A1Cresult : many missing values\n",
        "    * payer_code : many missing values\n",
        "    * medical_specialty : many missing values\n",
        "    * encounter_id : unique values\n",
        "    * patient_nbr : unique values\n",
        "    * examide : all records have the same value\n",
        "    * citoglipton : all records have the same value\n",
        "*  Missing values handling\n",
        "*  Creating target variable\n",
        "*  Creating new features\n",
        "    * age_mapping : original column dropped\n",
        "    * service_utilization\n",
        "    * diag_1_cat : original column dropped\n",
        "    * diag_2_cat : original column dropped\n",
        "    * diag_3_cat : original column dropped\n",
        "    * total_visits\n",
        "\t\t* care_intensity_score\n",
        "\t\t* admission_cat\n",
        "\t\t* discharge_cat\n",
        "\t\t* adm_dis_path\n",
        "    * procedure_intensity\n",
        "    * medication_intensity\n",
        "    * numchange\n",
        "    * readmitted : target variable (dtype changed to int64)"
      ]
    },
    {
      "cell_type": "markdown",
      "id": "25TG84J29lqf",
      "metadata": {
        "id": "25TG84J29lqf"
      },
      "source": [
        "# Encode Categorical Variables"
      ]
    },
    {
      "cell_type": "code",
      "execution_count": 38,
      "id": "000da7ac",
      "metadata": {},
      "outputs": [
        {
          "name": "stdout",
          "output_type": "stream",
          "text": [
            "['No' 'Steady' 'Up' 'Down']\n",
            "['No' 'Up' 'Steady' 'Down']\n",
            "['No' 'Steady' 'Down' 'Up']\n",
            "['No' 'Steady' 'Down' 'Up']\n",
            "['No' 'Steady' 'Down' 'Up']\n",
            "['No' 'Steady' 'Up' 'Down']\n",
            "['No' 'Steady' 'Up' 'Down']\n",
            "['No' 'Steady' 'Up' 'Down']\n",
            "['No' 'Steady' 'Up' 'Down']\n",
            "['No' 'Steady' 'Up']\n",
            "['No' 'Steady' 'Down' 'Up']\n",
            "['No' 'Up' 'Steady' 'Down']\n",
            "['No' 'Steady' 'Down' 'Up']\n",
            "['No' 'Steady']\n",
            "['No' 'Steady']\n",
            "['No' 'Steady']\n",
            "['No']\n",
            "['No' 'Steady']\n",
            "['No' 'Steady']\n",
            "['No' 'Steady']\n",
            "['No' 'Steady']\n"
          ]
        }
      ],
      "source": [
        "# print all values of drug_keys columns\n",
        "for col in drug_keys:\n",
        "    print(diabetes_df[col].unique())"
      ]
    },
    {
      "cell_type": "code",
      "execution_count": 39,
      "id": "b22c427d",
      "metadata": {},
      "outputs": [
        {
          "name": "stdout",
          "output_type": "stream",
          "text": [
            "[0 2 3 1]\n",
            "[0 3 2 1]\n",
            "[0 2 1 3]\n",
            "[0 2 1 3]\n",
            "[0 2 1 3]\n",
            "[0 2 3 1]\n",
            "[0 2 3 1]\n",
            "[0 2 3 1]\n",
            "[0 2 3 1]\n",
            "[0 2 3]\n",
            "[0 2 1 3]\n",
            "[0 3 2 1]\n",
            "[0 2 1 3]\n",
            "[0 2]\n",
            "[0 2]\n",
            "[0 2]\n",
            "[0]\n",
            "[0 2]\n",
            "[0 2]\n",
            "[0 2]\n",
            "[0 2]\n"
          ]
        }
      ],
      "source": [
        "# label encoding for categorical features\n",
        "drug_labels = {'No': 0, 'Down': 1, 'Steady': 2, 'Up': 3}\n",
        "for col in drug_keys:\n",
        "    diabetes_df[col] = diabetes_df[col].map(drug_labels)\n",
        "    print(diabetes_df[col].unique())"
      ]
    },
    {
      "cell_type": "code",
      "execution_count": 40,
      "id": "8deffed6",
      "metadata": {},
      "outputs": [],
      "source": [
        "# List of columns to drop that are now redundant after feature engineering\n",
        "cols_to_drop_after_fe = [\n",
        "    'age',           # Replaced by 'age_simplified'\n",
        "    'admission_cat', # Used to create path features\n",
        "    'discharge_cat', # Used to create path features\n",
        "    'adm_dis_path'   # Replaced by adm_dis_path_freq and path_* features\n",
        "]\n",
        "\n",
        "# Drop these columns from the main dataframe\n",
        "diabetes_df.drop(columns=cols_to_drop_after_fe, inplace=True, errors='ignore')"
      ]
    },
    {
      "cell_type": "markdown",
      "id": "4HFVpSus6l8P",
      "metadata": {
        "id": "4HFVpSus6l8P"
      },
      "source": [
        "# Variable Encoding"
      ]
    },
    {
      "cell_type": "code",
      "execution_count": 41,
      "id": "RfIkoiGv6v3l",
      "metadata": {
        "id": "RfIkoiGv6v3l"
      },
      "outputs": [],
      "source": [
        "X = diabetes_df.drop('readmitted', axis=1)\n",
        "y = diabetes_df['readmitted']"
      ]
    },
    {
      "cell_type": "code",
      "execution_count": 42,
      "id": "LRNHUAFG624R",
      "metadata": {
        "colab": {
          "base_uri": "https://localhost:8080/",
          "height": 329
        },
        "id": "LRNHUAFG624R",
        "outputId": "ea84c7ff-ac9e-4fa3-f956-0eca8436a37a"
      },
      "outputs": [],
      "source": [
        "# Select columns for one-hot encoding\n",
        "cols_to_encode = ['race', 'gender', 'age_simplified', 'diag_1_cat', 'diag_2_cat', 'diag_3_cat']\n",
        "\n",
        "# Apply get_dummies\n",
        "X_encoded = pd.get_dummies(X, columns=cols_to_encode, drop_first=True)"
      ]
    },
    {
      "cell_type": "markdown",
      "id": "UZcyG6Gtxos5",
      "metadata": {
        "id": "UZcyG6Gtxos5"
      },
      "source": []
    },
    {
      "cell_type": "code",
      "execution_count": 43,
      "id": "9oBLv5Sf68nA",
      "metadata": {
        "id": "9oBLv5Sf68nA"
      },
      "outputs": [],
      "source": [
        "# Example mapping for the 'change' column\n",
        "X_encoded['change'] = X_encoded['change'].replace({'No': 0, 'Ch': 1})\n",
        "X_encoded['diabetesMed'] = X_encoded['diabetesMed'].replace({'No': 0, 'Yes': 1})"
      ]
    },
    {
      "cell_type": "code",
      "execution_count": 44,
      "id": "gEaeHv6v7DqH",
      "metadata": {
        "id": "gEaeHv6v7DqH"
      },
      "outputs": [],
      "source": [
        "X_train, X_test, y_train, y_test = train_test_split(X_encoded, y, test_size=0.2, random_state=42, stratify=y)\n",
        "\n",
        "numeric_cols = X_train.select_dtypes(include=np.number).columns\n",
        "\n",
        "scaler = StandardScaler()\n",
        "X_train[numeric_cols] = scaler.fit_transform(X_train[numeric_cols])\n",
        "X_test[numeric_cols] = scaler.transform(X_test[numeric_cols])"
      ]
    },
    {
      "cell_type": "markdown",
      "id": "9IyXygfj_fML",
      "metadata": {
        "id": "9IyXygfj_fML"
      },
      "source": [
        "# Training 1st Iteration"
      ]
    },
    {
      "cell_type": "markdown",
      "id": "8Cg6SXNy7zgQ",
      "metadata": {
        "id": "8Cg6SXNy7zgQ"
      },
      "source": [
        "## Random Forest"
      ]
    },
    {
      "cell_type": "code",
      "execution_count": 45,
      "id": "7qdgEECF8Fkd",
      "metadata": {
        "id": "7qdgEECF8Fkd"
      },
      "outputs": [
        {
          "name": "stdout",
          "output_type": "stream",
          "text": [
            "--- Random Forest ---\n",
            "              precision    recall  f1-score   support\n",
            "\n",
            "           0       0.91      1.00      0.95     13044\n",
            "           1       0.50      0.00      0.00      1259\n",
            "\n",
            "    accuracy                           0.91     14303\n",
            "   macro avg       0.71      0.50      0.48     14303\n",
            "weighted avg       0.88      0.91      0.87     14303\n",
            "\n"
          ]
        }
      ],
      "source": [
        "# Use class_weight='balanced'\n",
        "rf_clf = RandomForestClassifier(n_estimators=100, class_weight='balanced', random_state=42, n_jobs=-1)\n",
        "rf_clf.fit(X_train, y_train)\n",
        "\n",
        "# Evaluate\n",
        "y_pred_rf = rf_clf.predict(X_test)\n",
        "print(\"--- Random Forest ---\")\n",
        "print(classification_report(y_test, y_pred_rf))"
      ]
    },
    {
      "cell_type": "markdown",
      "id": "B3geOF7gBsNq",
      "metadata": {
        "id": "B3geOF7gBsNq"
      },
      "source": [
        "## Logistic Regression"
      ]
    },
    {
      "cell_type": "code",
      "execution_count": 46,
      "id": "leiKDI-l7ZOX",
      "metadata": {
        "id": "leiKDI-l7ZOX"
      },
      "outputs": [
        {
          "name": "stdout",
          "output_type": "stream",
          "text": [
            "              precision    recall  f1-score   support\n",
            "\n",
            "           0       0.91      1.00      0.95     13044\n",
            "           1       0.45      0.00      0.01      1259\n",
            "\n",
            "    accuracy                           0.91     14303\n",
            "   macro avg       0.68      0.50      0.48     14303\n",
            "weighted avg       0.87      0.91      0.87     14303\n",
            "\n"
          ]
        }
      ],
      "source": [
        "# Train the model\n",
        "log_reg = LogisticRegression(max_iter=1000)\n",
        "log_reg.fit(X_train, y_train)\n",
        "\n",
        "# Evaluate\n",
        "y_pred_lr = log_reg.predict(X_test)\n",
        "print(classification_report(y_test, y_pred_lr))"
      ]
    },
    {
      "cell_type": "markdown",
      "id": "E9q6HGpB7-Jm",
      "metadata": {
        "id": "E9q6HGpB7-Jm"
      },
      "source": [
        "## XGBoost"
      ]
    },
    {
      "cell_type": "code",
      "execution_count": 47,
      "id": "IhoB9uv18G4O",
      "metadata": {
        "id": "IhoB9uv18G4O"
      },
      "outputs": [
        {
          "name": "stdout",
          "output_type": "stream",
          "text": [
            "              precision    recall  f1-score   support\n",
            "\n",
            "           0       0.91      1.00      0.95     13044\n",
            "           1       0.37      0.02      0.03      1259\n",
            "\n",
            "    accuracy                           0.91     14303\n",
            "   macro avg       0.64      0.51      0.49     14303\n",
            "weighted avg       0.86      0.91      0.87     14303\n",
            "\n"
          ]
        }
      ],
      "source": [
        "# Train the model\n",
        "xgb_clf = xgb.XGBClassifier(use_label_encoder=False, eval_metric='logloss')\n",
        "xgb_clf.fit(X_train, y_train)\n",
        "\n",
        "# Evaluate\n",
        "y_pred_xgb = xgb_clf.predict(X_test)\n",
        "print(classification_report(y_test, y_pred_xgb))"
      ]
    },
    {
      "cell_type": "markdown",
      "id": "gO6CHVP6_Gu5",
      "metadata": {
        "id": "gO6CHVP6_Gu5"
      },
      "source": [
        "## Naive Bayes"
      ]
    },
    {
      "cell_type": "code",
      "execution_count": 48,
      "id": "jzwdx-Bf7fCG",
      "metadata": {
        "id": "jzwdx-Bf7fCG"
      },
      "outputs": [
        {
          "name": "stdout",
          "output_type": "stream",
          "text": [
            "              precision    recall  f1-score   support\n",
            "\n",
            "           0       0.98      0.02      0.04     13044\n",
            "           1       0.09      1.00      0.16      1259\n",
            "\n",
            "    accuracy                           0.11     14303\n",
            "   macro avg       0.53      0.51      0.10     14303\n",
            "weighted avg       0.90      0.11      0.05     14303\n",
            "\n"
          ]
        }
      ],
      "source": [
        "# Train the model\n",
        "gnb = GaussianNB()\n",
        "gnb.fit(X_train, y_train)\n",
        "\n",
        "# Evaluate\n",
        "y_pred_gnb = gnb.predict(X_test)\n",
        "print(classification_report(y_test, y_pred_gnb))"
      ]
    },
    {
      "cell_type": "markdown",
      "id": "90mxBBH6ntVH",
      "metadata": {
        "id": "90mxBBH6ntVH"
      },
      "source": [
        "## **1st iteration summary**\n",
        "\n",
        "\n",
        "The models had high accuracy (around 89%) but almost zero recall for class '1' (readmitted patients). This meant they were good at correctly identifying patients not readmitted, but they completely failed to identify patients who were readmitted. Classic imbalance problem of the target variable. Will tackle this in 2nd iteration."
      ]
    },
    {
      "cell_type": "markdown",
      "id": "QCoJZ_Ys_jbh",
      "metadata": {
        "id": "QCoJZ_Ys_jbh"
      },
      "source": [
        "# Training 2nd Iteration"
      ]
    },
    {
      "cell_type": "markdown",
      "id": "yzoui9gbAgRG",
      "metadata": {
        "id": "yzoui9gbAgRG"
      },
      "source": [
        "## Random Forest\n",
        "\n",
        "Tried to implement hyperparameter tuning: Used GridSearchCV to find the optimal settings for your Random Forest and XGBoost models. This can significantly improve performance."
      ]
    },
    {
      "cell_type": "code",
      "execution_count": 49,
      "id": "B8FUejGQBjIZ",
      "metadata": {
        "id": "B8FUejGQBjIZ"
      },
      "outputs": [
        {
          "name": "stdout",
          "output_type": "stream",
          "text": [
            "Fitting 3 folds for each of 18 candidates, totalling 54 fits\n",
            "[CV] END .max_depth=10, min_samples_leaf=1, n_estimators=100; total time=   2.4s\n",
            "[CV] END .max_depth=10, min_samples_leaf=1, n_estimators=100; total time=   2.5s\n",
            "[CV] END .max_depth=10, min_samples_leaf=1, n_estimators=100; total time=   2.5s\n",
            "[CV] END .max_depth=10, min_samples_leaf=2, n_estimators=100; total time=   2.5s\n",
            "[CV] END .max_depth=10, min_samples_leaf=2, n_estimators=100; total time=   2.5s\n",
            "[CV] END .max_depth=10, min_samples_leaf=2, n_estimators=100; total time=   2.5s\n",
            "[CV] END .max_depth=10, min_samples_leaf=1, n_estimators=150; total time=   3.6s\n",
            "[CV] END .max_depth=10, min_samples_leaf=1, n_estimators=150; total time=   3.6s\n",
            "[CV] END .max_depth=10, min_samples_leaf=1, n_estimators=150; total time=   3.7s\n",
            "[CV] END .max_depth=10, min_samples_leaf=2, n_estimators=150; total time=   3.7s\n",
            "[CV] END .max_depth=10, min_samples_leaf=4, n_estimators=100; total time=   2.4s\n",
            "[CV] END .max_depth=10, min_samples_leaf=4, n_estimators=100; total time=   2.6s\n",
            "[CV] END .max_depth=10, min_samples_leaf=4, n_estimators=100; total time=   2.5s\n",
            "[CV] END .max_depth=10, min_samples_leaf=2, n_estimators=150; total time=   3.7s\n",
            "[CV] END .max_depth=10, min_samples_leaf=2, n_estimators=150; total time=   3.7s\n",
            "[CV] END .max_depth=10, min_samples_leaf=4, n_estimators=150; total time=   3.8s\n",
            "[CV] END .max_depth=10, min_samples_leaf=4, n_estimators=150; total time=   3.8s\n",
            "[CV] END .max_depth=10, min_samples_leaf=4, n_estimators=150; total time=   3.9s\n",
            "[CV] END .max_depth=20, min_samples_leaf=1, n_estimators=100; total time=   4.4s\n",
            "[CV] END .max_depth=20, min_samples_leaf=1, n_estimators=100; total time=   4.4s\n",
            "[CV] END .max_depth=20, min_samples_leaf=1, n_estimators=100; total time=   4.7s\n",
            "[CV] END .max_depth=20, min_samples_leaf=2, n_estimators=100; total time=   4.4s\n",
            "[CV] END .max_depth=20, min_samples_leaf=2, n_estimators=100; total time=   4.4s\n",
            "[CV] END .max_depth=20, min_samples_leaf=2, n_estimators=100; total time=   4.4s\n",
            "[CV] END .max_depth=20, min_samples_leaf=1, n_estimators=150; total time=   6.7s\n",
            "[CV] END .max_depth=20, min_samples_leaf=1, n_estimators=150; total time=   6.6s\n",
            "[CV] END .max_depth=20, min_samples_leaf=1, n_estimators=150; total time=   6.7s\n",
            "[CV] END .max_depth=20, min_samples_leaf=4, n_estimators=100; total time=   4.2s\n",
            "[CV] END .max_depth=20, min_samples_leaf=2, n_estimators=150; total time=   6.4s\n",
            "[CV] END .max_depth=20, min_samples_leaf=2, n_estimators=150; total time=   6.4s\n",
            "[CV] END .max_depth=20, min_samples_leaf=2, n_estimators=150; total time=   6.5s\n",
            "[CV] END .max_depth=20, min_samples_leaf=4, n_estimators=100; total time=   4.3s\n",
            "[CV] END .max_depth=20, min_samples_leaf=4, n_estimators=100; total time=   4.3s\n",
            "[CV] END .max_depth=20, min_samples_leaf=4, n_estimators=150; total time=   6.3s\n",
            "[CV] END max_depth=None, min_samples_leaf=1, n_estimators=100; total time=   5.3s\n",
            "[CV] END .max_depth=20, min_samples_leaf=4, n_estimators=150; total time=   6.2s\n",
            "[CV] END .max_depth=20, min_samples_leaf=4, n_estimators=150; total time=   6.3s\n",
            "[CV] END max_depth=None, min_samples_leaf=1, n_estimators=100; total time=   5.1s\n",
            "[CV] END max_depth=None, min_samples_leaf=1, n_estimators=100; total time=   5.4s\n",
            "[CV] END max_depth=None, min_samples_leaf=2, n_estimators=100; total time=   4.9s\n",
            "[CV] END max_depth=None, min_samples_leaf=1, n_estimators=150; total time=   7.8s\n",
            "[CV] END max_depth=None, min_samples_leaf=1, n_estimators=150; total time=   7.9s\n",
            "[CV] END max_depth=None, min_samples_leaf=1, n_estimators=150; total time=   7.9s\n",
            "[CV] END max_depth=None, min_samples_leaf=2, n_estimators=100; total time=   4.9s\n",
            "[CV] END max_depth=None, min_samples_leaf=2, n_estimators=100; total time=   5.0s\n",
            "[CV] END max_depth=None, min_samples_leaf=4, n_estimators=100; total time=   4.3s\n",
            "[CV] END max_depth=None, min_samples_leaf=4, n_estimators=100; total time=   4.4s\n",
            "[CV] END max_depth=None, min_samples_leaf=2, n_estimators=150; total time=   6.9s\n",
            "[CV] END max_depth=None, min_samples_leaf=2, n_estimators=150; total time=   7.0s\n",
            "[CV] END max_depth=None, min_samples_leaf=2, n_estimators=150; total time=   6.8s\n",
            "[CV] END max_depth=None, min_samples_leaf=4, n_estimators=100; total time=   3.7s\n",
            "[CV] END max_depth=None, min_samples_leaf=4, n_estimators=150; total time=   5.1s\n",
            "[CV] END max_depth=None, min_samples_leaf=4, n_estimators=150; total time=   5.0s\n",
            "[CV] END max_depth=None, min_samples_leaf=4, n_estimators=150; total time=   5.0s\n",
            "Best parameters found: {'max_depth': 10, 'min_samples_leaf': 4, 'n_estimators': 150}\n",
            "--- Tuned Random Forest ---\n",
            "              precision    recall  f1-score   support\n",
            "\n",
            "           0       0.94      0.71      0.81     13044\n",
            "           1       0.15      0.51      0.23      1259\n",
            "\n",
            "    accuracy                           0.70     14303\n",
            "   macro avg       0.54      0.61      0.52     14303\n",
            "weighted avg       0.87      0.70      0.76     14303\n",
            "\n"
          ]
        }
      ],
      "source": [
        "# Define a smaller set of parameters to search over to save time\n",
        "param_grid = {\n",
        "    'n_estimators': [100, 150],\n",
        "    'max_depth': [10, 20, None],\n",
        "    'min_samples_leaf': [1, 2, 4]\n",
        "}\n",
        "\n",
        "# Create the Random Forest classifier\n",
        "rf = RandomForestClassifier(class_weight='balanced', random_state=42)\n",
        "\n",
        "# Set up GridSearchCV\n",
        "grid_search = GridSearchCV(estimator=rf, param_grid=param_grid,\n",
        "                           cv=3, n_jobs=-1, verbose=2, scoring='f1') # scoring='f1' focuses on the minority class\n",
        "\n",
        "# Fit the grid search to the data\n",
        "grid_search.fit(X_train, y_train)\n",
        "\n",
        "print(f\"Best parameters found: {grid_search.best_params_}\")\n",
        "\n",
        "# Evaluate the best model\n",
        "best_rf = grid_search.best_estimator_\n",
        "y_pred_best_rf = best_rf.predict(X_test)\n",
        "print(\"--- Tuned Random Forest ---\")\n",
        "print(classification_report(y_test, y_pred_best_rf))"
      ]
    },
    {
      "cell_type": "markdown",
      "id": "-L6RUKB3AWYL",
      "metadata": {
        "id": "-L6RUKB3AWYL"
      },
      "source": [
        "## Logistic Regression"
      ]
    },
    {
      "cell_type": "code",
      "execution_count": 50,
      "id": "tnKt2eyUAoWP",
      "metadata": {
        "id": "tnKt2eyUAoWP"
      },
      "outputs": [
        {
          "name": "stdout",
          "output_type": "stream",
          "text": [
            "--- Logistic Regression ---\n",
            "              precision    recall  f1-score   support\n",
            "\n",
            "           0       0.94      0.64      0.76     13044\n",
            "           1       0.13      0.57      0.21      1259\n",
            "\n",
            "    accuracy                           0.63     14303\n",
            "   macro avg       0.54      0.60      0.49     14303\n",
            "weighted avg       0.87      0.63      0.71     14303\n",
            "\n"
          ]
        }
      ],
      "source": [
        "# Use class_weight='balanced' to handle imbalance\n",
        "log_reg = LogisticRegression(max_iter=1000, class_weight='balanced', random_state=42)\n",
        "log_reg.fit(X_train, y_train)\n",
        "\n",
        "# Evaluate\n",
        "y_pred_lr = log_reg.predict(X_test)\n",
        "\n",
        "# Pay close attention to the recall and f1-score for class '1'\n",
        "print(\"--- Logistic Regression ---\")\n",
        "print(classification_report(y_test, y_pred_lr))"
      ]
    },
    {
      "cell_type": "markdown",
      "id": "50SHnlfgAio2",
      "metadata": {
        "id": "50SHnlfgAio2"
      },
      "source": [
        "## XGBoost"
      ]
    },
    {
      "cell_type": "code",
      "execution_count": 51,
      "id": "Mlt-jwyiAslu",
      "metadata": {
        "id": "Mlt-jwyiAslu"
      },
      "outputs": [
        {
          "name": "stdout",
          "output_type": "stream",
          "text": [
            "--- XGBoost ---\n",
            "              precision    recall  f1-score   support\n",
            "\n",
            "           0       0.93      0.76      0.84     13044\n",
            "           1       0.15      0.44      0.22      1259\n",
            "\n",
            "    accuracy                           0.73     14303\n",
            "   macro avg       0.54      0.60      0.53     14303\n",
            "weighted avg       0.86      0.73      0.78     14303\n",
            "\n"
          ]
        }
      ],
      "source": [
        "# Calculate the scale_pos_weight value\n",
        "count_neg = y_train.value_counts()[0]\n",
        "count_pos = y_train.value_counts()[1]\n",
        "scale_pos_weight = count_neg / count_pos\n",
        "\n",
        "# Use scale_pos_weight to handle imbalance\n",
        "xgb_clf = xgb.XGBClassifier(use_label_encoder=False, eval_metric='logloss', scale_pos_weight=scale_pos_weight, random_state=42)\n",
        "xgb_clf.fit(X_train, y_train)\n",
        "\n",
        "# Evaluate\n",
        "y_pred_xgb = xgb_clf.predict(X_test)\n",
        "print(\"--- XGBoost ---\")\n",
        "print(classification_report(y_test, y_pred_xgb))"
      ]
    },
    {
      "cell_type": "markdown",
      "id": "5kv6-S76Akew",
      "metadata": {
        "id": "5kv6-S76Akew"
      },
      "source": [
        "## Naive Bayes"
      ]
    },
    {
      "cell_type": "code",
      "execution_count": 53,
      "id": "bwTyG27M7iWn",
      "metadata": {
        "id": "bwTyG27M7iWn"
      },
      "outputs": [
        {
          "name": "stdout",
          "output_type": "stream",
          "text": [
            "--- Naive Bayes with SMOTE ---\n",
            "              precision    recall  f1-score   support\n",
            "\n",
            "           0       0.98      0.02      0.04     13044\n",
            "           1       0.09      1.00      0.16      1259\n",
            "\n",
            "    accuracy                           0.11     14303\n",
            "   macro avg       0.54      0.51      0.10     14303\n",
            "weighted avg       0.91      0.11      0.05     14303\n",
            "\n"
          ]
        }
      ],
      "source": [
        "# Create a pipeline that first applies SMOTE then trains the classifier\n",
        "smote_pipeline_nb = ImbPipeline([\n",
        "    ('smote', SMOTE(random_state=42)),\n",
        "    ('classifier', GaussianNB())\n",
        "])\n",
        "\n",
        "smote_pipeline_nb.fit(X_train, y_train)\n",
        "\n",
        "# Evaluate\n",
        "y_pred_gnb = smote_pipeline_nb.predict(X_test)\n",
        "print(\"--- Naive Bayes with SMOTE ---\")\n",
        "print(classification_report(y_test, y_pred_gnb))"
      ]
    },
    {
      "cell_type": "markdown",
      "id": "TJlalkSJoLHn",
      "metadata": {
        "id": "TJlalkSJoLHn"
      },
      "source": [
        "## **2nd iteration summary**\n",
        "\n",
        " The overall accuracy has dropped (now ~66-70%). The model is no longer  only predicting the majority class. In exchange, the recall for class '1' has dramatically improved from ~1-3% to over 50%. The models are now successfully identifying more than half of the patients who will be readmitted, which is a massive improvement and makes the model far more useful.\n",
        "\n",
        "\n",
        " However **Naive Bayes** did not improve. Its accuracy plummeted, and its F1-score remained low.\n",
        "\n",
        "> ***Generated by Gemini***\n",
        ">\n",
        "> This strongly suggests that the underlying assumptions of Gaussian Naive Bayes (like features being independent and normally distributed) are not a good fit for this complex medical dataset.\n",
        "\n",
        "\n",
        "**Should we do not continue using Naive Bayes?**"
      ]
    },
    {
      "cell_type": "markdown",
      "id": "ZQqNfFW1rcZq",
      "metadata": {
        "id": "ZQqNfFW1rcZq"
      },
      "source": [
        "# Training 3rd Iteration"
      ]
    },
    {
      "cell_type": "markdown",
      "id": "DeYycQhbrtVX",
      "metadata": {
        "id": "DeYycQhbrtVX"
      },
      "source": [
        "## Encoding adjustment"
      ]
    },
    {
      "cell_type": "code",
      "execution_count": 54,
      "id": "_rxah2QMryYu",
      "metadata": {
        "id": "_rxah2QMryYu"
      },
      "outputs": [],
      "source": [
        "X = diabetes_df.drop('readmitted', axis=1)\n",
        "y = diabetes_df['readmitted']\n",
        "\n",
        "# ADJUSTMENT IN FEATURES TO ENCODE\n",
        "cols_to_encode = [\n",
        "    'race', \n",
        "    'gender', \n",
        "\t\t'age_simplified',\n",
        "    'diag_1_cat', 'diag_2_cat', 'diag_3_cat',\n",
        "    'discharge_disposition_id', \n",
        "    'admission_type_id', \n",
        "    'admission_source_id'\n",
        "]\n",
        "\n",
        "X_encoded = pd.get_dummies(X, columns=cols_to_encode, drop_first=True)\n",
        "\n",
        "X_encoded['change'] = X_encoded['change'].replace({'No': 0, 'Ch': 1})\n",
        "X_encoded['diabetesMed'] = X_encoded['diabetesMed'].replace({'No': 0, 'Yes': 1})\n",
        "\n",
        "X_train, X_test, y_train, y_test = train_test_split(X_encoded, y, test_size=0.2, random_state=42, stratify=y)\n",
        "\n",
        "numeric_cols = X_train.select_dtypes(include=np.number).columns\n",
        "\n",
        "scaler = StandardScaler()\n",
        "X_train[numeric_cols] = scaler.fit_transform(X_train[numeric_cols])\n",
        "X_test[numeric_cols] = scaler.transform(X_test[numeric_cols])"
      ]
    },
    {
      "cell_type": "markdown",
      "id": "K2-Tp267rg2G",
      "metadata": {
        "id": "K2-Tp267rg2G"
      },
      "source": [
        "## Random Forest"
      ]
    },
    {
      "cell_type": "code",
      "execution_count": 55,
      "id": "dmI9tezsB_Y5",
      "metadata": {
        "id": "dmI9tezsB_Y5"
      },
      "outputs": [
        {
          "name": "stdout",
          "output_type": "stream",
          "text": [
            "Fitting 3 folds for each of 18 candidates, totalling 54 fits\n",
            "[CV] END .max_depth=10, min_samples_leaf=1, n_estimators=100; total time=   3.0s\n",
            "[CV] END .max_depth=10, min_samples_leaf=1, n_estimators=100; total time=   3.1s\n",
            "[CV] END .max_depth=10, min_samples_leaf=2, n_estimators=100; total time=   3.1s\n",
            "[CV] END .max_depth=10, min_samples_leaf=2, n_estimators=100; total time=   3.1s\n",
            "[CV] END .max_depth=10, min_samples_leaf=1, n_estimators=100; total time=   3.5s\n",
            "[CV] END .max_depth=10, min_samples_leaf=2, n_estimators=100; total time=   3.3s\n",
            "[CV] END .max_depth=10, min_samples_leaf=1, n_estimators=150; total time=   4.7s\n",
            "[CV] END .max_depth=10, min_samples_leaf=1, n_estimators=150; total time=   4.7s\n",
            "[CV] END .max_depth=10, min_samples_leaf=1, n_estimators=150; total time=   4.6s\n",
            "[CV] END .max_depth=10, min_samples_leaf=2, n_estimators=150; total time=   4.7s\n",
            "[CV] END .max_depth=10, min_samples_leaf=4, n_estimators=100; total time=   3.2s\n",
            "[CV] END .max_depth=10, min_samples_leaf=4, n_estimators=100; total time=   3.0s\n",
            "[CV] END .max_depth=10, min_samples_leaf=4, n_estimators=100; total time=   3.0s\n",
            "[CV] END .max_depth=10, min_samples_leaf=2, n_estimators=150; total time=   4.8s\n",
            "[CV] END .max_depth=10, min_samples_leaf=2, n_estimators=150; total time=   4.9s\n",
            "[CV] END .max_depth=10, min_samples_leaf=4, n_estimators=150; total time=   4.6s\n",
            "[CV] END .max_depth=10, min_samples_leaf=4, n_estimators=150; total time=   4.4s\n",
            "[CV] END .max_depth=10, min_samples_leaf=4, n_estimators=150; total time=   4.7s\n",
            "[CV] END .max_depth=20, min_samples_leaf=1, n_estimators=100; total time=   5.5s\n",
            "[CV] END .max_depth=20, min_samples_leaf=1, n_estimators=100; total time=   5.8s\n",
            "[CV] END .max_depth=20, min_samples_leaf=1, n_estimators=100; total time=   5.3s\n",
            "[CV] END .max_depth=20, min_samples_leaf=2, n_estimators=100; total time=   4.9s\n",
            "[CV] END .max_depth=20, min_samples_leaf=2, n_estimators=100; total time=   4.9s\n",
            "[CV] END .max_depth=20, min_samples_leaf=2, n_estimators=100; total time=   4.8s\n",
            "[CV] END .max_depth=20, min_samples_leaf=1, n_estimators=150; total time=   7.6s\n",
            "[CV] END .max_depth=20, min_samples_leaf=1, n_estimators=150; total time=   8.0s\n",
            "[CV] END .max_depth=20, min_samples_leaf=1, n_estimators=150; total time=   7.5s\n",
            "[CV] END .max_depth=20, min_samples_leaf=4, n_estimators=100; total time=   4.6s\n",
            "[CV] END .max_depth=20, min_samples_leaf=2, n_estimators=150; total time=   7.2s\n",
            "[CV] END .max_depth=20, min_samples_leaf=4, n_estimators=100; total time=   4.6s\n",
            "[CV] END .max_depth=20, min_samples_leaf=2, n_estimators=150; total time=   7.1s\n",
            "[CV] END .max_depth=20, min_samples_leaf=4, n_estimators=100; total time=   4.7s\n",
            "[CV] END .max_depth=20, min_samples_leaf=2, n_estimators=150; total time=   7.3s\n",
            "[CV] END .max_depth=20, min_samples_leaf=4, n_estimators=150; total time=   6.9s\n",
            "[CV] END .max_depth=20, min_samples_leaf=4, n_estimators=150; total time=   6.9s\n",
            "[CV] END .max_depth=20, min_samples_leaf=4, n_estimators=150; total time=   6.9s\n",
            "[CV] END max_depth=None, min_samples_leaf=1, n_estimators=100; total time=   6.0s\n",
            "[CV] END max_depth=None, min_samples_leaf=1, n_estimators=100; total time=   6.0s\n",
            "[CV] END max_depth=None, min_samples_leaf=1, n_estimators=100; total time=   6.3s\n",
            "[CV] END max_depth=None, min_samples_leaf=2, n_estimators=100; total time=   5.5s\n",
            "[CV] END max_depth=None, min_samples_leaf=2, n_estimators=100; total time=   5.6s\n",
            "[CV] END max_depth=None, min_samples_leaf=1, n_estimators=150; total time=   9.1s\n",
            "[CV] END max_depth=None, min_samples_leaf=1, n_estimators=150; total time=   9.2s\n",
            "[CV] END max_depth=None, min_samples_leaf=2, n_estimators=100; total time=   5.6s\n",
            "[CV] END max_depth=None, min_samples_leaf=1, n_estimators=150; total time=   9.2s\n",
            "[CV] END max_depth=None, min_samples_leaf=4, n_estimators=100; total time=   5.0s\n",
            "[CV] END max_depth=None, min_samples_leaf=4, n_estimators=100; total time=   5.2s\n",
            "[CV] END max_depth=None, min_samples_leaf=2, n_estimators=150; total time=   8.0s\n",
            "[CV] END max_depth=None, min_samples_leaf=2, n_estimators=150; total time=   8.1s\n",
            "[CV] END max_depth=None, min_samples_leaf=2, n_estimators=150; total time=   7.6s\n",
            "[CV] END max_depth=None, min_samples_leaf=4, n_estimators=100; total time=   4.2s\n",
            "[CV] END max_depth=None, min_samples_leaf=4, n_estimators=150; total time=   5.6s\n",
            "[CV] END max_depth=None, min_samples_leaf=4, n_estimators=150; total time=   5.5s\n",
            "[CV] END max_depth=None, min_samples_leaf=4, n_estimators=150; total time=   5.6s\n",
            "Best parameters found: {'max_depth': 10, 'min_samples_leaf': 2, 'n_estimators': 100}\n",
            "--- Tuned Random Forest ---\n",
            "              precision    recall  f1-score   support\n",
            "\n",
            "           0       0.94      0.71      0.81     13044\n",
            "           1       0.15      0.52      0.23      1259\n",
            "\n",
            "    accuracy                           0.69     14303\n",
            "   macro avg       0.54      0.62      0.52     14303\n",
            "weighted avg       0.87      0.69      0.76     14303\n",
            "\n"
          ]
        },
        {
          "data": {
            "image/png": "[encoded data removed]",
            "text/plain": [
              "<Figure size 1200x800 with 1 Axes>"
            ]
          },
          "metadata": {},
          "output_type": "display_data"
        }
      ],
      "source": [
        "# Define a smaller set of parameters to search over to save time\n",
        "param_grid = {\n",
        "    'n_estimators': [100, 150],\n",
        "    'max_depth': [10, 20, None],\n",
        "    'min_samples_leaf': [1, 2, 4]\n",
        "}\n",
        "\n",
        "# Create the Random Forest classifier\n",
        "rf = RandomForestClassifier(class_weight='balanced', random_state=42)\n",
        "\n",
        "# Set up GridSearchCV\n",
        "grid_search = GridSearchCV(estimator=rf, param_grid=param_grid,\n",
        "                           cv=3, n_jobs=-1, verbose=2, scoring='f1') # scoring='f1' focuses on the minority class\n",
        "\n",
        "# Fit the grid search to the data\n",
        "grid_search.fit(X_train, y_train)\n",
        "\n",
        "print(f\"Best parameters found: {grid_search.best_params_}\")\n",
        "\n",
        "# Evaluate the best model\n",
        "best_rf = grid_search.best_estimator_\n",
        "y_pred_best_rf = best_rf.predict(X_test)\n",
        "print(\"--- Tuned Random Forest ---\")\n",
        "print(classification_report(y_test, y_pred_best_rf))\n",
        "\n",
        "# Get the best Random Forest model from the grid search\n",
        "best_rf = grid_search.best_estimator_\n",
        "\n",
        "# Get feature importances\n",
        "importances = best_rf.feature_importances_\n",
        "feature_names = X_train.columns\n",
        "\n",
        "# Create a DataFrame for visualization\n",
        "feature_importance_df = pd.DataFrame({'feature': feature_names, 'importance': importances})\n",
        "feature_importance_df = feature_importance_df.sort_values(by='importance', ascending=False)\n",
        "\n",
        "# Plot the top 20 features\n",
        "plt.figure(figsize=(12, 8))\n",
        "sns.barplot(x='importance', y='feature', data=feature_importance_df.head(20))\n",
        "plt.title('Top 20 Most Important Features (Tuned Random Forest)')\n",
        "plt.xlabel('Importance')\n",
        "plt.ylabel('Feature')\n",
        "plt.tight_layout()\n",
        "plt.show()"
      ]
    },
    {
      "cell_type": "markdown",
      "id": "WNdutHUPtBX2",
      "metadata": {
        "id": "WNdutHUPtBX2"
      },
      "source": [
        "### Feature ReSelection for Random Forest"
      ]
    },
    {
      "cell_type": "markdown",
      "id": "Q62MSssOtFit",
      "metadata": {
        "id": "Q62MSssOtFit"
      },
      "source": [
        "#### Identify Top Features"
      ]
    },
    {
      "cell_type": "code",
      "execution_count": 56,
      "id": "dsMc9rg3s8Eu",
      "metadata": {
        "id": "dsMc9rg3s8Eu"
      },
      "outputs": [
        {
          "name": "stdout",
          "output_type": "stream",
          "text": [
            "Feature importance plot saved as feature_importance.png\n"
          ]
        },
        {
          "data": {
            "image/png": "[encoded data removed]",
            "text/plain": [
              "<Figure size 1200x1000 with 1 Axes>"
            ]
          },
          "metadata": {},
          "output_type": "display_data"
        }
      ],
      "source": [
        "# Ensure 'grid_search' variable holds your fitted RandomForest GridSearchCV object\n",
        "best_rf = grid_search.best_estimator_\n",
        "\n",
        "# Get feature importances and names\n",
        "importances = best_rf.feature_importances_\n",
        "feature_names = X_train.columns\n",
        "\n",
        "# Create a DataFrame for easy visualization\n",
        "feature_importance_df = pd.DataFrame({'feature': feature_names, 'importance': importances})\n",
        "feature_importance_df = feature_importance_df.sort_values(by='importance', ascending=False)\n",
        "\n",
        "# --- Plot the top features ---\n",
        "plt.figure(figsize=(12, 10))\n",
        "sns.barplot(x='importance', y='feature', data=feature_importance_df.head(30), palette='viridis')\n",
        "plt.title('Top 30 Most Important Features (from Tuned Random Forest)')\n",
        "plt.xlabel('Importance Score')\n",
        "plt.ylabel('Feature')\n",
        "plt.tight_layout()\n",
        "plt.savefig('feature_importance.png')\n",
        "print(\"Feature importance plot saved as feature_importance.png\")"
      ]
    },
    {
      "cell_type": "markdown",
      "id": "uVKH7v4qtIfc",
      "metadata": {
        "id": "uVKH7v4qtIfc"
      },
      "source": [
        "#### Retrain Model on Selected Features"
      ]
    },
    {
      "cell_type": "code",
      "execution_count": 57,
      "id": "wCNO0ejAs-Bp",
      "metadata": {
        "id": "wCNO0ejAs-Bp"
      },
      "outputs": [
        {
          "name": "stdout",
          "output_type": "stream",
          "text": [
            "\n",
            "--- Selected Top 30 Features ---\n",
            "['number_inpatient', 'discharged_to_home', 'total_visits', 'care_intensity_score', 'discharge_disposition_id_22', 'procedure_intensity', 'num_lab_procedures', 'num_medications', 'medication_intensity', 'time_in_hospital', 'adm_dis_path_freq', 'discharge_disposition_id_11', 'number_diagnoses', 'in_hospital_mortality', 'postacute_discharge', 'discharge_disposition_id_3', 'num_procedures', 'insulin', 'number_emergency', 'number_outpatient', 'path_Emergency_to_Home', 'diabetesMed', 'discharge_disposition_id_5', 'diag_1_cat_Respiratory', 'emergency_postacute', 'numchange', 'path_Emergency_to_Other', 'metformin', 'age_simplified_older_50_69', 'diag_1_cat_Other']\n",
            "\n",
            "--- Retraining Random Forest on Selected Features ---\n",
            "\n",
            "--- Classification Report (Model with Top Features Only) ---\n",
            "              precision    recall  f1-score   support\n",
            "\n",
            "           0       0.93      0.73      0.82     13044\n",
            "           1       0.14      0.47      0.22      1259\n",
            "\n",
            "    accuracy                           0.71     14303\n",
            "   macro avg       0.54      0.60      0.52     14303\n",
            "weighted avg       0.87      0.71      0.77     14303\n",
            "\n"
          ]
        }
      ],
      "source": [
        "# --- Select the top N features ---\n",
        "N_FEATURES = 30\n",
        "top_features = feature_importance_df['feature'].head(N_FEATURES).tolist()\n",
        "\n",
        "print(f\"\\n--- Selected Top {N_FEATURES} Features ---\")\n",
        "print(top_features)\n",
        "\n",
        "# Create new training and testing sets with only the top features\n",
        "X_train_selected = X_train[top_features]\n",
        "X_test_selected = X_test[top_features]\n",
        "\n",
        "# --- Retrain the model on the smaller feature set ---\n",
        "# You can use the same best parameters you found before\n",
        "rf_selected_features = RandomForestClassifier(n_estimators=150,\n",
        "                                              max_depth=10,\n",
        "                                              min_samples_leaf=1,\n",
        "                                              class_weight='balanced',\n",
        "                                              random_state=42,\n",
        "                                              n_jobs=-1)\n",
        "\n",
        "print(\"\\n--- Retraining Random Forest on Selected Features ---\")\n",
        "rf_selected_features.fit(X_train_selected, y_train)\n",
        "\n",
        "# Evaluate the new model\n",
        "y_pred_selected = rf_selected_features.predict(X_test_selected)\n",
        "\n",
        "print(\"\\n--- Classification Report (Model with Top Features Only) ---\")\n",
        "print(classification_report(y_test, y_pred_selected))"
      ]
    },
    {
      "cell_type": "markdown",
      "id": "VOXlQZq4seDB",
      "metadata": {
        "id": "VOXlQZq4seDB"
      },
      "source": [
        "## XGBoost"
      ]
    },
    {
      "cell_type": "code",
      "execution_count": 58,
      "id": "Z3lfRvZPsh67",
      "metadata": {
        "id": "Z3lfRvZPsh67"
      },
      "outputs": [
        {
          "name": "stdout",
          "output_type": "stream",
          "text": [
            "--- Starting XGBoost Hyperparameter Tuning ---\n",
            "Fitting 3 folds for each of 24 candidates, totalling 72 fits\n",
            "[CV] END learning_rate=0.05, max_depth=5, n_estimators=100, subsample=0.7; total time=   1.0s\n",
            "[CV] END learning_rate=0.05, max_depth=5, n_estimators=100, subsample=0.7; total time=   1.1s\n",
            "[CV] END learning_rate=0.05, max_depth=5, n_estimators=100, subsample=1.0; total time=   1.0s\n",
            "[CV] END learning_rate=0.05, max_depth=5, n_estimators=100, subsample=0.7; total time=   1.1s\n",
            "[CV] END learning_rate=0.05, max_depth=5, n_estimators=100, subsample=1.0; total time=   1.1s\n",
            "[CV] END learning_rate=0.05, max_depth=5, n_estimators=100, subsample=1.0; total time=   1.0s\n",
            "[CV] END learning_rate=0.05, max_depth=5, n_estimators=200, subsample=1.0; total time=   1.4s\n",
            "[CV] END learning_rate=0.05, max_depth=5, n_estimators=200, subsample=0.7; total time=   1.7s\n",
            "[CV] END learning_rate=0.05, max_depth=5, n_estimators=200, subsample=0.7; total time=   1.7s\n",
            "[CV] END learning_rate=0.05, max_depth=5, n_estimators=200, subsample=0.7; total time=   1.6s\n",
            "[CV] END learning_rate=0.05, max_depth=5, n_estimators=200, subsample=1.0; total time=   1.4s\n",
            "[CV] END learning_rate=0.05, max_depth=5, n_estimators=200, subsample=1.0; total time=   1.4s\n",
            "[CV] END learning_rate=0.05, max_depth=10, n_estimators=100, subsample=0.7; total time=   1.4s\n",
            "[CV] END learning_rate=0.05, max_depth=10, n_estimators=100, subsample=0.7; total time=   1.5s\n",
            "[CV] END learning_rate=0.05, max_depth=10, n_estimators=100, subsample=0.7; total time=   1.4s\n",
            "[CV] END learning_rate=0.05, max_depth=10, n_estimators=100, subsample=1.0; total time=   1.4s\n",
            "[CV] END learning_rate=0.05, max_depth=10, n_estimators=100, subsample=1.0; total time=   1.3s\n",
            "[CV] END learning_rate=0.05, max_depth=10, n_estimators=100, subsample=1.0; total time=   1.5s\n",
            "[CV] END learning_rate=0.05, max_depth=10, n_estimators=200, subsample=0.7; total time=   2.8s\n",
            "[CV] END learning_rate=0.05, max_depth=10, n_estimators=200, subsample=0.7; total time=   2.9s\n",
            "[CV] END learning_rate=0.05, max_depth=10, n_estimators=200, subsample=1.0; total time=   2.3s\n",
            "[CV] END learning_rate=0.05, max_depth=10, n_estimators=200, subsample=1.0; total time=   2.4s\n",
            "[CV] END learning_rate=0.05, max_depth=10, n_estimators=200, subsample=1.0; total time=   2.4s\n",
            "[CV] END learning_rate=0.05, max_depth=15, n_estimators=100, subsample=0.7; total time=   2.7s\n",
            "[CV] END learning_rate=0.05, max_depth=10, n_estimators=200, subsample=0.7; total time=   3.0s\n",
            "[CV] END learning_rate=0.05, max_depth=15, n_estimators=100, subsample=0.7; total time=   2.7s\n",
            "[CV] END learning_rate=0.05, max_depth=15, n_estimators=100, subsample=0.7; total time=   2.7s\n",
            "[CV] END learning_rate=0.05, max_depth=15, n_estimators=100, subsample=1.0; total time=   2.6s\n",
            "[CV] END learning_rate=0.1, max_depth=5, n_estimators=100, subsample=0.7; total time=   1.0s\n",
            "[CV] END learning_rate=0.1, max_depth=5, n_estimators=100, subsample=0.7; total time=   1.0s\n",
            "[CV] END learning_rate=0.05, max_depth=15, n_estimators=100, subsample=1.0; total time=   2.4s\n",
            "[CV] END learning_rate=0.05, max_depth=15, n_estimators=100, subsample=1.0; total time=   2.5s\n",
            "[CV] END learning_rate=0.1, max_depth=5, n_estimators=100, subsample=0.7; total time=   0.9s\n",
            "[CV] END learning_rate=0.1, max_depth=5, n_estimators=100, subsample=1.0; total time=   0.8s\n",
            "[CV] END learning_rate=0.1, max_depth=5, n_estimators=100, subsample=1.0; total time=   0.9s\n",
            "[CV] END learning_rate=0.1, max_depth=5, n_estimators=100, subsample=1.0; total time=   0.9s\n",
            "[CV] END learning_rate=0.05, max_depth=15, n_estimators=200, subsample=1.0; total time=   4.1s\n",
            "[CV] END learning_rate=0.05, max_depth=15, n_estimators=200, subsample=1.0; total time=   4.0s\n",
            "[CV] END learning_rate=0.1, max_depth=5, n_estimators=200, subsample=0.7; total time=   1.6s\n",
            "[CV] END learning_rate=0.1, max_depth=5, n_estimators=200, subsample=0.7; total time=   1.5s\n",
            "[CV] END learning_rate=0.05, max_depth=15, n_estimators=200, subsample=1.0; total time=   4.3s\n",
            "[CV] END learning_rate=0.1, max_depth=5, n_estimators=200, subsample=0.7; total time=   1.6s\n",
            "[CV] END learning_rate=0.1, max_depth=5, n_estimators=200, subsample=1.0; total time=   1.5s\n",
            "[CV] END learning_rate=0.05, max_depth=15, n_estimators=200, subsample=0.7; total time=   5.1s\n",
            "[CV] END learning_rate=0.05, max_depth=15, n_estimators=200, subsample=0.7; total time=   5.2s\n",
            "[CV] END learning_rate=0.05, max_depth=15, n_estimators=200, subsample=0.7; total time=   5.2s\n",
            "[CV] END learning_rate=0.1, max_depth=5, n_estimators=200, subsample=1.0; total time=   1.4s\n",
            "[CV] END learning_rate=0.1, max_depth=5, n_estimators=200, subsample=1.0; total time=   1.5s\n",
            "[CV] END learning_rate=0.1, max_depth=10, n_estimators=100, subsample=0.7; total time=   1.6s\n",
            "[CV] END learning_rate=0.1, max_depth=10, n_estimators=100, subsample=1.0; total time=   1.4s\n",
            "[CV] END learning_rate=0.1, max_depth=10, n_estimators=100, subsample=0.7; total time=   1.5s\n",
            "[CV] END learning_rate=0.1, max_depth=10, n_estimators=100, subsample=1.0; total time=   1.4s\n",
            "[CV] END learning_rate=0.1, max_depth=10, n_estimators=100, subsample=0.7; total time=   1.6s\n",
            "[CV] END learning_rate=0.1, max_depth=10, n_estimators=100, subsample=1.0; total time=   1.4s\n",
            "[CV] END learning_rate=0.1, max_depth=10, n_estimators=200, subsample=0.7; total time=   2.8s\n",
            "[CV] END learning_rate=0.1, max_depth=10, n_estimators=200, subsample=0.7; total time=   3.1s\n",
            "[CV] END learning_rate=0.1, max_depth=10, n_estimators=200, subsample=1.0; total time=   2.4s\n",
            "[CV] END learning_rate=0.1, max_depth=10, n_estimators=200, subsample=1.0; total time=   2.3s\n",
            "[CV] END learning_rate=0.1, max_depth=15, n_estimators=100, subsample=1.0; total time=   2.2s\n",
            "[CV] END learning_rate=0.1, max_depth=10, n_estimators=200, subsample=1.0; total time=   2.3s\n",
            "[CV] END learning_rate=0.1, max_depth=15, n_estimators=100, subsample=0.7; total time=   2.6s\n",
            "[CV] END learning_rate=0.1, max_depth=15, n_estimators=100, subsample=0.7; total time=   2.7s\n",
            "[CV] END learning_rate=0.1, max_depth=15, n_estimators=100, subsample=0.7; total time=   2.7s\n",
            "[CV] END learning_rate=0.1, max_depth=10, n_estimators=200, subsample=0.7; total time=   3.2s\n",
            "[CV] END learning_rate=0.1, max_depth=15, n_estimators=100, subsample=1.0; total time=   2.3s\n",
            "[CV] END learning_rate=0.1, max_depth=15, n_estimators=100, subsample=1.0; total time=   2.3s\n",
            "[CV] END learning_rate=0.1, max_depth=15, n_estimators=200, subsample=1.0; total time=   3.9s\n",
            "[CV] END learning_rate=0.1, max_depth=15, n_estimators=200, subsample=1.0; total time=   3.6s\n",
            "[CV] END learning_rate=0.1, max_depth=15, n_estimators=200, subsample=1.0; total time=   3.7s\n",
            "[CV] END learning_rate=0.1, max_depth=15, n_estimators=200, subsample=0.7; total time=   4.4s\n",
            "[CV] END learning_rate=0.1, max_depth=15, n_estimators=200, subsample=0.7; total time=   4.5s\n",
            "[CV] END learning_rate=0.1, max_depth=15, n_estimators=200, subsample=0.7; total time=   4.5s\n",
            "Best XGBoost parameters found: {'learning_rate': 0.05, 'max_depth': 5, 'n_estimators': 200, 'subsample': 0.7}\n",
            "\n",
            "--- Tuned XGBoost Classification Report ---\n",
            "              precision    recall  f1-score   support\n",
            "\n",
            "           0       0.94      0.69      0.80     13044\n",
            "           1       0.15      0.55      0.23      1259\n",
            "\n",
            "    accuracy                           0.68     14303\n",
            "   macro avg       0.54      0.62      0.51     14303\n",
            "weighted avg       0.87      0.68      0.75     14303\n",
            "\n"
          ]
        }
      ],
      "source": [
        "# We need the scale_pos_weight value you calculated before\n",
        "count_neg = y_train.value_counts()[0]\n",
        "count_pos = y_train.value_counts()[1]\n",
        "scale_pos_weight = count_neg / count_pos\n",
        "\n",
        "# Define a parameter grid to search\n",
        "# NOTE: This is a small grid to save time. Adjust these parameter accordingly\n",
        "param_grid_xgb = {\n",
        "    'n_estimators': [100, 200],\n",
        "    'max_depth': [5, 10, 15],\n",
        "    'learning_rate': [0.05, 0.1],\n",
        "    'subsample': [0.7, 1.0]\n",
        "}\n",
        "\n",
        "# Create the XGBoost classifier, including the scale_pos_weight\n",
        "xgb_clf = xgb.XGBClassifier(eval_metric='logloss',\n",
        "                            scale_pos_weight=scale_pos_weight,\n",
        "                            use_label_encoder=False,\n",
        "                            random_state=42)\n",
        "\n",
        "# Set up GridSearchCV\n",
        "grid_search_xgb = GridSearchCV(estimator=xgb_clf,\n",
        "                               param_grid=param_grid_xgb,\n",
        "                               cv=3,\n",
        "                               n_jobs=-1,\n",
        "                               verbose=2,\n",
        "                               scoring='f1') # Optimize for f1-score of the positive class\n",
        "\n",
        "# Fit the grid search to the data\n",
        "print(\"--- Starting XGBoost Hyperparameter Tuning ---\")\n",
        "grid_search_xgb.fit(X_train, y_train)\n",
        "\n",
        "# Print the best parameters found\n",
        "print(f\"Best XGBoost parameters found: {grid_search_xgb.best_params_}\")\n",
        "\n",
        "# Evaluate the best model on the test set\n",
        "best_xgb = grid_search_xgb.best_estimator_\n",
        "y_pred_best_xgb = best_xgb.predict(X_test)\n",
        "\n",
        "print(\"\\n--- Tuned XGBoost Classification Report ---\")\n",
        "print(classification_report(y_test, y_pred_best_xgb))"
      ]
    },
    {
      "cell_type": "markdown",
      "id": "QA3--RjkxyuJ",
      "metadata": {
        "id": "QA3--RjkxyuJ"
      },
      "source": [
        "## Logistic Regression"
      ]
    },
    {
      "cell_type": "code",
      "execution_count": 59,
      "id": "bRkPhtcEx1-S",
      "metadata": {
        "id": "bRkPhtcEx1-S"
      },
      "outputs": [
        {
          "name": "stdout",
          "output_type": "stream",
          "text": [
            "--- Starting Logistic Regression Hyperparameter Tuning ---\n",
            "Fitting 5 folds for each of 12 candidates, totalling 60 fits\n",
            "Best Logistic Regression parameters: {'C': 0.1, 'penalty': 'l1'}\n",
            "\n",
            "--- Tuned Logistic Regression Classification Report ---\n",
            "              precision    recall  f1-score   support\n",
            "\n",
            "           0       0.94      0.68      0.79     13044\n",
            "           1       0.14      0.55      0.23      1259\n",
            "\n",
            "    accuracy                           0.67     14303\n",
            "   macro avg       0.54      0.62      0.51     14303\n",
            "weighted avg       0.87      0.67      0.74     14303\n",
            "\n"
          ]
        }
      ],
      "source": [
        "# We continue to use class_weight='balanced' to handle the imbalanced dataset\n",
        "log_reg = LogisticRegression(class_weight='balanced', solver='liblinear', max_iter=1000, random_state=42)\n",
        "\n",
        "# Define the parameter grid to search\n",
        "param_grid_lr = {\n",
        "    'penalty': ['l1', 'l2'],\n",
        "    'C': [0.001, 0.01, 0.1, 1, 10, 100] # Range of values for regularization strength\n",
        "}\n",
        "\n",
        "# Set up GridSearchCV to optimize for f1-score\n",
        "grid_search_lr = GridSearchCV(estimator=log_reg,\n",
        "                              param_grid=param_grid_lr,\n",
        "                              cv=5,\n",
        "                              scoring='f1',\n",
        "                              n_jobs=-1,\n",
        "                              verbose=1)\n",
        "\n",
        "print(\"--- Starting Logistic Regression Hyperparameter Tuning ---\")\n",
        "grid_search_lr.fit(X_train, y_train)\n",
        "\n",
        "# Print best parameters\n",
        "print(f\"Best Logistic Regression parameters: {grid_search_lr.best_params_}\")\n",
        "\n",
        "# Evaluate the best model\n",
        "best_lr = grid_search_lr.best_estimator_\n",
        "y_pred_best_lr = best_lr.predict(X_test)\n",
        "\n",
        "print(\"\\n--- Tuned Logistic Regression Classification Report ---\")\n",
        "print(classification_report(y_test, y_pred_best_lr))"
      ]
    },
    {
      "cell_type": "markdown",
      "id": "TLi3JKzdx5eC",
      "metadata": {
        "id": "TLi3JKzdx5eC"
      },
      "source": [
        "## Naive Bayes"
      ]
    },
    {
      "cell_type": "code",
      "execution_count": 60,
      "id": "ua_xYEzLx42F",
      "metadata": {
        "id": "ua_xYEzLx42F"
      },
      "outputs": [
        {
          "name": "stdout",
          "output_type": "stream",
          "text": [
            "--- Starting Naive Bayes Hyperparameter Tuning ---\n",
            "Fitting 5 folds for each of 100 candidates, totalling 500 fits\n",
            "Best Naive Bayes parameters: {'classifier__var_smoothing': np.float64(0.2848035868435802)}\n",
            "\n",
            "--- Tuned Naive Bayes Classification Report ---\n",
            "              precision    recall  f1-score   support\n",
            "\n",
            "           0       0.95      0.07      0.14     13044\n",
            "           1       0.09      0.96      0.17      1259\n",
            "\n",
            "    accuracy                           0.15     14303\n",
            "   macro avg       0.52      0.52      0.15     14303\n",
            "weighted avg       0.88      0.15      0.14     14303\n",
            "\n"
          ]
        }
      ],
      "source": [
        "from sklearn.naive_bayes import GaussianNB\n",
        "from imblearn.over_sampling import SMOTE\n",
        "from imblearn.pipeline import Pipeline\n",
        "import numpy as np\n",
        "\n",
        "# Create the pipeline\n",
        "smote_pipeline_nb = Pipeline([\n",
        "    ('smote', SMOTE(random_state=42)),\n",
        "    ('classifier', GaussianNB())\n",
        "])\n",
        "\n",
        "# Define the parameter grid for var_smoothing\n",
        "# These are standard values to test for this parameter\n",
        "param_grid_nb = {\n",
        "    'classifier__var_smoothing': np.logspace(0, -9, num=100)\n",
        "}\n",
        "\n",
        "# Set up GridSearchCV\n",
        "grid_search_nb = GridSearchCV(estimator=smote_pipeline_nb,\n",
        "                              param_grid=param_grid_nb,\n",
        "                              cv=5,\n",
        "                              scoring='f1',\n",
        "                              n_jobs=-1,\n",
        "                              verbose=1)\n",
        "\n",
        "print(\"--- Starting Naive Bayes Hyperparameter Tuning ---\")\n",
        "grid_search_nb.fit(X_train, y_train)\n",
        "\n",
        "# Print best parameters\n",
        "print(f\"Best Naive Bayes parameters: {grid_search_nb.best_params_}\")\n",
        "\n",
        "# Evaluate the best model\n",
        "best_nb = grid_search_nb.best_estimator_\n",
        "y_pred_best_nb = best_nb.predict(X_test)\n",
        "\n",
        "print(\"\\n--- Tuned Naive Bayes Classification Report ---\")\n",
        "print(classification_report(y_test, y_pred_best_nb))"
      ]
    },
    {
      "cell_type": "markdown",
      "id": "d038d513",
      "metadata": {},
      "source": [
        "# Iteration 4"
      ]
    },
    {
      "cell_type": "code",
      "execution_count": 61,
      "id": "e00d13f7",
      "metadata": {},
      "outputs": [],
      "source": [
        "import pandas as pd\n",
        "import numpy as np\n",
        "import matplotlib.pyplot as plt\n",
        "import seaborn as sns\n",
        "from sklearn.model_selection import train_test_split, GridSearchCV, StratifiedKFold\n",
        "from sklearn.preprocessing import StandardScaler, OneHotEncoder\n",
        "from sklearn.compose import ColumnTransformer\n",
        "from sklearn.pipeline import Pipeline\n",
        "from imblearn.pipeline import Pipeline as ImbPipeline\n",
        "from imblearn.over_sampling import SMOTE\n",
        "from imblearn.combine import SMOTEENN\n",
        "from sklearn.linear_model import LogisticRegression\n",
        "from sklearn.ensemble import RandomForestClassifier\n",
        "import xgboost as xgb\n",
        "import lightgbm as lgb\n",
        "from sklearn.metrics import classification_report, roc_auc_score, roc_curve, auc, accuracy_score\n",
        "\n",
        "import warnings\n",
        "warnings.filterwarnings(\"ignore\")"
      ]
    },
    {
      "cell_type": "markdown",
      "id": "35957517",
      "metadata": {},
      "source": [
        "## Data Loading and Preprocessing"
      ]
    },
    {
      "cell_type": "code",
      "execution_count": 62,
      "id": "1ebe1569",
      "metadata": {},
      "outputs": [],
      "source": [
        "diabetes_df = pd.read_csv(\"https://archive.ics.uci.edu/static/public/296/data.csv\", low_memory=False)\n",
        "\n",
        "\n",
        "# MISSING VALUE HANDLING\n",
        "## Drop columns with high missing values\n",
        "cols_to_drop = ['weight', 'max_glu_serum', 'A1Cresult', 'payer_code', 'medical_specialty']\n",
        "diabetes_df.drop(columns=cols_to_drop, inplace=True)\n",
        "\n",
        "## Fill missing race with 'Other'\n",
        "diabetes_df['race'] = diabetes_df['race'].fillna('Other')\n",
        "\n",
        "## Drop columns with single value\n",
        "cols_with_one_value = ['examide', 'citoglipton']\n",
        "diabetes_df.drop(columns=cols_with_one_value, inplace=True)\n",
        "\n",
        "## Remove 'Unknown/Invalid' gender\n",
        "diabetes_df = diabetes_df[diabetes_df['gender'] != 'Unknown/Invalid']\n",
        "\n",
        "## Keep only first visit for each patient\n",
        "diabetes_df = diabetes_df.drop_duplicates(['patient_nbr'], keep='first')\n",
        "\n",
        "## Drop ID columns\n",
        "id_cols = ['encounter_id', 'patient_nbr']\n",
        "diabetes_df.drop(columns=id_cols, inplace=True)"
      ]
    },
    {
      "cell_type": "markdown",
      "id": "2d9d9e2a",
      "metadata": {},
      "source": [
        "## Feature Engineering"
      ]
    },
    {
      "cell_type": "code",
      "execution_count": 63,
      "id": "24a51203",
      "metadata": {},
      "outputs": [
        {
          "name": "stdout",
          "output_type": "stream",
          "text": [
            "removing 1084 records of patients who discharged to hospice, died during the hospital stay or after transfer to another facility to reduce bias\n"
          ]
        }
      ],
      "source": [
        "## NEW FEATURE GENERATION\n",
        "def simplify_age_group(age_str):\n",
        "    if pd.isna(age_str):\n",
        "        return \"Unknown\"\n",
        "    age_num = int(age_str.split('-')[0].replace('[', ''))\n",
        "    if age_num < 30:\n",
        "        return \"young_less_than_30\"\n",
        "    elif age_num < 50:\n",
        "        return \"middle_30_49\"\n",
        "    elif age_num < 70:\n",
        "        return \"older_50_69\"\n",
        "    else:\n",
        "        return \"elderly_more_than_70\"\n",
        "\n",
        "diabetes_df[\"age_simplified\"] = diabetes_df[\"age\"].apply(simplify_age_group)\n",
        "diabetes_df[\"age_simplified\"].describe().T\n",
        "\n",
        "## re-encoding admission type, discharge type and admission source into fewer categories\n",
        "## admission_type_id 1 = emergency, 2 = urgent, 3 = elective, 4 = newborn, 5 = not available, 6 = NULL, 7 = trauma center, 8 = Not Mapped\n",
        "## 1, 2 and 7 can be grouped as emergency\n",
        "## 5, 6 and 8 can be grouped as not available\n",
        "diabetes_df['admission_type_id'] = diabetes_df['admission_type_id'].replace(2,1)\n",
        "diabetes_df['admission_type_id'] = diabetes_df['admission_type_id'].replace(7,1)\n",
        "diabetes_df['admission_type_id'] = diabetes_df['admission_type_id'].replace(6,5)\n",
        "diabetes_df['admission_type_id'] = diabetes_df['admission_type_id'].replace(8,5)\n",
        "\n",
        "## discharge_disposition_id grouped into:\n",
        "## 1 = discharged to home \n",
        "## 2 = discharged/transferred to another healthcare facility\n",
        "## 10 = discharged/transferred to another type of facility\n",
        "## 18 = unknown\n",
        "diabetes_df['discharge_disposition_id'] = diabetes_df['discharge_disposition_id'].replace(6,1)\n",
        "diabetes_df['discharge_disposition_id'] = diabetes_df['discharge_disposition_id'].replace(8,1)\n",
        "diabetes_df['discharge_disposition_id'] = diabetes_df['discharge_disposition_id'].replace(9,1)\n",
        "diabetes_df['discharge_disposition_id'] = diabetes_df['discharge_disposition_id'].replace(13,1)\n",
        "diabetes_df['discharge_disposition_id'] = diabetes_df['discharge_disposition_id'].replace(3,2)\n",
        "diabetes_df['discharge_disposition_id'] = diabetes_df['discharge_disposition_id'].replace(4,2)\n",
        "diabetes_df['discharge_disposition_id'] = diabetes_df['discharge_disposition_id'].replace(5,2)\n",
        "diabetes_df['discharge_disposition_id'] = diabetes_df['discharge_disposition_id'].replace(14,2)\n",
        "diabetes_df['discharge_disposition_id'] = diabetes_df['discharge_disposition_id'].replace(22,2)\n",
        "diabetes_df['discharge_disposition_id'] = diabetes_df['discharge_disposition_id'].replace(23,2)\n",
        "diabetes_df['discharge_disposition_id'] = diabetes_df['discharge_disposition_id'].replace(24,2)\n",
        "diabetes_df['discharge_disposition_id'] = diabetes_df['discharge_disposition_id'].replace(12,10)\n",
        "diabetes_df['discharge_disposition_id'] = diabetes_df['discharge_disposition_id'].replace(15,10)\n",
        "diabetes_df['discharge_disposition_id'] = diabetes_df['discharge_disposition_id'].replace(16,10)\n",
        "diabetes_df['discharge_disposition_id'] = diabetes_df['discharge_disposition_id'].replace(17,10)\n",
        "diabetes_df['discharge_disposition_id'] = diabetes_df['discharge_disposition_id'].replace(25,18)\n",
        "diabetes_df['discharge_disposition_id'] = diabetes_df['discharge_disposition_id'].replace(26,18)\n",
        "\n",
        "## admission_source_id grouped into:\n",
        "## 1 = from physician referral and clinic referral\n",
        "## 4 = from transfer from a healthcare facility\n",
        "## 9 = unknown\n",
        "# 11 = newborn or sick babies\n",
        "diabetes_df['admission_source_id'] = diabetes_df['admission_source_id'].replace(2,1)\n",
        "diabetes_df['admission_source_id'] = diabetes_df['admission_source_id'].replace(3,1)\n",
        "diabetes_df['admission_source_id'] = diabetes_df['admission_source_id'].replace(5,4)\n",
        "diabetes_df['admission_source_id'] = diabetes_df['admission_source_id'].replace(6,4)\n",
        "diabetes_df['admission_source_id'] = diabetes_df['admission_source_id'].replace(10,4)\n",
        "diabetes_df['admission_source_id'] = diabetes_df['admission_source_id'].replace(22,4)\n",
        "diabetes_df['admission_source_id'] = diabetes_df['admission_source_id'].replace(25,4)\n",
        "diabetes_df['admission_source_id'] = diabetes_df['admission_source_id'].replace(15,9)\n",
        "diabetes_df['admission_source_id'] = diabetes_df['admission_source_id'].replace(17,9)\n",
        "diabetes_df['admission_source_id'] = diabetes_df['admission_source_id'].replace(20,9)\n",
        "diabetes_df['admission_source_id'] = diabetes_df['admission_source_id'].replace(21,9)\n",
        "diabetes_df['admission_source_id'] = diabetes_df['admission_source_id'].replace(12,11)\n",
        "diabetes_df['admission_source_id'] = diabetes_df['admission_source_id'].replace(13,11)\n",
        "diabetes_df['admission_source_id'] = diabetes_df['admission_source_id'].replace(14,11)\n",
        "diabetes_df['admission_source_id'] = diabetes_df['admission_source_id'].replace(23,11)\n",
        "diabetes_df['admission_source_id'] = diabetes_df['admission_source_id'].replace(24,11)\n",
        "\n",
        "## count records of patients who discharged to hospice, died during the hospital stay or after transfer to another facility\n",
        "records_of_expired_patients = diabetes_df[diabetes_df['discharge_disposition_id'].isin([11, 19, 20, 21])].shape[0]\n",
        "print(\"removing\", records_of_expired_patients, \"records of patients who discharged to hospice, died during the hospital stay or after transfer to another facility to reduce bias\")\n",
        "diabetes_df = diabetes_df[~diabetes_df['discharge_disposition_id'].isin([11, 19, 20, 21])]\n",
        "diabetes_df.shape\n",
        "\n",
        "def categorize_diagnosis(diag_code):\n",
        "    if pd.isna(diag_code):\n",
        "        return 'Unknown'\n",
        "    diag_str = str(diag_code)\n",
        "    if diag_str.startswith('V') or diag_str.startswith('E'):\n",
        "        return 'Other'\n",
        "    try:\n",
        "        diag_num = float(diag_str)\n",
        "    except:\n",
        "        return 'Other'\n",
        "    if 390 <= diag_num <= 459 or diag_num == 785:\n",
        "        return 'Circulatory'\n",
        "    elif 460 <= diag_num <= 519 or diag_num == 786:\n",
        "        return 'Respiratory'\n",
        "    elif 520 <= diag_num <= 579 or diag_num == 787:\n",
        "        return 'Digestive'\n",
        "    elif 250 <= diag_num < 251:\n",
        "        return 'Diabetes'\n",
        "    elif 800 <= diag_num <= 999:\n",
        "        return 'Injury'\n",
        "    elif 710 <= diag_num <= 739:\n",
        "        return 'Musculoskeletal'\n",
        "    elif 580 <= diag_num <= 629 or diag_num == 788:\n",
        "        return 'Genitourinary'\n",
        "    elif 140 <= diag_num <= 239:\n",
        "        return 'Neoplasms'\n",
        "    else:\n",
        "        return 'Other'\n",
        "\n",
        "diabetes_df['diag_1_cat'] = diabetes_df['diag_1'].apply(categorize_diagnosis)\n",
        "diabetes_df['diag_2_cat'] = diabetes_df['diag_2'].apply(categorize_diagnosis)\n",
        "diabetes_df['diag_3_cat'] = diabetes_df['diag_3'].apply(categorize_diagnosis)\n",
        "diabetes_df.drop(columns=['diag_1', 'diag_2', 'diag_3'], inplace=True)\n",
        "\n",
        "diabetes_df['total_visits'] = diabetes_df['number_outpatient'] + diabetes_df['number_inpatient'] + diabetes_df['number_emergency']\n",
        "diabetes_df['procedure_intensity'] = diabetes_df['num_lab_procedures'] + diabetes_df['num_procedures']\n",
        "denom = diabetes_df['number_diagnoses'].replace(0, np.nan)\n",
        "diabetes_df['medication_intensity'] = (diabetes_df['num_medications'] / denom).fillna(0)\n",
        "\n",
        "diabetes_df['care_intensity_score'] = (\n",
        "    diabetes_df['num_medications'] * 0.3 +\n",
        "    diabetes_df['num_procedures'] * 0.3 +\n",
        "    diabetes_df['num_lab_procedures'] * 0.2 +\n",
        "    diabetes_df['number_diagnoses'] * 0.2\n",
        ")\n",
        "\n",
        "drug_keys = ['metformin', 'repaglinide', 'nateglinide', 'chlorpropamide', 'glimepiride', 'glipizide', 'glyburide', 'pioglitazone', 'rosiglitazone', 'acarbose', 'miglitol', 'insulin', 'glyburide-metformin', 'tolazamide', 'metformin-pioglitazone','metformin-rosiglitazone', 'glimepiride-pioglitazone', 'glipizide-metformin', 'troglitazone', 'tolbutamide', 'acetohexamide']\n",
        "for col in drug_keys:\n",
        "    diabetes_df[col + 'temp'] = diabetes_df[col].apply(lambda x: 0 if (x == 'No' or x == 'Steady') else 1)\n",
        "diabetes_df['numchange'] = 0\n",
        "for col in drug_keys:\n",
        "    diabetes_df['numchange'] = diabetes_df['numchange'] + diabetes_df[col + 'temp']\n",
        "    del diabetes_df[col + 'temp']\n",
        "    \n",
        "## admission-dishcarge path\n",
        "for c in ['admission_type_id','discharge_disposition_id']:\n",
        "    if c in diabetes_df.columns: diabetes_df[c] = pd.to_numeric(diabetes_df[c], errors='coerce')\n",
        "\n",
        "adm_map = {1:'Emergency',2:'Urgent',3:'Elective',4:'Newborn',7:'Trauma'}\n",
        "diabetes_df['admission_cat'] = diabetes_df['admission_type_id'].map(adm_map).fillna('Other')\n",
        "\n",
        "home_set={1}; transfer_set={2}; postacute_set={3,4,5,6}; ama_set={7}; death_set={11,19,20,21}; hospice_set={50,51}\n",
        "def discharge_bucket(x):\n",
        "    if pd.isna(x): return 'Unknown'\n",
        "    x=int(x)\n",
        "    if x in home_set: return 'Home'\n",
        "    if x in postacute_set: return 'PostAcute'\n",
        "    if x in transfer_set: return 'Transfer'\n",
        "    if x in ama_set: return 'AMA'\n",
        "    if x in death_set: return 'Died'\n",
        "    if x in hospice_set: return 'Hospice'\n",
        "    return 'Other'\n",
        "\n",
        "diabetes_df['discharge_cat'] = diabetes_df['discharge_disposition_id'].apply(discharge_bucket)\n",
        "\n",
        "diabetes_df['discharged_to_home'] = (diabetes_df['discharge_cat']=='Home').astype(int)\n",
        "diabetes_df['postacute_discharge'] = (diabetes_df['discharge_cat']=='PostAcute').astype(int)\n",
        "diabetes_df['transfer_discharge'] = (diabetes_df['discharge_cat']=='Transfer').astype(int)\n",
        "diabetes_df['left_against_medical'] = (diabetes_df['discharge_cat']=='AMA').astype(int)\n",
        "diabetes_df['in_hospital_mortality'] = (diabetes_df['discharge_cat']=='Died').astype(int)\n",
        "diabetes_df['hospice_discharge'] = (diabetes_df['discharge_cat']=='Hospice').astype(int)\n",
        "\n",
        "diabetes_df['adm_dis_path'] = diabetes_df['admission_cat'].str.cat(diabetes_df['discharge_cat'], sep='→')\n",
        "path_freq = diabetes_df['adm_dis_path'].value_counts()\n",
        "diabetes_df['adm_dis_path_freq'] = diabetes_df['adm_dis_path'].map(path_freq)\n",
        "\n",
        "K = 10\n",
        "topK_paths = path_freq.index[:K]\n",
        "for p in topK_paths:\n",
        "    diabetes_df['path_' + p.replace('→','_to_')] = (diabetes_df['adm_dis_path']==p).astype(int)\n",
        "\n",
        "diabetes_df['emergency_postacute'] = ((diabetes_df['admission_cat']=='Emergency') & (diabetes_df['postacute_discharge']==1)).astype(int)\n",
        "diabetes_df['elective_home']       = ((diabetes_df['admission_cat']=='Elective') & (diabetes_df['discharged_to_home']==1)).astype(int)"
      ]
    },
    {
      "cell_type": "markdown",
      "id": "0e58a16e",
      "metadata": {},
      "source": [
        "## Encoding"
      ]
    },
    {
      "cell_type": "code",
      "execution_count": 64,
      "id": "82fe5265",
      "metadata": {},
      "outputs": [
        {
          "name": "stdout",
          "output_type": "stream",
          "text": [
            "[3 8 7 0 1 4 5 2 6 9]\n",
            "[9 3 7 0 1 8 4 5 6 2]\n",
            "[9 8 0 3 1 4 7 6 5 2]\n"
          ]
        }
      ],
      "source": [
        "diagnosis_labels = {\n",
        "  'Circulatory': 0,\n",
        "  'Respiratory': 1,\n",
        "  'Digestive': 2,\n",
        "  'Diabetes': 3,\n",
        "  'Injury': 4,\n",
        "  'Musculoskeletal': 5,\n",
        "  'Genitourinary': 6,\n",
        "  'Neoplasms': 7,\n",
        "  'Other': 8,\n",
        "  'Unknown': 9\n",
        "}\n",
        "for col in ['diag_1_cat', 'diag_2_cat', 'diag_3_cat']:\n",
        "    diabetes_df[col] = diabetes_df[col].map(diagnosis_labels)\n",
        "    print(diabetes_df[col].unique())\n",
        "\n",
        "# Target variable\n",
        "diabetes_df['readmitted'] = diabetes_df['readmitted'].replace('>30', 0)\n",
        "diabetes_df['readmitted'] = diabetes_df['readmitted'].replace('<30', 1)\n",
        "diabetes_df['readmitted'] = diabetes_df['readmitted'].replace('NO', 0)\n",
        "\n",
        "# Encoding\n",
        "drug_labels = {'No': 0, 'Down': 1, 'Steady': 2, 'Up': 3}\n",
        "for col in drug_keys:\n",
        "    diabetes_df[col] = diabetes_df[col].map(drug_labels)\n",
        "\n",
        "diabetes_df['change'] = diabetes_df['change'].replace({'No': 0, 'Ch': 1})\n",
        "diabetes_df['diabetesMed'] = diabetes_df['diabetesMed'].replace({'No': 0, 'Yes': 1})"
      ]
    },
    {
      "cell_type": "code",
      "execution_count": 65,
      "id": "a4bcd2eb",
      "metadata": {},
      "outputs": [
        {
          "name": "stdout",
          "output_type": "stream",
          "text": [
            "  - race: 5 unique values\n",
            "  - gender: 2 unique values\n",
            "  - age: 10 unique values\n",
            "  - admission_type_id: 4 unique values\n",
            "  - discharge_disposition_id: 7 unique values\n",
            "  - admission_source_id: 6 unique values\n",
            "  - metformin: 4 unique values\n",
            "  - repaglinide: 4 unique values\n",
            "  - nateglinide: 4 unique values\n",
            "  - chlorpropamide: 4 unique values\n",
            "  - glimepiride: 4 unique values\n",
            "  - acetohexamide: 2 unique values\n",
            "  - glipizide: 4 unique values\n",
            "  - glyburide: 4 unique values\n",
            "  - tolbutamide: 2 unique values\n",
            "  - pioglitazone: 4 unique values\n",
            "  - rosiglitazone: 4 unique values\n",
            "  - acarbose: 3 unique values\n",
            "  - miglitol: 4 unique values\n",
            "  - troglitazone: 2 unique values\n",
            "  - tolazamide: 2 unique values\n",
            "  - insulin: 4 unique values\n",
            "  - glyburide-metformin: 4 unique values\n",
            "  - glipizide-metformin: 2 unique values\n",
            "  - glimepiride-pioglitazone: 1 unique values\n",
            "  - metformin-rosiglitazone: 2 unique values\n",
            "  - metformin-pioglitazone: 2 unique values\n",
            "  - change: 2 unique values\n",
            "  - diabetesMed: 2 unique values\n",
            "  - age_simplified: 4 unique values\n",
            "  - diag_1_cat: 10 unique values\n",
            "  - diag_2_cat: 10 unique values\n",
            "  - diag_3_cat: 10 unique values\n",
            "  - admission_cat: 4 unique values\n",
            "  - discharge_cat: 4 unique values\n",
            "  - adm_dis_path: 13 unique values\n"
          ]
        }
      ],
      "source": [
        "# convert data type of nominal features in dataframe to 'object' type\n",
        "categorical_cols = ['race', 'gender', 'admission_type_id', 'discharge_disposition_id', 'admission_source_id',\\\n",
        "        'metformin', 'repaglinide', 'nateglinide', 'chlorpropamide', 'glimepiride', 'acetohexamide', \\\n",
        "        'glipizide', 'glyburide', 'tolbutamide', 'pioglitazone', 'rosiglitazone', 'acarbose','miglitol', \\\n",
        "        'troglitazone', 'tolazamide', 'insulin', 'glyburide-metformin', 'glipizide-metformin', \\\n",
        "        'glimepiride-pioglitazone', 'metformin-rosiglitazone', 'metformin-pioglitazone', 'change', 'diabetesMed', \\\n",
        "        'age_simplified', 'diag_1_cat', 'diag_2_cat', 'diag_3_cat']\n",
        "\n",
        "diabetes_df[categorical_cols] = diabetes_df[categorical_cols].astype('object')\n",
        "\n",
        "\n",
        "numeric_features = diabetes_df.select_dtypes(include=['int64', 'float64']).columns.tolist()\n",
        "categorical_features = diabetes_df.select_dtypes(include=['object']).columns.tolist()\n",
        "\n",
        "if 'readmitted' in numeric_features:\n",
        "    numeric_features.remove('readmitted')\n",
        "\n",
        "for col in categorical_features[:]:\n",
        "    n_unique = diabetes_df[col].nunique()\n",
        "    print(f\"  - {col}: {n_unique} unique values\")"
      ]
    },
    {
      "cell_type": "code",
      "execution_count": 66,
      "id": "52e7b5f7",
      "metadata": {},
      "outputs": [
        {
          "name": "stdout",
          "output_type": "stream",
          "text": [
            "['time_in_hospital', 'num_lab_procedures', 'num_procedures', 'num_medications', 'number_outpatient', 'number_emergency', 'number_inpatient', 'number_diagnoses', 'total_visits', 'procedure_intensity', 'medication_intensity', 'care_intensity_score', 'numchange', 'discharged_to_home', 'postacute_discharge', 'transfer_discharge', 'left_against_medical', 'in_hospital_mortality', 'hospice_discharge', 'adm_dis_path_freq', 'path_Emergency_to_Home', 'path_Elective_to_Home', 'path_Emergency_to_Transfer', 'path_Other_to_Home', 'path_Elective_to_Transfer', 'path_Emergency_to_Other', 'path_Other_to_Transfer', 'path_Other_to_Other', 'path_Elective_to_Other', 'path_Emergency_to_AMA', 'emergency_postacute', 'elective_home']\n"
          ]
        }
      ],
      "source": [
        "# get list of only numeric features\n",
        "print(numeric_features)\n",
        "\n",
        "# Removing skewnewss and kurtosis using log transformation if it is above a threshold value -  2\n",
        "statdataframe = pd.DataFrame()\n",
        "statdataframe['numeric_column'] = numeric_features\n",
        "skew_before = []\n",
        "skew_after = []\n",
        "\n",
        "kurt_before = []\n",
        "kurt_after = []\n",
        "\n",
        "standard_deviation_before = []\n",
        "standard_deviation_after = []\n",
        "\n",
        "log_transform_needed = []\n",
        "\n",
        "log_type = []\n",
        "\n",
        "for i in numeric_features:\n",
        "    skewval = diabetes_df[i].skew()\n",
        "    skew_before.append(skewval)\n",
        "    \n",
        "    kurtval = diabetes_df[i].kurtosis()\n",
        "    kurt_before.append(kurtval)\n",
        "    \n",
        "    sdval = diabetes_df[i].std()\n",
        "    standard_deviation_before.append(sdval)\n",
        "    \n",
        "    if (abs(skewval) >2) & (abs(kurtval) >2):\n",
        "        log_transform_needed.append('Yes')\n",
        "        \n",
        "        if len(diabetes_df[diabetes_df[i] == 0])/len(diabetes_df) <=0.02:\n",
        "            log_type.append('log')\n",
        "            skewvalnew = np.log(pd.DataFrame(diabetes_df[diabetes_df[i] > 0])[i]).skew()\n",
        "            skew_after.append(skewvalnew)\n",
        "            \n",
        "            kurtvalnew = np.log(pd.DataFrame(diabetes_df[diabetes_df[i] > 0])[i]).kurtosis()\n",
        "            kurt_after.append(kurtvalnew)\n",
        "            \n",
        "            sdvalnew = np.log(pd.DataFrame(diabetes_df[diabetes_df[i] > 0])[i]).std()\n",
        "            standard_deviation_after.append(sdvalnew)\n",
        "            \n",
        "        else:\n",
        "            log_type.append('log1p')\n",
        "            skewvalnew = np.log1p(pd.DataFrame(diabetes_df[diabetes_df[i] >= 0])[i]).skew()\n",
        "            skew_after.append(skewvalnew)\n",
        "        \n",
        "            kurtvalnew = np.log1p(pd.DataFrame(diabetes_df[diabetes_df[i] >= 0])[i]).kurtosis()\n",
        "            kurt_after.append(kurtvalnew)\n",
        "            \n",
        "            sdvalnew = np.log1p(pd.DataFrame(diabetes_df[diabetes_df[i] >= 0])[i]).std()\n",
        "            standard_deviation_after.append(sdvalnew)\n",
        "            \n",
        "    else:\n",
        "        log_type.append('NA')\n",
        "        log_transform_needed.append('No')\n",
        "        \n",
        "        skew_after.append(skewval)\n",
        "        kurt_after.append(kurtval)\n",
        "        standard_deviation_after.append(sdval)\n",
        "\n",
        "statdataframe['skew_before'] = skew_before\n",
        "statdataframe['kurtosis_before'] = kurt_before\n",
        "statdataframe['standard_deviation_before'] = standard_deviation_before\n",
        "statdataframe['log_transform_needed'] = log_transform_needed\n",
        "statdataframe['log_type'] = log_type\n",
        "statdataframe['skew_after'] = skew_after\n",
        "statdataframe['kurtosis_after'] = kurt_after\n",
        "statdataframe['standard_deviation_after'] = standard_deviation_after"
      ]
    },
    {
      "cell_type": "code",
      "execution_count": 67,
      "id": "c7c266d2",
      "metadata": {},
      "outputs": [],
      "source": [
        "# performing the log transformation for the columns determined to be needing it above.\n",
        "\n",
        "for i in range(len(statdataframe)):\n",
        "    if statdataframe['log_transform_needed'][i] == 'Yes':\n",
        "        colname = str(statdataframe['numeric_column'][i])\n",
        "        \n",
        "        if statdataframe['log_type'][i] == 'log':\n",
        "            diabetes_df = diabetes_df[diabetes_df[colname] > 0]\n",
        "            diabetes_df[colname + \"_log\"] = np.log(diabetes_df[colname])\n",
        "            \n",
        "        elif statdataframe['log_type'][i] == 'log1p':\n",
        "            diabetes_df = diabetes_df[diabetes_df[colname] >= 0]\n",
        "            diabetes_df[colname + \"_log1p\"] = np.log1p(diabetes_df[colname])"
      ]
    },
    {
      "cell_type": "code",
      "execution_count": 68,
      "id": "e64f276d",
      "metadata": {},
      "outputs": [
        {
          "data": {
            "text/plain": [
              "(70431, 78)"
            ]
          },
          "execution_count": 68,
          "metadata": {},
          "output_type": "execute_result"
        }
      ],
      "source": [
        "diabetes_df = diabetes_df.drop(['number_outpatient','number_emergency','number_inpatient','total_visits','medication_intensity'], axis = 1)\n",
        "diabetes_df.shape"
      ]
    },
    {
      "cell_type": "markdown",
      "id": "d9da3283",
      "metadata": {},
      "source": [
        "## Modeling"
      ]
    },
    {
      "cell_type": "code",
      "execution_count": 69,
      "id": "b465d9ae",
      "metadata": {},
      "outputs": [],
      "source": [
        "X = diabetes_df.drop('readmitted', axis=1)\n",
        "y = diabetes_df['readmitted']\n",
        "\n",
        "numerical_features = X.select_dtypes(include=np.number).columns.tolist()\n",
        "categorical_features = X.select_dtypes(exclude=np.number).columns.tolist()\n",
        "\n",
        "preprocessor = ColumnTransformer(\n",
        "    transformers=[\n",
        "        ('num', StandardScaler(), numerical_features),\n",
        "        ('cat', OneHotEncoder(handle_unknown='ignore'), categorical_features)\n",
        "    ])\n"
      ]
    },
    {
      "cell_type": "code",
      "execution_count": 70,
      "id": "1e2da5ef",
      "metadata": {},
      "outputs": [
        {
          "name": "stdout",
          "output_type": "stream",
          "text": [
            "Running Logistic Regression with SMOTE...\n",
            "Fitting 3 folds for each of 8 candidates, totalling 24 fits\n",
            "[CV] END .........classifier__C=0.01, classifier__penalty=l1; total time=   2.2s\n",
            "[CV] END .........classifier__C=0.01, classifier__penalty=l2; total time=   2.6s\n",
            "[CV] END .........classifier__C=0.01, classifier__penalty=l2; total time=   2.6s\n",
            "[CV] END .........classifier__C=0.01, classifier__penalty=l1; total time=   2.9s\n",
            "[CV] END .........classifier__C=0.01, classifier__penalty=l2; total time=   2.8s\n",
            "[CV] END .........classifier__C=0.01, classifier__penalty=l1; total time=   3.2s\n",
            "[CV] END ..........classifier__C=0.1, classifier__penalty=l2; total time=   4.0s\n",
            "[CV] END ..........classifier__C=0.1, classifier__penalty=l2; total time=   3.8s\n",
            "[CV] END ..........classifier__C=0.1, classifier__penalty=l1; total time=   6.0s\n",
            "[CV] END ..........classifier__C=0.1, classifier__penalty=l2; total time=   4.5s\n",
            "[CV] END ..........classifier__C=0.1, classifier__penalty=l1; total time=   8.8s\n",
            "[CV] END ............classifier__C=1, classifier__penalty=l2; total time=   7.2s\n",
            "[CV] END ..........classifier__C=0.1, classifier__penalty=l1; total time=  12.1s\n",
            "[CV] END ............classifier__C=1, classifier__penalty=l2; total time=   7.9s\n",
            "[CV] END ............classifier__C=1, classifier__penalty=l2; total time=   7.7s\n",
            "[CV] END ...........classifier__C=10, classifier__penalty=l2; total time=  10.3s\n",
            "[CV] END ...........classifier__C=10, classifier__penalty=l2; total time=  10.9s\n",
            "[CV] END ...........classifier__C=10, classifier__penalty=l2; total time=  11.5s\n",
            "[CV] END ...........classifier__C=10, classifier__penalty=l1; total time=  19.2s\n",
            "[CV] END ...........classifier__C=10, classifier__penalty=l1; total time=  30.2s\n",
            "[CV] END ............classifier__C=1, classifier__penalty=l1; total time=  35.2s\n",
            "[CV] END ...........classifier__C=10, classifier__penalty=l1; total time=  31.7s\n",
            "[CV] END ............classifier__C=1, classifier__penalty=l1; total time=  38.8s\n",
            "[CV] END ............classifier__C=1, classifier__penalty=l1; total time=  44.0s\n",
            "Best F1-score for Logistic Regression with SMOTE: 0.2132\n",
            "Best parameters: {'classifier__C': 0.01, 'classifier__penalty': 'l1'}\n",
            "--------------------------------------------------\n",
            "Running Logistic Regression with SMOTEENN...\n",
            "Fitting 3 folds for each of 8 candidates, totalling 24 fits\n",
            "[CV] END .........classifier__C=0.01, classifier__penalty=l2; total time=  44.4s\n",
            "[CV] END .........classifier__C=0.01, classifier__penalty=l1; total time=  44.7s\n",
            "[CV] END .........classifier__C=0.01, classifier__penalty=l2; total time=  44.9s\n",
            "[CV] END ..........classifier__C=0.1, classifier__penalty=l2; total time=  45.1s\n",
            "[CV] END .........classifier__C=0.01, classifier__penalty=l1; total time=  45.8s\n",
            "[CV] END .........classifier__C=0.01, classifier__penalty=l2; total time=  46.1s\n",
            "[CV] END .........classifier__C=0.01, classifier__penalty=l1; total time=  46.2s\n",
            "[CV] END ..........classifier__C=0.1, classifier__penalty=l1; total time=  47.5s\n",
            "[CV] END ..........classifier__C=0.1, classifier__penalty=l1; total time=  48.4s\n",
            "[CV] END ..........classifier__C=0.1, classifier__penalty=l1; total time=  48.9s\n",
            "[CV] END ..........classifier__C=0.1, classifier__penalty=l2; total time=  44.0s\n",
            "[CV] END ..........classifier__C=0.1, classifier__penalty=l2; total time=  44.8s\n",
            "[CV] END ............classifier__C=1, classifier__penalty=l2; total time=  46.7s\n",
            "[CV] END ............classifier__C=1, classifier__penalty=l2; total time=  45.7s\n",
            "[CV] END ............classifier__C=1, classifier__penalty=l2; total time=  47.3s\n",
            "[CV] END ...........classifier__C=10, classifier__penalty=l1; total time=  52.3s\n",
            "[CV] END ............classifier__C=1, classifier__penalty=l1; total time=  56.2s\n",
            "[CV] END ............classifier__C=1, classifier__penalty=l1; total time=  56.0s\n",
            "[CV] END ...........classifier__C=10, classifier__penalty=l1; total time=  53.0s\n",
            "[CV] END ............classifier__C=1, classifier__penalty=l1; total time=  56.8s\n",
            "[CV] END ...........classifier__C=10, classifier__penalty=l2; total time=  29.5s\n",
            "[CV] END ...........classifier__C=10, classifier__penalty=l2; total time=  27.6s\n",
            "[CV] END ...........classifier__C=10, classifier__penalty=l2; total time=  27.2s\n",
            "[CV] END ...........classifier__C=10, classifier__penalty=l1; total time=  32.5s\n",
            "Best F1-score for Logistic Regression with SMOTEENN: 0.1849\n",
            "Best parameters: {'classifier__C': 1, 'classifier__penalty': 'l1'}\n",
            "--------------------------------------------------\n",
            "Running Random Forest with SMOTE...\n",
            "Fitting 3 folds for each of 18 candidates, totalling 54 fits\n",
            "[CV] END classifier__max_depth=10, classifier__min_samples_leaf=1, classifier__n_estimators=100; total time=   9.7s\n",
            "[CV] END classifier__max_depth=10, classifier__min_samples_leaf=1, classifier__n_estimators=100; total time=  10.2s\n",
            "[CV] END classifier__max_depth=10, classifier__min_samples_leaf=1, classifier__n_estimators=100; total time=  10.3s\n",
            "[CV] END classifier__max_depth=10, classifier__min_samples_leaf=2, classifier__n_estimators=100; total time=  10.5s\n",
            "[CV] END classifier__max_depth=10, classifier__min_samples_leaf=2, classifier__n_estimators=100; total time=  10.8s\n",
            "[CV] END classifier__max_depth=10, classifier__min_samples_leaf=2, classifier__n_estimators=100; total time=  10.6s\n",
            "[CV] END classifier__max_depth=10, classifier__min_samples_leaf=1, classifier__n_estimators=200; total time=  19.9s\n",
            "[CV] END classifier__max_depth=10, classifier__min_samples_leaf=1, classifier__n_estimators=200; total time=  20.0s\n",
            "[CV] END classifier__max_depth=10, classifier__min_samples_leaf=1, classifier__n_estimators=200; total time=  20.1s\n",
            "[CV] END classifier__max_depth=10, classifier__min_samples_leaf=4, classifier__n_estimators=100; total time=   9.9s\n",
            "[CV] END classifier__max_depth=10, classifier__min_samples_leaf=2, classifier__n_estimators=200; total time=  19.8s\n",
            "[CV] END classifier__max_depth=10, classifier__min_samples_leaf=4, classifier__n_estimators=100; total time=  10.1s\n",
            "[CV] END classifier__max_depth=10, classifier__min_samples_leaf=4, classifier__n_estimators=100; total time=  10.1s\n",
            "[CV] END classifier__max_depth=10, classifier__min_samples_leaf=2, classifier__n_estimators=200; total time=  19.0s\n",
            "[CV] END classifier__max_depth=10, classifier__min_samples_leaf=2, classifier__n_estimators=200; total time=  19.3s\n",
            "[CV] END classifier__max_depth=10, classifier__min_samples_leaf=4, classifier__n_estimators=200; total time=  19.5s\n",
            "[CV] END classifier__max_depth=20, classifier__min_samples_leaf=1, classifier__n_estimators=100; total time=  14.0s\n",
            "[CV] END classifier__max_depth=20, classifier__min_samples_leaf=1, classifier__n_estimators=100; total time=  14.3s\n",
            "[CV] END classifier__max_depth=20, classifier__min_samples_leaf=1, classifier__n_estimators=100; total time=  14.3s\n",
            "[CV] END classifier__max_depth=10, classifier__min_samples_leaf=4, classifier__n_estimators=200; total time=  20.2s\n",
            "[CV] END classifier__max_depth=10, classifier__min_samples_leaf=4, classifier__n_estimators=200; total time=  20.4s\n",
            "[CV] END classifier__max_depth=20, classifier__min_samples_leaf=2, classifier__n_estimators=100; total time=  14.8s\n",
            "[CV] END classifier__max_depth=20, classifier__min_samples_leaf=2, classifier__n_estimators=100; total time=  14.5s\n",
            "[CV] END classifier__max_depth=20, classifier__min_samples_leaf=2, classifier__n_estimators=100; total time=  14.2s\n",
            "[CV] END classifier__max_depth=20, classifier__min_samples_leaf=1, classifier__n_estimators=200; total time=  27.5s\n",
            "[CV] END classifier__max_depth=20, classifier__min_samples_leaf=1, classifier__n_estimators=200; total time=  27.6s\n",
            "[CV] END classifier__max_depth=20, classifier__min_samples_leaf=4, classifier__n_estimators=100; total time=  13.0s\n",
            "[CV] END classifier__max_depth=20, classifier__min_samples_leaf=1, classifier__n_estimators=200; total time=  27.6s\n",
            "[CV] END classifier__max_depth=20, classifier__min_samples_leaf=4, classifier__n_estimators=100; total time=  12.8s\n",
            "[CV] END classifier__max_depth=20, classifier__min_samples_leaf=4, classifier__n_estimators=100; total time=  12.8s\n",
            "[CV] END classifier__max_depth=20, classifier__min_samples_leaf=2, classifier__n_estimators=200; total time=  26.1s\n",
            "[CV] END classifier__max_depth=20, classifier__min_samples_leaf=2, classifier__n_estimators=200; total time=  26.2s\n",
            "[CV] END classifier__max_depth=20, classifier__min_samples_leaf=2, classifier__n_estimators=200; total time=  25.4s\n",
            "[CV] END classifier__max_depth=None, classifier__min_samples_leaf=1, classifier__n_estimators=100; total time=  13.7s\n",
            "[CV] END classifier__max_depth=None, classifier__min_samples_leaf=1, classifier__n_estimators=100; total time=  13.8s\n",
            "[CV] END classifier__max_depth=None, classifier__min_samples_leaf=1, classifier__n_estimators=100; total time=  13.9s\n",
            "[CV] END classifier__max_depth=20, classifier__min_samples_leaf=4, classifier__n_estimators=200; total time=  24.3s\n",
            "[CV] END classifier__max_depth=20, classifier__min_samples_leaf=4, classifier__n_estimators=200; total time=  24.5s\n",
            "[CV] END classifier__max_depth=20, classifier__min_samples_leaf=4, classifier__n_estimators=200; total time=  24.5s\n",
            "[CV] END classifier__max_depth=None, classifier__min_samples_leaf=2, classifier__n_estimators=100; total time=  13.5s\n",
            "[CV] END classifier__max_depth=None, classifier__min_samples_leaf=2, classifier__n_estimators=100; total time=  13.5s\n",
            "[CV] END classifier__max_depth=None, classifier__min_samples_leaf=2, classifier__n_estimators=100; total time=  13.7s\n",
            "[CV] END classifier__max_depth=None, classifier__min_samples_leaf=1, classifier__n_estimators=200; total time=  27.2s\n",
            "[CV] END classifier__max_depth=None, classifier__min_samples_leaf=4, classifier__n_estimators=100; total time=  12.7s\n",
            "[CV] END classifier__max_depth=None, classifier__min_samples_leaf=1, classifier__n_estimators=200; total time=  26.6s\n",
            "[CV] END classifier__max_depth=None, classifier__min_samples_leaf=1, classifier__n_estimators=200; total time=  26.9s\n",
            "[CV] END classifier__max_depth=None, classifier__min_samples_leaf=4, classifier__n_estimators=100; total time=  12.2s\n",
            "[CV] END classifier__max_depth=None, classifier__min_samples_leaf=4, classifier__n_estimators=100; total time=  12.1s\n",
            "[CV] END classifier__max_depth=None, classifier__min_samples_leaf=2, classifier__n_estimators=200; total time=  24.1s\n",
            "[CV] END classifier__max_depth=None, classifier__min_samples_leaf=2, classifier__n_estimators=200; total time=  23.5s\n",
            "[CV] END classifier__max_depth=None, classifier__min_samples_leaf=2, classifier__n_estimators=200; total time=  23.4s\n",
            "[CV] END classifier__max_depth=None, classifier__min_samples_leaf=4, classifier__n_estimators=200; total time=  18.4s\n",
            "[CV] END classifier__max_depth=None, classifier__min_samples_leaf=4, classifier__n_estimators=200; total time=  17.7s\n",
            "[CV] END classifier__max_depth=None, classifier__min_samples_leaf=4, classifier__n_estimators=200; total time=  17.4s\n",
            "Best F1-score for Random Forest with SMOTE: 0.0776\n",
            "Best parameters: {'classifier__max_depth': 10, 'classifier__min_samples_leaf': 2, 'classifier__n_estimators': 100}\n",
            "--------------------------------------------------\n",
            "Running Random Forest with SMOTEENN...\n",
            "Fitting 3 folds for each of 18 candidates, totalling 54 fits\n",
            "[CV] END classifier__max_depth=10, classifier__min_samples_leaf=1, classifier__n_estimators=100; total time=  51.8s\n",
            "[CV] END classifier__max_depth=10, classifier__min_samples_leaf=2, classifier__n_estimators=100; total time=  52.5s\n",
            "[CV] END classifier__max_depth=10, classifier__min_samples_leaf=1, classifier__n_estimators=100; total time=  52.7s\n",
            "[CV] END classifier__max_depth=10, classifier__min_samples_leaf=1, classifier__n_estimators=100; total time=  53.0s\n",
            "[CV] END classifier__max_depth=10, classifier__min_samples_leaf=2, classifier__n_estimators=100; total time=  52.9s\n",
            "[CV] END classifier__max_depth=10, classifier__min_samples_leaf=2, classifier__n_estimators=100; total time=  53.4s\n",
            "[CV] END classifier__max_depth=10, classifier__min_samples_leaf=1, classifier__n_estimators=200; total time=  59.9s\n",
            "[CV] END classifier__max_depth=10, classifier__min_samples_leaf=1, classifier__n_estimators=200; total time= 1.0min\n",
            "[CV] END classifier__max_depth=10, classifier__min_samples_leaf=2, classifier__n_estimators=200; total time=  59.6s\n",
            "[CV] END classifier__max_depth=10, classifier__min_samples_leaf=1, classifier__n_estimators=200; total time= 1.0min\n",
            "[CV] END classifier__max_depth=10, classifier__min_samples_leaf=4, classifier__n_estimators=100; total time=  47.8s\n",
            "[CV] END classifier__max_depth=10, classifier__min_samples_leaf=4, classifier__n_estimators=100; total time=  49.0s\n",
            "[CV] END classifier__max_depth=10, classifier__min_samples_leaf=4, classifier__n_estimators=100; total time=  48.6s\n",
            "[CV] END classifier__max_depth=10, classifier__min_samples_leaf=2, classifier__n_estimators=200; total time=  55.0s\n",
            "[CV] END classifier__max_depth=10, classifier__min_samples_leaf=2, classifier__n_estimators=200; total time=  56.3s\n",
            "[CV] END classifier__max_depth=10, classifier__min_samples_leaf=4, classifier__n_estimators=200; total time=  55.3s\n",
            "[CV] END classifier__max_depth=20, classifier__min_samples_leaf=1, classifier__n_estimators=100; total time=  50.4s\n",
            "[CV] END classifier__max_depth=20, classifier__min_samples_leaf=1, classifier__n_estimators=100; total time=  50.6s\n",
            "[CV] END classifier__max_depth=10, classifier__min_samples_leaf=4, classifier__n_estimators=200; total time=  54.1s\n",
            "[CV] END classifier__max_depth=10, classifier__min_samples_leaf=4, classifier__n_estimators=200; total time=  54.4s\n",
            "[CV] END classifier__max_depth=20, classifier__min_samples_leaf=1, classifier__n_estimators=100; total time=  45.8s\n",
            "[CV] END classifier__max_depth=20, classifier__min_samples_leaf=2, classifier__n_estimators=100; total time=  49.4s\n",
            "[CV] END classifier__max_depth=20, classifier__min_samples_leaf=1, classifier__n_estimators=200; total time=  56.4s\n",
            "[CV] END classifier__max_depth=20, classifier__min_samples_leaf=1, classifier__n_estimators=200; total time=  56.7s\n",
            "[CV] END classifier__max_depth=20, classifier__min_samples_leaf=2, classifier__n_estimators=100; total time=  50.5s\n",
            "[CV] END classifier__max_depth=20, classifier__min_samples_leaf=2, classifier__n_estimators=100; total time=  49.9s\n",
            "[CV] END classifier__max_depth=20, classifier__min_samples_leaf=1, classifier__n_estimators=200; total time=  58.7s\n",
            "[CV] END classifier__max_depth=20, classifier__min_samples_leaf=2, classifier__n_estimators=200; total time=  58.1s\n",
            "[CV] END classifier__max_depth=20, classifier__min_samples_leaf=2, classifier__n_estimators=200; total time=  57.9s\n",
            "[CV] END classifier__max_depth=20, classifier__min_samples_leaf=2, classifier__n_estimators=200; total time=  58.3s\n",
            "[CV] END classifier__max_depth=20, classifier__min_samples_leaf=4, classifier__n_estimators=100; total time=  40.5s\n",
            "[CV] END classifier__max_depth=20, classifier__min_samples_leaf=4, classifier__n_estimators=100; total time=  49.4s\n",
            "[CV] END classifier__max_depth=20, classifier__min_samples_leaf=4, classifier__n_estimators=100; total time=  49.7s\n",
            "[CV] END classifier__max_depth=None, classifier__min_samples_leaf=1, classifier__n_estimators=100; total time=  50.1s\n",
            "[CV] END classifier__max_depth=20, classifier__min_samples_leaf=4, classifier__n_estimators=200; total time=  57.9s\n",
            "[CV] END classifier__max_depth=20, classifier__min_samples_leaf=4, classifier__n_estimators=200; total time=  58.9s\n",
            "[CV] END classifier__max_depth=20, classifier__min_samples_leaf=4, classifier__n_estimators=200; total time=  58.0s\n",
            "[CV] END classifier__max_depth=None, classifier__min_samples_leaf=1, classifier__n_estimators=100; total time=  49.5s\n",
            "[CV] END classifier__max_depth=None, classifier__min_samples_leaf=1, classifier__n_estimators=100; total time=  49.3s\n",
            "[CV] END classifier__max_depth=None, classifier__min_samples_leaf=1, classifier__n_estimators=200; total time=  59.0s\n",
            "[CV] END classifier__max_depth=None, classifier__min_samples_leaf=1, classifier__n_estimators=200; total time=  54.8s\n",
            "[CV] END classifier__max_depth=None, classifier__min_samples_leaf=2, classifier__n_estimators=100; total time=  46.4s\n",
            "[CV] END classifier__max_depth=None, classifier__min_samples_leaf=1, classifier__n_estimators=200; total time=  55.7s\n",
            "[CV] END classifier__max_depth=None, classifier__min_samples_leaf=2, classifier__n_estimators=100; total time=  49.8s\n",
            "[CV] END classifier__max_depth=None, classifier__min_samples_leaf=2, classifier__n_estimators=100; total time=  50.2s\n",
            "[CV] END classifier__max_depth=None, classifier__min_samples_leaf=4, classifier__n_estimators=100; total time=  48.1s\n",
            "[CV] END classifier__max_depth=None, classifier__min_samples_leaf=4, classifier__n_estimators=100; total time=  45.4s\n",
            "[CV] END classifier__max_depth=None, classifier__min_samples_leaf=2, classifier__n_estimators=200; total time=  58.9s\n",
            "[CV] END classifier__max_depth=None, classifier__min_samples_leaf=2, classifier__n_estimators=200; total time=  58.7s\n",
            "[CV] END classifier__max_depth=None, classifier__min_samples_leaf=2, classifier__n_estimators=200; total time=  58.4s\n",
            "[CV] END classifier__max_depth=None, classifier__min_samples_leaf=4, classifier__n_estimators=100; total time=  39.8s\n",
            "[CV] END classifier__max_depth=None, classifier__min_samples_leaf=4, classifier__n_estimators=200; total time=  37.9s\n",
            "[CV] END classifier__max_depth=None, classifier__min_samples_leaf=4, classifier__n_estimators=200; total time=  33.3s\n",
            "[CV] END classifier__max_depth=None, classifier__min_samples_leaf=4, classifier__n_estimators=200; total time=  32.3s\n",
            "Best F1-score for Random Forest with SMOTEENN: 0.2141\n",
            "Best parameters: {'classifier__max_depth': 20, 'classifier__min_samples_leaf': 4, 'classifier__n_estimators': 200}\n",
            "--------------------------------------------------\n",
            "Running XGBoost with SMOTE...\n",
            "Fitting 3 folds for each of 16 candidates, totalling 48 fits\n",
            "[CV] END classifier__learning_rate=0.05, classifier__max_depth=5, classifier__n_estimators=100, classifier__subsample=0.7; total time=   4.3s\n",
            "[CV] END classifier__learning_rate=0.05, classifier__max_depth=5, classifier__n_estimators=100, classifier__subsample=0.7; total time=   4.4s\n",
            "[CV] END classifier__learning_rate=0.05, classifier__max_depth=5, classifier__n_estimators=100, classifier__subsample=1.0; total time=   4.4s\n",
            "[CV] END classifier__learning_rate=0.05, classifier__max_depth=5, classifier__n_estimators=100, classifier__subsample=0.7; total time=   4.5s\n",
            "[CV] END classifier__learning_rate=0.05, classifier__max_depth=5, classifier__n_estimators=100, classifier__subsample=1.0; total time=   4.4s\n",
            "[CV] END classifier__learning_rate=0.05, classifier__max_depth=5, classifier__n_estimators=100, classifier__subsample=1.0; total time=   4.4s\n",
            "[CV] END classifier__learning_rate=0.05, classifier__max_depth=5, classifier__n_estimators=200, classifier__subsample=0.7; total time=   6.5s\n",
            "[CV] END classifier__learning_rate=0.05, classifier__max_depth=5, classifier__n_estimators=200, classifier__subsample=0.7; total time=   6.7s\n",
            "[CV] END classifier__learning_rate=0.05, classifier__max_depth=5, classifier__n_estimators=200, classifier__subsample=0.7; total time=   6.5s\n",
            "[CV] END classifier__learning_rate=0.05, classifier__max_depth=5, classifier__n_estimators=200, classifier__subsample=1.0; total time=   6.4s\n",
            "[CV] END classifier__learning_rate=0.05, classifier__max_depth=5, classifier__n_estimators=200, classifier__subsample=1.0; total time=   6.2s\n",
            "[CV] END classifier__learning_rate=0.05, classifier__max_depth=5, classifier__n_estimators=200, classifier__subsample=1.0; total time=   6.5s\n",
            "[CV] END classifier__learning_rate=0.05, classifier__max_depth=10, classifier__n_estimators=100, classifier__subsample=0.7; total time=   7.9s\n",
            "[CV] END classifier__learning_rate=0.05, classifier__max_depth=10, classifier__n_estimators=100, classifier__subsample=0.7; total time=   8.5s\n",
            "[CV] END classifier__learning_rate=0.05, classifier__max_depth=10, classifier__n_estimators=100, classifier__subsample=0.7; total time=   8.6s\n",
            "[CV] END classifier__learning_rate=0.05, classifier__max_depth=10, classifier__n_estimators=100, classifier__subsample=1.0; total time=   8.7s\n",
            "[CV] END classifier__learning_rate=0.05, classifier__max_depth=10, classifier__n_estimators=100, classifier__subsample=1.0; total time=   8.4s\n",
            "[CV] END classifier__learning_rate=0.05, classifier__max_depth=10, classifier__n_estimators=100, classifier__subsample=1.0; total time=   9.1s\n",
            "[CV] END classifier__learning_rate=0.1, classifier__max_depth=5, classifier__n_estimators=100, classifier__subsample=0.7; total time=   4.1s\n",
            "[CV] END classifier__learning_rate=0.1, classifier__max_depth=5, classifier__n_estimators=100, classifier__subsample=0.7; total time=   4.2s\n",
            "[CV] END classifier__learning_rate=0.1, classifier__max_depth=5, classifier__n_estimators=100, classifier__subsample=0.7; total time=   4.8s\n",
            "[CV] END classifier__learning_rate=0.1, classifier__max_depth=5, classifier__n_estimators=100, classifier__subsample=1.0; total time=   4.8s\n",
            "[CV] END classifier__learning_rate=0.1, classifier__max_depth=5, classifier__n_estimators=100, classifier__subsample=1.0; total time=   4.4s\n",
            "[CV] END classifier__learning_rate=0.1, classifier__max_depth=5, classifier__n_estimators=100, classifier__subsample=1.0; total time=   4.6s\n",
            "[CV] END classifier__learning_rate=0.05, classifier__max_depth=10, classifier__n_estimators=200, classifier__subsample=0.7; total time=  15.1s\n",
            "[CV] END classifier__learning_rate=0.05, classifier__max_depth=10, classifier__n_estimators=200, classifier__subsample=0.7; total time=  15.5s\n",
            "[CV] END classifier__learning_rate=0.05, classifier__max_depth=10, classifier__n_estimators=200, classifier__subsample=0.7; total time=  15.2s\n",
            "[CV] END classifier__learning_rate=0.05, classifier__max_depth=10, classifier__n_estimators=200, classifier__subsample=1.0; total time=  15.0s\n",
            "[CV] END classifier__learning_rate=0.1, classifier__max_depth=5, classifier__n_estimators=200, classifier__subsample=0.7; total time=   6.4s\n",
            "[CV] END classifier__learning_rate=0.1, classifier__max_depth=5, classifier__n_estimators=200, classifier__subsample=0.7; total time=   6.2s\n",
            "[CV] END classifier__learning_rate=0.05, classifier__max_depth=10, classifier__n_estimators=200, classifier__subsample=1.0; total time=  15.0s\n",
            "[CV] END classifier__learning_rate=0.05, classifier__max_depth=10, classifier__n_estimators=200, classifier__subsample=1.0; total time=  15.4s\n",
            "[CV] END classifier__learning_rate=0.1, classifier__max_depth=5, classifier__n_estimators=200, classifier__subsample=1.0; total time=   6.4s\n",
            "[CV] END classifier__learning_rate=0.1, classifier__max_depth=5, classifier__n_estimators=200, classifier__subsample=0.7; total time=   6.6s\n",
            "[CV] END classifier__learning_rate=0.1, classifier__max_depth=5, classifier__n_estimators=200, classifier__subsample=1.0; total time=   6.7s\n",
            "[CV] END classifier__learning_rate=0.1, classifier__max_depth=5, classifier__n_estimators=200, classifier__subsample=1.0; total time=   6.5s\n",
            "[CV] END classifier__learning_rate=0.1, classifier__max_depth=10, classifier__n_estimators=100, classifier__subsample=0.7; total time=   8.2s\n",
            "[CV] END classifier__learning_rate=0.1, classifier__max_depth=10, classifier__n_estimators=100, classifier__subsample=0.7; total time=   8.1s\n",
            "[CV] END classifier__learning_rate=0.1, classifier__max_depth=10, classifier__n_estimators=100, classifier__subsample=0.7; total time=   8.5s\n",
            "[CV] END classifier__learning_rate=0.1, classifier__max_depth=10, classifier__n_estimators=100, classifier__subsample=1.0; total time=   8.2s\n",
            "[CV] END classifier__learning_rate=0.1, classifier__max_depth=10, classifier__n_estimators=100, classifier__subsample=1.0; total time=   8.0s\n",
            "[CV] END classifier__learning_rate=0.1, classifier__max_depth=10, classifier__n_estimators=100, classifier__subsample=1.0; total time=   8.0s\n",
            "[CV] END classifier__learning_rate=0.1, classifier__max_depth=10, classifier__n_estimators=200, classifier__subsample=1.0; total time=  11.4s\n",
            "[CV] END classifier__learning_rate=0.1, classifier__max_depth=10, classifier__n_estimators=200, classifier__subsample=0.7; total time=  12.6s\n",
            "[CV] END classifier__learning_rate=0.1, classifier__max_depth=10, classifier__n_estimators=200, classifier__subsample=0.7; total time=  12.6s\n",
            "[CV] END classifier__learning_rate=0.1, classifier__max_depth=10, classifier__n_estimators=200, classifier__subsample=0.7; total time=  12.7s\n",
            "[CV] END classifier__learning_rate=0.1, classifier__max_depth=10, classifier__n_estimators=200, classifier__subsample=1.0; total time=   8.9s\n",
            "[CV] END classifier__learning_rate=0.1, classifier__max_depth=10, classifier__n_estimators=200, classifier__subsample=1.0; total time=   9.1s\n",
            "Best F1-score for XGBoost with SMOTE: 0.0151\n",
            "Best parameters: {'classifier__learning_rate': 0.1, 'classifier__max_depth': 10, 'classifier__n_estimators': 200, 'classifier__subsample': 0.7}\n",
            "--------------------------------------------------\n",
            "Running XGBoost with SMOTEENN...\n",
            "Fitting 3 folds for each of 16 candidates, totalling 48 fits\n",
            "[CV] END classifier__learning_rate=0.05, classifier__max_depth=5, classifier__n_estimators=100, classifier__subsample=1.0; total time=  44.9s\n",
            "[CV] END classifier__learning_rate=0.05, classifier__max_depth=5, classifier__n_estimators=100, classifier__subsample=0.7; total time=  45.3s\n",
            "[CV] END classifier__learning_rate=0.05, classifier__max_depth=5, classifier__n_estimators=100, classifier__subsample=0.7; total time=  45.5s\n",
            "[CV] END classifier__learning_rate=0.05, classifier__max_depth=5, classifier__n_estimators=100, classifier__subsample=1.0; total time=  45.6s\n",
            "[CV] END classifier__learning_rate=0.05, classifier__max_depth=5, classifier__n_estimators=100, classifier__subsample=0.7; total time=  45.7s\n",
            "[CV] END classifier__learning_rate=0.05, classifier__max_depth=5, classifier__n_estimators=100, classifier__subsample=1.0; total time=  46.1s\n",
            "[CV] END classifier__learning_rate=0.05, classifier__max_depth=5, classifier__n_estimators=200, classifier__subsample=1.0; total time=  47.2s\n",
            "[CV] END classifier__learning_rate=0.05, classifier__max_depth=5, classifier__n_estimators=200, classifier__subsample=0.7; total time=  47.4s\n",
            "[CV] END classifier__learning_rate=0.05, classifier__max_depth=5, classifier__n_estimators=200, classifier__subsample=0.7; total time=  47.9s\n",
            "[CV] END classifier__learning_rate=0.05, classifier__max_depth=5, classifier__n_estimators=200, classifier__subsample=0.7; total time=  46.4s\n",
            "[CV] END classifier__learning_rate=0.05, classifier__max_depth=5, classifier__n_estimators=200, classifier__subsample=1.0; total time=  46.3s\n",
            "[CV] END classifier__learning_rate=0.05, classifier__max_depth=5, classifier__n_estimators=200, classifier__subsample=1.0; total time=  46.8s\n",
            "[CV] END classifier__learning_rate=0.05, classifier__max_depth=10, classifier__n_estimators=100, classifier__subsample=0.7; total time=  48.3s\n",
            "[CV] END classifier__learning_rate=0.05, classifier__max_depth=10, classifier__n_estimators=100, classifier__subsample=1.0; total time=  49.0s\n",
            "[CV] END classifier__learning_rate=0.05, classifier__max_depth=10, classifier__n_estimators=100, classifier__subsample=0.7; total time=  49.6s\n",
            "[CV] END classifier__learning_rate=0.05, classifier__max_depth=10, classifier__n_estimators=100, classifier__subsample=0.7; total time=  49.7s\n",
            "[CV] END classifier__learning_rate=0.05, classifier__max_depth=10, classifier__n_estimators=100, classifier__subsample=1.0; total time=  49.8s\n",
            "[CV] END classifier__learning_rate=0.05, classifier__max_depth=10, classifier__n_estimators=100, classifier__subsample=1.0; total time=  49.7s\n",
            "[CV] END classifier__learning_rate=0.05, classifier__max_depth=10, classifier__n_estimators=200, classifier__subsample=0.7; total time=  53.6s\n",
            "[CV] END classifier__learning_rate=0.05, classifier__max_depth=10, classifier__n_estimators=200, classifier__subsample=0.7; total time=  53.6s\n",
            "[CV] END classifier__learning_rate=0.1, classifier__max_depth=5, classifier__n_estimators=100, classifier__subsample=0.7; total time=  44.1s\n",
            "[CV] END classifier__learning_rate=0.1, classifier__max_depth=5, classifier__n_estimators=100, classifier__subsample=0.7; total time=  44.8s\n",
            "[CV] END classifier__learning_rate=0.1, classifier__max_depth=5, classifier__n_estimators=100, classifier__subsample=0.7; total time=  43.9s\n",
            "[CV] END classifier__learning_rate=0.1, classifier__max_depth=5, classifier__n_estimators=100, classifier__subsample=1.0; total time=  43.8s\n",
            "[CV] END classifier__learning_rate=0.05, classifier__max_depth=10, classifier__n_estimators=200, classifier__subsample=0.7; total time=  52.4s\n",
            "[CV] END classifier__learning_rate=0.05, classifier__max_depth=10, classifier__n_estimators=200, classifier__subsample=1.0; total time=  51.8s\n",
            "[CV] END classifier__learning_rate=0.1, classifier__max_depth=5, classifier__n_estimators=100, classifier__subsample=1.0; total time=  42.0s\n",
            "[CV] END classifier__learning_rate=0.1, classifier__max_depth=5, classifier__n_estimators=100, classifier__subsample=1.0; total time=  43.4s\n",
            "[CV] END classifier__learning_rate=0.05, classifier__max_depth=10, classifier__n_estimators=200, classifier__subsample=1.0; total time=  52.8s\n",
            "[CV] END classifier__learning_rate=0.05, classifier__max_depth=10, classifier__n_estimators=200, classifier__subsample=1.0; total time=  53.3s\n",
            "[CV] END classifier__learning_rate=0.1, classifier__max_depth=5, classifier__n_estimators=200, classifier__subsample=0.7; total time=  45.4s\n",
            "[CV] END classifier__learning_rate=0.1, classifier__max_depth=5, classifier__n_estimators=200, classifier__subsample=1.0; total time=  45.3s\n",
            "[CV] END classifier__learning_rate=0.1, classifier__max_depth=5, classifier__n_estimators=200, classifier__subsample=0.7; total time=  46.3s\n",
            "[CV] END classifier__learning_rate=0.1, classifier__max_depth=5, classifier__n_estimators=200, classifier__subsample=0.7; total time=  45.9s\n",
            "[CV] END classifier__learning_rate=0.1, classifier__max_depth=5, classifier__n_estimators=200, classifier__subsample=1.0; total time=  46.3s\n",
            "[CV] END classifier__learning_rate=0.1, classifier__max_depth=5, classifier__n_estimators=200, classifier__subsample=1.0; total time=  46.6s\n",
            "[CV] END classifier__learning_rate=0.1, classifier__max_depth=10, classifier__n_estimators=100, classifier__subsample=0.7; total time=  47.5s\n",
            "[CV] END classifier__learning_rate=0.1, classifier__max_depth=10, classifier__n_estimators=100, classifier__subsample=0.7; total time=  48.2s\n",
            "[CV] END classifier__learning_rate=0.1, classifier__max_depth=10, classifier__n_estimators=100, classifier__subsample=0.7; total time=  46.7s\n",
            "[CV] END classifier__learning_rate=0.1, classifier__max_depth=10, classifier__n_estimators=100, classifier__subsample=1.0; total time=  46.6s\n",
            "[CV] END classifier__learning_rate=0.1, classifier__max_depth=10, classifier__n_estimators=100, classifier__subsample=1.0; total time=  40.2s\n",
            "[CV] END classifier__learning_rate=0.1, classifier__max_depth=10, classifier__n_estimators=100, classifier__subsample=1.0; total time=  40.9s\n",
            "[CV] END classifier__learning_rate=0.1, classifier__max_depth=10, classifier__n_estimators=200, classifier__subsample=0.7; total time=  44.3s\n",
            "[CV] END classifier__learning_rate=0.1, classifier__max_depth=10, classifier__n_estimators=200, classifier__subsample=0.7; total time=  44.8s\n",
            "[CV] END classifier__learning_rate=0.1, classifier__max_depth=10, classifier__n_estimators=200, classifier__subsample=1.0; total time=  42.4s\n",
            "[CV] END classifier__learning_rate=0.1, classifier__max_depth=10, classifier__n_estimators=200, classifier__subsample=0.7; total time=  43.3s\n",
            "[CV] END classifier__learning_rate=0.1, classifier__max_depth=10, classifier__n_estimators=200, classifier__subsample=1.0; total time=  42.0s\n",
            "[CV] END classifier__learning_rate=0.1, classifier__max_depth=10, classifier__n_estimators=200, classifier__subsample=1.0; total time=  40.9s\n",
            "Best F1-score for XGBoost with SMOTEENN: 0.2164\n",
            "Best parameters: {'classifier__learning_rate': 0.05, 'classifier__max_depth': 5, 'classifier__n_estimators': 100, 'classifier__subsample': 0.7}\n",
            "--------------------------------------------------\n",
            "Running LightGBM with SMOTE...\n",
            "Fitting 3 folds for each of 16 candidates, totalling 48 fits\n",
            "[LightGBM] [Info] Number of positive: 34207, number of negative: 34207\n",
            "[LightGBM] [Info] Number of positive: 34207, number of negative: 34207\n",
            "[LightGBM] [Info] Number of positive: 34207, number of negative: 34207\n",
            "[LightGBM] [Info] Auto-choosing col-wise multi-threading, the overhead of testing was 0.030308 seconds.\n",
            "You can set `force_col_wise=true` to remove the overhead.\n",
            "[LightGBM] [Info] Total Bins 24515\n",
            "[LightGBM] [Info] Number of data points in the train set: 68414, number of used features: 165\n",
            "[LightGBM] [Info] [binary:BoostFromScore]: pavg=0.500000 -> initscore=0.000000\n",
            "[LightGBM] [Info] Auto-choosing row-wise multi-threading, the overhead of testing was 0.077351 seconds.\n",
            "You can set `force_row_wise=true` to remove the overhead.\n",
            "And if memory is not enough, you can set `force_col_wise=true`.\n",
            "[LightGBM] [Info] Total Bins 24789\n",
            "[LightGBM] [Info] Number of data points in the train set: 68414, number of used features: 166\n",
            "[LightGBM] [Info] [binary:BoostFromScore]: pavg=0.500000 -> initscore=0.000000\n",
            "[LightGBM] [Info] Number of positive: 34206, number of negative: 34206\n",
            "[LightGBM] [Info] Number of positive: 34206, number of negative: 34206\n",
            "[LightGBM] [Info] Auto-choosing row-wise multi-threading, the overhead of testing was 0.083843 seconds.\n",
            "You can set `force_row_wise=true` to remove the overhead.\n",
            "And if memory is not enough, you can set `force_col_wise=true`.\n",
            "[LightGBM] [Info] Total Bins 24515\n",
            "[LightGBM] [Info] Number of data points in the train set: 68414, number of used features: 165\n",
            "[LightGBM] [Info] [binary:BoostFromScore]: pavg=0.500000 -> initscore=0.000000\n",
            "[LightGBM] [Info] Auto-choosing row-wise multi-threading, the overhead of testing was 0.023930 seconds.\n",
            "You can set `force_row_wise=true` to remove the overhead.\n",
            "And if memory is not enough, you can set `force_col_wise=true`.\n",
            "[LightGBM] [Info] Total Bins 24980\n",
            "[LightGBM] [Info] Number of data points in the train set: 68412, number of used features: 170\n",
            "[LightGBM] [Info] [binary:BoostFromScore]: pavg=0.500000 -> initscore=0.000000\n",
            "[LightGBM] [Info] Number of positive: 34207, number of negative: 34207\n",
            "[LightGBM] [Info] Number of positive: 34206, number of negative: 34206\n",
            "[LightGBM] [Info] Auto-choosing row-wise multi-threading, the overhead of testing was 0.166550 seconds.\n",
            "You can set `force_row_wise=true` to remove the overhead.\n",
            "And if memory is not enough, you can set `force_col_wise=true`.\n",
            "[LightGBM] [Info] Number of positive: 34207, number of negative: 34207\n",
            "[LightGBM] [Info] Total Bins 24980\n",
            "[LightGBM] [Info] Number of data points in the train set: 68412, number of used features: 170\n",
            "[LightGBM] [Info] [binary:BoostFromScore]: pavg=0.500000 -> initscore=0.000000\n",
            "[LightGBM] [Info] Auto-choosing row-wise multi-threading, the overhead of testing was 0.068646 seconds.\n",
            "You can set `force_row_wise=true` to remove the overhead.\n",
            "And if memory is not enough, you can set `force_col_wise=true`.\n",
            "[LightGBM] [Info] Total Bins 24515\n",
            "[LightGBM] [Info] Number of data points in the train set: 68414, number of used features: 165\n",
            "[LightGBM] [Info] [binary:BoostFromScore]: pavg=0.500000 -> initscore=0.000000\n",
            "[LightGBM] [Info] Auto-choosing row-wise multi-threading, the overhead of testing was 0.098587 seconds.\n",
            "You can set `force_row_wise=true` to remove the overhead.\n",
            "And if memory is not enough, you can set `force_col_wise=true`.\n",
            "[LightGBM] [Info] Total Bins 24789\n",
            "[LightGBM] [Info] Number of data points in the train set: 68414, number of used features: 166\n",
            "[LightGBM] [Info] Auto-choosing row-wise multi-threading, the overhead of testing was 0.090669 seconds.\n",
            "You can set `force_row_wise=true` to remove the overhead.\n",
            "And if memory is not enough, you can set `force_col_wise=true`.\n",
            "[LightGBM] [Info] Total Bins 24980\n",
            "[LightGBM] [Info] Number of data points in the train set: 68412, number of used features: 170\n",
            "[LightGBM] [Info] [binary:BoostFromScore]: pavg=0.500000 -> initscore=0.000000\n",
            "[LightGBM] [Info] [binary:BoostFromScore]: pavg=0.500000 -> initscore=0.000000\n",
            "[LightGBM] [Info] Number of positive: 34207, number of negative: 34207\n",
            "[LightGBM] [Info] Auto-choosing row-wise multi-threading, the overhead of testing was 0.071994 seconds.\n",
            "You can set `force_row_wise=true` to remove the overhead.\n",
            "And if memory is not enough, you can set `force_col_wise=true`.\n",
            "[LightGBM] [Info] Total Bins 24789\n",
            "[LightGBM] [Info] Number of data points in the train set: 68414, number of used features: 166\n",
            "[LightGBM] [Info] [binary:BoostFromScore]: pavg=0.500000 -> initscore=0.000000\n",
            "[CV] END classifier__learning_rate=0.05, classifier__max_depth=10, classifier__n_estimators=100, classifier__num_leaves=31; total time=   5.4s\n",
            "[CV] END classifier__learning_rate=0.05, classifier__max_depth=10, classifier__n_estimators=100, classifier__num_leaves=31; total time=   5.4s\n",
            "[CV] END classifier__learning_rate=0.05, classifier__max_depth=10, classifier__n_estimators=100, classifier__num_leaves=31; total time=   5.6s\n",
            "[LightGBM] [Info] Number of positive: 34206, number of negative: 34206\n",
            "[LightGBM] [Info] Auto-choosing row-wise multi-threading, the overhead of testing was 0.111833 seconds.\n",
            "You can set `force_row_wise=true` to remove the overhead.\n",
            "And if memory is not enough, you can set `force_col_wise=true`.\n",
            "[LightGBM] [Info] Total Bins 24980\n",
            "[LightGBM] [Info] Number of data points in the train set: 68412, number of used features: 170\n",
            "[LightGBM] [Info] [binary:BoostFromScore]: pavg=0.500000 -> initscore=0.000000\n",
            "[LightGBM] [Info] Number of positive: 34207, number of negative: 34207\n",
            "[LightGBM] [Info] Number of positive: 34207, number of negative: 34207\n",
            "[LightGBM] [Info] Number of positive: 34206, number of negative: 34206\n",
            "[LightGBM] [Info] Auto-choosing row-wise multi-threading, the overhead of testing was 0.242985 seconds.\n",
            "You can set `force_row_wise=true` to remove the overhead.\n",
            "And if memory is not enough, you can set `force_col_wise=true`.\n",
            "[LightGBM] [Info] Total Bins 24515\n",
            "[LightGBM] [Info] Number of data points in the train set: 68414, number of used features: 165\n",
            "[LightGBM] [Info] [binary:BoostFromScore]: pavg=0.500000 -> initscore=0.000000\n",
            "[LightGBM] [Info] Auto-choosing col-wise multi-threading, the overhead of testing was 0.078071 seconds.\n",
            "You can set `force_col_wise=true` to remove the overhead.\n",
            "[LightGBM] [Info] Total Bins 24789\n",
            "[LightGBM] [Info] Number of data points in the train set: 68414, number of used features: 166\n",
            "[LightGBM] [Info] [binary:BoostFromScore]: pavg=0.500000 -> initscore=0.000000\n",
            "[LightGBM] [Info] Auto-choosing row-wise multi-threading, the overhead of testing was 0.106760 seconds.\n",
            "You can set `force_row_wise=true` to remove the overhead.\n",
            "And if memory is not enough, you can set `force_col_wise=true`.\n",
            "[LightGBM] [Info] Total Bins 24980\n",
            "[LightGBM] [Info] Number of data points in the train set: 68412, number of used features: 170\n",
            "[LightGBM] [Info] [binary:BoostFromScore]: pavg=0.500000 -> initscore=0.000000\n",
            "[CV] END classifier__learning_rate=0.05, classifier__max_depth=10, classifier__n_estimators=100, classifier__num_leaves=50; total time=   7.2s\n",
            "[CV] END classifier__learning_rate=0.05, classifier__max_depth=10, classifier__n_estimators=100, classifier__num_leaves=50; total time=   7.2s\n",
            "[CV] END classifier__learning_rate=0.05, classifier__max_depth=10, classifier__n_estimators=100, classifier__num_leaves=50; total time=   8.0s\n",
            "[LightGBM] [Info] Number of positive: 34207, number of negative: 34207\n",
            "[CV] END classifier__learning_rate=0.05, classifier__max_depth=10, classifier__n_estimators=200, classifier__num_leaves=31; total time=   8.3s\n",
            "[LightGBM] [Info] Number of positive: 34207, number of negative: 34207\n",
            "[LightGBM] [Info] Auto-choosing row-wise multi-threading, the overhead of testing was 0.215617 seconds.\n",
            "You can set `force_row_wise=true` to remove the overhead.\n",
            "And if memory is not enough, you can set `force_col_wise=true`.\n",
            "[LightGBM] [Info] Total Bins 24515\n",
            "[LightGBM] [Info] Number of data points in the train set: 68414, number of used features: 165\n",
            "[LightGBM] [Info] [binary:BoostFromScore]: pavg=0.500000 -> initscore=0.000000\n",
            "[CV] END classifier__learning_rate=0.05, classifier__max_depth=10, classifier__n_estimators=200, classifier__num_leaves=31; total time=   8.8s\n",
            "[LightGBM] [Info] Auto-choosing row-wise multi-threading, the overhead of testing was 0.146627 seconds.\n",
            "You can set `force_row_wise=true` to remove the overhead.\n",
            "And if memory is not enough, you can set `force_col_wise=true`.\n",
            "[LightGBM] [Info] Total Bins 24789\n",
            "[LightGBM] [Info] Number of data points in the train set: 68414, number of used features: 166\n",
            "[LightGBM] [Info] [binary:BoostFromScore]: pavg=0.500000 -> initscore=0.000000\n",
            "[CV] END classifier__learning_rate=0.05, classifier__max_depth=10, classifier__n_estimators=200, classifier__num_leaves=31; total time=   8.6s\n",
            "[LightGBM] [Info] Number of positive: 34206, number of negative: 34206\n",
            "[LightGBM] [Info] Auto-choosing row-wise multi-threading, the overhead of testing was 0.139658 seconds.\n",
            "You can set `force_row_wise=true` to remove the overhead.\n",
            "And if memory is not enough, you can set `force_col_wise=true`.\n",
            "[LightGBM] [Info] Total Bins 24980\n",
            "[LightGBM] [Info] Number of data points in the train set: 68412, number of used features: 170\n",
            "[LightGBM] [Info] [binary:BoostFromScore]: pavg=0.500000 -> initscore=0.000000\n",
            "[LightGBM] [Info] Number of positive: 34207, number of negative: 34207\n",
            "[LightGBM] [Info] Auto-choosing row-wise multi-threading, the overhead of testing was 0.137192 seconds.\n",
            "You can set `force_row_wise=true` to remove the overhead.\n",
            "And if memory is not enough, you can set `force_col_wise=true`.\n",
            "[LightGBM] [Info] Total Bins 24515\n",
            "[LightGBM] [Info] Number of data points in the train set: 68414, number of used features: 165\n",
            "[LightGBM] [Info] [binary:BoostFromScore]: pavg=0.500000 -> initscore=0.000000\n",
            "[LightGBM] [Info] Number of positive: 34207, number of negative: 34207\n",
            "[LightGBM] [Info] Auto-choosing row-wise multi-threading, the overhead of testing was 0.133852 seconds.\n",
            "You can set `force_row_wise=true` to remove the overhead.\n",
            "And if memory is not enough, you can set `force_col_wise=true`.\n",
            "[LightGBM] [Info] Total Bins 24789\n",
            "[LightGBM] [Info] Number of data points in the train set: 68414, number of used features: 166\n",
            "[LightGBM] [Info] [binary:BoostFromScore]: pavg=0.500000 -> initscore=0.000000\n",
            "[LightGBM] [Info] Number of positive: 34206, number of negative: 34206\n",
            "[LightGBM] [Info] Auto-choosing row-wise multi-threading, the overhead of testing was 0.101642 seconds.\n",
            "You can set `force_row_wise=true` to remove the overhead.\n",
            "And if memory is not enough, you can set `force_col_wise=true`.\n",
            "[LightGBM] [Info] Total Bins 24980\n",
            "[LightGBM] [Info] Number of data points in the train set: 68412, number of used features: 170\n",
            "[LightGBM] [Info] [binary:BoostFromScore]: pavg=0.500000 -> initscore=0.000000\n",
            "[CV] END classifier__learning_rate=0.05, classifier__max_depth=20, classifier__n_estimators=100, classifier__num_leaves=31; total time=   5.8s\n",
            "[CV] END classifier__learning_rate=0.05, classifier__max_depth=20, classifier__n_estimators=100, classifier__num_leaves=31; total time=   5.7s\n",
            "[CV] END classifier__learning_rate=0.05, classifier__max_depth=20, classifier__n_estimators=100, classifier__num_leaves=31; total time=   6.0s\n",
            "[LightGBM] [Info] Number of positive: 34207, number of negative: 34207\n",
            "[LightGBM] [Info] Auto-choosing row-wise multi-threading, the overhead of testing was 0.068623 seconds.\n",
            "You can set `force_row_wise=true` to remove the overhead.\n",
            "And if memory is not enough, you can set `force_col_wise=true`.\n",
            "[LightGBM] [Info] Total Bins 24515\n",
            "[LightGBM] [Info] Number of data points in the train set: 68414, number of used features: 165\n",
            "[LightGBM] [Info] [binary:BoostFromScore]: pavg=0.500000 -> initscore=0.000000\n",
            "[LightGBM] [Info] Number of positive: 34207, number of negative: 34207\n",
            "[LightGBM] [Info] Auto-choosing row-wise multi-threading, the overhead of testing was 0.244706 seconds.\n",
            "You can set `force_row_wise=true` to remove the overhead.\n",
            "And if memory is not enough, you can set `force_col_wise=true`.\n",
            "[LightGBM] [Info] Total Bins 24789\n",
            "[LightGBM] [Info] Number of data points in the train set: 68414, number of used features: 166\n",
            "[LightGBM] [Info] [binary:BoostFromScore]: pavg=0.500000 -> initscore=0.000000\n",
            "[LightGBM] [Info] Number of positive: 34206, number of negative: 34206\n",
            "[LightGBM] [Info] Auto-choosing row-wise multi-threading, the overhead of testing was 0.043874 seconds.\n",
            "You can set `force_row_wise=true` to remove the overhead.\n",
            "And if memory is not enough, you can set `force_col_wise=true`.\n",
            "[LightGBM] [Info] Total Bins 24980\n",
            "[LightGBM] [Info] Number of data points in the train set: 68412, number of used features: 170\n",
            "[LightGBM] [Info] [binary:BoostFromScore]: pavg=0.500000 -> initscore=0.000000\n",
            "[CV] END classifier__learning_rate=0.05, classifier__max_depth=20, classifier__n_estimators=100, classifier__num_leaves=50; total time=   7.8s\n",
            "[CV] END classifier__learning_rate=0.05, classifier__max_depth=10, classifier__n_estimators=200, classifier__num_leaves=50; total time=  12.1s\n",
            "[CV] END classifier__learning_rate=0.05, classifier__max_depth=20, classifier__n_estimators=100, classifier__num_leaves=50; total time=   7.4s\n",
            "[CV] END classifier__learning_rate=0.05, classifier__max_depth=20, classifier__n_estimators=100, classifier__num_leaves=50; total time=   7.9s\n",
            "[CV] END classifier__learning_rate=0.05, classifier__max_depth=10, classifier__n_estimators=200, classifier__num_leaves=50; total time=  11.7s\n",
            "[LightGBM] [Info] Number of positive: 34207, number of negative: 34207\n",
            "[LightGBM] [Info] Auto-choosing row-wise multi-threading, the overhead of testing was 0.025250 seconds.\n",
            "You can set `force_row_wise=true` to remove the overhead.\n",
            "And if memory is not enough, you can set `force_col_wise=true`.\n",
            "[LightGBM] [Info] Total Bins 24515\n",
            "[LightGBM] [Info] Number of data points in the train set: 68414, number of used features: 165\n",
            "[LightGBM] [Info] [binary:BoostFromScore]: pavg=0.500000 -> initscore=0.000000\n",
            "[LightGBM] [Info] Number of positive: 34207, number of negative: 34207\n",
            "[LightGBM] [Info] Number of positive: 34206, number of negative: 34206\n",
            "[LightGBM] [Info] Auto-choosing col-wise multi-threading, the overhead of testing was 0.120980 seconds.\n",
            "You can set `force_col_wise=true` to remove the overhead.\n",
            "[LightGBM] [Info] Total Bins 24789\n",
            "[LightGBM] [Info] Number of data points in the train set: 68414, number of used features: 166\n",
            "[LightGBM] [Info] [binary:BoostFromScore]: pavg=0.500000 -> initscore=0.000000\n",
            "[LightGBM] [Info] Auto-choosing row-wise multi-threading, the overhead of testing was 0.178652 seconds.\n",
            "You can set `force_row_wise=true` to remove the overhead.\n",
            "And if memory is not enough, you can set `force_col_wise=true`.\n",
            "[LightGBM] [Info] Total Bins 24980\n",
            "[LightGBM] [Info] Number of data points in the train set: 68412, number of used features: 170\n",
            "[LightGBM] [Info] [binary:BoostFromScore]: pavg=0.500000 -> initscore=0.000000\n",
            "[LightGBM] [Info] Number of positive: 34207, number of negative: 34207\n",
            "[CV] END classifier__learning_rate=0.05, classifier__max_depth=20, classifier__n_estimators=200, classifier__num_leaves=31; total time=   9.1s\n",
            "[LightGBM] [Info] Auto-choosing row-wise multi-threading, the overhead of testing was 0.192519 seconds.\n",
            "You can set `force_row_wise=true` to remove the overhead.\n",
            "And if memory is not enough, you can set `force_col_wise=true`.\n",
            "[LightGBM] [Info] Total Bins 24515\n",
            "[LightGBM] [Info] Number of data points in the train set: 68414, number of used features: 165\n",
            "[LightGBM] [Info] [binary:BoostFromScore]: pavg=0.500000 -> initscore=0.000000\n",
            "[LightGBM] [Info] Number of positive: 34207, number of negative: 34207\n",
            "[LightGBM] [Info] Auto-choosing col-wise multi-threading, the overhead of testing was 0.024776 seconds.\n",
            "You can set `force_col_wise=true` to remove the overhead.\n",
            "[LightGBM] [Info] Total Bins 24789\n",
            "[LightGBM] [Info] Number of data points in the train set: 68414, number of used features: 166\n",
            "[LightGBM] [Info] [binary:BoostFromScore]: pavg=0.500000 -> initscore=0.000000\n",
            "[CV] END classifier__learning_rate=0.05, classifier__max_depth=10, classifier__n_estimators=200, classifier__num_leaves=50; total time=  14.3s\n",
            "[LightGBM] [Info] Number of positive: 34206, number of negative: 34206\n",
            "[LightGBM] [Info] Auto-choosing row-wise multi-threading, the overhead of testing was 0.145213 seconds.\n",
            "You can set `force_row_wise=true` to remove the overhead.\n",
            "And if memory is not enough, you can set `force_col_wise=true`.\n",
            "[LightGBM] [Info] Total Bins 24980\n",
            "[LightGBM] [Info] Number of data points in the train set: 68412, number of used features: 170\n",
            "[LightGBM] [Info] [binary:BoostFromScore]: pavg=0.500000 -> initscore=0.000000\n",
            "[CV] END classifier__learning_rate=0.05, classifier__max_depth=20, classifier__n_estimators=200, classifier__num_leaves=31; total time=   9.6s\n",
            "[CV] END classifier__learning_rate=0.1, classifier__max_depth=10, classifier__n_estimators=100, classifier__num_leaves=31; total time=   5.1s\n",
            "[LightGBM] [Info] Number of positive: 34207, number of negative: 34207\n",
            "[LightGBM] [Info] Auto-choosing row-wise multi-threading, the overhead of testing was 0.157348 seconds.\n",
            "You can set `force_row_wise=true` to remove the overhead.\n",
            "And if memory is not enough, you can set `force_col_wise=true`.\n",
            "[LightGBM] [Info] Total Bins 24515\n",
            "[LightGBM] [Info] Number of data points in the train set: 68414, number of used features: 165\n",
            "[LightGBM] [Info] [binary:BoostFromScore]: pavg=0.500000 -> initscore=0.000000\n",
            "[CV] END classifier__learning_rate=0.1, classifier__max_depth=10, classifier__n_estimators=100, classifier__num_leaves=31; total time=   5.2s\n",
            "[CV] END classifier__learning_rate=0.05, classifier__max_depth=20, classifier__n_estimators=200, classifier__num_leaves=31; total time=   9.3s\n",
            "[LightGBM] [Info] Number of positive: 34207, number of negative: 34207\n",
            "[LightGBM] [Info] Auto-choosing row-wise multi-threading, the overhead of testing was 0.121023 seconds.\n",
            "You can set `force_row_wise=true` to remove the overhead.\n",
            "And if memory is not enough, you can set `force_col_wise=true`.\n",
            "[LightGBM] [Info] Total Bins 24789\n",
            "[LightGBM] [Info] Number of data points in the train set: 68414, number of used features: 166\n",
            "[LightGBM] [Info] [binary:BoostFromScore]: pavg=0.500000 -> initscore=0.000000\n",
            "[LightGBM] [Info] Number of positive: 34206, number of negative: 34206\n",
            "[LightGBM] [Info] Auto-choosing col-wise multi-threading, the overhead of testing was 0.071030 seconds.\n",
            "You can set `force_col_wise=true` to remove the overhead.\n",
            "[LightGBM] [Info] Total Bins 24980\n",
            "[LightGBM] [Info] Number of data points in the train set: 68412, number of used features: 170\n",
            "[LightGBM] [Info] [binary:BoostFromScore]: pavg=0.500000 -> initscore=0.000000\n",
            "[CV] END classifier__learning_rate=0.1, classifier__max_depth=10, classifier__n_estimators=100, classifier__num_leaves=31; total time=   6.1s\n",
            "[LightGBM] [Info] Number of positive: 34207, number of negative: 34207\n",
            "[LightGBM] [Info] Number of positive: 34207, number of negative: 34207\n",
            "[LightGBM] [Info] Auto-choosing row-wise multi-threading, the overhead of testing was 0.176378 seconds.\n",
            "You can set `force_row_wise=true` to remove the overhead.\n",
            "And if memory is not enough, you can set `force_col_wise=true`.\n",
            "[LightGBM] [Info] Total Bins 24515\n",
            "[LightGBM] [Info] Number of data points in the train set: 68414, number of used features: 165\n",
            "[LightGBM] [Info] [binary:BoostFromScore]: pavg=0.500000 -> initscore=0.000000\n",
            "[LightGBM] [Info] Auto-choosing row-wise multi-threading, the overhead of testing was 0.161684 seconds.\n",
            "You can set `force_row_wise=true` to remove the overhead.\n",
            "And if memory is not enough, you can set `force_col_wise=true`.\n",
            "[LightGBM] [Info] Total Bins 24789\n",
            "[LightGBM] [Info] Number of data points in the train set: 68414, number of used features: 166\n",
            "[LightGBM] [Info] [binary:BoostFromScore]: pavg=0.500000 -> initscore=0.000000\n",
            "[CV] END classifier__learning_rate=0.1, classifier__max_depth=10, classifier__n_estimators=100, classifier__num_leaves=50; total time=   7.0s\n",
            "[LightGBM] [Info] Number of positive: 34206, number of negative: 34206\n",
            "[LightGBM] [Info] Auto-choosing col-wise multi-threading, the overhead of testing was 0.102116 seconds.\n",
            "You can set `force_col_wise=true` to remove the overhead.\n",
            "[LightGBM] [Info] Total Bins 24980\n",
            "[LightGBM] [Info] Number of data points in the train set: 68412, number of used features: 170\n",
            "[LightGBM] [Info] [binary:BoostFromScore]: pavg=0.500000 -> initscore=0.000000\n",
            "[CV] END classifier__learning_rate=0.05, classifier__max_depth=20, classifier__n_estimators=200, classifier__num_leaves=50; total time=  13.1s\n",
            "[CV] END classifier__learning_rate=0.1, classifier__max_depth=10, classifier__n_estimators=100, classifier__num_leaves=50; total time=   7.1s\n",
            "[LightGBM] [Info] Number of positive: 34207, number of negative: 34207\n",
            "[LightGBM] [Info] Auto-choosing row-wise multi-threading, the overhead of testing was 0.199160 seconds.\n",
            "You can set `force_row_wise=true` to remove the overhead.\n",
            "And if memory is not enough, you can set `force_col_wise=true`.\n",
            "[LightGBM] [Info] Total Bins 24515\n",
            "[LightGBM] [Info] Number of data points in the train set: 68414, number of used features: 165\n",
            "[LightGBM] [Info] [binary:BoostFromScore]: pavg=0.500000 -> initscore=0.000000\n",
            "[LightGBM] [Info] Number of positive: 34207, number of negative: 34207\n",
            "[LightGBM] [Info] Auto-choosing row-wise multi-threading, the overhead of testing was 0.197655 seconds.\n",
            "You can set `force_row_wise=true` to remove the overhead.\n",
            "And if memory is not enough, you can set `force_col_wise=true`.\n",
            "[LightGBM] [Info] Total Bins 24789\n",
            "[LightGBM] [Info] Number of data points in the train set: 68414, number of used features: 166\n",
            "[LightGBM] [Info] [binary:BoostFromScore]: pavg=0.500000 -> initscore=0.000000\n",
            "[CV] END classifier__learning_rate=0.1, classifier__max_depth=10, classifier__n_estimators=100, classifier__num_leaves=50; total time=   6.6s\n",
            "[LightGBM] [Info] Number of positive: 34206, number of negative: 34206\n",
            "[LightGBM] [Info] Auto-choosing row-wise multi-threading, the overhead of testing was 0.179674 seconds.\n",
            "You can set `force_row_wise=true` to remove the overhead.\n",
            "And if memory is not enough, you can set `force_col_wise=true`.\n",
            "[LightGBM] [Info] Total Bins 24980\n",
            "[LightGBM] [Info] Number of data points in the train set: 68412, number of used features: 170\n",
            "[LightGBM] [Info] [binary:BoostFromScore]: pavg=0.500000 -> initscore=0.000000\n",
            "[CV] END classifier__learning_rate=0.05, classifier__max_depth=20, classifier__n_estimators=200, classifier__num_leaves=50; total time=  12.5s\n",
            "[LightGBM] [Info] Number of positive: 34207, number of negative: 34207\n",
            "[CV] END classifier__learning_rate=0.1, classifier__max_depth=10, classifier__n_estimators=200, classifier__num_leaves=31; total time=   8.1s\n",
            "[LightGBM] [Info] Auto-choosing row-wise multi-threading, the overhead of testing was 0.067645 seconds.\n",
            "You can set `force_row_wise=true` to remove the overhead.\n",
            "And if memory is not enough, you can set `force_col_wise=true`.\n",
            "[LightGBM] [Info] Total Bins 24515\n",
            "[LightGBM] [Info] Number of data points in the train set: 68414, number of used features: 165\n",
            "[LightGBM] [Info] [binary:BoostFromScore]: pavg=0.500000 -> initscore=0.000000\n",
            "[CV] END classifier__learning_rate=0.1, classifier__max_depth=10, classifier__n_estimators=200, classifier__num_leaves=31; total time=   8.3s\n",
            "[LightGBM] [Info] Number of positive: 34207, number of negative: 34207\n",
            "[LightGBM] [Info] Auto-choosing row-wise multi-threading, the overhead of testing was 0.121618 seconds.\n",
            "You can set `force_row_wise=true` to remove the overhead.\n",
            "And if memory is not enough, you can set `force_col_wise=true`.\n",
            "[LightGBM] [Info] Total Bins 24789\n",
            "[LightGBM] [Info] Number of data points in the train set: 68414, number of used features: 166\n",
            "[LightGBM] [Info] [binary:BoostFromScore]: pavg=0.500000 -> initscore=0.000000\n",
            "[CV] END classifier__learning_rate=0.1, classifier__max_depth=10, classifier__n_estimators=200, classifier__num_leaves=31; total time=   9.8s\n",
            "[CV] END classifier__learning_rate=0.05, classifier__max_depth=20, classifier__n_estimators=200, classifier__num_leaves=50; total time=  15.3s\n",
            "[LightGBM] [Info] Number of positive: 34206, number of negative: 34206\n",
            "[LightGBM] [Info] Number of positive: 34207, number of negative: 34207\n",
            "[LightGBM] [Info] Auto-choosing col-wise multi-threading, the overhead of testing was 0.092107 seconds.\n",
            "You can set `force_col_wise=true` to remove the overhead.\n",
            "[LightGBM] [Info] Total Bins 24980\n",
            "[LightGBM] [Info] Number of data points in the train set: 68412, number of used features: 170\n",
            "[LightGBM] [Info] [binary:BoostFromScore]: pavg=0.500000 -> initscore=0.000000\n",
            "[LightGBM] [Info] Auto-choosing row-wise multi-threading, the overhead of testing was 0.165453 seconds.\n",
            "You can set `force_row_wise=true` to remove the overhead.\n",
            "And if memory is not enough, you can set `force_col_wise=true`.\n",
            "[LightGBM] [Info] Total Bins 24515\n",
            "[LightGBM] [Info] Number of data points in the train set: 68414, number of used features: 165\n",
            "[LightGBM] [Info] [binary:BoostFromScore]: pavg=0.500000 -> initscore=0.000000\n",
            "[CV] END classifier__learning_rate=0.1, classifier__max_depth=20, classifier__n_estimators=100, classifier__num_leaves=31; total time=   5.5s\n",
            "[LightGBM] [Info] Number of positive: 34207, number of negative: 34207\n",
            "[LightGBM] [Info] Number of positive: 34206, number of negative: 34206\n",
            "[LightGBM] [Info] Auto-choosing row-wise multi-threading, the overhead of testing was 0.173335 seconds.\n",
            "You can set `force_row_wise=true` to remove the overhead.\n",
            "And if memory is not enough, you can set `force_col_wise=true`.\n",
            "[LightGBM] [Info] Total Bins 24789\n",
            "[LightGBM] [Info] Number of data points in the train set: 68414, number of used features: 166\n",
            "[LightGBM] [Info] [binary:BoostFromScore]: pavg=0.500000 -> initscore=0.000000\n",
            "[LightGBM] [Info] Auto-choosing col-wise multi-threading, the overhead of testing was 0.035015 seconds.\n",
            "You can set `force_col_wise=true` to remove the overhead.\n",
            "[LightGBM] [Info] Total Bins 24980\n",
            "[LightGBM] [Info] Number of data points in the train set: 68412, number of used features: 170\n",
            "[LightGBM] [Info] [binary:BoostFromScore]: pavg=0.500000 -> initscore=0.000000\n",
            "[LightGBM] [Info] Number of positive: 34207, number of negative: 34207\n",
            "[CV] END classifier__learning_rate=0.1, classifier__max_depth=20, classifier__n_estimators=100, classifier__num_leaves=31; total time=   6.4s\n",
            "[LightGBM] [Info] Auto-choosing row-wise multi-threading, the overhead of testing was 0.163036 seconds.\n",
            "You can set `force_row_wise=true` to remove the overhead.\n",
            "And if memory is not enough, you can set `force_col_wise=true`.\n",
            "[LightGBM] [Info] Total Bins 24515\n",
            "[LightGBM] [Info] Number of data points in the train set: 68414, number of used features: 165\n",
            "[LightGBM] [Info] [binary:BoostFromScore]: pavg=0.500000 -> initscore=0.000000\n",
            "[CV] END classifier__learning_rate=0.1, classifier__max_depth=20, classifier__n_estimators=100, classifier__num_leaves=31; total time=   6.3s\n",
            "[LightGBM] [Warning] No further splits with positive gain, best gain: -inf\n",
            "[LightGBM] [Warning] No further splits with positive gain, best gain: -inf\n",
            "[LightGBM] [Warning] No further splits with positive gain, best gain: -inf\n",
            "[LightGBM] [Info] Number of positive: 34207, number of negative: 34207\n",
            "[LightGBM] [Info] Auto-choosing row-wise multi-threading, the overhead of testing was 0.105297 seconds.\n",
            "You can set `force_row_wise=true` to remove the overhead.\n",
            "And if memory is not enough, you can set `force_col_wise=true`.\n",
            "[LightGBM] [Info] Total Bins 24789\n",
            "[LightGBM] [Info] Number of data points in the train set: 68414, number of used features: 166\n",
            "[LightGBM] [Info] [binary:BoostFromScore]: pavg=0.500000 -> initscore=0.000000\n",
            "[LightGBM] [Info] Number of positive: 34206, number of negative: 34206\n",
            "[LightGBM] [Info] Auto-choosing row-wise multi-threading, the overhead of testing was 0.041184 seconds.\n",
            "You can set `force_row_wise=true` to remove the overhead.\n",
            "And if memory is not enough, you can set `force_col_wise=true`.\n",
            "[LightGBM] [Info] Total Bins 24980\n",
            "[LightGBM] [Info] Number of data points in the train set: 68412, number of used features: 170\n",
            "[LightGBM] [Info] [binary:BoostFromScore]: pavg=0.500000 -> initscore=0.000000\n",
            "[CV] END classifier__learning_rate=0.1, classifier__max_depth=10, classifier__n_estimators=200, classifier__num_leaves=50; total time=  11.9s\n",
            "[CV] END classifier__learning_rate=0.1, classifier__max_depth=10, classifier__n_estimators=200, classifier__num_leaves=50; total time=  11.7s\n",
            "[CV] END classifier__learning_rate=0.1, classifier__max_depth=20, classifier__n_estimators=100, classifier__num_leaves=50; total time=   7.5s\n",
            "[CV] END classifier__learning_rate=0.1, classifier__max_depth=10, classifier__n_estimators=200, classifier__num_leaves=50; total time=  14.9s\n",
            "[CV] END classifier__learning_rate=0.1, classifier__max_depth=20, classifier__n_estimators=100, classifier__num_leaves=50; total time=   7.5s\n",
            "[CV] END classifier__learning_rate=0.1, classifier__max_depth=20, classifier__n_estimators=100, classifier__num_leaves=50; total time=   8.6s\n",
            "[LightGBM] [Info] Number of positive: 34207, number of negative: 34207\n",
            "[LightGBM] [Info] Number of positive: 34207, number of negative: 34207\n",
            "[LightGBM] [Info] Auto-choosing row-wise multi-threading, the overhead of testing was 0.058986 seconds.\n",
            "You can set `force_row_wise=true` to remove the overhead.\n",
            "And if memory is not enough, you can set `force_col_wise=true`.\n",
            "[LightGBM] [Info] Total Bins 24515\n",
            "[LightGBM] [Info] Number of data points in the train set: 68414, number of used features: 165\n",
            "[LightGBM] [Info] [binary:BoostFromScore]: pavg=0.500000 -> initscore=0.000000\n",
            "[LightGBM] [Info] Auto-choosing row-wise multi-threading, the overhead of testing was 0.049509 seconds.\n",
            "You can set `force_row_wise=true` to remove the overhead.\n",
            "And if memory is not enough, you can set `force_col_wise=true`.\n",
            "[LightGBM] [Info] Total Bins 24789\n",
            "[LightGBM] [Info] Number of data points in the train set: 68414, number of used features: 166\n",
            "[LightGBM] [Info] [binary:BoostFromScore]: pavg=0.500000 -> initscore=0.000000\n",
            "[CV] END classifier__learning_rate=0.1, classifier__max_depth=20, classifier__n_estimators=200, classifier__num_leaves=31; total time=   8.0s\n",
            "[CV] END classifier__learning_rate=0.1, classifier__max_depth=20, classifier__n_estimators=200, classifier__num_leaves=31; total time=   9.2s\n",
            "[CV] END classifier__learning_rate=0.1, classifier__max_depth=20, classifier__n_estimators=200, classifier__num_leaves=31; total time=   7.0s\n",
            "[CV] END classifier__learning_rate=0.1, classifier__max_depth=20, classifier__n_estimators=200, classifier__num_leaves=50; total time=   8.1s\n",
            "[CV] END classifier__learning_rate=0.1, classifier__max_depth=20, classifier__n_estimators=200, classifier__num_leaves=50; total time=   5.8s\n",
            "[CV] END classifier__learning_rate=0.1, classifier__max_depth=20, classifier__n_estimators=200, classifier__num_leaves=50; total time=   5.4s\n",
            "[LightGBM] [Info] Number of positive: 51310, number of negative: 51310\n",
            "[LightGBM] [Info] Auto-choosing row-wise multi-threading, the overhead of testing was 0.015037 seconds.\n",
            "You can set `force_row_wise=true` to remove the overhead.\n",
            "And if memory is not enough, you can set `force_col_wise=true`.\n",
            "[LightGBM] [Info] Total Bins 26023\n",
            "[LightGBM] [Info] Number of data points in the train set: 102620, number of used features: 173\n",
            "[LightGBM] [Info] [binary:BoostFromScore]: pavg=0.500000 -> initscore=0.000000\n",
            "Best F1-score for LightGBM with SMOTE: 0.0151\n",
            "Best parameters: {'classifier__learning_rate': 0.1, 'classifier__max_depth': 20, 'classifier__n_estimators': 200, 'classifier__num_leaves': 50}\n",
            "--------------------------------------------------\n",
            "Running LightGBM with SMOTEENN...\n",
            "Fitting 3 folds for each of 16 candidates, totalling 48 fits\n",
            "[LightGBM] [Info] Number of positive: 34142, number of negative: 15486\n",
            "[LightGBM] [Info] Auto-choosing row-wise multi-threading, the overhead of testing was 0.016266 seconds.\n",
            "You can set `force_row_wise=true` to remove the overhead.\n",
            "And if memory is not enough, you can set `force_col_wise=true`.\n",
            "[LightGBM] [Info] Total Bins 24521\n",
            "[LightGBM] [Info] Number of data points in the train set: 49628, number of used features: 166\n",
            "[LightGBM] [Info] [binary:BoostFromScore]: pavg=0.687958 -> initscore=0.790592\n",
            "[LightGBM] [Info] Start training from score 0.790592\n",
            "[LightGBM] [Info] Number of positive: 34167, number of negative: 16088\n",
            "[LightGBM] [Info] Auto-choosing row-wise multi-threading, the overhead of testing was 0.027872 seconds.\n",
            "You can set `force_row_wise=true` to remove the overhead.\n",
            "And if memory is not enough, you can set `force_col_wise=true`.\n",
            "[LightGBM] [Info] Total Bins 24353\n",
            "[LightGBM] [Info] Number of data points in the train set: 50255, number of used features: 163\n",
            "[LightGBM] [Info] [binary:BoostFromScore]: pavg=0.679873 -> initscore=0.753187\n",
            "[LightGBM] [Info] Start training from score 0.753187\n",
            "[LightGBM] [Info] Number of positive: 34142, number of negative: 15486\n",
            "[LightGBM] [Info] Number of positive: 34167, number of negative: 16088\n",
            "[LightGBM] [Info] Auto-choosing row-wise multi-threading, the overhead of testing was 0.055897 seconds.\n",
            "You can set `force_row_wise=true` to remove the overhead.\n",
            "And if memory is not enough, you can set `force_col_wise=true`.\n",
            "[LightGBM] [Info] Total Bins 24521\n",
            "[LightGBM] [Info] Number of data points in the train set: 49628, number of used features: 166\n",
            "[LightGBM] [Info] [binary:BoostFromScore]: pavg=0.687958 -> initscore=0.790592\n",
            "[LightGBM] [Info] Start training from score 0.790592\n",
            "[LightGBM] [Info] Auto-choosing row-wise multi-threading, the overhead of testing was 0.059884 seconds.\n",
            "You can set `force_row_wise=true` to remove the overhead.\n",
            "And if memory is not enough, you can set `force_col_wise=true`.\n",
            "[LightGBM] [Info] Total Bins 24353\n",
            "[LightGBM] [Info] Number of data points in the train set: 50255, number of used features: 163\n",
            "[LightGBM] [Info] [binary:BoostFromScore]: pavg=0.679873 -> initscore=0.753187\n",
            "[LightGBM] [Info] Start training from score 0.753187\n",
            "[LightGBM] [Info] Number of positive: 34167, number of negative: 16088\n",
            "[LightGBM] [Info] Auto-choosing row-wise multi-threading, the overhead of testing was 0.075389 seconds.\n",
            "You can set `force_row_wise=true` to remove the overhead.\n",
            "And if memory is not enough, you can set `force_col_wise=true`.\n",
            "[LightGBM] [Info] Total Bins 24353\n",
            "[LightGBM] [Info] Number of data points in the train set: 50255, number of used features: 163\n",
            "[LightGBM] [Info] [binary:BoostFromScore]: pavg=0.679873 -> initscore=0.753187\n",
            "[LightGBM] [Info] Start training from score 0.753187\n",
            "[LightGBM] [Info] Number of positive: 34151, number of negative: 15907\n",
            "[LightGBM] [Info] Number of positive: 34151, number of negative: 15907\n",
            "[LightGBM] [Info] Auto-choosing col-wise multi-threading, the overhead of testing was 0.070581 seconds.\n",
            "You can set `force_col_wise=true` to remove the overhead.\n",
            "[LightGBM] [Info] Total Bins 24181\n",
            "[LightGBM] [Info] Number of data points in the train set: 50058, number of used features: 162\n",
            "[LightGBM] [Info] [binary:BoostFromScore]: pavg=0.682229 -> initscore=0.764033\n",
            "[LightGBM] [Info] Start training from score 0.764033\n",
            "[LightGBM] [Info] Auto-choosing col-wise multi-threading, the overhead of testing was 0.136702 seconds.\n",
            "You can set `force_col_wise=true` to remove the overhead.\n",
            "[LightGBM] [Info] Total Bins 24181\n",
            "[LightGBM] [Info] Number of data points in the train set: 50058, number of used features: 162\n",
            "[LightGBM] [Info] [binary:BoostFromScore]: pavg=0.682229 -> initscore=0.764033\n",
            "[LightGBM] [Info] Start training from score 0.764033\n",
            "[LightGBM] [Info] Number of positive: 34151, number of negative: 15907\n",
            "[LightGBM] [Info] Auto-choosing row-wise multi-threading, the overhead of testing was 0.013417 seconds.\n",
            "You can set `force_row_wise=true` to remove the overhead.\n",
            "And if memory is not enough, you can set `force_col_wise=true`.\n",
            "[LightGBM] [Info] Total Bins 24181\n",
            "[LightGBM] [Info] Number of data points in the train set: 50058, number of used features: 162\n",
            "[LightGBM] [Info] [binary:BoostFromScore]: pavg=0.682229 -> initscore=0.764033\n",
            "[LightGBM] [Info] Start training from score 0.764033\n",
            "[LightGBM] [Info] Number of positive: 34142, number of negative: 15486\n",
            "[LightGBM] [Info] Auto-choosing row-wise multi-threading, the overhead of testing was 0.171962 seconds.\n",
            "You can set `force_row_wise=true` to remove the overhead.\n",
            "And if memory is not enough, you can set `force_col_wise=true`.\n",
            "[LightGBM] [Info] Total Bins 24521\n",
            "[LightGBM] [Info] Number of data points in the train set: 49628, number of used features: 166\n",
            "[LightGBM] [Info] [binary:BoostFromScore]: pavg=0.687958 -> initscore=0.790592\n",
            "[LightGBM] [Info] Start training from score 0.790592\n",
            "[LightGBM] [Info] Number of positive: 34142, number of negative: 15486\n",
            "[LightGBM] [Info] Auto-choosing row-wise multi-threading, the overhead of testing was 0.023747 seconds.\n",
            "You can set `force_row_wise=true` to remove the overhead.\n",
            "And if memory is not enough, you can set `force_col_wise=true`.\n",
            "[LightGBM] [Info] Total Bins 24521\n",
            "[LightGBM] [Info] Number of data points in the train set: 49628, number of used features: 166\n",
            "[LightGBM] [Info] [binary:BoostFromScore]: pavg=0.687958 -> initscore=0.790592\n",
            "[LightGBM] [Info] Start training from score 0.790592\n",
            "[CV] END classifier__learning_rate=0.05, classifier__max_depth=10, classifier__n_estimators=100, classifier__num_leaves=31; total time=  45.9s\n",
            "[CV] END classifier__learning_rate=0.05, classifier__max_depth=10, classifier__n_estimators=100, classifier__num_leaves=31; total time=  46.1s\n",
            "[CV] END classifier__learning_rate=0.05, classifier__max_depth=10, classifier__n_estimators=100, classifier__num_leaves=50; total time=  48.2s\n",
            "[CV] END classifier__learning_rate=0.05, classifier__max_depth=10, classifier__n_estimators=100, classifier__num_leaves=50; total time=  48.2s\n",
            "[CV] END classifier__learning_rate=0.05, classifier__max_depth=10, classifier__n_estimators=100, classifier__num_leaves=31; total time=  48.4s\n",
            "[CV] END classifier__learning_rate=0.05, classifier__max_depth=10, classifier__n_estimators=100, classifier__num_leaves=50; total time=  49.5s\n",
            "[CV] END classifier__learning_rate=0.05, classifier__max_depth=10, classifier__n_estimators=200, classifier__num_leaves=31; total time=  49.3s\n",
            "[CV] END classifier__learning_rate=0.05, classifier__max_depth=10, classifier__n_estimators=200, classifier__num_leaves=31; total time=  49.9s\n",
            "[CV] END classifier__learning_rate=0.05, classifier__max_depth=10, classifier__n_estimators=200, classifier__num_leaves=31; total time=  50.4s\n",
            "[CV] END classifier__learning_rate=0.05, classifier__max_depth=10, classifier__n_estimators=200, classifier__num_leaves=50; total time=  51.1s\n",
            "[LightGBM] [Info] Number of positive: 34151, number of negative: 15907\n",
            "[LightGBM] [Info] Auto-choosing row-wise multi-threading, the overhead of testing was 0.065037 seconds.\n",
            "You can set `force_row_wise=true` to remove the overhead.\n",
            "And if memory is not enough, you can set `force_col_wise=true`.\n",
            "[LightGBM] [Info] Total Bins 24181\n",
            "[LightGBM] [Info] Number of data points in the train set: 50058, number of used features: 162\n",
            "[LightGBM] [Info] [binary:BoostFromScore]: pavg=0.682229 -> initscore=0.764033\n",
            "[LightGBM] [Info] Start training from score 0.764033\n",
            "[LightGBM] [Info] Number of positive: 34167, number of negative: 16088\n",
            "[LightGBM] [Info] Auto-choosing row-wise multi-threading, the overhead of testing was 0.039679 seconds.\n",
            "You can set `force_row_wise=true` to remove the overhead.\n",
            "And if memory is not enough, you can set `force_col_wise=true`.\n",
            "[LightGBM] [Info] Total Bins 24353\n",
            "[LightGBM] [Info] Number of data points in the train set: 50255, number of used features: 163\n",
            "[LightGBM] [Info] [binary:BoostFromScore]: pavg=0.679873 -> initscore=0.753187\n",
            "[LightGBM] [Info] Start training from score 0.753187\n",
            "[LightGBM] [Info] Number of positive: 34142, number of negative: 15486\n",
            "[LightGBM] [Info] Auto-choosing col-wise multi-threading, the overhead of testing was 0.027774 seconds.\n",
            "You can set `force_col_wise=true` to remove the overhead.\n",
            "[LightGBM] [Info] Total Bins 24521\n",
            "[LightGBM] [Info] Number of data points in the train set: 49628, number of used features: 166\n",
            "[LightGBM] [Info] [binary:BoostFromScore]: pavg=0.687958 -> initscore=0.790592\n",
            "[LightGBM] [Info] Start training from score 0.790592\n",
            "[LightGBM] [Info] Number of positive: 34167, number of negative: 16088\n",
            "[LightGBM] [Info] Auto-choosing col-wise multi-threading, the overhead of testing was 0.039353 seconds.\n",
            "You can set `force_col_wise=true` to remove the overhead.\n",
            "[LightGBM] [Info] Total Bins 24353\n",
            "[LightGBM] [Info] Number of data points in the train set: 50255, number of used features: 163\n",
            "[LightGBM] [Info] [binary:BoostFromScore]: pavg=0.679873 -> initscore=0.753187\n",
            "[LightGBM] [Info] Start training from score 0.753187\n",
            "[LightGBM] [Info] Number of positive: 34151, number of negative: 15907\n",
            "[LightGBM] [Info] Number of positive: 34142, number of negative: 15486\n",
            "[LightGBM] [Info] Auto-choosing row-wise multi-threading, the overhead of testing was 0.085445 seconds.\n",
            "You can set `force_row_wise=true` to remove the overhead.\n",
            "And if memory is not enough, you can set `force_col_wise=true`.\n",
            "[LightGBM] [Info] Total Bins 24181\n",
            "[LightGBM] [Info] Number of data points in the train set: 50058, number of used features: 162\n",
            "[LightGBM] [Info] [binary:BoostFromScore]: pavg=0.682229 -> initscore=0.764033\n",
            "[LightGBM] [Info] Start training from score 0.764033\n",
            "[LightGBM] [Info] Auto-choosing row-wise multi-threading, the overhead of testing was 0.129874 seconds.\n",
            "You can set `force_row_wise=true` to remove the overhead.\n",
            "And if memory is not enough, you can set `force_col_wise=true`.\n",
            "[LightGBM] [Info] Total Bins 24521\n",
            "[LightGBM] [Info] Number of data points in the train set: 49628, number of used features: 166\n",
            "[LightGBM] [Info] [binary:BoostFromScore]: pavg=0.687958 -> initscore=0.790592\n",
            "[LightGBM] [Info] Start training from score 0.790592\n",
            "[LightGBM] [Info] Number of positive: 34167, number of negative: 16088\n",
            "[LightGBM] [Info] Auto-choosing row-wise multi-threading, the overhead of testing was 0.044080 seconds.\n",
            "You can set `force_row_wise=true` to remove the overhead.\n",
            "And if memory is not enough, you can set `force_col_wise=true`.\n",
            "[LightGBM] [Info] Total Bins 24353\n",
            "[LightGBM] [Info] Number of data points in the train set: 50255, number of used features: 163\n",
            "[LightGBM] [Info] [binary:BoostFromScore]: pavg=0.679873 -> initscore=0.753187\n",
            "[LightGBM] [Info] Start training from score 0.753187\n",
            "[LightGBM] [Info] Number of positive: 34142, number of negative: 15486\n",
            "[LightGBM] [Info] Auto-choosing row-wise multi-threading, the overhead of testing was 0.026893 seconds.\n",
            "You can set `force_row_wise=true` to remove the overhead.\n",
            "And if memory is not enough, you can set `force_col_wise=true`.\n",
            "[LightGBM] [Info] Total Bins 24521\n",
            "[LightGBM] [Info] Number of data points in the train set: 49628, number of used features: 166\n",
            "[LightGBM] [Info] [binary:BoostFromScore]: pavg=0.687958 -> initscore=0.790592\n",
            "[LightGBM] [Info] Start training from score 0.790592\n",
            "[CV] END classifier__learning_rate=0.05, classifier__max_depth=20, classifier__n_estimators=100, classifier__num_leaves=31; total time=  46.4s\n",
            "[LightGBM] [Info] Number of positive: 34151, number of negative: 15907\n",
            "[LightGBM] [Info] Auto-choosing row-wise multi-threading, the overhead of testing was 0.193471 seconds.\n",
            "You can set `force_row_wise=true` to remove the overhead.\n",
            "And if memory is not enough, you can set `force_col_wise=true`.\n",
            "[LightGBM] [Info] Total Bins 24181\n",
            "[LightGBM] [Info] Number of data points in the train set: 50058, number of used features: 162\n",
            "[LightGBM] [Info] [binary:BoostFromScore]: pavg=0.682229 -> initscore=0.764033\n",
            "[LightGBM] [Info] Start training from score 0.764033\n",
            "[CV] END classifier__learning_rate=0.05, classifier__max_depth=20, classifier__n_estimators=100, classifier__num_leaves=31; total time=  46.7s\n",
            "[LightGBM] [Info] Number of positive: 34151, number of negative: 15907\n",
            "[LightGBM] [Info] Auto-choosing row-wise multi-threading, the overhead of testing was 0.202489 seconds.\n",
            "You can set `force_row_wise=true` to remove the overhead.\n",
            "And if memory is not enough, you can set `force_col_wise=true`.\n",
            "[LightGBM] [Info] Total Bins 24181\n",
            "[LightGBM] [Info] Number of data points in the train set: 50058, number of used features: 162\n",
            "[LightGBM] [Info] [binary:BoostFromScore]: pavg=0.682229 -> initscore=0.764033\n",
            "[LightGBM] [Info] Start training from score 0.764033\n",
            "[CV] END classifier__learning_rate=0.05, classifier__max_depth=20, classifier__n_estimators=100, classifier__num_leaves=31; total time=  47.5s\n",
            "[CV] END classifier__learning_rate=0.05, classifier__max_depth=20, classifier__n_estimators=100, classifier__num_leaves=50; total time=  47.7s\n",
            "[CV] END classifier__learning_rate=0.05, classifier__max_depth=10, classifier__n_estimators=200, classifier__num_leaves=50; total time=  51.6s\n",
            "[CV] END classifier__learning_rate=0.05, classifier__max_depth=10, classifier__n_estimators=200, classifier__num_leaves=50; total time=  52.0s\n",
            "[CV] END classifier__learning_rate=0.05, classifier__max_depth=20, classifier__n_estimators=100, classifier__num_leaves=50; total time=  48.0s\n",
            "[CV] END classifier__learning_rate=0.05, classifier__max_depth=20, classifier__n_estimators=100, classifier__num_leaves=50; total time=  49.9s\n",
            "[CV] END classifier__learning_rate=0.05, classifier__max_depth=20, classifier__n_estimators=200, classifier__num_leaves=31; total time=  49.1s\n",
            "[CV] END classifier__learning_rate=0.05, classifier__max_depth=20, classifier__n_estimators=200, classifier__num_leaves=31; total time=  49.2s\n",
            "[LightGBM] [Info] Number of positive: 34167, number of negative: 16088\n",
            "[LightGBM] [Info] Auto-choosing row-wise multi-threading, the overhead of testing was 0.015261 seconds.\n",
            "You can set `force_row_wise=true` to remove the overhead.\n",
            "And if memory is not enough, you can set `force_col_wise=true`.\n",
            "[LightGBM] [Info] Total Bins 24353\n",
            "[LightGBM] [Info] Number of data points in the train set: 50255, number of used features: 163\n",
            "[LightGBM] [Info] [binary:BoostFromScore]: pavg=0.679873 -> initscore=0.753187\n",
            "[LightGBM] [Info] Start training from score 0.753187\n",
            "[LightGBM] [Info] Number of positive: 34142, number of negative: 15486\n",
            "[LightGBM] [Info] Auto-choosing row-wise multi-threading, the overhead of testing was 0.012985 seconds.\n",
            "You can set `force_row_wise=true` to remove the overhead.\n",
            "And if memory is not enough, you can set `force_col_wise=true`.\n",
            "[LightGBM] [Info] Total Bins 24521\n",
            "[LightGBM] [Info] Number of data points in the train set: 49628, number of used features: 166\n",
            "[LightGBM] [Info] [binary:BoostFromScore]: pavg=0.687958 -> initscore=0.790592\n",
            "[LightGBM] [Info] Start training from score 0.790592\n",
            "[LightGBM] [Info] Number of positive: 34151, number of negative: 15907\n",
            "[LightGBM] [Info] Auto-choosing row-wise multi-threading, the overhead of testing was 0.035200 seconds.\n",
            "You can set `force_row_wise=true` to remove the overhead.\n",
            "And if memory is not enough, you can set `force_col_wise=true`.\n",
            "[LightGBM] [Info] Total Bins 24181\n",
            "[LightGBM] [Info] Number of data points in the train set: 50058, number of used features: 162\n",
            "[LightGBM] [Info] [binary:BoostFromScore]: pavg=0.682229 -> initscore=0.764033\n",
            "[LightGBM] [Info] Start training from score 0.764033\n",
            "[LightGBM] [Info] Number of positive: 34142, number of negative: 15486\n",
            "[LightGBM] [Info] Auto-choosing row-wise multi-threading, the overhead of testing was 0.037728 seconds.\n",
            "You can set `force_row_wise=true` to remove the overhead.\n",
            "And if memory is not enough, you can set `force_col_wise=true`.\n",
            "[LightGBM] [Info] Total Bins 24521\n",
            "[LightGBM] [Info] Number of data points in the train set: 49628, number of used features: 166\n",
            "[LightGBM] [Info] [binary:BoostFromScore]: pavg=0.687958 -> initscore=0.790592\n",
            "[LightGBM] [Info] Start training from score 0.790592\n",
            "[LightGBM] [Info] Number of positive: 34167, number of negative: 16088\n",
            "[LightGBM] [Info] Auto-choosing col-wise multi-threading, the overhead of testing was 0.049807 seconds.\n",
            "You can set `force_col_wise=true` to remove the overhead.\n",
            "[LightGBM] [Info] Total Bins 24353\n",
            "[LightGBM] [Info] Number of data points in the train set: 50255, number of used features: 163\n",
            "[LightGBM] [Info] [binary:BoostFromScore]: pavg=0.679873 -> initscore=0.753187\n",
            "[LightGBM] [Info] Start training from score 0.753187\n",
            "[LightGBM] [Info] Number of positive: 34167, number of negative: 16088\n",
            "[LightGBM] [Info] Auto-choosing row-wise multi-threading, the overhead of testing was 0.080277 seconds.\n",
            "You can set `force_row_wise=true` to remove the overhead.\n",
            "And if memory is not enough, you can set `force_col_wise=true`.\n",
            "[LightGBM] [Info] Total Bins 24353\n",
            "[LightGBM] [Info] Number of data points in the train set: 50255, number of used features: 163\n",
            "[LightGBM] [Info] [binary:BoostFromScore]: pavg=0.679873 -> initscore=0.753187\n",
            "[LightGBM] [Info] Start training from score 0.753187\n",
            "[LightGBM] [Info] Number of positive: 34151, number of negative: 15907\n",
            "[LightGBM] [Info] Auto-choosing row-wise multi-threading, the overhead of testing was 0.116075 seconds.\n",
            "You can set `force_row_wise=true` to remove the overhead.\n",
            "And if memory is not enough, you can set `force_col_wise=true`.\n",
            "[LightGBM] [Info] Total Bins 24181\n",
            "[LightGBM] [Info] Number of data points in the train set: 50058, number of used features: 162\n",
            "[LightGBM] [Info] [binary:BoostFromScore]: pavg=0.682229 -> initscore=0.764033\n",
            "[LightGBM] [Info] Start training from score 0.764033\n",
            "[CV] END classifier__learning_rate=0.05, classifier__max_depth=20, classifier__n_estimators=200, classifier__num_leaves=31; total time=  48.1s\n",
            "[LightGBM] [Info] Number of positive: 34142, number of negative: 15486\n",
            "[LightGBM] [Info] Auto-choosing row-wise multi-threading, the overhead of testing was 0.048775 seconds.\n",
            "You can set `force_row_wise=true` to remove the overhead.\n",
            "And if memory is not enough, you can set `force_col_wise=true`.\n",
            "[LightGBM] [Info] Total Bins 24521\n",
            "[LightGBM] [Info] Number of data points in the train set: 49628, number of used features: 166\n",
            "[LightGBM] [Info] [binary:BoostFromScore]: pavg=0.687958 -> initscore=0.790592\n",
            "[LightGBM] [Info] Start training from score 0.790592\n",
            "[CV] END classifier__learning_rate=0.1, classifier__max_depth=10, classifier__n_estimators=100, classifier__num_leaves=31; total time=  46.2s\n",
            "[CV] END classifier__learning_rate=0.1, classifier__max_depth=10, classifier__n_estimators=100, classifier__num_leaves=31; total time=  46.1s\n",
            "[CV] END classifier__learning_rate=0.1, classifier__max_depth=10, classifier__n_estimators=100, classifier__num_leaves=31; total time=  47.0s\n",
            "[LightGBM] [Info] Number of positive: 34151, number of negative: 15907\n",
            "[LightGBM] [Info] Auto-choosing row-wise multi-threading, the overhead of testing was 0.068838 seconds.\n",
            "You can set `force_row_wise=true` to remove the overhead.\n",
            "And if memory is not enough, you can set `force_col_wise=true`.\n",
            "[LightGBM] [Info] Total Bins 24181\n",
            "[LightGBM] [Info] Number of data points in the train set: 50058, number of used features: 162\n",
            "[LightGBM] [Info] [binary:BoostFromScore]: pavg=0.682229 -> initscore=0.764033\n",
            "[LightGBM] [Info] Start training from score 0.764033\n",
            "[LightGBM] [Info] Number of positive: 34167, number of negative: 16088\n",
            "[LightGBM] [Info] Auto-choosing col-wise multi-threading, the overhead of testing was 0.048836 seconds.\n",
            "You can set `force_col_wise=true` to remove the overhead.\n",
            "[LightGBM] [Info] Total Bins 24353\n",
            "[LightGBM] [Info] Number of data points in the train set: 50255, number of used features: 163\n",
            "[LightGBM] [Info] [binary:BoostFromScore]: pavg=0.679873 -> initscore=0.753187\n",
            "[LightGBM] [Info] Start training from score 0.753187\n",
            "[CV] END classifier__learning_rate=0.05, classifier__max_depth=20, classifier__n_estimators=200, classifier__num_leaves=50; total time=  52.1s\n",
            "[CV] END classifier__learning_rate=0.1, classifier__max_depth=10, classifier__n_estimators=100, classifier__num_leaves=50; total time=  47.9s\n",
            "[CV] END classifier__learning_rate=0.05, classifier__max_depth=20, classifier__n_estimators=200, classifier__num_leaves=50; total time=  52.3s\n",
            "[CV] END classifier__learning_rate=0.1, classifier__max_depth=10, classifier__n_estimators=100, classifier__num_leaves=50; total time=  49.2s\n",
            "[CV] END classifier__learning_rate=0.1, classifier__max_depth=10, classifier__n_estimators=100, classifier__num_leaves=50; total time=  49.1s\n",
            "[CV] END classifier__learning_rate=0.05, classifier__max_depth=20, classifier__n_estimators=200, classifier__num_leaves=50; total time=  52.6s\n",
            "[LightGBM] [Info] Number of positive: 34167, number of negative: 16088\n",
            "[LightGBM] [Info] Auto-choosing row-wise multi-threading, the overhead of testing was 0.034820 seconds.\n",
            "You can set `force_row_wise=true` to remove the overhead.\n",
            "And if memory is not enough, you can set `force_col_wise=true`.\n",
            "[LightGBM] [Info] Total Bins 24353\n",
            "[LightGBM] [Info] Number of data points in the train set: 50255, number of used features: 163\n",
            "[LightGBM] [Info] [binary:BoostFromScore]: pavg=0.679873 -> initscore=0.753187\n",
            "[LightGBM] [Info] Start training from score 0.753187\n",
            "[LightGBM] [Info] Number of positive: 34142, number of negative: 15486\n",
            "[LightGBM] [Info] Auto-choosing row-wise multi-threading, the overhead of testing was 0.027933 seconds.\n",
            "You can set `force_row_wise=true` to remove the overhead.\n",
            "And if memory is not enough, you can set `force_col_wise=true`.\n",
            "[LightGBM] [Info] Total Bins 24521\n",
            "[LightGBM] [Info] Number of data points in the train set: 49628, number of used features: 166\n",
            "[LightGBM] [Info] [binary:BoostFromScore]: pavg=0.687958 -> initscore=0.790592\n",
            "[LightGBM] [Info] Start training from score 0.790592\n",
            "[LightGBM] [Info] Number of positive: 34151, number of negative: 15907\n",
            "[LightGBM] [Info] Auto-choosing row-wise multi-threading, the overhead of testing was 0.024752 seconds.\n",
            "You can set `force_row_wise=true` to remove the overhead.\n",
            "And if memory is not enough, you can set `force_col_wise=true`.\n",
            "[LightGBM] [Info] Total Bins 24181\n",
            "[LightGBM] [Info] Number of data points in the train set: 50058, number of used features: 162\n",
            "[LightGBM] [Info] [binary:BoostFromScore]: pavg=0.682229 -> initscore=0.764033\n",
            "[LightGBM] [Info] Start training from score 0.764033\n",
            "[LightGBM] [Info] Number of positive: 34142, number of negative: 15486\n",
            "[LightGBM] [Info] Auto-choosing row-wise multi-threading, the overhead of testing was 0.038557 seconds.\n",
            "You can set `force_row_wise=true` to remove the overhead.\n",
            "And if memory is not enough, you can set `force_col_wise=true`.\n",
            "[LightGBM] [Info] Total Bins 24521\n",
            "[LightGBM] [Info] Number of data points in the train set: 49628, number of used features: 166\n",
            "[LightGBM] [Info] [binary:BoostFromScore]: pavg=0.687958 -> initscore=0.790592\n",
            "[LightGBM] [Info] Start training from score 0.790592\n",
            "[LightGBM] [Info] Number of positive: 34167, number of negative: 16088\n",
            "[LightGBM] [Info] Number of positive: 34151, number of negative: 15907\n",
            "[LightGBM] [Info] Auto-choosing row-wise multi-threading, the overhead of testing was 0.071205 seconds.\n",
            "You can set `force_row_wise=true` to remove the overhead.\n",
            "And if memory is not enough, you can set `force_col_wise=true`.\n",
            "[LightGBM] [Info] Total Bins 24353\n",
            "[LightGBM] [Info] Number of data points in the train set: 50255, number of used features: 163\n",
            "[LightGBM] [Info] [binary:BoostFromScore]: pavg=0.679873 -> initscore=0.753187\n",
            "[LightGBM] [Info] Start training from score 0.753187\n",
            "[LightGBM] [Info] Auto-choosing row-wise multi-threading, the overhead of testing was 0.076720 seconds.\n",
            "You can set `force_row_wise=true` to remove the overhead.\n",
            "And if memory is not enough, you can set `force_col_wise=true`.\n",
            "[LightGBM] [Info] Total Bins 24181\n",
            "[LightGBM] [Info] Number of data points in the train set: 50058, number of used features: 162\n",
            "[LightGBM] [Info] [binary:BoostFromScore]: pavg=0.682229 -> initscore=0.764033\n",
            "[LightGBM] [Info] Start training from score 0.764033\n",
            "[LightGBM] [Info] Number of positive: 34142, number of negative: 15486\n",
            "[LightGBM] [Info] Auto-choosing row-wise multi-threading, the overhead of testing was 0.131731 seconds.\n",
            "You can set `force_row_wise=true` to remove the overhead.\n",
            "And if memory is not enough, you can set `force_col_wise=true`.\n",
            "[LightGBM] [Info] Total Bins 24521\n",
            "[LightGBM] [Info] Number of data points in the train set: 49628, number of used features: 166\n",
            "[LightGBM] [Info] [binary:BoostFromScore]: pavg=0.687958 -> initscore=0.790592\n",
            "[LightGBM] [Info] Start training from score 0.790592\n",
            "[CV] END classifier__learning_rate=0.1, classifier__max_depth=10, classifier__n_estimators=200, classifier__num_leaves=31; total time=  47.9s\n",
            "[LightGBM] [Info] Number of positive: 34151, number of negative: 15907\n",
            "[CV] END classifier__learning_rate=0.1, classifier__max_depth=10, classifier__n_estimators=200, classifier__num_leaves=31; total time=  49.7s\n",
            "[LightGBM] [Info] Auto-choosing row-wise multi-threading, the overhead of testing was 0.103828 seconds.\n",
            "You can set `force_row_wise=true` to remove the overhead.\n",
            "And if memory is not enough, you can set `force_col_wise=true`.\n",
            "[LightGBM] [Info] Total Bins 24181\n",
            "[LightGBM] [Info] Number of data points in the train set: 50058, number of used features: 162\n",
            "[LightGBM] [Info] [binary:BoostFromScore]: pavg=0.682229 -> initscore=0.764033\n",
            "[LightGBM] [Info] Start training from score 0.764033\n",
            "[CV] END classifier__learning_rate=0.1, classifier__max_depth=10, classifier__n_estimators=200, classifier__num_leaves=31; total time=  48.9s\n",
            "[LightGBM] [Info] Number of positive: 34167, number of negative: 16088\n",
            "[LightGBM] [Info] Auto-choosing row-wise multi-threading, the overhead of testing was 0.066061 seconds.\n",
            "You can set `force_row_wise=true` to remove the overhead.\n",
            "And if memory is not enough, you can set `force_col_wise=true`.\n",
            "[LightGBM] [Info] Total Bins 24353\n",
            "[LightGBM] [Info] Number of data points in the train set: 50255, number of used features: 163\n",
            "[LightGBM] [Info] [binary:BoostFromScore]: pavg=0.679873 -> initscore=0.753187\n",
            "[LightGBM] [Info] Start training from score 0.753187\n",
            "[LightGBM] [Info] Number of positive: 34142, number of negative: 15486\n",
            "[CV] END classifier__learning_rate=0.1, classifier__max_depth=20, classifier__n_estimators=100, classifier__num_leaves=31; total time=  45.4s\n",
            "[LightGBM] [Info] Auto-choosing row-wise multi-threading, the overhead of testing was 0.099419 seconds.\n",
            "You can set `force_row_wise=true` to remove the overhead.\n",
            "And if memory is not enough, you can set `force_col_wise=true`.\n",
            "[LightGBM] [Info] Total Bins 24521\n",
            "[LightGBM] [Info] Number of data points in the train set: 49628, number of used features: 166\n",
            "[LightGBM] [Info] [binary:BoostFromScore]: pavg=0.687958 -> initscore=0.790592\n",
            "[LightGBM] [Info] Start training from score 0.790592\n",
            "[CV] END classifier__learning_rate=0.1, classifier__max_depth=20, classifier__n_estimators=100, classifier__num_leaves=31; total time=  47.2s\n",
            "[CV] END classifier__learning_rate=0.1, classifier__max_depth=10, classifier__n_estimators=200, classifier__num_leaves=50; total time=  51.5s\n",
            "[CV] END classifier__learning_rate=0.1, classifier__max_depth=20, classifier__n_estimators=100, classifier__num_leaves=31; total time=  46.6s\n",
            "[CV] END classifier__learning_rate=0.1, classifier__max_depth=10, classifier__n_estimators=200, classifier__num_leaves=50; total time=  49.4s\n",
            "[CV] END classifier__learning_rate=0.1, classifier__max_depth=10, classifier__n_estimators=200, classifier__num_leaves=50; total time=  49.9s\n",
            "[CV] END classifier__learning_rate=0.1, classifier__max_depth=20, classifier__n_estimators=100, classifier__num_leaves=50; total time=  47.9s\n",
            "[LightGBM] [Info] Number of positive: 34167, number of negative: 16088\n",
            "[LightGBM] [Info] Number of positive: 34142, number of negative: 15486\n",
            "[LightGBM] [Info] Auto-choosing row-wise multi-threading, the overhead of testing was 0.027243 seconds.\n",
            "You can set `force_row_wise=true` to remove the overhead.\n",
            "And if memory is not enough, you can set `force_col_wise=true`.\n",
            "[LightGBM] [Info] Total Bins 24353\n",
            "[LightGBM] [Info] Number of data points in the train set: 50255, number of used features: 163\n",
            "[LightGBM] [Info] [binary:BoostFromScore]: pavg=0.679873 -> initscore=0.753187\n",
            "[LightGBM] [Info] Start training from score 0.753187\n",
            "[LightGBM] [Info] Auto-choosing row-wise multi-threading, the overhead of testing was 0.029269 seconds.\n",
            "You can set `force_row_wise=true` to remove the overhead.\n",
            "And if memory is not enough, you can set `force_col_wise=true`.\n",
            "[LightGBM] [Info] Total Bins 24521\n",
            "[LightGBM] [Info] Number of data points in the train set: 49628, number of used features: 166\n",
            "[LightGBM] [Info] [binary:BoostFromScore]: pavg=0.687958 -> initscore=0.790592\n",
            "[LightGBM] [Info] Start training from score 0.790592\n",
            "[LightGBM] [Info] Number of positive: 34151, number of negative: 15907\n",
            "[LightGBM] [Info] Auto-choosing col-wise multi-threading, the overhead of testing was 0.026613 seconds.\n",
            "You can set `force_col_wise=true` to remove the overhead.\n",
            "[LightGBM] [Info] Total Bins 24181\n",
            "[LightGBM] [Info] Number of data points in the train set: 50058, number of used features: 162\n",
            "[LightGBM] [Info] [binary:BoostFromScore]: pavg=0.682229 -> initscore=0.764033\n",
            "[LightGBM] [Info] Start training from score 0.764033\n",
            "[LightGBM] [Info] Number of positive: 34151, number of negative: 15907\n",
            "[LightGBM] [Info] Auto-choosing row-wise multi-threading, the overhead of testing was 0.027045 seconds.\n",
            "You can set `force_row_wise=true` to remove the overhead.\n",
            "And if memory is not enough, you can set `force_col_wise=true`.\n",
            "[LightGBM] [Info] Total Bins 24181\n",
            "[LightGBM] [Info] Number of data points in the train set: 50058, number of used features: 162\n",
            "[LightGBM] [Info] [binary:BoostFromScore]: pavg=0.682229 -> initscore=0.764033\n",
            "[LightGBM] [Info] Start training from score 0.764033\n",
            "[LightGBM] [Info] Number of positive: 34167, number of negative: 16088\n",
            "[LightGBM] [Info] Auto-choosing row-wise multi-threading, the overhead of testing was 0.014317 seconds.\n",
            "You can set `force_row_wise=true` to remove the overhead.\n",
            "And if memory is not enough, you can set `force_col_wise=true`.\n",
            "[LightGBM] [Info] Total Bins 24353\n",
            "[LightGBM] [Info] Number of data points in the train set: 50255, number of used features: 163\n",
            "[LightGBM] [Info] [binary:BoostFromScore]: pavg=0.679873 -> initscore=0.753187\n",
            "[LightGBM] [Info] Start training from score 0.753187\n",
            "[LightGBM] [Info] Number of positive: 34142, number of negative: 15486\n",
            "[LightGBM] [Info] Auto-choosing row-wise multi-threading, the overhead of testing was 0.062739 seconds.\n",
            "You can set `force_row_wise=true` to remove the overhead.\n",
            "And if memory is not enough, you can set `force_col_wise=true`.\n",
            "[LightGBM] [Info] Total Bins 24521\n",
            "[LightGBM] [Info] Number of data points in the train set: 49628, number of used features: 166\n",
            "[LightGBM] [Info] [binary:BoostFromScore]: pavg=0.687958 -> initscore=0.790592\n",
            "[LightGBM] [Info] Start training from score 0.790592\n",
            "[LightGBM] [Info] Number of positive: 34167, number of negative: 16088\n",
            "[LightGBM] [Info] Auto-choosing row-wise multi-threading, the overhead of testing was 0.115640 seconds.\n",
            "You can set `force_row_wise=true` to remove the overhead.\n",
            "And if memory is not enough, you can set `force_col_wise=true`.\n",
            "[LightGBM] [Info] Total Bins 24353\n",
            "[LightGBM] [Info] Number of data points in the train set: 50255, number of used features: 163\n",
            "[LightGBM] [Info] [binary:BoostFromScore]: pavg=0.679873 -> initscore=0.753187\n",
            "[LightGBM] [Info] Start training from score 0.753187\n",
            "[LightGBM] [Info] Number of positive: 34151, number of negative: 15907\n",
            "[LightGBM] [Info] Auto-choosing row-wise multi-threading, the overhead of testing was 0.037825 seconds.\n",
            "You can set `force_row_wise=true` to remove the overhead.\n",
            "And if memory is not enough, you can set `force_col_wise=true`.\n",
            "[LightGBM] [Info] Total Bins 24181\n",
            "[LightGBM] [Info] Number of data points in the train set: 50058, number of used features: 162\n",
            "[LightGBM] [Info] [binary:BoostFromScore]: pavg=0.682229 -> initscore=0.764033\n",
            "[LightGBM] [Info] Start training from score 0.764033\n",
            "[CV] END classifier__learning_rate=0.1, classifier__max_depth=20, classifier__n_estimators=100, classifier__num_leaves=50; total time=  42.2s\n",
            "[CV] END classifier__learning_rate=0.1, classifier__max_depth=20, classifier__n_estimators=200, classifier__num_leaves=31; total time=  43.0s\n",
            "[CV] END classifier__learning_rate=0.1, classifier__max_depth=20, classifier__n_estimators=100, classifier__num_leaves=50; total time=  43.9s\n",
            "[CV] END classifier__learning_rate=0.1, classifier__max_depth=20, classifier__n_estimators=200, classifier__num_leaves=31; total time=  42.7s\n",
            "[CV] END classifier__learning_rate=0.1, classifier__max_depth=20, classifier__n_estimators=200, classifier__num_leaves=31; total time=  41.8s\n",
            "[CV] END classifier__learning_rate=0.1, classifier__max_depth=20, classifier__n_estimators=200, classifier__num_leaves=50; total time=  42.9s\n",
            "[CV] END classifier__learning_rate=0.1, classifier__max_depth=20, classifier__n_estimators=200, classifier__num_leaves=50; total time=  42.3s\n",
            "[CV] END classifier__learning_rate=0.1, classifier__max_depth=20, classifier__n_estimators=200, classifier__num_leaves=50; total time=  42.9s\n",
            "[LightGBM] [Info] Number of positive: 51220, number of negative: 24236\n",
            "[LightGBM] [Info] Auto-choosing row-wise multi-threading, the overhead of testing was 0.012591 seconds.\n",
            "You can set `force_row_wise=true` to remove the overhead.\n",
            "And if memory is not enough, you can set `force_col_wise=true`.\n",
            "[LightGBM] [Info] Total Bins 25611\n",
            "[LightGBM] [Info] Number of data points in the train set: 75456, number of used features: 165\n",
            "[LightGBM] [Info] [binary:BoostFromScore]: pavg=0.678806 -> initscore=0.748291\n",
            "[LightGBM] [Info] Start training from score 0.748291\n",
            "Best F1-score for LightGBM with SMOTEENN: 0.1967\n",
            "Best parameters: {'classifier__learning_rate': 0.1, 'classifier__max_depth': 10, 'classifier__n_estimators': 200, 'classifier__num_leaves': 50}\n",
            "--------------------------------------------------\n",
            "Logistic Regression with SMOTE:\n",
            "  Best F1-score: 0.2132\n",
            "  Best params: {'classifier__C': 0.01, 'classifier__penalty': 'l1'}\n",
            "Logistic Regression with SMOTEENN:\n",
            "  Best F1-score: 0.1849\n",
            "  Best params: {'classifier__C': 1, 'classifier__penalty': 'l1'}\n",
            "Random Forest with SMOTE:\n",
            "  Best F1-score: 0.0776\n",
            "  Best params: {'classifier__max_depth': 10, 'classifier__min_samples_leaf': 2, 'classifier__n_estimators': 100}\n",
            "Random Forest with SMOTEENN:\n",
            "  Best F1-score: 0.2141\n",
            "  Best params: {'classifier__max_depth': 20, 'classifier__min_samples_leaf': 4, 'classifier__n_estimators': 200}\n",
            "XGBoost with SMOTE:\n",
            "  Best F1-score: 0.0151\n",
            "  Best params: {'classifier__learning_rate': 0.1, 'classifier__max_depth': 10, 'classifier__n_estimators': 200, 'classifier__subsample': 0.7}\n",
            "XGBoost with SMOTEENN:\n",
            "  Best F1-score: 0.2164\n",
            "  Best params: {'classifier__learning_rate': 0.05, 'classifier__max_depth': 5, 'classifier__n_estimators': 100, 'classifier__subsample': 0.7}\n",
            "LightGBM with SMOTE:\n",
            "  Best F1-score: 0.0151\n",
            "  Best params: {'classifier__learning_rate': 0.1, 'classifier__max_depth': 20, 'classifier__n_estimators': 200, 'classifier__num_leaves': 50}\n",
            "LightGBM with SMOTEENN:\n",
            "  Best F1-score: 0.1967\n",
            "  Best params: {'classifier__learning_rate': 0.1, 'classifier__max_depth': 10, 'classifier__n_estimators': 200, 'classifier__num_leaves': 50}\n"
          ]
        }
      ],
      "source": [
        "# Define models\n",
        "models = {\n",
        "    'Logistic Regression': LogisticRegression(random_state=42, solver='liblinear'),\n",
        "    'Random Forest': RandomForestClassifier(random_state=42),\n",
        "    'XGBoost': xgb.XGBClassifier(random_state=42, use_label_encoder=False, eval_metric='logloss'),\n",
        "    'LightGBM': lgb.LGBMClassifier(random_state=42)\n",
        "}\n",
        "\n",
        "# Define hyperparameter grids\n",
        "param_grids = {\n",
        "    'Logistic Regression': {\n",
        "        'classifier__C': [0.01, 0.1, 1, 10],\n",
        "        'classifier__penalty': ['l1', 'l2']\n",
        "    },\n",
        "    'Random Forest': {\n",
        "        'classifier__n_estimators': [100, 200],\n",
        "        'classifier__max_depth': [10, 20, None],\n",
        "        'classifier__min_samples_leaf': [1, 2, 4]\n",
        "    },\n",
        "    'XGBoost': {\n",
        "        'classifier__n_estimators': [100, 200],\n",
        "        'classifier__max_depth': [5, 10],\n",
        "        'classifier__learning_rate': [0.05, 0.1],\n",
        "        'classifier__subsample': [0.7, 1.0]\n",
        "    },\n",
        "    'LightGBM': {\n",
        "        'classifier__n_estimators': [100, 200],\n",
        "        'classifier__max_depth': [10, 20],\n",
        "        'classifier__learning_rate': [0.05, 0.1],\n",
        "        'classifier__num_leaves': [31, 50]\n",
        "    }\n",
        "}\n",
        "\n",
        "# Define samplers\n",
        "samplers = {\n",
        "    'SMOTE': SMOTE(random_state=42),\n",
        "    'SMOTEENN': SMOTEENN(random_state=42)\n",
        "}\n",
        "\n",
        "# Split data\n",
        "X_train, X_test, y_train, y_test = train_test_split(X, y, test_size=0.2, random_state=42, stratify=y)\n",
        "\n",
        "results = {}\n",
        "\n",
        "# Loop through models and samplers\n",
        "for model_name, model in models.items():\n",
        "    results[model_name] = {}\n",
        "    for sampler_name, sampler in samplers.items():\n",
        "        print(f'Running {model_name} with {sampler_name}...')\n",
        "        \n",
        "        # Create pipeline\n",
        "        pipeline = ImbPipeline(steps=[('preprocessor', preprocessor),\n",
        "                                      ('sampler', sampler),\n",
        "                                      ('classifier', model)])\n",
        "        \n",
        "        # Create GridSearchCV\n",
        "        cv = StratifiedKFold(n_splits=3)\n",
        "        grid_search = GridSearchCV(pipeline, param_grid=param_grids[model_name], cv=cv, scoring='f1', n_jobs=-1, verbose=2)\n",
        "        \n",
        "        # Fit GridSearchCV\n",
        "        grid_search.fit(X_train, y_train)\n",
        "        \n",
        "        # Store results\n",
        "        results[model_name][sampler_name] = {\n",
        "            'best_score': grid_search.best_score_,\n",
        "            'best_params': grid_search.best_params_,\n",
        "            'best_estimator': grid_search.best_estimator_\n",
        "        }\n",
        "        \n",
        "        print(f'Best F1-score for {model_name} with {sampler_name}: {grid_search.best_score_:.4f}')\n",
        "        print(f'Best parameters: {grid_search.best_params_}')\n",
        "        print('-'*50)\n",
        "\n",
        "# Print final results\n",
        "for model_name, model_results in results.items():\n",
        "    for sampler_name, sampler_results in model_results.items():\n",
        "        print(f'{model_name} with {sampler_name}:')\n",
        "        print(f\"  Best F1-score: {sampler_results['best_score']:.4f}\")\n",
        "        print(f\"  Best params: {sampler_results['best_params']}\")\n"
      ]
    },
    {
      "cell_type": "code",
      "execution_count": 71,
      "id": "377237c7",
      "metadata": {},
      "outputs": [
        {
          "name": "stdout",
          "output_type": "stream",
          "text": [
            "## Model Performance Summary\n",
            "| Model                          |   Accuracy |   Precision (Class 0) |   Recall (Class 0) |   F1-score (Class 0) |   Precision (Class 1) |   Recall (Class 1) |   F1-score (Class 1) |   Macro Avg F1 |   Weighted Avg F1 |\n",
            "|:-------------------------------|-----------:|----------------------:|-------------------:|---------------------:|----------------------:|-------------------:|---------------------:|---------------:|------------------:|\n",
            "| Logistic Regression (SMOTE)    |     0.642  |                0.9376 |             0.6501 |               0.7678 |                0.1356 |             0.5592 |               0.2183 |         0.4931 |            0.7187 |\n",
            "| Logistic Regression (SMOTEENN) |     0.3106 |                0.9532 |             0.2555 |               0.403  |                0.1031 |             0.8721 |               0.1844 |         0.2937 |            0.3835 |\n",
            "| Random Forest (SMOTE)          |     0.8922 |                0.9131 |             0.9743 |               0.9427 |                0.175  |             0.0556 |               0.0844 |         0.5135 |            0.866  |\n",
            "| Random Forest (SMOTEENN)       |     0.7882 |                0.927  |             0.8331 |               0.8775 |                0.163  |             0.3312 |               0.2185 |         0.548  |            0.8186 |\n",
            "| XGBoost (SMOTE)                |     0.9103 |                0.9111 |             0.999  |               0.953  |                0.381  |             0.0064 |               0.0125 |         0.4828 |            0.8689 |\n",
            "| XGBoost (SMOTEENN)             |     0.812  |                0.9244 |             0.8641 |               0.8933 |                0.1684 |             0.2804 |               0.2104 |         0.5518 |            0.8322 |\n",
            "| LightGBM (SMOTE)               |     0.9104 |                0.911  |             0.9992 |               0.9531 |                0.4118 |             0.0056 |               0.011  |         0.482  |            0.8689 |\n",
            "| LightGBM (SMOTEENN)            |     0.8576 |                0.9209 |             0.9229 |               0.9219 |                0.1966 |             0.1922 |               0.1944 |         0.5581 |            0.8569 |\n"
          ]
        }
      ],
      "source": [
        "# A list to store the results\n",
        "results_summary = []\n",
        "\n",
        "# Loop through each model and sampler combination\n",
        "for model_name, model_samplers in results.items():\n",
        "    for sampler_name, model_data in model_samplers.items():\n",
        "        # Get the best estimator\n",
        "        best_estimator = model_data['best_estimator']\n",
        "        \n",
        "        # Make predictions on the test set\n",
        "        y_pred = best_estimator.predict(X_test)\n",
        "        \n",
        "        # Generate the classification report\n",
        "        report = classification_report(y_test, y_pred, output_dict=True)\n",
        "        \n",
        "        # Extract the desired metrics\n",
        "        accuracy = accuracy_score(y_test, y_pred)\n",
        "        \n",
        "        # Metrics for class 0\n",
        "        if '0' in report:\n",
        "            precision_class_0 = report['0']['precision']\n",
        "            recall_class_0 = report['0']['recall']\n",
        "            f1_class_0 = report['0']['f1-score']\n",
        "        else:\n",
        "            precision_class_0 = 0\n",
        "            recall_class_0 = 0\n",
        "            f1_class_0 = 0\n",
        "\n",
        "        # Metrics for class 1\n",
        "        if '1' in report:\n",
        "            precision_class_1 = report['1']['precision']\n",
        "            recall_class_1 = report['1']['recall']\n",
        "            f1_class_1 = report['1']['f1-score']\n",
        "        else:\n",
        "            precision_class_1 = 0\n",
        "            recall_class_1 = 0\n",
        "            f1_class_1 = 0\n",
        "\n",
        "        # Macro and weighted averages for f1-score\n",
        "        macro_f1 = report['macro avg']['f1-score']\n",
        "        weighted_f1 = report['weighted avg']['f1-score']\n",
        "        \n",
        "        # Append the results to the list\n",
        "        results_summary.append({\n",
        "            'Model': f'{model_name} ({sampler_name})',\n",
        "            'Accuracy': f'{accuracy:.4f}',\n",
        "            'Precision (Class 0)': f'{precision_class_0:.4f}',\n",
        "            'Recall (Class 0)': f'{recall_class_0:.4f}',\n",
        "            'F1-score (Class 0)': f'{f1_class_0:.4f}',\n",
        "            'Precision (Class 1)': f'{precision_class_1:.4f}',\n",
        "            'Recall (Class 1)': f'{recall_class_1:.4f}',\n",
        "            'F1-score (Class 1)': f'{f1_class_1:.4f}',\n",
        "            'Macro Avg F1': f'{macro_f1:.4f}',\n",
        "            'Weighted Avg F1': f'{weighted_f1:.4f}'\n",
        "        })\n",
        "\n",
        "# Create a DataFrame from the results\n",
        "summary_df = pd.DataFrame(results_summary)\n",
        "\n",
        "# Display the summary table in markdown format\n",
        "print(\"## Model Performance Summary\")\n",
        "print(summary_df.to_markdown(index=False))"
      ]
    },
    {
      "cell_type": "code",
      "execution_count": 72,
      "id": "ed373cd7",
      "metadata": {},
      "outputs": [
        {
          "name": "stdout",
          "output_type": "stream",
          "text": [
            "Plotting confusion matrices for the top 3 models based on F1-score for Class 1:\n",
            "             ModelName SamplerName  F1-score (Class 1)\n",
            "3        Random Forest    SMOTEENN            0.218496\n",
            "0  Logistic Regression       SMOTE            0.218261\n",
            "5              XGBoost    SMOTEENN            0.210432\n"
          ]
        },
        {
          "data": {
            "application/vnd.plotly.v1+json": {
              "config": {
                "plotlyServerURL": "https://plot.ly"
              },
              "data": [
                {
                  "coloraxis": "coloraxis",
                  "hovertemplate": "Predicted Label: %{x}<br>True Label: %{y}<br>Count: %{z}<extra></extra>",
                  "name": "0",
                  "texttemplate": "%{z}",
                  "type": "heatmap",
                  "x": [
                    "Not Readmitted (0)",
                    "Readmitted (1)"
                  ],
                  "xaxis": "x",
                  "y": [
                    "Not Readmitted (0)",
                    "Readmitted (1)"
                  ],
                  "yaxis": "y",
                  "z": {
                    "bdata": "vyldCEoDoQE=",
                    "dtype": "i2",
                    "shape": "2, 2"
                  }
                }
              ],
              "layout": {
                "coloraxis": {
                  "colorbar": {
                    "title": {
                      "text": "Count"
                    }
                  },
                  "colorscale": [
                    [
                      0,
                      "rgb(247,251,255)"
                    ],
                    [
                      0.125,
                      "rgb(222,235,247)"
                    ],
                    [
                      0.25,
                      "rgb(198,219,239)"
                    ],
                    [
                      0.375,
                      "rgb(158,202,225)"
                    ],
                    [
                      0.5,
                      "rgb(107,174,214)"
                    ],
                    [
                      0.625,
                      "rgb(66,146,198)"
                    ],
                    [
                      0.75,
                      "rgb(33,113,181)"
                    ],
                    [
                      0.875,
                      "rgb(8,81,156)"
                    ],
                    [
                      1,
                      "rgb(8,48,107)"
                    ]
                  ]
                },
                "template": {
                  "data": {
                    "bar": [
                      {
                        "error_x": {
                          "color": "#2a3f5f"
                        },
                        "error_y": {
                          "color": "#2a3f5f"
                        },
                        "marker": {
                          "line": {
                            "color": "#E5ECF6",
                            "width": 0.5
                          },
                          "pattern": {
                            "fillmode": "overlay",
                            "size": 10,
                            "solidity": 0.2
                          }
                        },
                        "type": "bar"
                      }
                    ],
                    "barpolar": [
                      {
                        "marker": {
                          "line": {
                            "color": "#E5ECF6",
                            "width": 0.5
                          },
                          "pattern": {
                            "fillmode": "overlay",
                            "size": 10,
                            "solidity": 0.2
                          }
                        },
                        "type": "barpolar"
                      }
                    ],
                    "carpet": [
                      {
                        "aaxis": {
                          "endlinecolor": "#2a3f5f",
                          "gridcolor": "white",
                          "linecolor": "white",
                          "minorgridcolor": "white",
                          "startlinecolor": "#2a3f5f"
                        },
                        "baxis": {
                          "endlinecolor": "#2a3f5f",
                          "gridcolor": "white",
                          "linecolor": "white",
                          "minorgridcolor": "white",
                          "startlinecolor": "#2a3f5f"
                        },
                        "type": "carpet"
                      }
                    ],
                    "choropleth": [
                      {
                        "colorbar": {
                          "outlinewidth": 0,
                          "ticks": ""
                        },
                        "type": "choropleth"
                      }
                    ],
                    "contour": [
                      {
                        "colorbar": {
                          "outlinewidth": 0,
                          "ticks": ""
                        },
                        "colorscale": [
                          [
                            0,
                            "#0d0887"
                          ],
                          [
                            0.1111111111111111,
                            "#46039f"
                          ],
                          [
                            0.2222222222222222,
                            "#7201a8"
                          ],
                          [
                            0.3333333333333333,
                            "#9c179e"
                          ],
                          [
                            0.4444444444444444,
                            "#bd3786"
                          ],
                          [
                            0.5555555555555556,
                            "#d8576b"
                          ],
                          [
                            0.6666666666666666,
                            "#ed7953"
                          ],
                          [
                            0.7777777777777778,
                            "#fb9f3a"
                          ],
                          [
                            0.8888888888888888,
                            "#fdca26"
                          ],
                          [
                            1,
                            "#f0f921"
                          ]
                        ],
                        "type": "contour"
                      }
                    ],
                    "contourcarpet": [
                      {
                        "colorbar": {
                          "outlinewidth": 0,
                          "ticks": ""
                        },
                        "type": "contourcarpet"
                      }
                    ],
                    "heatmap": [
                      {
                        "colorbar": {
                          "outlinewidth": 0,
                          "ticks": ""
                        },
                        "colorscale": [
                          [
                            0,
                            "#0d0887"
                          ],
                          [
                            0.1111111111111111,
                            "#46039f"
                          ],
                          [
                            0.2222222222222222,
                            "#7201a8"
                          ],
                          [
                            0.3333333333333333,
                            "#9c179e"
                          ],
                          [
                            0.4444444444444444,
                            "#bd3786"
                          ],
                          [
                            0.5555555555555556,
                            "#d8576b"
                          ],
                          [
                            0.6666666666666666,
                            "#ed7953"
                          ],
                          [
                            0.7777777777777778,
                            "#fb9f3a"
                          ],
                          [
                            0.8888888888888888,
                            "#fdca26"
                          ],
                          [
                            1,
                            "#f0f921"
                          ]
                        ],
                        "type": "heatmap"
                      }
                    ],
                    "histogram": [
                      {
                        "marker": {
                          "pattern": {
                            "fillmode": "overlay",
                            "size": 10,
                            "solidity": 0.2
                          }
                        },
                        "type": "histogram"
                      }
                    ],
                    "histogram2d": [
                      {
                        "colorbar": {
                          "outlinewidth": 0,
                          "ticks": ""
                        },
                        "colorscale": [
                          [
                            0,
                            "#0d0887"
                          ],
                          [
                            0.1111111111111111,
                            "#46039f"
                          ],
                          [
                            0.2222222222222222,
                            "#7201a8"
                          ],
                          [
                            0.3333333333333333,
                            "#9c179e"
                          ],
                          [
                            0.4444444444444444,
                            "#bd3786"
                          ],
                          [
                            0.5555555555555556,
                            "#d8576b"
                          ],
                          [
                            0.6666666666666666,
                            "#ed7953"
                          ],
                          [
                            0.7777777777777778,
                            "#fb9f3a"
                          ],
                          [
                            0.8888888888888888,
                            "#fdca26"
                          ],
                          [
                            1,
                            "#f0f921"
                          ]
                        ],
                        "type": "histogram2d"
                      }
                    ],
                    "histogram2dcontour": [
                      {
                        "colorbar": {
                          "outlinewidth": 0,
                          "ticks": ""
                        },
                        "colorscale": [
                          [
                            0,
                            "#0d0887"
                          ],
                          [
                            0.1111111111111111,
                            "#46039f"
                          ],
                          [
                            0.2222222222222222,
                            "#7201a8"
                          ],
                          [
                            0.3333333333333333,
                            "#9c179e"
                          ],
                          [
                            0.4444444444444444,
                            "#bd3786"
                          ],
                          [
                            0.5555555555555556,
                            "#d8576b"
                          ],
                          [
                            0.6666666666666666,
                            "#ed7953"
                          ],
                          [
                            0.7777777777777778,
                            "#fb9f3a"
                          ],
                          [
                            0.8888888888888888,
                            "#fdca26"
                          ],
                          [
                            1,
                            "#f0f921"
                          ]
                        ],
                        "type": "histogram2dcontour"
                      }
                    ],
                    "mesh3d": [
                      {
                        "colorbar": {
                          "outlinewidth": 0,
                          "ticks": ""
                        },
                        "type": "mesh3d"
                      }
                    ],
                    "parcoords": [
                      {
                        "line": {
                          "colorbar": {
                            "outlinewidth": 0,
                            "ticks": ""
                          }
                        },
                        "type": "parcoords"
                      }
                    ],
                    "pie": [
                      {
                        "automargin": true,
                        "type": "pie"
                      }
                    ],
                    "scatter": [
                      {
                        "fillpattern": {
                          "fillmode": "overlay",
                          "size": 10,
                          "solidity": 0.2
                        },
                        "type": "scatter"
                      }
                    ],
                    "scatter3d": [
                      {
                        "line": {
                          "colorbar": {
                            "outlinewidth": 0,
                            "ticks": ""
                          }
                        },
                        "marker": {
                          "colorbar": {
                            "outlinewidth": 0,
                            "ticks": ""
                          }
                        },
                        "type": "scatter3d"
                      }
                    ],
                    "scattercarpet": [
                      {
                        "marker": {
                          "colorbar": {
                            "outlinewidth": 0,
                            "ticks": ""
                          }
                        },
                        "type": "scattercarpet"
                      }
                    ],
                    "scattergeo": [
                      {
                        "marker": {
                          "colorbar": {
                            "outlinewidth": 0,
                            "ticks": ""
                          }
                        },
                        "type": "scattergeo"
                      }
                    ],
                    "scattergl": [
                      {
                        "marker": {
                          "colorbar": {
                            "outlinewidth": 0,
                            "ticks": ""
                          }
                        },
                        "type": "scattergl"
                      }
                    ],
                    "scattermap": [
                      {
                        "marker": {
                          "colorbar": {
                            "outlinewidth": 0,
                            "ticks": ""
                          }
                        },
                        "type": "scattermap"
                      }
                    ],
                    "scattermapbox": [
                      {
                        "marker": {
                          "colorbar": {
                            "outlinewidth": 0,
                            "ticks": ""
                          }
                        },
                        "type": "scattermapbox"
                      }
                    ],
                    "scatterpolar": [
                      {
                        "marker": {
                          "colorbar": {
                            "outlinewidth": 0,
                            "ticks": ""
                          }
                        },
                        "type": "scatterpolar"
                      }
                    ],
                    "scatterpolargl": [
                      {
                        "marker": {
                          "colorbar": {
                            "outlinewidth": 0,
                            "ticks": ""
                          }
                        },
                        "type": "scatterpolargl"
                      }
                    ],
                    "scatterternary": [
                      {
                        "marker": {
                          "colorbar": {
                            "outlinewidth": 0,
                            "ticks": ""
                          }
                        },
                        "type": "scatterternary"
                      }
                    ],
                    "surface": [
                      {
                        "colorbar": {
                          "outlinewidth": 0,
                          "ticks": ""
                        },
                        "colorscale": [
                          [
                            0,
                            "#0d0887"
                          ],
                          [
                            0.1111111111111111,
                            "#46039f"
                          ],
                          [
                            0.2222222222222222,
                            "#7201a8"
                          ],
                          [
                            0.3333333333333333,
                            "#9c179e"
                          ],
                          [
                            0.4444444444444444,
                            "#bd3786"
                          ],
                          [
                            0.5555555555555556,
                            "#d8576b"
                          ],
                          [
                            0.6666666666666666,
                            "#ed7953"
                          ],
                          [
                            0.7777777777777778,
                            "#fb9f3a"
                          ],
                          [
                            0.8888888888888888,
                            "#fdca26"
                          ],
                          [
                            1,
                            "#f0f921"
                          ]
                        ],
                        "type": "surface"
                      }
                    ],
                    "table": [
                      {
                        "cells": {
                          "fill": {
                            "color": "#EBF0F8"
                          },
                          "line": {
                            "color": "white"
                          }
                        },
                        "header": {
                          "fill": {
                            "color": "#C8D4E3"
                          },
                          "line": {
                            "color": "white"
                          }
                        },
                        "type": "table"
                      }
                    ]
                  },
                  "layout": {
                    "annotationdefaults": {
                      "arrowcolor": "#2a3f5f",
                      "arrowhead": 0,
                      "arrowwidth": 1
                    },
                    "autotypenumbers": "strict",
                    "coloraxis": {
                      "colorbar": {
                        "outlinewidth": 0,
                        "ticks": ""
                      }
                    },
                    "colorscale": {
                      "diverging": [
                        [
                          0,
                          "#8e0152"
                        ],
                        [
                          0.1,
                          "#c51b7d"
                        ],
                        [
                          0.2,
                          "#de77ae"
                        ],
                        [
                          0.3,
                          "#f1b6da"
                        ],
                        [
                          0.4,
                          "#fde0ef"
                        ],
                        [
                          0.5,
                          "#f7f7f7"
                        ],
                        [
                          0.6,
                          "#e6f5d0"
                        ],
                        [
                          0.7,
                          "#b8e186"
                        ],
                        [
                          0.8,
                          "#7fbc41"
                        ],
                        [
                          0.9,
                          "#4d9221"
                        ],
                        [
                          1,
                          "#276419"
                        ]
                      ],
                      "sequential": [
                        [
                          0,
                          "#0d0887"
                        ],
                        [
                          0.1111111111111111,
                          "#46039f"
                        ],
                        [
                          0.2222222222222222,
                          "#7201a8"
                        ],
                        [
                          0.3333333333333333,
                          "#9c179e"
                        ],
                        [
                          0.4444444444444444,
                          "#bd3786"
                        ],
                        [
                          0.5555555555555556,
                          "#d8576b"
                        ],
                        [
                          0.6666666666666666,
                          "#ed7953"
                        ],
                        [
                          0.7777777777777778,
                          "#fb9f3a"
                        ],
                        [
                          0.8888888888888888,
                          "#fdca26"
                        ],
                        [
                          1,
                          "#f0f921"
                        ]
                      ],
                      "sequentialminus": [
                        [
                          0,
                          "#0d0887"
                        ],
                        [
                          0.1111111111111111,
                          "#46039f"
                        ],
                        [
                          0.2222222222222222,
                          "#7201a8"
                        ],
                        [
                          0.3333333333333333,
                          "#9c179e"
                        ],
                        [
                          0.4444444444444444,
                          "#bd3786"
                        ],
                        [
                          0.5555555555555556,
                          "#d8576b"
                        ],
                        [
                          0.6666666666666666,
                          "#ed7953"
                        ],
                        [
                          0.7777777777777778,
                          "#fb9f3a"
                        ],
                        [
                          0.8888888888888888,
                          "#fdca26"
                        ],
                        [
                          1,
                          "#f0f921"
                        ]
                      ]
                    },
                    "colorway": [
                      "#636efa",
                      "#EF553B",
                      "#00cc96",
                      "#ab63fa",
                      "#FFA15A",
                      "#19d3f3",
                      "#FF6692",
                      "#B6E880",
                      "#FF97FF",
                      "#FECB52"
                    ],
                    "font": {
                      "color": "#2a3f5f"
                    },
                    "geo": {
                      "bgcolor": "white",
                      "lakecolor": "white",
                      "landcolor": "#E5ECF6",
                      "showlakes": true,
                      "showland": true,
                      "subunitcolor": "white"
                    },
                    "hoverlabel": {
                      "align": "left"
                    },
                    "hovermode": "closest",
                    "mapbox": {
                      "style": "light"
                    },
                    "paper_bgcolor": "white",
                    "plot_bgcolor": "#E5ECF6",
                    "polar": {
                      "angularaxis": {
                        "gridcolor": "white",
                        "linecolor": "white",
                        "ticks": ""
                      },
                      "bgcolor": "#E5ECF6",
                      "radialaxis": {
                        "gridcolor": "white",
                        "linecolor": "white",
                        "ticks": ""
                      }
                    },
                    "scene": {
                      "xaxis": {
                        "backgroundcolor": "#E5ECF6",
                        "gridcolor": "white",
                        "gridwidth": 2,
                        "linecolor": "white",
                        "showbackground": true,
                        "ticks": "",
                        "zerolinecolor": "white"
                      },
                      "yaxis": {
                        "backgroundcolor": "#E5ECF6",
                        "gridcolor": "white",
                        "gridwidth": 2,
                        "linecolor": "white",
                        "showbackground": true,
                        "ticks": "",
                        "zerolinecolor": "white"
                      },
                      "zaxis": {
                        "backgroundcolor": "#E5ECF6",
                        "gridcolor": "white",
                        "gridwidth": 2,
                        "linecolor": "white",
                        "showbackground": true,
                        "ticks": "",
                        "zerolinecolor": "white"
                      }
                    },
                    "shapedefaults": {
                      "line": {
                        "color": "#2a3f5f"
                      }
                    },
                    "ternary": {
                      "aaxis": {
                        "gridcolor": "white",
                        "linecolor": "white",
                        "ticks": ""
                      },
                      "baxis": {
                        "gridcolor": "white",
                        "linecolor": "white",
                        "ticks": ""
                      },
                      "bgcolor": "#E5ECF6",
                      "caxis": {
                        "gridcolor": "white",
                        "linecolor": "white",
                        "ticks": ""
                      }
                    },
                    "title": {
                      "x": 0.05
                    },
                    "xaxis": {
                      "automargin": true,
                      "gridcolor": "white",
                      "linecolor": "white",
                      "ticks": "",
                      "title": {
                        "standoff": 15
                      },
                      "zerolinecolor": "white",
                      "zerolinewidth": 2
                    },
                    "yaxis": {
                      "automargin": true,
                      "gridcolor": "white",
                      "linecolor": "white",
                      "ticks": "",
                      "title": {
                        "standoff": 15
                      },
                      "zerolinecolor": "white",
                      "zerolinewidth": 2
                    }
                  }
                },
                "title": {
                  "text": "Confusion Matrix for Random Forest (SMOTEENN)",
                  "x": 0.5
                },
                "xaxis": {
                  "anchor": "y",
                  "constrain": "domain",
                  "domain": [
                    0,
                    1
                  ],
                  "scaleanchor": "y",
                  "title": {
                    "text": "Predicted Label"
                  }
                },
                "yaxis": {
                  "anchor": "x",
                  "autorange": "reversed",
                  "constrain": "domain",
                  "domain": [
                    0,
                    1
                  ],
                  "title": {
                    "text": "True Label"
                  }
                }
              }
            }
          },
          "metadata": {},
          "output_type": "display_data"
        },
        {
          "data": {
            "application/vnd.plotly.v1+json": {
              "config": {
                "plotlyServerURL": "https://plot.ly"
              },
              "data": [
                {
                  "coloraxis": "coloraxis",
                  "hovertemplate": "Predicted Label: %{x}<br>True Label: %{y}<br>Count: %{z}<extra></extra>",
                  "name": "0",
                  "texttemplate": "%{z}",
                  "type": "heatmap",
                  "x": [
                    "Not Readmitted (0)",
                    "Readmitted (1)"
                  ],
                  "xaxis": "x",
                  "y": [
                    "Not Readmitted (0)",
                    "Readmitted (1)"
                  ],
                  "yaxis": "y",
                  "z": {
                    "bdata": "lCCIESsCwAI=",
                    "dtype": "i2",
                    "shape": "2, 2"
                  }
                }
              ],
              "layout": {
                "coloraxis": {
                  "colorbar": {
                    "title": {
                      "text": "Count"
                    }
                  },
                  "colorscale": [
                    [
                      0,
                      "rgb(247,251,255)"
                    ],
                    [
                      0.125,
                      "rgb(222,235,247)"
                    ],
                    [
                      0.25,
                      "rgb(198,219,239)"
                    ],
                    [
                      0.375,
                      "rgb(158,202,225)"
                    ],
                    [
                      0.5,
                      "rgb(107,174,214)"
                    ],
                    [
                      0.625,
                      "rgb(66,146,198)"
                    ],
                    [
                      0.75,
                      "rgb(33,113,181)"
                    ],
                    [
                      0.875,
                      "rgb(8,81,156)"
                    ],
                    [
                      1,
                      "rgb(8,48,107)"
                    ]
                  ]
                },
                "template": {
                  "data": {
                    "bar": [
                      {
                        "error_x": {
                          "color": "#2a3f5f"
                        },
                        "error_y": {
                          "color": "#2a3f5f"
                        },
                        "marker": {
                          "line": {
                            "color": "#E5ECF6",
                            "width": 0.5
                          },
                          "pattern": {
                            "fillmode": "overlay",
                            "size": 10,
                            "solidity": 0.2
                          }
                        },
                        "type": "bar"
                      }
                    ],
                    "barpolar": [
                      {
                        "marker": {
                          "line": {
                            "color": "#E5ECF6",
                            "width": 0.5
                          },
                          "pattern": {
                            "fillmode": "overlay",
                            "size": 10,
                            "solidity": 0.2
                          }
                        },
                        "type": "barpolar"
                      }
                    ],
                    "carpet": [
                      {
                        "aaxis": {
                          "endlinecolor": "#2a3f5f",
                          "gridcolor": "white",
                          "linecolor": "white",
                          "minorgridcolor": "white",
                          "startlinecolor": "#2a3f5f"
                        },
                        "baxis": {
                          "endlinecolor": "#2a3f5f",
                          "gridcolor": "white",
                          "linecolor": "white",
                          "minorgridcolor": "white",
                          "startlinecolor": "#2a3f5f"
                        },
                        "type": "carpet"
                      }
                    ],
                    "choropleth": [
                      {
                        "colorbar": {
                          "outlinewidth": 0,
                          "ticks": ""
                        },
                        "type": "choropleth"
                      }
                    ],
                    "contour": [
                      {
                        "colorbar": {
                          "outlinewidth": 0,
                          "ticks": ""
                        },
                        "colorscale": [
                          [
                            0,
                            "#0d0887"
                          ],
                          [
                            0.1111111111111111,
                            "#46039f"
                          ],
                          [
                            0.2222222222222222,
                            "#7201a8"
                          ],
                          [
                            0.3333333333333333,
                            "#9c179e"
                          ],
                          [
                            0.4444444444444444,
                            "#bd3786"
                          ],
                          [
                            0.5555555555555556,
                            "#d8576b"
                          ],
                          [
                            0.6666666666666666,
                            "#ed7953"
                          ],
                          [
                            0.7777777777777778,
                            "#fb9f3a"
                          ],
                          [
                            0.8888888888888888,
                            "#fdca26"
                          ],
                          [
                            1,
                            "#f0f921"
                          ]
                        ],
                        "type": "contour"
                      }
                    ],
                    "contourcarpet": [
                      {
                        "colorbar": {
                          "outlinewidth": 0,
                          "ticks": ""
                        },
                        "type": "contourcarpet"
                      }
                    ],
                    "heatmap": [
                      {
                        "colorbar": {
                          "outlinewidth": 0,
                          "ticks": ""
                        },
                        "colorscale": [
                          [
                            0,
                            "#0d0887"
                          ],
                          [
                            0.1111111111111111,
                            "#46039f"
                          ],
                          [
                            0.2222222222222222,
                            "#7201a8"
                          ],
                          [
                            0.3333333333333333,
                            "#9c179e"
                          ],
                          [
                            0.4444444444444444,
                            "#bd3786"
                          ],
                          [
                            0.5555555555555556,
                            "#d8576b"
                          ],
                          [
                            0.6666666666666666,
                            "#ed7953"
                          ],
                          [
                            0.7777777777777778,
                            "#fb9f3a"
                          ],
                          [
                            0.8888888888888888,
                            "#fdca26"
                          ],
                          [
                            1,
                            "#f0f921"
                          ]
                        ],
                        "type": "heatmap"
                      }
                    ],
                    "histogram": [
                      {
                        "marker": {
                          "pattern": {
                            "fillmode": "overlay",
                            "size": 10,
                            "solidity": 0.2
                          }
                        },
                        "type": "histogram"
                      }
                    ],
                    "histogram2d": [
                      {
                        "colorbar": {
                          "outlinewidth": 0,
                          "ticks": ""
                        },
                        "colorscale": [
                          [
                            0,
                            "#0d0887"
                          ],
                          [
                            0.1111111111111111,
                            "#46039f"
                          ],
                          [
                            0.2222222222222222,
                            "#7201a8"
                          ],
                          [
                            0.3333333333333333,
                            "#9c179e"
                          ],
                          [
                            0.4444444444444444,
                            "#bd3786"
                          ],
                          [
                            0.5555555555555556,
                            "#d8576b"
                          ],
                          [
                            0.6666666666666666,
                            "#ed7953"
                          ],
                          [
                            0.7777777777777778,
                            "#fb9f3a"
                          ],
                          [
                            0.8888888888888888,
                            "#fdca26"
                          ],
                          [
                            1,
                            "#f0f921"
                          ]
                        ],
                        "type": "histogram2d"
                      }
                    ],
                    "histogram2dcontour": [
                      {
                        "colorbar": {
                          "outlinewidth": 0,
                          "ticks": ""
                        },
                        "colorscale": [
                          [
                            0,
                            "#0d0887"
                          ],
                          [
                            0.1111111111111111,
                            "#46039f"
                          ],
                          [
                            0.2222222222222222,
                            "#7201a8"
                          ],
                          [
                            0.3333333333333333,
                            "#9c179e"
                          ],
                          [
                            0.4444444444444444,
                            "#bd3786"
                          ],
                          [
                            0.5555555555555556,
                            "#d8576b"
                          ],
                          [
                            0.6666666666666666,
                            "#ed7953"
                          ],
                          [
                            0.7777777777777778,
                            "#fb9f3a"
                          ],
                          [
                            0.8888888888888888,
                            "#fdca26"
                          ],
                          [
                            1,
                            "#f0f921"
                          ]
                        ],
                        "type": "histogram2dcontour"
                      }
                    ],
                    "mesh3d": [
                      {
                        "colorbar": {
                          "outlinewidth": 0,
                          "ticks": ""
                        },
                        "type": "mesh3d"
                      }
                    ],
                    "parcoords": [
                      {
                        "line": {
                          "colorbar": {
                            "outlinewidth": 0,
                            "ticks": ""
                          }
                        },
                        "type": "parcoords"
                      }
                    ],
                    "pie": [
                      {
                        "automargin": true,
                        "type": "pie"
                      }
                    ],
                    "scatter": [
                      {
                        "fillpattern": {
                          "fillmode": "overlay",
                          "size": 10,
                          "solidity": 0.2
                        },
                        "type": "scatter"
                      }
                    ],
                    "scatter3d": [
                      {
                        "line": {
                          "colorbar": {
                            "outlinewidth": 0,
                            "ticks": ""
                          }
                        },
                        "marker": {
                          "colorbar": {
                            "outlinewidth": 0,
                            "ticks": ""
                          }
                        },
                        "type": "scatter3d"
                      }
                    ],
                    "scattercarpet": [
                      {
                        "marker": {
                          "colorbar": {
                            "outlinewidth": 0,
                            "ticks": ""
                          }
                        },
                        "type": "scattercarpet"
                      }
                    ],
                    "scattergeo": [
                      {
                        "marker": {
                          "colorbar": {
                            "outlinewidth": 0,
                            "ticks": ""
                          }
                        },
                        "type": "scattergeo"
                      }
                    ],
                    "scattergl": [
                      {
                        "marker": {
                          "colorbar": {
                            "outlinewidth": 0,
                            "ticks": ""
                          }
                        },
                        "type": "scattergl"
                      }
                    ],
                    "scattermap": [
                      {
                        "marker": {
                          "colorbar": {
                            "outlinewidth": 0,
                            "ticks": ""
                          }
                        },
                        "type": "scattermap"
                      }
                    ],
                    "scattermapbox": [
                      {
                        "marker": {
                          "colorbar": {
                            "outlinewidth": 0,
                            "ticks": ""
                          }
                        },
                        "type": "scattermapbox"
                      }
                    ],
                    "scatterpolar": [
                      {
                        "marker": {
                          "colorbar": {
                            "outlinewidth": 0,
                            "ticks": ""
                          }
                        },
                        "type": "scatterpolar"
                      }
                    ],
                    "scatterpolargl": [
                      {
                        "marker": {
                          "colorbar": {
                            "outlinewidth": 0,
                            "ticks": ""
                          }
                        },
                        "type": "scatterpolargl"
                      }
                    ],
                    "scatterternary": [
                      {
                        "marker": {
                          "colorbar": {
                            "outlinewidth": 0,
                            "ticks": ""
                          }
                        },
                        "type": "scatterternary"
                      }
                    ],
                    "surface": [
                      {
                        "colorbar": {
                          "outlinewidth": 0,
                          "ticks": ""
                        },
                        "colorscale": [
                          [
                            0,
                            "#0d0887"
                          ],
                          [
                            0.1111111111111111,
                            "#46039f"
                          ],
                          [
                            0.2222222222222222,
                            "#7201a8"
                          ],
                          [
                            0.3333333333333333,
                            "#9c179e"
                          ],
                          [
                            0.4444444444444444,
                            "#bd3786"
                          ],
                          [
                            0.5555555555555556,
                            "#d8576b"
                          ],
                          [
                            0.6666666666666666,
                            "#ed7953"
                          ],
                          [
                            0.7777777777777778,
                            "#fb9f3a"
                          ],
                          [
                            0.8888888888888888,
                            "#fdca26"
                          ],
                          [
                            1,
                            "#f0f921"
                          ]
                        ],
                        "type": "surface"
                      }
                    ],
                    "table": [
                      {
                        "cells": {
                          "fill": {
                            "color": "#EBF0F8"
                          },
                          "line": {
                            "color": "white"
                          }
                        },
                        "header": {
                          "fill": {
                            "color": "#C8D4E3"
                          },
                          "line": {
                            "color": "white"
                          }
                        },
                        "type": "table"
                      }
                    ]
                  },
                  "layout": {
                    "annotationdefaults": {
                      "arrowcolor": "#2a3f5f",
                      "arrowhead": 0,
                      "arrowwidth": 1
                    },
                    "autotypenumbers": "strict",
                    "coloraxis": {
                      "colorbar": {
                        "outlinewidth": 0,
                        "ticks": ""
                      }
                    },
                    "colorscale": {
                      "diverging": [
                        [
                          0,
                          "#8e0152"
                        ],
                        [
                          0.1,
                          "#c51b7d"
                        ],
                        [
                          0.2,
                          "#de77ae"
                        ],
                        [
                          0.3,
                          "#f1b6da"
                        ],
                        [
                          0.4,
                          "#fde0ef"
                        ],
                        [
                          0.5,
                          "#f7f7f7"
                        ],
                        [
                          0.6,
                          "#e6f5d0"
                        ],
                        [
                          0.7,
                          "#b8e186"
                        ],
                        [
                          0.8,
                          "#7fbc41"
                        ],
                        [
                          0.9,
                          "#4d9221"
                        ],
                        [
                          1,
                          "#276419"
                        ]
                      ],
                      "sequential": [
                        [
                          0,
                          "#0d0887"
                        ],
                        [
                          0.1111111111111111,
                          "#46039f"
                        ],
                        [
                          0.2222222222222222,
                          "#7201a8"
                        ],
                        [
                          0.3333333333333333,
                          "#9c179e"
                        ],
                        [
                          0.4444444444444444,
                          "#bd3786"
                        ],
                        [
                          0.5555555555555556,
                          "#d8576b"
                        ],
                        [
                          0.6666666666666666,
                          "#ed7953"
                        ],
                        [
                          0.7777777777777778,
                          "#fb9f3a"
                        ],
                        [
                          0.8888888888888888,
                          "#fdca26"
                        ],
                        [
                          1,
                          "#f0f921"
                        ]
                      ],
                      "sequentialminus": [
                        [
                          0,
                          "#0d0887"
                        ],
                        [
                          0.1111111111111111,
                          "#46039f"
                        ],
                        [
                          0.2222222222222222,
                          "#7201a8"
                        ],
                        [
                          0.3333333333333333,
                          "#9c179e"
                        ],
                        [
                          0.4444444444444444,
                          "#bd3786"
                        ],
                        [
                          0.5555555555555556,
                          "#d8576b"
                        ],
                        [
                          0.6666666666666666,
                          "#ed7953"
                        ],
                        [
                          0.7777777777777778,
                          "#fb9f3a"
                        ],
                        [
                          0.8888888888888888,
                          "#fdca26"
                        ],
                        [
                          1,
                          "#f0f921"
                        ]
                      ]
                    },
                    "colorway": [
                      "#636efa",
                      "#EF553B",
                      "#00cc96",
                      "#ab63fa",
                      "#FFA15A",
                      "#19d3f3",
                      "#FF6692",
                      "#B6E880",
                      "#FF97FF",
                      "#FECB52"
                    ],
                    "font": {
                      "color": "#2a3f5f"
                    },
                    "geo": {
                      "bgcolor": "white",
                      "lakecolor": "white",
                      "landcolor": "#E5ECF6",
                      "showlakes": true,
                      "showland": true,
                      "subunitcolor": "white"
                    },
                    "hoverlabel": {
                      "align": "left"
                    },
                    "hovermode": "closest",
                    "mapbox": {
                      "style": "light"
                    },
                    "paper_bgcolor": "white",
                    "plot_bgcolor": "#E5ECF6",
                    "polar": {
                      "angularaxis": {
                        "gridcolor": "white",
                        "linecolor": "white",
                        "ticks": ""
                      },
                      "bgcolor": "#E5ECF6",
                      "radialaxis": {
                        "gridcolor": "white",
                        "linecolor": "white",
                        "ticks": ""
                      }
                    },
                    "scene": {
                      "xaxis": {
                        "backgroundcolor": "#E5ECF6",
                        "gridcolor": "white",
                        "gridwidth": 2,
                        "linecolor": "white",
                        "showbackground": true,
                        "ticks": "",
                        "zerolinecolor": "white"
                      },
                      "yaxis": {
                        "backgroundcolor": "#E5ECF6",
                        "gridcolor": "white",
                        "gridwidth": 2,
                        "linecolor": "white",
                        "showbackground": true,
                        "ticks": "",
                        "zerolinecolor": "white"
                      },
                      "zaxis": {
                        "backgroundcolor": "#E5ECF6",
                        "gridcolor": "white",
                        "gridwidth": 2,
                        "linecolor": "white",
                        "showbackground": true,
                        "ticks": "",
                        "zerolinecolor": "white"
                      }
                    },
                    "shapedefaults": {
                      "line": {
                        "color": "#2a3f5f"
                      }
                    },
                    "ternary": {
                      "aaxis": {
                        "gridcolor": "white",
                        "linecolor": "white",
                        "ticks": ""
                      },
                      "baxis": {
                        "gridcolor": "white",
                        "linecolor": "white",
                        "ticks": ""
                      },
                      "bgcolor": "#E5ECF6",
                      "caxis": {
                        "gridcolor": "white",
                        "linecolor": "white",
                        "ticks": ""
                      }
                    },
                    "title": {
                      "x": 0.05
                    },
                    "xaxis": {
                      "automargin": true,
                      "gridcolor": "white",
                      "linecolor": "white",
                      "ticks": "",
                      "title": {
                        "standoff": 15
                      },
                      "zerolinecolor": "white",
                      "zerolinewidth": 2
                    },
                    "yaxis": {
                      "automargin": true,
                      "gridcolor": "white",
                      "linecolor": "white",
                      "ticks": "",
                      "title": {
                        "standoff": 15
                      },
                      "zerolinecolor": "white",
                      "zerolinewidth": 2
                    }
                  }
                },
                "title": {
                  "text": "Confusion Matrix for Logistic Regression (SMOTE)",
                  "x": 0.5
                },
                "xaxis": {
                  "anchor": "y",
                  "constrain": "domain",
                  "domain": [
                    0,
                    1
                  ],
                  "scaleanchor": "y",
                  "title": {
                    "text": "Predicted Label"
                  }
                },
                "yaxis": {
                  "anchor": "x",
                  "autorange": "reversed",
                  "constrain": "domain",
                  "domain": [
                    0,
                    1
                  ],
                  "title": {
                    "text": "True Label"
                  }
                }
              }
            }
          },
          "metadata": {},
          "output_type": "display_data"
        },
        {
          "data": {
            "application/vnd.plotly.v1+json": {
              "config": {
                "plotlyServerURL": "https://plot.ly"
              },
              "data": [
                {
                  "coloraxis": "coloraxis",
                  "hovertemplate": "Predicted Label: %{x}<br>True Label: %{y}<br>Count: %{z}<extra></extra>",
                  "name": "0",
                  "texttemplate": "%{z}",
                  "type": "heatmap",
                  "x": [
                    "Not Readmitted (0)",
                    "Readmitted (1)"
                  ],
                  "xaxis": "x",
                  "y": [
                    "Not Readmitted (0)",
                    "Readmitted (1)"
                  ],
                  "yaxis": "y",
                  "z": {
                    "bdata": "TSvPBooDYQE=",
                    "dtype": "i2",
                    "shape": "2, 2"
                  }
                }
              ],
              "layout": {
                "coloraxis": {
                  "colorbar": {
                    "title": {
                      "text": "Count"
                    }
                  },
                  "colorscale": [
                    [
                      0,
                      "rgb(247,251,255)"
                    ],
                    [
                      0.125,
                      "rgb(222,235,247)"
                    ],
                    [
                      0.25,
                      "rgb(198,219,239)"
                    ],
                    [
                      0.375,
                      "rgb(158,202,225)"
                    ],
                    [
                      0.5,
                      "rgb(107,174,214)"
                    ],
                    [
                      0.625,
                      "rgb(66,146,198)"
                    ],
                    [
                      0.75,
                      "rgb(33,113,181)"
                    ],
                    [
                      0.875,
                      "rgb(8,81,156)"
                    ],
                    [
                      1,
                      "rgb(8,48,107)"
                    ]
                  ]
                },
                "template": {
                  "data": {
                    "bar": [
                      {
                        "error_x": {
                          "color": "#2a3f5f"
                        },
                        "error_y": {
                          "color": "#2a3f5f"
                        },
                        "marker": {
                          "line": {
                            "color": "#E5ECF6",
                            "width": 0.5
                          },
                          "pattern": {
                            "fillmode": "overlay",
                            "size": 10,
                            "solidity": 0.2
                          }
                        },
                        "type": "bar"
                      }
                    ],
                    "barpolar": [
                      {
                        "marker": {
                          "line": {
                            "color": "#E5ECF6",
                            "width": 0.5
                          },
                          "pattern": {
                            "fillmode": "overlay",
                            "size": 10,
                            "solidity": 0.2
                          }
                        },
                        "type": "barpolar"
                      }
                    ],
                    "carpet": [
                      {
                        "aaxis": {
                          "endlinecolor": "#2a3f5f",
                          "gridcolor": "white",
                          "linecolor": "white",
                          "minorgridcolor": "white",
                          "startlinecolor": "#2a3f5f"
                        },
                        "baxis": {
                          "endlinecolor": "#2a3f5f",
                          "gridcolor": "white",
                          "linecolor": "white",
                          "minorgridcolor": "white",
                          "startlinecolor": "#2a3f5f"
                        },
                        "type": "carpet"
                      }
                    ],
                    "choropleth": [
                      {
                        "colorbar": {
                          "outlinewidth": 0,
                          "ticks": ""
                        },
                        "type": "choropleth"
                      }
                    ],
                    "contour": [
                      {
                        "colorbar": {
                          "outlinewidth": 0,
                          "ticks": ""
                        },
                        "colorscale": [
                          [
                            0,
                            "#0d0887"
                          ],
                          [
                            0.1111111111111111,
                            "#46039f"
                          ],
                          [
                            0.2222222222222222,
                            "#7201a8"
                          ],
                          [
                            0.3333333333333333,
                            "#9c179e"
                          ],
                          [
                            0.4444444444444444,
                            "#bd3786"
                          ],
                          [
                            0.5555555555555556,
                            "#d8576b"
                          ],
                          [
                            0.6666666666666666,
                            "#ed7953"
                          ],
                          [
                            0.7777777777777778,
                            "#fb9f3a"
                          ],
                          [
                            0.8888888888888888,
                            "#fdca26"
                          ],
                          [
                            1,
                            "#f0f921"
                          ]
                        ],
                        "type": "contour"
                      }
                    ],
                    "contourcarpet": [
                      {
                        "colorbar": {
                          "outlinewidth": 0,
                          "ticks": ""
                        },
                        "type": "contourcarpet"
                      }
                    ],
                    "heatmap": [
                      {
                        "colorbar": {
                          "outlinewidth": 0,
                          "ticks": ""
                        },
                        "colorscale": [
                          [
                            0,
                            "#0d0887"
                          ],
                          [
                            0.1111111111111111,
                            "#46039f"
                          ],
                          [
                            0.2222222222222222,
                            "#7201a8"
                          ],
                          [
                            0.3333333333333333,
                            "#9c179e"
                          ],
                          [
                            0.4444444444444444,
                            "#bd3786"
                          ],
                          [
                            0.5555555555555556,
                            "#d8576b"
                          ],
                          [
                            0.6666666666666666,
                            "#ed7953"
                          ],
                          [
                            0.7777777777777778,
                            "#fb9f3a"
                          ],
                          [
                            0.8888888888888888,
                            "#fdca26"
                          ],
                          [
                            1,
                            "#f0f921"
                          ]
                        ],
                        "type": "heatmap"
                      }
                    ],
                    "histogram": [
                      {
                        "marker": {
                          "pattern": {
                            "fillmode": "overlay",
                            "size": 10,
                            "solidity": 0.2
                          }
                        },
                        "type": "histogram"
                      }
                    ],
                    "histogram2d": [
                      {
                        "colorbar": {
                          "outlinewidth": 0,
                          "ticks": ""
                        },
                        "colorscale": [
                          [
                            0,
                            "#0d0887"
                          ],
                          [
                            0.1111111111111111,
                            "#46039f"
                          ],
                          [
                            0.2222222222222222,
                            "#7201a8"
                          ],
                          [
                            0.3333333333333333,
                            "#9c179e"
                          ],
                          [
                            0.4444444444444444,
                            "#bd3786"
                          ],
                          [
                            0.5555555555555556,
                            "#d8576b"
                          ],
                          [
                            0.6666666666666666,
                            "#ed7953"
                          ],
                          [
                            0.7777777777777778,
                            "#fb9f3a"
                          ],
                          [
                            0.8888888888888888,
                            "#fdca26"
                          ],
                          [
                            1,
                            "#f0f921"
                          ]
                        ],
                        "type": "histogram2d"
                      }
                    ],
                    "histogram2dcontour": [
                      {
                        "colorbar": {
                          "outlinewidth": 0,
                          "ticks": ""
                        },
                        "colorscale": [
                          [
                            0,
                            "#0d0887"
                          ],
                          [
                            0.1111111111111111,
                            "#46039f"
                          ],
                          [
                            0.2222222222222222,
                            "#7201a8"
                          ],
                          [
                            0.3333333333333333,
                            "#9c179e"
                          ],
                          [
                            0.4444444444444444,
                            "#bd3786"
                          ],
                          [
                            0.5555555555555556,
                            "#d8576b"
                          ],
                          [
                            0.6666666666666666,
                            "#ed7953"
                          ],
                          [
                            0.7777777777777778,
                            "#fb9f3a"
                          ],
                          [
                            0.8888888888888888,
                            "#fdca26"
                          ],
                          [
                            1,
                            "#f0f921"
                          ]
                        ],
                        "type": "histogram2dcontour"
                      }
                    ],
                    "mesh3d": [
                      {
                        "colorbar": {
                          "outlinewidth": 0,
                          "ticks": ""
                        },
                        "type": "mesh3d"
                      }
                    ],
                    "parcoords": [
                      {
                        "line": {
                          "colorbar": {
                            "outlinewidth": 0,
                            "ticks": ""
                          }
                        },
                        "type": "parcoords"
                      }
                    ],
                    "pie": [
                      {
                        "automargin": true,
                        "type": "pie"
                      }
                    ],
                    "scatter": [
                      {
                        "fillpattern": {
                          "fillmode": "overlay",
                          "size": 10,
                          "solidity": 0.2
                        },
                        "type": "scatter"
                      }
                    ],
                    "scatter3d": [
                      {
                        "line": {
                          "colorbar": {
                            "outlinewidth": 0,
                            "ticks": ""
                          }
                        },
                        "marker": {
                          "colorbar": {
                            "outlinewidth": 0,
                            "ticks": ""
                          }
                        },
                        "type": "scatter3d"
                      }
                    ],
                    "scattercarpet": [
                      {
                        "marker": {
                          "colorbar": {
                            "outlinewidth": 0,
                            "ticks": ""
                          }
                        },
                        "type": "scattercarpet"
                      }
                    ],
                    "scattergeo": [
                      {
                        "marker": {
                          "colorbar": {
                            "outlinewidth": 0,
                            "ticks": ""
                          }
                        },
                        "type": "scattergeo"
                      }
                    ],
                    "scattergl": [
                      {
                        "marker": {
                          "colorbar": {
                            "outlinewidth": 0,
                            "ticks": ""
                          }
                        },
                        "type": "scattergl"
                      }
                    ],
                    "scattermap": [
                      {
                        "marker": {
                          "colorbar": {
                            "outlinewidth": 0,
                            "ticks": ""
                          }
                        },
                        "type": "scattermap"
                      }
                    ],
                    "scattermapbox": [
                      {
                        "marker": {
                          "colorbar": {
                            "outlinewidth": 0,
                            "ticks": ""
                          }
                        },
                        "type": "scattermapbox"
                      }
                    ],
                    "scatterpolar": [
                      {
                        "marker": {
                          "colorbar": {
                            "outlinewidth": 0,
                            "ticks": ""
                          }
                        },
                        "type": "scatterpolar"
                      }
                    ],
                    "scatterpolargl": [
                      {
                        "marker": {
                          "colorbar": {
                            "outlinewidth": 0,
                            "ticks": ""
                          }
                        },
                        "type": "scatterpolargl"
                      }
                    ],
                    "scatterternary": [
                      {
                        "marker": {
                          "colorbar": {
                            "outlinewidth": 0,
                            "ticks": ""
                          }
                        },
                        "type": "scatterternary"
                      }
                    ],
                    "surface": [
                      {
                        "colorbar": {
                          "outlinewidth": 0,
                          "ticks": ""
                        },
                        "colorscale": [
                          [
                            0,
                            "#0d0887"
                          ],
                          [
                            0.1111111111111111,
                            "#46039f"
                          ],
                          [
                            0.2222222222222222,
                            "#7201a8"
                          ],
                          [
                            0.3333333333333333,
                            "#9c179e"
                          ],
                          [
                            0.4444444444444444,
                            "#bd3786"
                          ],
                          [
                            0.5555555555555556,
                            "#d8576b"
                          ],
                          [
                            0.6666666666666666,
                            "#ed7953"
                          ],
                          [
                            0.7777777777777778,
                            "#fb9f3a"
                          ],
                          [
                            0.8888888888888888,
                            "#fdca26"
                          ],
                          [
                            1,
                            "#f0f921"
                          ]
                        ],
                        "type": "surface"
                      }
                    ],
                    "table": [
                      {
                        "cells": {
                          "fill": {
                            "color": "#EBF0F8"
                          },
                          "line": {
                            "color": "white"
                          }
                        },
                        "header": {
                          "fill": {
                            "color": "#C8D4E3"
                          },
                          "line": {
                            "color": "white"
                          }
                        },
                        "type": "table"
                      }
                    ]
                  },
                  "layout": {
                    "annotationdefaults": {
                      "arrowcolor": "#2a3f5f",
                      "arrowhead": 0,
                      "arrowwidth": 1
                    },
                    "autotypenumbers": "strict",
                    "coloraxis": {
                      "colorbar": {
                        "outlinewidth": 0,
                        "ticks": ""
                      }
                    },
                    "colorscale": {
                      "diverging": [
                        [
                          0,
                          "#8e0152"
                        ],
                        [
                          0.1,
                          "#c51b7d"
                        ],
                        [
                          0.2,
                          "#de77ae"
                        ],
                        [
                          0.3,
                          "#f1b6da"
                        ],
                        [
                          0.4,
                          "#fde0ef"
                        ],
                        [
                          0.5,
                          "#f7f7f7"
                        ],
                        [
                          0.6,
                          "#e6f5d0"
                        ],
                        [
                          0.7,
                          "#b8e186"
                        ],
                        [
                          0.8,
                          "#7fbc41"
                        ],
                        [
                          0.9,
                          "#4d9221"
                        ],
                        [
                          1,
                          "#276419"
                        ]
                      ],
                      "sequential": [
                        [
                          0,
                          "#0d0887"
                        ],
                        [
                          0.1111111111111111,
                          "#46039f"
                        ],
                        [
                          0.2222222222222222,
                          "#7201a8"
                        ],
                        [
                          0.3333333333333333,
                          "#9c179e"
                        ],
                        [
                          0.4444444444444444,
                          "#bd3786"
                        ],
                        [
                          0.5555555555555556,
                          "#d8576b"
                        ],
                        [
                          0.6666666666666666,
                          "#ed7953"
                        ],
                        [
                          0.7777777777777778,
                          "#fb9f3a"
                        ],
                        [
                          0.8888888888888888,
                          "#fdca26"
                        ],
                        [
                          1,
                          "#f0f921"
                        ]
                      ],
                      "sequentialminus": [
                        [
                          0,
                          "#0d0887"
                        ],
                        [
                          0.1111111111111111,
                          "#46039f"
                        ],
                        [
                          0.2222222222222222,
                          "#7201a8"
                        ],
                        [
                          0.3333333333333333,
                          "#9c179e"
                        ],
                        [
                          0.4444444444444444,
                          "#bd3786"
                        ],
                        [
                          0.5555555555555556,
                          "#d8576b"
                        ],
                        [
                          0.6666666666666666,
                          "#ed7953"
                        ],
                        [
                          0.7777777777777778,
                          "#fb9f3a"
                        ],
                        [
                          0.8888888888888888,
                          "#fdca26"
                        ],
                        [
                          1,
                          "#f0f921"
                        ]
                      ]
                    },
                    "colorway": [
                      "#636efa",
                      "#EF553B",
                      "#00cc96",
                      "#ab63fa",
                      "#FFA15A",
                      "#19d3f3",
                      "#FF6692",
                      "#B6E880",
                      "#FF97FF",
                      "#FECB52"
                    ],
                    "font": {
                      "color": "#2a3f5f"
                    },
                    "geo": {
                      "bgcolor": "white",
                      "lakecolor": "white",
                      "landcolor": "#E5ECF6",
                      "showlakes": true,
                      "showland": true,
                      "subunitcolor": "white"
                    },
                    "hoverlabel": {
                      "align": "left"
                    },
                    "hovermode": "closest",
                    "mapbox": {
                      "style": "light"
                    },
                    "paper_bgcolor": "white",
                    "plot_bgcolor": "#E5ECF6",
                    "polar": {
                      "angularaxis": {
                        "gridcolor": "white",
                        "linecolor": "white",
                        "ticks": ""
                      },
                      "bgcolor": "#E5ECF6",
                      "radialaxis": {
                        "gridcolor": "white",
                        "linecolor": "white",
                        "ticks": ""
                      }
                    },
                    "scene": {
                      "xaxis": {
                        "backgroundcolor": "#E5ECF6",
                        "gridcolor": "white",
                        "gridwidth": 2,
                        "linecolor": "white",
                        "showbackground": true,
                        "ticks": "",
                        "zerolinecolor": "white"
                      },
                      "yaxis": {
                        "backgroundcolor": "#E5ECF6",
                        "gridcolor": "white",
                        "gridwidth": 2,
                        "linecolor": "white",
                        "showbackground": true,
                        "ticks": "",
                        "zerolinecolor": "white"
                      },
                      "zaxis": {
                        "backgroundcolor": "#E5ECF6",
                        "gridcolor": "white",
                        "gridwidth": 2,
                        "linecolor": "white",
                        "showbackground": true,
                        "ticks": "",
                        "zerolinecolor": "white"
                      }
                    },
                    "shapedefaults": {
                      "line": {
                        "color": "#2a3f5f"
                      }
                    },
                    "ternary": {
                      "aaxis": {
                        "gridcolor": "white",
                        "linecolor": "white",
                        "ticks": ""
                      },
                      "baxis": {
                        "gridcolor": "white",
                        "linecolor": "white",
                        "ticks": ""
                      },
                      "bgcolor": "#E5ECF6",
                      "caxis": {
                        "gridcolor": "white",
                        "linecolor": "white",
                        "ticks": ""
                      }
                    },
                    "title": {
                      "x": 0.05
                    },
                    "xaxis": {
                      "automargin": true,
                      "gridcolor": "white",
                      "linecolor": "white",
                      "ticks": "",
                      "title": {
                        "standoff": 15
                      },
                      "zerolinecolor": "white",
                      "zerolinewidth": 2
                    },
                    "yaxis": {
                      "automargin": true,
                      "gridcolor": "white",
                      "linecolor": "white",
                      "ticks": "",
                      "title": {
                        "standoff": 15
                      },
                      "zerolinecolor": "white",
                      "zerolinewidth": 2
                    }
                  }
                },
                "title": {
                  "text": "Confusion Matrix for XGBoost (SMOTEENN)",
                  "x": 0.5
                },
                "xaxis": {
                  "anchor": "y",
                  "constrain": "domain",
                  "domain": [
                    0,
                    1
                  ],
                  "scaleanchor": "y",
                  "title": {
                    "text": "Predicted Label"
                  }
                },
                "yaxis": {
                  "anchor": "x",
                  "autorange": "reversed",
                  "constrain": "domain",
                  "domain": [
                    0,
                    1
                  ],
                  "title": {
                    "text": "True Label"
                  }
                }
              }
            }
          },
          "metadata": {},
          "output_type": "display_data"
        }
      ],
      "source": [
        "# If you haven't installed plotly yet, you can do so by running: !pip install plotly\n",
        "import pandas as pd\n",
        "from sklearn.metrics import classification_report, accuracy_score, confusion_matrix\n",
        "import plotly.express as px\n",
        "\n",
        "# --- Create a summary of model performance to identify the top 3 ---\n",
        "results_summary = []\n",
        "for model_name, model_samplers in results.items():\n",
        "    for sampler_name, model_data in model_samplers.items():\n",
        "        best_estimator = model_data['best_estimator']\n",
        "        y_pred = best_estimator.predict(X_test)\n",
        "        report = classification_report(y_test, y_pred, output_dict=True)\n",
        "        \n",
        "        # Safely get the F1-score for class 1\n",
        "        f1_class_1 = report.get('1', {}).get('f1-score', 0)\n",
        "        \n",
        "        results_summary.append({\n",
        "            'ModelName': model_name,\n",
        "            'SamplerName': sampler_name,\n",
        "            'F1-score (Class 1)': f1_class_1\n",
        "        })\n",
        "\n",
        "summary_df = pd.DataFrame(results_summary)\n",
        "\n",
        "# Get the top 3 models\n",
        "top_3_models = summary_df.sort_values(by='F1-score (Class 1)', ascending=False).head(3)\n",
        "\n",
        "print(\"Plotting confusion matrices for the top 3 models based on F1-score for Class 1:\")\n",
        "print(top_3_models)\n",
        "\n",
        "# --- Loop through the top 3 models and plot their confusion matrices ---\n",
        "for index, row in top_3_models.iterrows():\n",
        "    model_name = row['ModelName']\n",
        "    sampler_name = row['SamplerName']\n",
        "    \n",
        "    # Get the best estimator from the results dictionary\n",
        "    best_estimator = results[model_name][sampler_name]['best_estimator']\n",
        "    \n",
        "    # Make predictions\n",
        "    y_pred = best_estimator.predict(X_test)\n",
        "    \n",
        "    # Create the confusion matrix\n",
        "    cm = confusion_matrix(y_test, y_pred)\n",
        "    \n",
        "    # Create the plot with Plotly Express\n",
        "    fig = px.imshow(cm,\n",
        "                    labels=dict(x=\"Predicted Label\", y=\"True Label\", color=\"Count\"),\n",
        "                    x=['Not Readmitted (0)', 'Readmitted (1)'],\n",
        "                    y=['Not Readmitted (0)', 'Readmitted (1)'],\n",
        "                    text_auto=True,  # Automatically display the values on theheatmap\n",
        "                    color_continuous_scale='Blues',\n",
        "                    title=f'Confusion Matrix for {model_name} ({sampler_name})'\n",
        "                   )\n",
        "    \n",
        "    fig.update_layout(title_x=0.5) # Center the title\n",
        "    fig.show()"
      ]
    },
    {
      "cell_type": "markdown",
      "id": "23be73b1",
      "metadata": {},
      "source": [
        "# Iteration 5"
      ]
    },
    {
      "cell_type": "code",
      "execution_count": 73,
      "id": "850761af",
      "metadata": {},
      "outputs": [],
      "source": [
        "# 1. Data Loading and Preprocessing (from Iteration 4)\n",
        "diabetes_df = pd.read_csv(\"https://archive.ics.uci.edu/static/public/296/data.csv\", low_memory=False)\n",
        "\n",
        "cols_to_drop = ['weight', 'max_glu_serum', 'A1Cresult', 'payer_code', 'medical_specialty']\n",
        "diabetes_df.drop(columns=cols_to_drop, inplace=True)\n",
        "diabetes_df['race'] = diabetes_df['race'].fillna('Other')\n",
        "cols_with_one_value = ['examide', 'citoglipton']\n",
        "diabetes_df.drop(columns=cols_with_one_value, inplace=True)\n",
        "diabetes_df = diabetes_df[diabetes_df['gender'] != 'Unknown/Invalid']\n",
        "diabetes_df = diabetes_df.drop_duplicates(['patient_nbr'], keep='first')\n",
        "id_cols = ['encounter_id', 'patient_nbr']\n",
        "diabetes_df.drop(columns=id_cols, inplace=True)\n",
        "def simplify_age_group(age_str):\n",
        "    if pd.isna(age_str):\n",
        "        return \"Unknown\"\n",
        "    age_num = int(age_str.split('-')[0].replace('[', ''))\n",
        "    if age_num < 30:\n",
        "        return \"young_less_than_30\"\n",
        "    elif age_num < 50:\n",
        "        return \"middle_30_49\"\n",
        "    elif age_num < 70:\n",
        "        return \"older_50_69\"\n",
        "    else:\n",
        "        return \"elderly_more_than_70\"\n",
        "diabetes_df[\"age_simplified\"] = diabetes_df[\"age\"].apply(simplify_age_group)\n",
        "diabetes_df[\"age_simplified\"].describe().T\n",
        "diabetes_df['admission_type_id'] = diabetes_df['admission_type_id'].replace({2:1, 7:1, 6:5, 8:5})\n",
        "diabetes_df['discharge_disposition_id'] = diabetes_df['discharge_disposition_id'].replace({6:1, 8:1, 9:1, 13:1, 3:2, 4:2, 5:2, 14:2, 22:2, 23:2, 24:2, 12:10, 15:10, 16:10, 17:10, 25:18, 26:18})\n",
        "diabetes_df['admission_source_id'] = diabetes_df['admission_source_id'].replace({2:1, 3:1, 5:4, 6:4, 10:4, 22:4, 25:4, 15:9, 17:9, 20:9, 21:9, 12:11, 13:11, 14:11, 23:11, 24:11})\n",
        "diabetes_df = diabetes_df[~diabetes_df['discharge_disposition_id'].isin([11, 19, 20, 21])]\n",
        "\n",
        "def categorize_diagnosis(diag_code):\n",
        "    if pd.isna(diag_code): return 'Unknown'\n",
        "    diag_str = str(diag_code)\n",
        "    if diag_str.startswith('V') or diag_str.startswith('E'): return 'Other'\n",
        "    try: diag_num = float(diag_str)\n",
        "    except: return 'Other'\n",
        "    if 390 <= diag_num <= 459 or diag_num == 785: return 'Circulatory'\n",
        "    elif 460 <= diag_num <= 519 or diag_num == 786: return 'Respiratory'\n",
        "    elif 520 <= diag_num <= 579 or diag_num == 787: return 'Digestive'\n",
        "    elif 250 <= diag_num < 251: return 'Diabetes'\n",
        "    elif 800 <= diag_num <= 999: return 'Injury'\n",
        "    elif 710 <= diag_num <= 739: return 'Musculoskeletal'\n",
        "    elif 580 <= diag_num <= 629 or diag_num == 788: return 'Genitourinary'\n",
        "    elif 140 <= diag_num <= 239: return 'Neoplasms'\n",
        "    else: return 'Other'\n",
        "\n",
        "diabetes_df['diag_1_cat'] = diabetes_df['diag_1'].apply(categorize_diagnosis)\n",
        "diabetes_df['diag_2_cat'] = diabetes_df['diag_2'].apply(categorize_diagnosis)\n",
        "diabetes_df['diag_3_cat'] = diabetes_df['diag_3'].apply(categorize_diagnosis)\n",
        "diabetes_df.drop(columns=['diag_1', 'diag_2', 'diag_3'], inplace=True)\n",
        "diabetes_df['total_visits'] = diabetes_df['number_outpatient'] + diabetes_df['number_inpatient']+ diabetes_df['number_emergency']\n",
        "diabetes_df['procedure_intensity'] = diabetes_df['num_lab_procedures'] + diabetes_df['num_procedures']\n",
        "denom = diabetes_df['number_diagnoses'].replace(0, np.nan)\n",
        "diabetes_df['medication_intensity'] = (diabetes_df['num_medications'] / denom).fillna(0)\n",
        "\n",
        "diabetes_df['care_intensity_score'] = (\n",
        "    diabetes_df['num_medications'] * 0.3 +\n",
        "    diabetes_df['num_procedures'] * 0.3 +\n",
        "    diabetes_df['num_lab_procedures'] * 0.2 +\n",
        "    diabetes_df['number_diagnoses'] * 0.2\n",
        ")\n",
        "\n",
        "drug_keys = ['metformin', 'repaglinide', 'nateglinide', 'chlorpropamide', 'glimepiride', 'glipizide', 'glyburide', 'pioglitazone', 'rosiglitazone', 'acarbose', 'miglitol', 'insulin', 'glyburide-metformin', 'tolazamide', 'metformin-pioglitazone','metformin-rosiglitazone', 'glimepiride-pioglitazone', 'glipizide-metformin', 'troglitazone', 'tolbutamide', 'acetohexamide']\n",
        "diabetes_df['medication_count'] = diabetes_df[drug_keys].apply(lambda x: (x != 'No').sum(), axis=1)\n",
        "for col in drug_keys:\n",
        "    diabetes_df[col + 'temp'] = diabetes_df[col].apply(lambda x: 0 if (x == 'No' or x == 'Steady') else 1)\n",
        "diabetes_df['numchange'] = 0\n",
        "for col in drug_keys:\n",
        "    diabetes_df['numchange'] = diabetes_df['numchange'] + diabetes_df[col + 'temp']\n",
        "    del diabetes_df[col + 'temp']\n",
        "\n",
        "\n",
        "## admission-dishcarge path\n",
        "for c in ['admission_type_id','discharge_disposition_id']:\n",
        "    if c in diabetes_df.columns: diabetes_df[c] = pd.to_numeric(diabetes_df[c], errors='coerce')\n",
        "\n",
        "adm_map = {1:'Emergency',2:'Urgent',3:'Elective',4:'Newborn',7:'Trauma'}\n",
        "diabetes_df['admission_cat'] = diabetes_df['admission_type_id'].map(adm_map).fillna('Other')\n",
        "\n",
        "home_set={1}; transfer_set={2}; postacute_set={3,4,5,6}; ama_set={7}; death_set={11,19,20,21}; hospice_set={50,51}\n",
        "def discharge_bucket(x):\n",
        "    if pd.isna(x): return 'Unknown'\n",
        "    x=int(x)\n",
        "    if x in home_set: return 'Home'\n",
        "    if x in postacute_set: return 'PostAcute'\n",
        "    if x in transfer_set: return 'Transfer'\n",
        "    if x in ama_set: return 'AMA'\n",
        "    if x in death_set: return 'Died'\n",
        "    if x in hospice_set: return 'Hospice'\n",
        "    return 'Other'\n",
        "\n",
        "diabetes_df['discharge_cat'] = diabetes_df['discharge_disposition_id'].apply(discharge_bucket)\n",
        "\n",
        "diabetes_df['discharged_to_home'] = (diabetes_df['discharge_cat']=='Home').astype(int)\n",
        "diabetes_df['postacute_discharge'] = (diabetes_df['discharge_cat']=='PostAcute').astype(int)\n",
        "diabetes_df['transfer_discharge'] = (diabetes_df['discharge_cat']=='Transfer').astype(int)\n",
        "diabetes_df['left_against_medical'] = (diabetes_df['discharge_cat']=='AMA').astype(int)\n",
        "diabetes_df['in_hospital_mortality'] = (diabetes_df['discharge_cat']=='Died').astype(int)\n",
        "diabetes_df['hospice_discharge'] = (diabetes_df['discharge_cat']=='Hospice').astype(int)\n",
        "\n",
        "diabetes_df['adm_dis_path'] = diabetes_df['admission_cat'].str.cat(diabetes_df['discharge_cat'], sep='→')\n",
        "path_freq = diabetes_df['adm_dis_path'].value_counts()\n",
        "diabetes_df['adm_dis_path_freq'] = diabetes_df['adm_dis_path'].map(path_freq)\n",
        "\n",
        "K = 10\n",
        "topK_paths = path_freq.index[:K]\n",
        "for p in topK_paths:\n",
        "    diabetes_df['path_' + p.replace('→','_to_')] = (diabetes_df['adm_dis_path']==p).astype(int)\n",
        "\n",
        "diabetes_df['emergency_postacute'] = ((diabetes_df['admission_cat']=='Emergency') & (diabetes_df['postacute_discharge']==1)).astype(int)\n",
        "diabetes_df['elective_home']       = ((diabetes_df['admission_cat']=='Elective') & (diabetes_df['discharged_to_home']==1)).astype(int)\n",
        "\n",
        "\n",
        "### NEW FEATURES IN ITERATION 5\n",
        "# Create a mapping for the simplified age groups to a numeric scale\n",
        "age_mapping = {\n",
        "    \"young_less_than_30\": 1,\n",
        "    \"middle_30_49\": 2,\n",
        "    \"older_50_69\": 3,\n",
        "    \"elderly_more_than_70\": 4,\n",
        "    \"Unknown\": 0  # Assigning 0 to unknown or you can choose to use another value\n",
        "}\n",
        "# Apply the mapping to create a new numeric age column\n",
        "diabetes_df['age_simplified_numeric'] = diabetes_df['age_simplified'].map(age_mapping)\n",
        "diabetes_df['age_diag_interaction'] = diabetes_df['age_simplified_numeric'] * diabetes_df['number_diagnoses']\n",
        "diabetes_df['time_x_procedures'] = diabetes_df['time_in_hospital'] * diabetes_df['procedure_intensity']\n",
        "\n",
        "\n",
        "for col in ['diag_1_cat', 'diag_2_cat', 'diag_3_cat']:\n",
        "    diabetes_df[col] = diabetes_df[col].map(diagnosis_labels)\n",
        "diabetes_df['readmitted'] = diabetes_df['readmitted'].replace({'>30': 0, '<30': 1, 'NO': 0})\n",
        "drug_labels = {'No': 0, 'Down': 1, 'Steady': 2, 'Up': 3}\n",
        "for col in drug_keys:\n",
        "    diabetes_df[col] = diabetes_df[col].map(drug_labels)\n",
        "diabetes_df['change'] = diabetes_df['change'].replace({'No': 0, 'Ch': 1})\n",
        "diabetes_df['diabetesMed'] = diabetes_df['diabetesMed'].replace({'No': 0, 'Yes': 1})\n",
        "\n",
        "categorical_cols = ['race', 'gender', 'admission_type_id', 'discharge_disposition_id', 'admission_source_id', 'metformin', 'repaglinide', 'nateglinide', 'chlorpropamide', 'glimepiride', 'acetohexamide', 'glipizide', 'glyburide', 'tolbutamide', 'pioglitazone', 'rosiglitazone', 'acarbose','miglitol', 'troglitazone', 'tolazamide', 'insulin', 'glyburide-metformin', 'glipizide-metformin', 'glimepiride-pioglitazone', 'metformin-rosiglitazone', 'metformin-pioglitazone', 'change', 'diabetesMed', 'age_simplified', 'diag_1_cat', 'diag_2_cat', 'diag_3_cat']\n",
        "diabetes_df[categorical_cols] = diabetes_df[categorical_cols].astype('object')"
      ]
    },
    {
      "cell_type": "code",
      "execution_count": 74,
      "id": "b99aee16",
      "metadata": {},
      "outputs": [],
      "source": [
        "# Log transform\n",
        "numeric_features_original = diabetes_df.select_dtypes(include=['int64', 'float64']).columns.tolist()\n",
        "if 'readmitted' in numeric_features_original: numeric_features_original.remove('readmitted')\n",
        "statdataframe = pd.DataFrame()\n",
        "statdataframe['numeric_column'] = numeric_features_original\n",
        "log_transform_cols = []\n",
        "for i in numeric_features_original:\n",
        "    skewval = diabetes_df[i].skew()\n",
        "    kurtval = diabetes_df[i].kurtosis()\n",
        "    if (abs(skewval) > 2) and (abs(kurtval) > 2):\n",
        "        log_transform_cols.append(i)\n",
        "        \n",
        "        if len(diabetes_df[diabetes_df[i] == 0]) / len(diabetes_df) <= 0.02:\n",
        "            diabetes_df = diabetes_df[diabetes_df[i] > 0]\n",
        "            diabetes_df[i + \"_log\"] = np.log(diabetes_df[i])\n",
        "        else:\n",
        "            diabetes_df = diabetes_df[diabetes_df[i] >= 0]\n",
        "            diabetes_df[i + \"_log1p\"] = np.log1p(diabetes_df[i])\n",
        "            \n",
        "# Drop original columns that were transformed and other unnecessary columns\n",
        "cols_to_drop_after_transform = ['number_outpatient','number_emergency','number_inpatient',\n",
        "'total_visits','medication_intensity']\n",
        "cols_to_drop_after_transform.extend([col for col in log_transform_cols if col in \n",
        "diabetes_df.columns])\n",
        "diabetes_df = diabetes_df.drop(columns=cols_to_drop_after_transform, axis=1)"
      ]
    },
    {
      "cell_type": "code",
      "execution_count": 75,
      "id": "96cc5708",
      "metadata": {},
      "outputs": [],
      "source": [
        "# 2. Modeling with Cost-Sensitive Learning\n",
        "X = diabetes_df.drop('readmitted', axis=1)\n",
        "y = diabetes_df['readmitted']\n",
        "\n",
        "# Split data\n",
        "X_train, X_test, y_train, y_test = train_test_split(X, y, test_size=0.2, random_state=42, stratify=y)\n",
        "\n",
        "# Calculate scale_pos_weight for XGBoost\n",
        "scale_pos_weight = y_train.value_counts()[0] / y_train.value_counts()[1]\n",
        "\n",
        "# Define preprocessor\n",
        "numerical_features = X.select_dtypes(include=np.number).columns.tolist()\n",
        "categorical_features = X.select_dtypes(exclude=np.number).columns.tolist()\n",
        "preprocessor = ColumnTransformer(\n",
        "    transformers=[\n",
        "        ('num', StandardScaler(), numerical_features),\n",
        "        ('cat', OneHotEncoder(handle_unknown='ignore'), categorical_features)\n",
        "    ])\n",
        "\n",
        "# Define models\n",
        "models = {\n",
        "    'Logistic Regression': LogisticRegression(random_state=42, solver='liblinear'),\n",
        "    'Random Forest': RandomForestClassifier(random_state=42),\n",
        "    'XGBoost': xgb.XGBClassifier(random_state=42, use_label_encoder=False, eval_metric='logloss'),\n",
        "    'LightGBM': lgb.LGBMClassifier(random_state=42)\n",
        "}"
      ]
    },
    {
      "cell_type": "code",
      "execution_count": 76,
      "id": "b36be597",
      "metadata": {},
      "outputs": [
        {
          "name": "stdout",
          "output_type": "stream",
          "text": [
            "Running Logistic Regression with cost-sensitive learning...\n",
            "Fitting 3 folds for each of 8 candidates, totalling 24 fits\n",
            "[CV] END classifier__C=0.01, classifier__class_weight=balanced, classifier__penalty=l1; total time=   0.8s\n",
            "[CV] END classifier__C=0.01, classifier__class_weight=balanced, classifier__penalty=l1; total time=   0.9s\n",
            "[CV] END classifier__C=0.01, classifier__class_weight=balanced, classifier__penalty=l1; total time=   1.1s\n",
            "[CV] END classifier__C=0.01, classifier__class_weight=balanced, classifier__penalty=l2; total time=   1.3s\n",
            "[CV] END classifier__C=0.01, classifier__class_weight=balanced, classifier__penalty=l2; total time=   1.5s\n",
            "[CV] END classifier__C=0.01, classifier__class_weight=balanced, classifier__penalty=l2; total time=   1.4s\n",
            "[CV] END classifier__C=0.1, classifier__class_weight=balanced, classifier__penalty=l1; total time=   2.2s\n",
            "[CV] END classifier__C=0.1, classifier__class_weight=balanced, classifier__penalty=l2; total time=   2.7s\n",
            "[CV] END classifier__C=0.1, classifier__class_weight=balanced, classifier__penalty=l2; total time=   2.7s\n",
            "[CV] END classifier__C=0.1, classifier__class_weight=balanced, classifier__penalty=l2; total time=   2.9s\n",
            "[CV] END classifier__C=0.1, classifier__class_weight=balanced, classifier__penalty=l1; total time=   3.9s\n",
            "[CV] END classifier__C=0.1, classifier__class_weight=balanced, classifier__penalty=l1; total time=   5.7s\n",
            "[CV] END classifier__C=1, classifier__class_weight=balanced, classifier__penalty=l2; total time=   4.5s\n",
            "[CV] END classifier__C=1, classifier__class_weight=balanced, classifier__penalty=l2; total time=   4.0s\n",
            "[CV] END classifier__C=1, classifier__class_weight=balanced, classifier__penalty=l2; total time=   5.1s\n",
            "[CV] END classifier__C=10, classifier__class_weight=balanced, classifier__penalty=l2; total time=   6.4s\n",
            "[CV] END classifier__C=10, classifier__class_weight=balanced, classifier__penalty=l2; total time=   7.1s\n",
            "[CV] END classifier__C=10, classifier__class_weight=balanced, classifier__penalty=l2; total time=   6.3s\n",
            "[CV] END classifier__C=1, classifier__class_weight=balanced, classifier__penalty=l1; total time=  23.6s\n",
            "[CV] END classifier__C=1, classifier__class_weight=balanced, classifier__penalty=l1; total time=  26.7s\n",
            "[CV] END classifier__C=10, classifier__class_weight=balanced, classifier__penalty=l1; total time= 1.0min\n",
            "[CV] END classifier__C=10, classifier__class_weight=balanced, classifier__penalty=l1; total time= 1.1min\n",
            "[CV] END classifier__C=1, classifier__class_weight=balanced, classifier__penalty=l1; total time= 1.7min\n",
            "[CV] END classifier__C=10, classifier__class_weight=balanced, classifier__penalty=l1; total time= 3.0min\n",
            "Best F1-score for Logistic Regression: 0.2192\n",
            "Best parameters: {'classifier__C': 0.01, 'classifier__class_weight': 'balanced', 'classifier__penalty': 'l1'}\n",
            "--------------------------------------------------\n",
            "Running Random Forest with cost-sensitive learning...\n",
            "Fitting 3 folds for each of 36 candidates, totalling 108 fits\n",
            "[CV] END classifier__class_weight=balanced, classifier__max_depth=10, classifier__min_samples_leaf=1, classifier__n_estimators=100; total time=   4.3s\n",
            "[CV] END classifier__class_weight=balanced, classifier__max_depth=10, classifier__min_samples_leaf=1, classifier__n_estimators=100; total time=   4.5s\n",
            "[CV] END classifier__class_weight=balanced, classifier__max_depth=10, classifier__min_samples_leaf=1, classifier__n_estimators=100; total time=   4.7s\n",
            "[CV] END classifier__class_weight=balanced, classifier__max_depth=10, classifier__min_samples_leaf=2, classifier__n_estimators=100; total time=   4.4s\n",
            "[CV] END classifier__class_weight=balanced, classifier__max_depth=10, classifier__min_samples_leaf=2, classifier__n_estimators=100; total time=   4.5s\n",
            "[CV] END classifier__class_weight=balanced, classifier__max_depth=10, classifier__min_samples_leaf=2, classifier__n_estimators=100; total time=   4.6s\n",
            "[CV] END classifier__class_weight=balanced, classifier__max_depth=10, classifier__min_samples_leaf=1, classifier__n_estimators=200; total time=   8.3s\n",
            "[CV] END classifier__class_weight=balanced, classifier__max_depth=10, classifier__min_samples_leaf=1, classifier__n_estimators=200; total time=   8.2s\n",
            "[CV] END classifier__class_weight=balanced, classifier__max_depth=10, classifier__min_samples_leaf=4, classifier__n_estimators=100; total time=   3.8s\n",
            "[CV] END classifier__class_weight=balanced, classifier__max_depth=10, classifier__min_samples_leaf=1, classifier__n_estimators=200; total time=   8.4s\n",
            "[CV] END classifier__class_weight=balanced, classifier__max_depth=10, classifier__min_samples_leaf=2, classifier__n_estimators=200; total time=   8.3s\n",
            "[CV] END classifier__class_weight=balanced, classifier__max_depth=10, classifier__min_samples_leaf=4, classifier__n_estimators=100; total time=   4.0s\n",
            "[CV] END classifier__class_weight=balanced, classifier__max_depth=10, classifier__min_samples_leaf=4, classifier__n_estimators=100; total time=   4.1s\n",
            "[CV] END classifier__class_weight=balanced, classifier__max_depth=10, classifier__min_samples_leaf=2, classifier__n_estimators=200; total time=   7.6s\n",
            "[CV] END classifier__class_weight=balanced, classifier__max_depth=10, classifier__min_samples_leaf=2, classifier__n_estimators=200; total time=   7.7s\n",
            "[CV] END classifier__class_weight=balanced, classifier__max_depth=10, classifier__min_samples_leaf=4, classifier__n_estimators=200; total time=   7.5s\n",
            "[CV] END classifier__class_weight=balanced, classifier__max_depth=20, classifier__min_samples_leaf=1, classifier__n_estimators=100; total time=   5.7s\n",
            "[CV] END classifier__class_weight=balanced, classifier__max_depth=20, classifier__min_samples_leaf=1, classifier__n_estimators=100; total time=   5.5s\n",
            "[CV] END classifier__class_weight=balanced, classifier__max_depth=20, classifier__min_samples_leaf=1, classifier__n_estimators=100; total time=   5.5s\n",
            "[CV] END classifier__class_weight=balanced, classifier__max_depth=10, classifier__min_samples_leaf=4, classifier__n_estimators=200; total time=   7.5s\n",
            "[CV] END classifier__class_weight=balanced, classifier__max_depth=10, classifier__min_samples_leaf=4, classifier__n_estimators=200; total time=   7.7s\n",
            "[CV] END classifier__class_weight=balanced, classifier__max_depth=20, classifier__min_samples_leaf=2, classifier__n_estimators=100; total time=   5.5s\n",
            "[CV] END classifier__class_weight=balanced, classifier__max_depth=20, classifier__min_samples_leaf=2, classifier__n_estimators=100; total time=   5.4s\n",
            "[CV] END classifier__class_weight=balanced, classifier__max_depth=20, classifier__min_samples_leaf=2, classifier__n_estimators=100; total time=   5.5s\n",
            "[CV] END classifier__class_weight=balanced, classifier__max_depth=20, classifier__min_samples_leaf=1, classifier__n_estimators=200; total time=  10.8s\n",
            "[CV] END classifier__class_weight=balanced, classifier__max_depth=20, classifier__min_samples_leaf=1, classifier__n_estimators=200; total time=  11.3s\n",
            "[CV] END classifier__class_weight=balanced, classifier__max_depth=20, classifier__min_samples_leaf=4, classifier__n_estimators=100; total time=   5.3s\n",
            "[CV] END classifier__class_weight=balanced, classifier__max_depth=20, classifier__min_samples_leaf=1, classifier__n_estimators=200; total time=  11.0s\n",
            "[CV] END classifier__class_weight=balanced, classifier__max_depth=20, classifier__min_samples_leaf=4, classifier__n_estimators=100; total time=   5.7s\n",
            "[CV] END classifier__class_weight=balanced, classifier__max_depth=20, classifier__min_samples_leaf=4, classifier__n_estimators=100; total time=   5.5s\n",
            "[CV] END classifier__class_weight=balanced, classifier__max_depth=20, classifier__min_samples_leaf=2, classifier__n_estimators=200; total time=  10.7s\n",
            "[CV] END classifier__class_weight=balanced, classifier__max_depth=20, classifier__min_samples_leaf=2, classifier__n_estimators=200; total time=  10.9s\n",
            "[CV] END classifier__class_weight=balanced, classifier__max_depth=20, classifier__min_samples_leaf=2, classifier__n_estimators=200; total time=  10.6s\n",
            "[CV] END classifier__class_weight=balanced, classifier__max_depth=None, classifier__min_samples_leaf=1, classifier__n_estimators=100; total time=   6.4s\n",
            "[CV] END classifier__class_weight=balanced, classifier__max_depth=None, classifier__min_samples_leaf=1, classifier__n_estimators=100; total time=   6.3s\n",
            "[CV] END classifier__class_weight=balanced, classifier__max_depth=None, classifier__min_samples_leaf=1, classifier__n_estimators=100; total time=   6.1s\n",
            "[CV] END classifier__class_weight=balanced, classifier__max_depth=20, classifier__min_samples_leaf=4, classifier__n_estimators=200; total time=  10.0s\n",
            "[CV] END classifier__class_weight=balanced, classifier__max_depth=20, classifier__min_samples_leaf=4, classifier__n_estimators=200; total time=  10.2s\n",
            "[CV] END classifier__class_weight=balanced, classifier__max_depth=20, classifier__min_samples_leaf=4, classifier__n_estimators=200; total time=   9.9s\n",
            "[CV] END classifier__class_weight=balanced, classifier__max_depth=None, classifier__min_samples_leaf=2, classifier__n_estimators=100; total time=   5.9s\n",
            "[CV] END classifier__class_weight=balanced, classifier__max_depth=None, classifier__min_samples_leaf=2, classifier__n_estimators=100; total time=   5.8s\n",
            "[CV] END classifier__class_weight=balanced, classifier__max_depth=None, classifier__min_samples_leaf=2, classifier__n_estimators=100; total time=   5.7s\n",
            "[CV] END classifier__class_weight=balanced, classifier__max_depth=None, classifier__min_samples_leaf=1, classifier__n_estimators=200; total time=  12.2s\n",
            "[CV] END classifier__class_weight=balanced, classifier__max_depth=None, classifier__min_samples_leaf=4, classifier__n_estimators=100; total time=   5.6s\n",
            "[CV] END classifier__class_weight=balanced, classifier__max_depth=None, classifier__min_samples_leaf=1, classifier__n_estimators=200; total time=  11.8s\n",
            "[CV] END classifier__class_weight=balanced, classifier__max_depth=None, classifier__min_samples_leaf=1, classifier__n_estimators=200; total time=  12.2s\n",
            "[CV] END classifier__class_weight=balanced, classifier__max_depth=None, classifier__min_samples_leaf=4, classifier__n_estimators=100; total time=   5.6s\n",
            "[CV] END classifier__class_weight=balanced, classifier__max_depth=None, classifier__min_samples_leaf=4, classifier__n_estimators=100; total time=   5.7s\n",
            "[CV] END classifier__class_weight=balanced, classifier__max_depth=None, classifier__min_samples_leaf=2, classifier__n_estimators=200; total time=  11.3s\n",
            "[CV] END classifier__class_weight=balanced_subsample, classifier__max_depth=10, classifier__min_samples_leaf=1, classifier__n_estimators=100; total time=   4.1s\n",
            "[CV] END classifier__class_weight=balanced, classifier__max_depth=None, classifier__min_samples_leaf=2, classifier__n_estimators=200; total time=  11.3s\n",
            "[CV] END classifier__class_weight=balanced, classifier__max_depth=None, classifier__min_samples_leaf=2, classifier__n_estimators=200; total time=  11.4s\n",
            "[CV] END classifier__class_weight=balanced_subsample, classifier__max_depth=10, classifier__min_samples_leaf=1, classifier__n_estimators=100; total time=   4.1s\n",
            "[CV] END classifier__class_weight=balanced_subsample, classifier__max_depth=10, classifier__min_samples_leaf=1, classifier__n_estimators=100; total time=   4.1s\n",
            "[CV] END classifier__class_weight=balanced_subsample, classifier__max_depth=10, classifier__min_samples_leaf=2, classifier__n_estimators=100; total time=   4.3s\n",
            "[CV] END classifier__class_weight=balanced_subsample, classifier__max_depth=10, classifier__min_samples_leaf=2, classifier__n_estimators=100; total time=   4.2s\n",
            "[CV] END classifier__class_weight=balanced_subsample, classifier__max_depth=10, classifier__min_samples_leaf=2, classifier__n_estimators=100; total time=   4.2s\n",
            "[CV] END classifier__class_weight=balanced, classifier__max_depth=None, classifier__min_samples_leaf=4, classifier__n_estimators=200; total time=  11.1s\n",
            "[CV] END classifier__class_weight=balanced, classifier__max_depth=None, classifier__min_samples_leaf=4, classifier__n_estimators=200; total time=  11.0s\n",
            "[CV] END classifier__class_weight=balanced, classifier__max_depth=None, classifier__min_samples_leaf=4, classifier__n_estimators=200; total time=  10.9s\n",
            "[CV] END classifier__class_weight=balanced_subsample, classifier__max_depth=10, classifier__min_samples_leaf=1, classifier__n_estimators=200; total time=   8.1s\n",
            "[CV] END classifier__class_weight=balanced_subsample, classifier__max_depth=10, classifier__min_samples_leaf=1, classifier__n_estimators=200; total time=   8.3s\n",
            "[CV] END classifier__class_weight=balanced_subsample, classifier__max_depth=10, classifier__min_samples_leaf=1, classifier__n_estimators=200; total time=   8.5s\n",
            "[CV] END classifier__class_weight=balanced_subsample, classifier__max_depth=10, classifier__min_samples_leaf=4, classifier__n_estimators=100; total time=   4.4s\n",
            "[CV] END classifier__class_weight=balanced_subsample, classifier__max_depth=10, classifier__min_samples_leaf=2, classifier__n_estimators=200; total time=   8.6s\n",
            "[CV] END classifier__class_weight=balanced_subsample, classifier__max_depth=10, classifier__min_samples_leaf=4, classifier__n_estimators=100; total time=   4.7s\n",
            "[CV] END classifier__class_weight=balanced_subsample, classifier__max_depth=10, classifier__min_samples_leaf=4, classifier__n_estimators=100; total time=   4.5s\n",
            "[CV] END classifier__class_weight=balanced_subsample, classifier__max_depth=10, classifier__min_samples_leaf=2, classifier__n_estimators=200; total time=   8.3s\n",
            "[CV] END classifier__class_weight=balanced_subsample, classifier__max_depth=10, classifier__min_samples_leaf=2, classifier__n_estimators=200; total time=   8.4s\n",
            "[CV] END classifier__class_weight=balanced_subsample, classifier__max_depth=10, classifier__min_samples_leaf=4, classifier__n_estimators=200; total time=   8.5s\n",
            "[CV] END classifier__class_weight=balanced_subsample, classifier__max_depth=20, classifier__min_samples_leaf=1, classifier__n_estimators=100; total time=   6.0s\n",
            "[CV] END classifier__class_weight=balanced_subsample, classifier__max_depth=10, classifier__min_samples_leaf=4, classifier__n_estimators=200; total time=   8.2s\n",
            "[CV] END classifier__class_weight=balanced_subsample, classifier__max_depth=20, classifier__min_samples_leaf=1, classifier__n_estimators=100; total time=   5.9s\n",
            "[CV] END classifier__class_weight=balanced_subsample, classifier__max_depth=20, classifier__min_samples_leaf=1, classifier__n_estimators=100; total time=   5.9s\n",
            "[CV] END classifier__class_weight=balanced_subsample, classifier__max_depth=10, classifier__min_samples_leaf=4, classifier__n_estimators=200; total time=   8.4s\n",
            "[CV] END classifier__class_weight=balanced_subsample, classifier__max_depth=20, classifier__min_samples_leaf=2, classifier__n_estimators=100; total time=   5.8s\n",
            "[CV] END classifier__class_weight=balanced_subsample, classifier__max_depth=20, classifier__min_samples_leaf=2, classifier__n_estimators=100; total time=   5.8s\n",
            "[CV] END classifier__class_weight=balanced_subsample, classifier__max_depth=20, classifier__min_samples_leaf=2, classifier__n_estimators=100; total time=   5.7s\n",
            "[CV] END classifier__class_weight=balanced_subsample, classifier__max_depth=20, classifier__min_samples_leaf=1, classifier__n_estimators=200; total time=  11.6s\n",
            "[CV] END classifier__class_weight=balanced_subsample, classifier__max_depth=20, classifier__min_samples_leaf=1, classifier__n_estimators=200; total time=  11.4s\n",
            "[CV] END classifier__class_weight=balanced_subsample, classifier__max_depth=20, classifier__min_samples_leaf=4, classifier__n_estimators=100; total time=   5.7s\n",
            "[CV] END classifier__class_weight=balanced_subsample, classifier__max_depth=20, classifier__min_samples_leaf=1, classifier__n_estimators=200; total time=  11.5s\n",
            "[CV] END classifier__class_weight=balanced_subsample, classifier__max_depth=20, classifier__min_samples_leaf=4, classifier__n_estimators=100; total time=   5.7s\n",
            "[CV] END classifier__class_weight=balanced_subsample, classifier__max_depth=20, classifier__min_samples_leaf=4, classifier__n_estimators=100; total time=   5.6s\n",
            "[CV] END classifier__class_weight=balanced_subsample, classifier__max_depth=20, classifier__min_samples_leaf=2, classifier__n_estimators=200; total time=  11.3s\n",
            "[CV] END classifier__class_weight=balanced_subsample, classifier__max_depth=20, classifier__min_samples_leaf=2, classifier__n_estimators=200; total time=  11.1s\n",
            "[CV] END classifier__class_weight=balanced_subsample, classifier__max_depth=20, classifier__min_samples_leaf=2, classifier__n_estimators=200; total time=  11.0s\n",
            "[CV] END classifier__class_weight=balanced_subsample, classifier__max_depth=None, classifier__min_samples_leaf=1, classifier__n_estimators=100; total time=   6.5s\n",
            "[CV] END classifier__class_weight=balanced_subsample, classifier__max_depth=None, classifier__min_samples_leaf=1, classifier__n_estimators=100; total time=   6.4s\n",
            "[CV] END classifier__class_weight=balanced_subsample, classifier__max_depth=20, classifier__min_samples_leaf=4, classifier__n_estimators=200; total time=  10.8s\n",
            "[CV] END classifier__class_weight=balanced_subsample, classifier__max_depth=None, classifier__min_samples_leaf=1, classifier__n_estimators=100; total time=   6.4s\n",
            "[CV] END classifier__class_weight=balanced_subsample, classifier__max_depth=20, classifier__min_samples_leaf=4, classifier__n_estimators=200; total time=  10.7s\n",
            "[CV] END classifier__class_weight=balanced_subsample, classifier__max_depth=20, classifier__min_samples_leaf=4, classifier__n_estimators=200; total time=  10.7s\n",
            "[CV] END classifier__class_weight=balanced_subsample, classifier__max_depth=None, classifier__min_samples_leaf=2, classifier__n_estimators=100; total time=   6.3s\n",
            "[CV] END classifier__class_weight=balanced_subsample, classifier__max_depth=None, classifier__min_samples_leaf=2, classifier__n_estimators=100; total time=   5.9s\n",
            "[CV] END classifier__class_weight=balanced_subsample, classifier__max_depth=None, classifier__min_samples_leaf=2, classifier__n_estimators=100; total time=   6.2s\n",
            "[CV] END classifier__class_weight=balanced_subsample, classifier__max_depth=None, classifier__min_samples_leaf=4, classifier__n_estimators=100; total time=   6.0s\n",
            "[CV] END classifier__class_weight=balanced_subsample, classifier__max_depth=None, classifier__min_samples_leaf=1, classifier__n_estimators=200; total time=  12.5s\n",
            "[CV] END classifier__class_weight=balanced_subsample, classifier__max_depth=None, classifier__min_samples_leaf=1, classifier__n_estimators=200; total time=  13.0s\n",
            "[CV] END classifier__class_weight=balanced_subsample, classifier__max_depth=None, classifier__min_samples_leaf=4, classifier__n_estimators=100; total time=   5.7s\n",
            "[CV] END classifier__class_weight=balanced_subsample, classifier__max_depth=None, classifier__min_samples_leaf=1, classifier__n_estimators=200; total time=  12.6s\n",
            "[CV] END classifier__class_weight=balanced_subsample, classifier__max_depth=None, classifier__min_samples_leaf=4, classifier__n_estimators=100; total time=   5.6s\n",
            "[CV] END classifier__class_weight=balanced_subsample, classifier__max_depth=None, classifier__min_samples_leaf=2, classifier__n_estimators=200; total time=  11.5s\n",
            "[CV] END classifier__class_weight=balanced_subsample, classifier__max_depth=None, classifier__min_samples_leaf=2, classifier__n_estimators=200; total time=  11.4s\n",
            "[CV] END classifier__class_weight=balanced_subsample, classifier__max_depth=None, classifier__min_samples_leaf=2, classifier__n_estimators=200; total time=  10.9s\n",
            "[CV] END classifier__class_weight=balanced_subsample, classifier__max_depth=None, classifier__min_samples_leaf=4, classifier__n_estimators=200; total time=   8.5s\n",
            "[CV] END classifier__class_weight=balanced_subsample, classifier__max_depth=None, classifier__min_samples_leaf=4, classifier__n_estimators=200; total time=   7.8s\n",
            "[CV] END classifier__class_weight=balanced_subsample, classifier__max_depth=None, classifier__min_samples_leaf=4, classifier__n_estimators=200; total time=   7.8s\n",
            "Best F1-score for Random Forest: 0.2234\n",
            "Best parameters: {'classifier__class_weight': 'balanced_subsample', 'classifier__max_depth': 10, 'classifier__min_samples_leaf': 4, 'classifier__n_estimators': 200}\n",
            "--------------------------------------------------\n",
            "Running XGBoost with cost-sensitive learning...\n",
            "Fitting 3 folds for each of 16 candidates, totalling 48 fits\n",
            "[CV] END classifier__learning_rate=0.05, classifier__max_depth=5, classifier__n_estimators=100, classifier__scale_pos_weight=10.19268970997219, classifier__subsample=1.0; total time=   1.6s\n",
            "[CV] END classifier__learning_rate=0.05, classifier__max_depth=5, classifier__n_estimators=100, classifier__scale_pos_weight=10.19268970997219, classifier__subsample=0.7; total time=   1.7s\n",
            "[CV] END classifier__learning_rate=0.05, classifier__max_depth=5, classifier__n_estimators=100, classifier__scale_pos_weight=10.19268970997219, classifier__subsample=0.7; total time=   1.7s\n",
            "[CV] END classifier__learning_rate=0.05, classifier__max_depth=5, classifier__n_estimators=100, classifier__scale_pos_weight=10.19268970997219, classifier__subsample=0.7; total time=   1.7s\n",
            "[CV] END classifier__learning_rate=0.05, classifier__max_depth=5, classifier__n_estimators=100, classifier__scale_pos_weight=10.19268970997219, classifier__subsample=1.0; total time=   1.7s\n",
            "[CV] END classifier__learning_rate=0.05, classifier__max_depth=5, classifier__n_estimators=100, classifier__scale_pos_weight=10.19268970997219, classifier__subsample=1.0; total time=   1.7s\n",
            "[CV] END classifier__learning_rate=0.05, classifier__max_depth=5, classifier__n_estimators=200, classifier__scale_pos_weight=10.19268970997219, classifier__subsample=1.0; total time=   2.5s\n",
            "[CV] END classifier__learning_rate=0.05, classifier__max_depth=5, classifier__n_estimators=200, classifier__scale_pos_weight=10.19268970997219, classifier__subsample=0.7; total time=   2.8s\n",
            "[CV] END classifier__learning_rate=0.05, classifier__max_depth=5, classifier__n_estimators=200, classifier__scale_pos_weight=10.19268970997219, classifier__subsample=0.7; total time=   2.8s\n",
            "[CV] END classifier__learning_rate=0.05, classifier__max_depth=5, classifier__n_estimators=200, classifier__scale_pos_weight=10.19268970997219, classifier__subsample=0.7; total time=   2.9s\n",
            "[CV] END classifier__learning_rate=0.05, classifier__max_depth=5, classifier__n_estimators=200, classifier__scale_pos_weight=10.19268970997219, classifier__subsample=1.0; total time=   2.6s\n",
            "[CV] END classifier__learning_rate=0.05, classifier__max_depth=5, classifier__n_estimators=200, classifier__scale_pos_weight=10.19268970997219, classifier__subsample=1.0; total time=   2.7s\n",
            "[CV] END classifier__learning_rate=0.05, classifier__max_depth=10, classifier__n_estimators=100, classifier__scale_pos_weight=10.19268970997219, classifier__subsample=1.0; total time=   2.7s\n",
            "[CV] END classifier__learning_rate=0.05, classifier__max_depth=10, classifier__n_estimators=100, classifier__scale_pos_weight=10.19268970997219, classifier__subsample=0.7; total time=   2.9s\n",
            "[CV] END classifier__learning_rate=0.05, classifier__max_depth=10, classifier__n_estimators=100, classifier__scale_pos_weight=10.19268970997219, classifier__subsample=0.7; total time=   3.0s\n",
            "[CV] END classifier__learning_rate=0.05, classifier__max_depth=10, classifier__n_estimators=100, classifier__scale_pos_weight=10.19268970997219, classifier__subsample=0.7; total time=   3.1s\n",
            "[CV] END classifier__learning_rate=0.05, classifier__max_depth=10, classifier__n_estimators=100, classifier__scale_pos_weight=10.19268970997219, classifier__subsample=1.0; total time=   2.6s\n",
            "[CV] END classifier__learning_rate=0.05, classifier__max_depth=10, classifier__n_estimators=100, classifier__scale_pos_weight=10.19268970997219, classifier__subsample=1.0; total time=   2.7s\n",
            "[CV] END classifier__learning_rate=0.1, classifier__max_depth=5, classifier__n_estimators=100, classifier__scale_pos_weight=10.19268970997219, classifier__subsample=0.7; total time=   1.7s\n",
            "[CV] END classifier__learning_rate=0.1, classifier__max_depth=5, classifier__n_estimators=100, classifier__scale_pos_weight=10.19268970997219, classifier__subsample=0.7; total time=   1.6s\n",
            "[CV] END classifier__learning_rate=0.1, classifier__max_depth=5, classifier__n_estimators=100, classifier__scale_pos_weight=10.19268970997219, classifier__subsample=1.0; total time=   1.5s\n",
            "[CV] END classifier__learning_rate=0.1, classifier__max_depth=5, classifier__n_estimators=100, classifier__scale_pos_weight=10.19268970997219, classifier__subsample=0.7; total time=   1.7s\n",
            "[CV] END classifier__learning_rate=0.05, classifier__max_depth=10, classifier__n_estimators=200, classifier__scale_pos_weight=10.19268970997219, classifier__subsample=0.7; total time=   4.7s\n",
            "[CV] END classifier__learning_rate=0.05, classifier__max_depth=10, classifier__n_estimators=200, classifier__scale_pos_weight=10.19268970997219, classifier__subsample=0.7; total time=   4.8s\n",
            "[CV] END classifier__learning_rate=0.1, classifier__max_depth=5, classifier__n_estimators=100, classifier__scale_pos_weight=10.19268970997219, classifier__subsample=1.0; total time=   1.5s\n",
            "[CV] END classifier__learning_rate=0.1, classifier__max_depth=5, classifier__n_estimators=100, classifier__scale_pos_weight=10.19268970997219, classifier__subsample=1.0; total time=   1.6s\n",
            "[CV] END classifier__learning_rate=0.05, classifier__max_depth=10, classifier__n_estimators=200, classifier__scale_pos_weight=10.19268970997219, classifier__subsample=1.0; total time=   3.9s\n",
            "[CV] END classifier__learning_rate=0.05, classifier__max_depth=10, classifier__n_estimators=200, classifier__scale_pos_weight=10.19268970997219, classifier__subsample=1.0; total time=   3.7s\n",
            "[CV] END classifier__learning_rate=0.05, classifier__max_depth=10, classifier__n_estimators=200, classifier__scale_pos_weight=10.19268970997219, classifier__subsample=1.0; total time=   4.0s\n",
            "[CV] END classifier__learning_rate=0.05, classifier__max_depth=10, classifier__n_estimators=200, classifier__scale_pos_weight=10.19268970997219, classifier__subsample=0.7; total time=   5.0s\n",
            "[CV] END classifier__learning_rate=0.1, classifier__max_depth=5, classifier__n_estimators=200, classifier__scale_pos_weight=10.19268970997219, classifier__subsample=0.7; total time=   2.9s\n",
            "[CV] END classifier__learning_rate=0.1, classifier__max_depth=5, classifier__n_estimators=200, classifier__scale_pos_weight=10.19268970997219, classifier__subsample=0.7; total time=   2.8s\n",
            "[CV] END classifier__learning_rate=0.1, classifier__max_depth=5, classifier__n_estimators=200, classifier__scale_pos_weight=10.19268970997219, classifier__subsample=0.7; total time=   2.8s\n",
            "[CV] END classifier__learning_rate=0.1, classifier__max_depth=5, classifier__n_estimators=200, classifier__scale_pos_weight=10.19268970997219, classifier__subsample=1.0; total time=   2.7s\n",
            "[CV] END classifier__learning_rate=0.1, classifier__max_depth=5, classifier__n_estimators=200, classifier__scale_pos_weight=10.19268970997219, classifier__subsample=1.0; total time=   2.6s\n",
            "[CV] END classifier__learning_rate=0.1, classifier__max_depth=5, classifier__n_estimators=200, classifier__scale_pos_weight=10.19268970997219, classifier__subsample=1.0; total time=   2.6s\n",
            "[CV] END classifier__learning_rate=0.1, classifier__max_depth=10, classifier__n_estimators=100, classifier__scale_pos_weight=10.19268970997219, classifier__subsample=0.7; total time=   2.9s\n",
            "[CV] END classifier__learning_rate=0.1, classifier__max_depth=10, classifier__n_estimators=100, classifier__scale_pos_weight=10.19268970997219, classifier__subsample=0.7; total time=   2.9s\n",
            "[CV] END classifier__learning_rate=0.1, classifier__max_depth=10, classifier__n_estimators=100, classifier__scale_pos_weight=10.19268970997219, classifier__subsample=0.7; total time=   2.8s\n",
            "[CV] END classifier__learning_rate=0.1, classifier__max_depth=10, classifier__n_estimators=100, classifier__scale_pos_weight=10.19268970997219, classifier__subsample=1.0; total time=   2.5s\n",
            "[CV] END classifier__learning_rate=0.1, classifier__max_depth=10, classifier__n_estimators=100, classifier__scale_pos_weight=10.19268970997219, classifier__subsample=1.0; total time=   2.3s\n",
            "[CV] END classifier__learning_rate=0.1, classifier__max_depth=10, classifier__n_estimators=100, classifier__scale_pos_weight=10.19268970997219, classifier__subsample=1.0; total time=   2.2s\n",
            "[CV] END classifier__learning_rate=0.1, classifier__max_depth=10, classifier__n_estimators=200, classifier__scale_pos_weight=10.19268970997219, classifier__subsample=1.0; total time=   3.2s\n",
            "[CV] END classifier__learning_rate=0.1, classifier__max_depth=10, classifier__n_estimators=200, classifier__scale_pos_weight=10.19268970997219, classifier__subsample=1.0; total time=   2.9s\n",
            "[CV] END classifier__learning_rate=0.1, classifier__max_depth=10, classifier__n_estimators=200, classifier__scale_pos_weight=10.19268970997219, classifier__subsample=1.0; total time=   2.9s\n",
            "[CV] END classifier__learning_rate=0.1, classifier__max_depth=10, classifier__n_estimators=200, classifier__scale_pos_weight=10.19268970997219, classifier__subsample=0.7; total time=   4.0s\n",
            "[CV] END classifier__learning_rate=0.1, classifier__max_depth=10, classifier__n_estimators=200, classifier__scale_pos_weight=10.19268970997219, classifier__subsample=0.7; total time=   3.9s\n",
            "[CV] END classifier__learning_rate=0.1, classifier__max_depth=10, classifier__n_estimators=200, classifier__scale_pos_weight=10.19268970997219, classifier__subsample=0.7; total time=   3.9s\n",
            "Best F1-score for XGBoost: 0.2182\n",
            "Best parameters: {'classifier__learning_rate': 0.05, 'classifier__max_depth': 5, 'classifier__n_estimators': 100, 'classifier__scale_pos_weight': np.float64(10.19268970997219), 'classifier__subsample': 0.7}\n",
            "--------------------------------------------------\n",
            "Running LightGBM with cost-sensitive learning...\n",
            "Fitting 3 folds for each of 16 candidates, totalling 48 fits\n",
            "[LightGBM] [Info] Number of positive: 3356, number of negative: 34206\n",
            "[LightGBM] [Info] Auto-choosing row-wise multi-threading, the overhead of testing was 0.009475 seconds.\n",
            "You can set `force_row_wise=true` to remove the overhead.\n",
            "And if memory is not enough, you can set `force_col_wise=true`.\n",
            "[LightGBM] [Info] Total Bins 1493\n",
            "[LightGBM] [Info] Number of data points in the train set: 37562, number of used features: 156\n",
            "[LightGBM] [Info] [binary:BoostFromScore]: pavg=0.500000 -> initscore=0.000000\n",
            "[LightGBM] [Info] Start training from score 0.000000\n",
            "[LightGBM] [Info] Number of positive: 3356, number of negative: 34207\n",
            "[LightGBM] [Info] Auto-choosing row-wise multi-threading, the overhead of testing was 0.016754 seconds.\n",
            "You can set `force_row_wise=true` to remove the overhead.\n",
            "And if memory is not enough, you can set `force_col_wise=true`.\n",
            "[LightGBM] [Info] Total Bins 1491\n",
            "[LightGBM] [Info] Number of data points in the train set: 37563, number of used features: 156\n",
            "[LightGBM] [Info] [binary:BoostFromScore]: pavg=0.500000 -> initscore=0.000000\n",
            "[LightGBM] [Info] Start training from score 0.000000\n",
            "[LightGBM] [Info] Number of positive: 3356, number of negative: 34206\n",
            "[LightGBM] [Info] Number of positive: 3356, number of negative: 34207\n",
            "[LightGBM] [Info] Auto-choosing row-wise multi-threading, the overhead of testing was 0.009376 seconds.\n",
            "You can set `force_row_wise=true` to remove the overhead.\n",
            "And if memory is not enough, you can set `force_col_wise=true`.\n",
            "[LightGBM] [Info] Total Bins 1493\n",
            "[LightGBM] [Info] Number of data points in the train set: 37562, number of used features: 156\n",
            "[LightGBM] [Info] [binary:BoostFromScore]: pavg=0.500000 -> initscore=0.000000\n",
            "[LightGBM] [Info] Start training from score 0.000000\n",
            "[LightGBM] [Info] Auto-choosing row-wise multi-threading, the overhead of testing was 0.009164 seconds.\n",
            "You can set `force_row_wise=true` to remove the overhead.\n",
            "And if memory is not enough, you can set `force_col_wise=true`.\n",
            "[LightGBM] [Info] Total Bins 1497\n",
            "[LightGBM] [Info] Number of data points in the train set: 37563, number of used features: 156\n",
            "[LightGBM] [Info] [binary:BoostFromScore]: pavg=0.500000 -> initscore=0.000000\n",
            "[LightGBM] [Info] Start training from score 0.000000\n",
            "[LightGBM] [Info] Number of positive: 3356, number of negative: 34207\n",
            "[LightGBM] [Info] Auto-choosing row-wise multi-threading, the overhead of testing was 0.020366 seconds.\n",
            "You can set `force_row_wise=true` to remove the overhead.\n",
            "And if memory is not enough, you can set `force_col_wise=true`.\n",
            "[LightGBM] [Info] Total Bins 1491\n",
            "[LightGBM] [Info] Number of data points in the train set: 37563, number of used features: 156\n",
            "[LightGBM] [Info] [binary:BoostFromScore]: pavg=0.500000 -> initscore=0.000000\n",
            "[LightGBM] [Info] Start training from score 0.000000\n",
            "[LightGBM] [Info] Number of positive: 3356, number of negative: 34207\n",
            "[LightGBM] [Info] Auto-choosing row-wise multi-threading, the overhead of testing was 0.117895 seconds.\n",
            "You can set `force_row_wise=true` to remove the overhead.\n",
            "And if memory is not enough, you can set `force_col_wise=true`.\n",
            "[LightGBM] [Info] Total Bins 1497\n",
            "[LightGBM] [Info] Number of data points in the train set: 37563, number of used features: 156\n",
            "[LightGBM] [Info] [binary:BoostFromScore]: pavg=0.500000 -> initscore=0.000000\n",
            "[LightGBM] [Info] Start training from score 0.000000\n",
            "[LightGBM] [Info] Number of positive: 3356, number of negative: 34206\n",
            "[LightGBM] [Info] Auto-choosing row-wise multi-threading, the overhead of testing was 0.069818 seconds.\n",
            "You can set `force_row_wise=true` to remove the overhead.\n",
            "And if memory is not enough, you can set `force_col_wise=true`.\n",
            "[LightGBM] [Info] Total Bins 1493\n",
            "[LightGBM] [Info] Number of data points in the train set: 37562, number of used features: 156\n",
            "[LightGBM] [Info] [binary:BoostFromScore]: pavg=0.500000 -> initscore=0.000000\n",
            "[LightGBM] [Info] Start training from score 0.000000\n",
            "[LightGBM] [Info] Number of positive: 3356, number of negative: 34207\n",
            "[LightGBM] [Info] Number of positive: 3356, number of negative: 34207[LightGBM] [Info] Auto-choosing row-wise multi-threading, the overhead of testing was 0.115874 seconds.\n",
            "You can set `force_row_wise=true` to remove the overhead.\n",
            "And if memory is not enough, you can set `force_col_wise=true`.\n",
            "[LightGBM] [Info] Total Bins 1491\n",
            "[LightGBM] [Info] Number of data points in the train set: 37563, number of used features: 156\n",
            "[LightGBM] [Info] [binary:BoostFromScore]: pavg=0.500000 -> initscore=0.000000\n",
            "[LightGBM] [Info] Start training from score 0.000000\n",
            "\n",
            "[LightGBM] [Info] Number of positive: 3356, number of negative: 34206\n",
            "[LightGBM] [Info] Auto-choosing row-wise multi-threading, the overhead of testing was 0.112400 seconds.\n",
            "You can set `force_row_wise=true` to remove the overhead.\n",
            "And if memory is not enough, you can set `force_col_wise=true`.\n",
            "[LightGBM] [Info] Total Bins 1497\n",
            "[LightGBM] [Info] Number of data points in the train set: 37563, number of used features: 156\n",
            "[LightGBM] [Info] [binary:BoostFromScore]: pavg=0.500000 -> initscore=0.000000\n",
            "[LightGBM] [Info] Start training from score 0.000000\n",
            "[LightGBM] [Info] Auto-choosing row-wise multi-threading, the overhead of testing was 0.017078 seconds.\n",
            "You can set `force_row_wise=true` to remove the overhead.\n",
            "And if memory is not enough, you can set `force_col_wise=true`.\n",
            "[LightGBM] [Info] Total Bins 1493\n",
            "[LightGBM] [Info] Number of data points in the train set: 37562, number of used features: 156\n",
            "[LightGBM] [Info] [binary:BoostFromScore]: pavg=0.500000 -> initscore=0.000000\n",
            "[LightGBM] [Info] Start training from score 0.000000\n",
            "[CV] END classifier__class_weight=balanced, classifier__learning_rate=0.05, classifier__max_depth=10, classifier__n_estimators=100, classifier__num_leaves=31; total time=   3.1s\n",
            "[CV] END classifier__class_weight=balanced, classifier__learning_rate=0.05, classifier__max_depth=10, classifier__n_estimators=100, classifier__num_leaves=31; total time=   3.2s\n",
            "[CV] END classifier__class_weight=balanced, classifier__learning_rate=0.05, classifier__max_depth=10, classifier__n_estimators=100, classifier__num_leaves=31; total time=   3.2s\n",
            "[LightGBM] [Warning] No further splits with positive gain, best gain: -inf\n",
            "[LightGBM] [Warning] No further splits with positive gain, best gain: -inf\n",
            "[LightGBM] [Info] Number of positive: 3356, number of negative: 34207\n",
            "[LightGBM] [Info] Number of positive: 3356, number of negative: 34207\n",
            "[LightGBM] [Info] Auto-choosing row-wise multi-threading, the overhead of testing was 0.007247 seconds.\n",
            "You can set `force_row_wise=true` to remove the overhead.\n",
            "And if memory is not enough, you can set `force_col_wise=true`.\n",
            "[LightGBM] [Info] Total Bins 1497\n",
            "[LightGBM] [Info] Number of data points in the train set: 37563, number of used features: 156\n",
            "[LightGBM] [Info] [binary:BoostFromScore]: pavg=0.500000 -> initscore=0.000000\n",
            "[LightGBM] [Info] Start training from score 0.000000\n",
            "[LightGBM] [Warning] No further splits with positive gain, best gain: -inf\n",
            "[LightGBM] [Info] Number of positive: 3356, number of negative: 34206\n",
            "[LightGBM] [Info] Auto-choosing row-wise multi-threading, the overhead of testing was 0.052048 seconds.\n",
            "You can set `force_row_wise=true` to remove the overhead.\n",
            "And if memory is not enough, you can set `force_col_wise=true`.\n",
            "[LightGBM] [Info] Total Bins 1491\n",
            "[LightGBM] [Info] Number of data points in the train set: 37563, number of used features: 156\n",
            "[LightGBM] [Info] [binary:BoostFromScore]: pavg=0.500000 -> initscore=0.000000\n",
            "[LightGBM] [Info] Start training from score 0.000000\n",
            "[LightGBM] [Warning] No further splits with positive gain, best gain: -inf\n",
            "[LightGBM] [Warning] No further splits with positive gain, best gain: -inf\n",
            "[LightGBM] [Info] Auto-choosing row-wise multi-threading, the overhead of testing was 0.087002 seconds.\n",
            "You can set `force_row_wise=true` to remove the overhead.\n",
            "And if memory is not enough, you can set `force_col_wise=true`.\n",
            "[LightGBM] [Info] Total Bins 1493\n",
            "[LightGBM] [Info] Number of data points in the train set: 37562, number of used features: 156\n",
            "[LightGBM] [Info] [binary:BoostFromScore]: pavg=0.500000 -> initscore=0.000000\n",
            "[LightGBM] [Info] Start training from score 0.000000\n",
            "[LightGBM] [Warning] No further splits with positive gain, best gain: -inf\n",
            "[CV] END classifier__class_weight=balanced, classifier__learning_rate=0.05, classifier__max_depth=10, classifier__n_estimators=100, classifier__num_leaves=50; total time=   4.5s\n",
            "[LightGBM] [Warning] No further splits with positive gain, best gain: -inf\n",
            "[LightGBM] [Warning] No further splits with positive gain, best gain: -inf\n",
            "[LightGBM] [Warning] No further splits with positive gain, best gain: -inf\n",
            "[CV] END classifier__class_weight=balanced, classifier__learning_rate=0.05, classifier__max_depth=10, classifier__n_estimators=100, classifier__num_leaves=50; total time=   4.9s\n",
            "[CV] END classifier__class_weight=balanced, classifier__learning_rate=0.05, classifier__max_depth=10, classifier__n_estimators=100, classifier__num_leaves=50; total time=   5.1s\n",
            "[LightGBM] [Info] Number of positive: 3356, number of negative: 34207\n",
            "[LightGBM] [Info] Auto-choosing row-wise multi-threading, the overhead of testing was 0.007313 seconds.\n",
            "You can set `force_row_wise=true` to remove the overhead.\n",
            "And if memory is not enough, you can set `force_col_wise=true`.\n",
            "[LightGBM] [Info] Total Bins 1491\n",
            "[LightGBM] [Info] Number of data points in the train set: 37563, number of used features: 156\n",
            "[LightGBM] [Info] [binary:BoostFromScore]: pavg=0.500000 -> initscore=0.000000\n",
            "[LightGBM] [Info] Start training from score 0.000000\n",
            "[LightGBM] [Info] Number of positive: 3356, number of negative: 34207\n",
            "[LightGBM] [Info] Auto-choosing row-wise multi-threading, the overhead of testing was 0.007454 seconds.\n",
            "You can set `force_row_wise=true` to remove the overhead.\n",
            "And if memory is not enough, you can set `force_col_wise=true`.\n",
            "[LightGBM] [Info] Total Bins 1497\n",
            "[LightGBM] [Info] Number of data points in the train set: 37563, number of used features: 156\n",
            "[LightGBM] [Info] [binary:BoostFromScore]: pavg=0.500000 -> initscore=0.000000\n",
            "[LightGBM] [Info] Start training from score 0.000000\n",
            "[LightGBM] [Warning] No further splits with positive gain, best gain: -inf\n",
            "[LightGBM] [Info] Number of positive: 3356, number of negative: 34206\n",
            "[LightGBM] [Warning] No further splits with positive gain, best gain: -inf\n",
            "[LightGBM] [Info] Auto-choosing row-wise multi-threading, the overhead of testing was 0.033102 seconds.\n",
            "You can set `force_row_wise=true` to remove the overhead.\n",
            "And if memory is not enough, you can set `force_col_wise=true`.\n",
            "[LightGBM] [Info] Total Bins 1493\n",
            "[LightGBM] [Info] Number of data points in the train set: 37562, number of used features: 156\n",
            "[LightGBM] [Info] [binary:BoostFromScore]: pavg=0.500000 -> initscore=0.000000\n",
            "[LightGBM] [Info] Start training from score 0.000000\n",
            "[CV] END classifier__class_weight=balanced, classifier__learning_rate=0.05, classifier__max_depth=10, classifier__n_estimators=200, classifier__num_leaves=31; total time=   6.4s\n",
            "[CV] END classifier__class_weight=balanced, classifier__learning_rate=0.05, classifier__max_depth=10, classifier__n_estimators=200, classifier__num_leaves=31; total time=   6.4s\n",
            "[CV] END classifier__class_weight=balanced, classifier__learning_rate=0.05, classifier__max_depth=10, classifier__n_estimators=200, classifier__num_leaves=31; total time=   6.4s\n",
            "[LightGBM] [Warning] No further splits with positive gain, best gain: -inf\n",
            "[CV] END classifier__class_weight=balanced, classifier__learning_rate=0.05, classifier__max_depth=20, classifier__n_estimators=100, classifier__num_leaves=31; total time=   3.6s\n",
            "[LightGBM] [Warning] No further splits with positive gain, best gain: -inf\n",
            "[LightGBM] [Warning] No further splits with positive gain, best gain: -inf\n",
            "[LightGBM] [Warning] No further splits with positive gain, best gain: -inf\n",
            "[LightGBM] [Info] Number of positive: 3356, number of negative: 34207\n",
            "[LightGBM] [Warning] No further splits with positive gain, best gain: -inf\n",
            "[LightGBM] [Info] Auto-choosing row-wise multi-threading, the overhead of testing was 0.108016 seconds.\n",
            "You can set `force_row_wise=true` to remove the overhead.\n",
            "And if memory is not enough, you can set `force_col_wise=true`.\n",
            "[LightGBM] [Info] Total Bins 1491\n",
            "[LightGBM] [Info] Number of data points in the train set: 37563, number of used features: 156\n",
            "[LightGBM] [Info] [binary:BoostFromScore]: pavg=0.500000 -> initscore=0.000000\n",
            "[LightGBM] [Info] Start training from score 0.000000\n",
            "[LightGBM] [Info] Number of positive: 3356, number of negative: 34207\n",
            "[LightGBM] [Info] Number of positive: 3356, number of negative: 34206\n",
            "[LightGBM] [Info] Auto-choosing row-wise multi-threading, the overhead of testing was 0.029135 seconds.\n",
            "You can set `force_row_wise=true` to remove the overhead.\n",
            "And if memory is not enough, you can set `force_col_wise=true`.\n",
            "[LightGBM] [Info] Total Bins 1493\n",
            "[LightGBM] [Info] Number of data points in the train set: 37562, number of used features: 156\n",
            "[LightGBM] [Info] [binary:BoostFromScore]: pavg=0.500000 -> initscore=0.000000\n",
            "[LightGBM] [Info] Start training from score 0.000000\n",
            "[LightGBM] [Info] Auto-choosing row-wise multi-threading, the overhead of testing was 0.092696 seconds.\n",
            "You can set `force_row_wise=true` to remove the overhead.\n",
            "And if memory is not enough, you can set `force_col_wise=true`.\n",
            "[LightGBM] [Info] Total Bins 1497\n",
            "[LightGBM] [Info] Number of data points in the train set: 37563, number of used features: 156\n",
            "[LightGBM] [Info] [binary:BoostFromScore]: pavg=0.500000 -> initscore=0.000000\n",
            "[LightGBM] [Info] Start training from score 0.000000\n",
            "[LightGBM] [Warning] No further splits with positive gain, best gain: -inf\n",
            "[LightGBM] [Warning] No further splits with positive gain, best gain: -inf\n",
            "[LightGBM] [Info] Number of positive: 3356, number of negative: 34207\n",
            "[LightGBM] [Warning] No further splits with positive gain, best gain: -inf\n",
            "[LightGBM] [Warning] No further splits with positive gain, best gain: -inf\n",
            "[LightGBM] [Info] Auto-choosing row-wise multi-threading, the overhead of testing was 0.150523 seconds.\n",
            "You can set `force_row_wise=true` to remove the overhead.\n",
            "And if memory is not enough, you can set `force_col_wise=true`.\n",
            "[LightGBM] [Info] Total Bins 1491\n",
            "[LightGBM] [Info] Number of data points in the train set: 37563, number of used features: 156\n",
            "[LightGBM] [Info] [binary:BoostFromScore]: pavg=0.500000 -> initscore=0.000000\n",
            "[LightGBM] [Info] Start training from score 0.000000\n",
            "[LightGBM] [Warning] No further splits with positive gain, best gain: -inf\n",
            "[LightGBM] [Warning] No further splits with positive gain, best gain: -inf\n",
            "[CV] END classifier__class_weight=balanced, classifier__learning_rate=0.05, classifier__max_depth=20, classifier__n_estimators=100, classifier__num_leaves=31; total time=   3.5s\n",
            "[LightGBM] [Warning] No further splits with positive gain, best gain: -inf\n",
            "[CV] END classifier__class_weight=balanced, classifier__learning_rate=0.05, classifier__max_depth=20, classifier__n_estimators=100, classifier__num_leaves=31; total time=   3.7s\n",
            "[LightGBM] [Warning] No further splits with positive gain, best gain: -inf\n",
            "[LightGBM] [Warning] No further splits with positive gain, best gain: -inf\n",
            "[LightGBM] [Warning] No further splits with positive gain, best gain: -inf\n",
            "[LightGBM] [Info] Number of positive: 3356, number of negative: 34207\n",
            "[LightGBM] [Warning] No further splits with positive gain, best gain: -inf\n",
            "[LightGBM] [Info] Auto-choosing row-wise multi-threading, the overhead of testing was 0.135541 seconds.\n",
            "You can set `force_row_wise=true` to remove the overhead.\n",
            "And if memory is not enough, you can set `force_col_wise=true`.\n",
            "[LightGBM] [Info] Total Bins 1497\n",
            "[LightGBM] [Info] Number of data points in the train set: 37563, number of used features: 156\n",
            "[LightGBM] [Info] [binary:BoostFromScore]: pavg=0.500000 -> initscore=0.000000\n",
            "[LightGBM] [Info] Start training from score 0.000000\n",
            "[LightGBM] [Warning] No further splits with positive gain, best gain: -inf\n",
            "[CV] END classifier__class_weight=balanced, classifier__learning_rate=0.05, classifier__max_depth=10, classifier__n_estimators=200, classifier__num_leaves=50; total time=   9.2s\n",
            "[LightGBM] [Warning] No further splits with positive gain, best gain: -inf\n",
            "[LightGBM] [Info] Number of positive: 3356, number of negative: 34206\n",
            "[LightGBM] [Info] Auto-choosing row-wise multi-threading, the overhead of testing was 0.007150 seconds.\n",
            "You can set `force_row_wise=true` to remove the overhead.\n",
            "And if memory is not enough, you can set `force_col_wise=true`.\n",
            "[LightGBM] [Info] Total Bins 1493\n",
            "[LightGBM] [Info] Number of data points in the train set: 37562, number of used features: 156\n",
            "[LightGBM] [Info] [binary:BoostFromScore]: pavg=0.500000 -> initscore=0.000000\n",
            "[LightGBM] [Info] Start training from score 0.000000\n",
            "[LightGBM] [Warning] No further splits with positive gain, best gain: -inf\n",
            "[LightGBM] [Warning] No further splits with positive gain, best gain: -inf\n",
            "[LightGBM] [Info] Number of positive: 3356, number of negative: 34207\n",
            "[LightGBM] [Info] Auto-choosing row-wise multi-threading, the overhead of testing was 0.028000 seconds.\n",
            "You can set `force_row_wise=true` to remove the overhead.\n",
            "And if memory is not enough, you can set `force_col_wise=true`.\n",
            "[LightGBM] [Info] Total Bins 1491\n",
            "[LightGBM] [Info] Number of data points in the train set: 37563, number of used features: 156\n",
            "[LightGBM] [Info] [binary:BoostFromScore]: pavg=0.500000 -> initscore=0.000000\n",
            "[LightGBM] [Info] Start training from score 0.000000\n",
            "[LightGBM] [Warning] No further splits with positive gain, best gain: -inf\n",
            "[CV] END classifier__class_weight=balanced, classifier__learning_rate=0.05, classifier__max_depth=20, classifier__n_estimators=100, classifier__num_leaves=50; total time=   5.4s\n",
            "[LightGBM] [Warning] No further splits with positive gain, best gain: -inf\n",
            "[LightGBM] [Warning] No further splits with positive gain, best gain: -inf\n",
            "[LightGBM] [Warning] No further splits with positive gain, best gain: -inf\n",
            "[LightGBM] [Warning] No further splits with positive gain, best gain: -inf\n",
            "[CV] END classifier__class_weight=balanced, classifier__learning_rate=0.05, classifier__max_depth=10, classifier__n_estimators=200, classifier__num_leaves=50; total time=   8.7s\n",
            "[LightGBM] [Info] Number of positive: 3356, number of negative: 34207\n",
            "[CV] END classifier__class_weight=balanced, classifier__learning_rate=0.05, classifier__max_depth=20, classifier__n_estimators=100, classifier__num_leaves=50; total time=   5.2s\n",
            "[LightGBM] [Info] Auto-choosing row-wise multi-threading, the overhead of testing was 0.044065 seconds.\n",
            "You can set `force_row_wise=true` to remove the overhead.\n",
            "And if memory is not enough, you can set `force_col_wise=true`.\n",
            "[LightGBM] [Info] Total Bins 1497\n",
            "[LightGBM] [Info] Number of data points in the train set: 37563, number of used features: 156\n",
            "[LightGBM] [Info] [binary:BoostFromScore]: pavg=0.500000 -> initscore=0.000000\n",
            "[LightGBM] [Info] Start training from score 0.000000\n",
            "[CV] END classifier__class_weight=balanced, classifier__learning_rate=0.05, classifier__max_depth=20, classifier__n_estimators=100, classifier__num_leaves=50; total time=   5.3s\n",
            "[CV] END classifier__class_weight=balanced, classifier__learning_rate=0.05, classifier__max_depth=10, classifier__n_estimators=200, classifier__num_leaves=50; total time=   8.8s\n",
            "[LightGBM] [Info] Number of positive: 3356, number of negative: 34207\n",
            "[LightGBM] [Info] Number of positive: 3356, number of negative: 34206\n",
            "[LightGBM] [Info] Auto-choosing row-wise multi-threading, the overhead of testing was 0.085699 seconds.\n",
            "You can set `force_row_wise=true` to remove the overhead.\n",
            "And if memory is not enough, you can set `force_col_wise=true`.\n",
            "[LightGBM] [Info] Total Bins 1491\n",
            "[LightGBM] [Info] Number of data points in the train set: 37563, number of used features: 156\n",
            "[LightGBM] [Info] [binary:BoostFromScore]: pavg=0.500000 -> initscore=0.000000\n",
            "[LightGBM] [Info] Start training from score 0.000000\n",
            "[LightGBM] [Info] Auto-choosing row-wise multi-threading, the overhead of testing was 0.088288 seconds.\n",
            "You can set `force_row_wise=true` to remove the overhead.\n",
            "And if memory is not enough, you can set `force_col_wise=true`.\n",
            "[LightGBM] [Info] Total Bins 1493\n",
            "[LightGBM] [Info] Number of data points in the train set: 37562, number of used features: 156\n",
            "[LightGBM] [Info] [binary:BoostFromScore]: pavg=0.500000 -> initscore=0.000000\n",
            "[LightGBM] [Info] Start training from score 0.000000\n",
            "[LightGBM] [Info] Number of positive: 3356, number of negative: 34207\n",
            "[LightGBM] [Info] Auto-choosing row-wise multi-threading, the overhead of testing was 0.149495 seconds.\n",
            "You can set `force_row_wise=true` to remove the overhead.\n",
            "And if memory is not enough, you can set `force_col_wise=true`.\n",
            "[LightGBM] [Info] Total Bins 1497\n",
            "[LightGBM] [Info] Number of data points in the train set: 37563, number of used features: 156\n",
            "[LightGBM] [Info] [binary:BoostFromScore]: pavg=0.500000 -> initscore=0.000000\n",
            "[LightGBM] [Info] Start training from score 0.000000\n",
            "[LightGBM] [Info] Number of positive: 3356, number of negative: 34206\n",
            "[LightGBM] [Info] Auto-choosing row-wise multi-threading, the overhead of testing was 0.020308 seconds.\n",
            "You can set `force_row_wise=true` to remove the overhead.\n",
            "And if memory is not enough, you can set `force_col_wise=true`.\n",
            "[LightGBM] [Info] Total Bins 1493\n",
            "[LightGBM] [Info] Number of data points in the train set: 37562, number of used features: 156\n",
            "[LightGBM] [Info] [binary:BoostFromScore]: pavg=0.500000 -> initscore=0.000000\n",
            "[LightGBM] [Info] Start training from score 0.000000\n",
            "[CV] END classifier__class_weight=balanced, classifier__learning_rate=0.05, classifier__max_depth=20, classifier__n_estimators=200, classifier__num_leaves=31; total time=   6.3s\n",
            "[CV] END classifier__class_weight=balanced, classifier__learning_rate=0.05, classifier__max_depth=20, classifier__n_estimators=200, classifier__num_leaves=31; total time=   6.8s\n",
            "[LightGBM] [Info] Number of positive: 3356, number of negative: 34207\n",
            "[LightGBM] [Warning] No further splits with positive gain, best gain: -inf\n",
            "[LightGBM] [Info] Auto-choosing row-wise multi-threading, the overhead of testing was 0.077003 seconds.\n",
            "You can set `force_row_wise=true` to remove the overhead.\n",
            "And if memory is not enough, you can set `force_col_wise=true`.\n",
            "[LightGBM] [Info] Total Bins 1491\n",
            "[LightGBM] [Info] Number of data points in the train set: 37563, number of used features: 156\n",
            "[LightGBM] [Info] [binary:BoostFromScore]: pavg=0.500000 -> initscore=0.000000\n",
            "[LightGBM] [Info] Start training from score 0.000000\n",
            "[LightGBM] [Info] Number of positive: 3356, number of negative: 34207\n",
            "[LightGBM] [Info] Auto-choosing row-wise multi-threading, the overhead of testing was 0.027287 seconds.\n",
            "You can set `force_row_wise=true` to remove the overhead.\n",
            "And if memory is not enough, you can set `force_col_wise=true`.\n",
            "[LightGBM] [Info] Total Bins 1497\n",
            "[LightGBM] [Info] Number of data points in the train set: 37563, number of used features: 156\n",
            "[LightGBM] [Info] [binary:BoostFromScore]: pavg=0.500000 -> initscore=0.000000\n",
            "[LightGBM] [Info] Start training from score 0.000000\n",
            "[LightGBM] [Warning] No further splits with positive gain, best gain: -inf\n",
            "[CV] END classifier__class_weight=balanced, classifier__learning_rate=0.05, classifier__max_depth=20, classifier__n_estimators=200, classifier__num_leaves=31; total time=   6.4s\n",
            "[LightGBM] [Warning] No further splits with positive gain, best gain: -inf\n",
            "[LightGBM] [Warning] No further splits with positive gain, best gain: -inf\n",
            "[CV] END classifier__class_weight=balanced, classifier__learning_rate=0.1, classifier__max_depth=10, classifier__n_estimators=100, classifier__num_leaves=31; total time=   3.5s\n",
            "[CV] END classifier__class_weight=balanced, classifier__learning_rate=0.1, classifier__max_depth=10, classifier__n_estimators=100, classifier__num_leaves=31; total time=   3.5s\n",
            "[LightGBM] [Info] Number of positive: 3356, number of negative: 34206\n",
            "[LightGBM] [Info] Auto-choosing row-wise multi-threading, the overhead of testing was 0.080038 seconds.\n",
            "You can set `force_row_wise=true` to remove the overhead.\n",
            "And if memory is not enough, you can set `force_col_wise=true`.\n",
            "[LightGBM] [Info] Total Bins 1493\n",
            "[LightGBM] [Info] Number of data points in the train set: 37562, number of used features: 156\n",
            "[LightGBM] [Info] [binary:BoostFromScore]: pavg=0.500000 -> initscore=0.000000\n",
            "[LightGBM] [Info] Start training from score 0.000000\n",
            "[CV] END classifier__class_weight=balanced, classifier__learning_rate=0.1, classifier__max_depth=10, classifier__n_estimators=100, classifier__num_leaves=31; total time=   3.7s\n",
            "[LightGBM] [Warning] No further splits with positive gain, best gain: -inf\n",
            "[LightGBM] [Info] Number of positive: 3356, number of negative: 34207\n",
            "[LightGBM] [Info] Number of positive: 3356, number of negative: 34207\n",
            "[LightGBM] [Info] Auto-choosing row-wise multi-threading, the overhead of testing was 0.101203 seconds.\n",
            "You can set `force_row_wise=true` to remove the overhead.\n",
            "And if memory is not enough, you can set `force_col_wise=true`.\n",
            "[LightGBM] [Info] Total Bins 1491\n",
            "[LightGBM] [Info] Number of data points in the train set: 37563, number of used features: 156\n",
            "[LightGBM] [Info] [binary:BoostFromScore]: pavg=0.500000 -> initscore=0.000000\n",
            "[LightGBM] [Info] Start training from score 0.000000\n",
            "[LightGBM] [Info] Auto-choosing row-wise multi-threading, the overhead of testing was 0.102937 seconds.\n",
            "You can set `force_row_wise=true` to remove the overhead.\n",
            "And if memory is not enough, you can set `force_col_wise=true`.\n",
            "[LightGBM] [Info] Total Bins 1497\n",
            "[LightGBM] [Info] Number of data points in the train set: 37563, number of used features: 156\n",
            "[LightGBM] [Info] [binary:BoostFromScore]: pavg=0.500000 -> initscore=0.000000\n",
            "[LightGBM] [Info] Start training from score 0.000000\n",
            "[LightGBM] [Warning] No further splits with positive gain, best gain: -inf\n",
            "[LightGBM] [Info] Number of positive: 3356, number of negative: 34206\n",
            "[LightGBM] [Info] Auto-choosing row-wise multi-threading, the overhead of testing was 0.057956 seconds.\n",
            "You can set `force_row_wise=true` to remove the overhead.\n",
            "And if memory is not enough, you can set `force_col_wise=true`.\n",
            "[LightGBM] [Info] Total Bins 1493\n",
            "[LightGBM] [Info] Number of data points in the train set: 37562, number of used features: 156\n",
            "[LightGBM] [Info] [binary:BoostFromScore]: pavg=0.500000 -> initscore=0.000000\n",
            "[LightGBM] [Info] Start training from score 0.000000\n",
            "[LightGBM] [Warning] No further splits with positive gain, best gain: -inf\n",
            "[LightGBM] [Warning] No further splits with positive gain, best gain: -inf\n",
            "[LightGBM] [Warning] No further splits with positive gain, best gain: -inf\n",
            "[CV] END classifier__class_weight=balanced, classifier__learning_rate=0.1, classifier__max_depth=10, classifier__n_estimators=100, classifier__num_leaves=50; total time=   5.0s\n",
            "[LightGBM] [Warning] No further splits with positive gain, best gain: -inf\n",
            "[LightGBM] [Warning] No further splits with positive gain, best gain: -inf\n",
            "[LightGBM] [Warning] No further splits with positive gain, best gain: -inf\n",
            "[LightGBM] [Warning] No further splits with positive gain, best gain: -inf\n",
            "[LightGBM] [Warning] No further splits with positive gain, best gain: -inf\n",
            "[LightGBM] [Warning] No further splits with positive gain, best gain: -inf\n",
            "[LightGBM] [Info] Number of positive: 3356, number of negative: 34207\n",
            "[CV] END classifier__class_weight=balanced, classifier__learning_rate=0.1, classifier__max_depth=10, classifier__n_estimators=100, classifier__num_leaves=50; total time=   4.9s\n",
            "[LightGBM] [Info] Auto-choosing row-wise multi-threading, the overhead of testing was 0.114426 seconds.\n",
            "You can set `force_row_wise=true` to remove the overhead.\n",
            "And if memory is not enough, you can set `force_col_wise=true`.\n",
            "[LightGBM] [Info] Total Bins 1491\n",
            "[LightGBM] [Info] Number of data points in the train set: 37563, number of used features: 156\n",
            "[LightGBM] [Info] [binary:BoostFromScore]: pavg=0.500000 -> initscore=0.000000\n",
            "[LightGBM] [Info] Start training from score 0.000000\n",
            "[CV] END classifier__class_weight=balanced, classifier__learning_rate=0.05, classifier__max_depth=20, classifier__n_estimators=200, classifier__num_leaves=50; total time=   9.5s\n",
            "[LightGBM] [Warning] No further splits with positive gain, best gain: -inf\n",
            "[LightGBM] [Warning] No further splits with positive gain, best gain: -inf\n",
            "[LightGBM] [Warning] No further splits with positive gain, best gain: -inf\n",
            "[CV] END classifier__class_weight=balanced, classifier__learning_rate=0.1, classifier__max_depth=10, classifier__n_estimators=100, classifier__num_leaves=50; total time=   5.0s\n",
            "[LightGBM] [Warning] No further splits with positive gain, best gain: -inf\n",
            "[LightGBM] [Info] Number of positive: 3356, number of negative: 34207\n",
            "[LightGBM] [Info] Auto-choosing row-wise multi-threading, the overhead of testing was 0.050774 seconds.\n",
            "You can set `force_row_wise=true` to remove the overhead.\n",
            "And if memory is not enough, you can set `force_col_wise=true`.\n",
            "[LightGBM] [Info] Total Bins 1497\n",
            "[LightGBM] [Info] Number of data points in the train set: 37563, number of used features: 156\n",
            "[LightGBM] [Info] [binary:BoostFromScore]: pavg=0.500000 -> initscore=0.000000\n",
            "[LightGBM] [Info] Start training from score 0.000000\n",
            "[CV] END classifier__class_weight=balanced, classifier__learning_rate=0.05, classifier__max_depth=20, classifier__n_estimators=200, classifier__num_leaves=50; total time=   9.6s\n",
            "[LightGBM] [Info] Number of positive: 3356, number of negative: 34206\n",
            "[LightGBM] [Info] Auto-choosing row-wise multi-threading, the overhead of testing was 0.006789 seconds.\n",
            "You can set `force_row_wise=true` to remove the overhead.\n",
            "And if memory is not enough, you can set `force_col_wise=true`.\n",
            "[LightGBM] [Info] Total Bins 1493\n",
            "[LightGBM] [Info] Number of data points in the train set: 37562, number of used features: 156\n",
            "[LightGBM] [Info] [binary:BoostFromScore]: pavg=0.500000 -> initscore=0.000000\n",
            "[LightGBM] [Info] Start training from score 0.000000\n",
            "[LightGBM] [Info] Number of positive: 3356, number of negative: 34207\n",
            "[LightGBM] [Info] Auto-choosing row-wise multi-threading, the overhead of testing was 0.117197 seconds.\n",
            "You can set `force_row_wise=true` to remove the overhead.\n",
            "And if memory is not enough, you can set `force_col_wise=true`.\n",
            "[LightGBM] [Info] Total Bins 1491\n",
            "[LightGBM] [Info] Number of data points in the train set: 37563, number of used features: 156\n",
            "[LightGBM] [Info] [binary:BoostFromScore]: pavg=0.500000 -> initscore=0.000000\n",
            "[LightGBM] [Info] Start training from score 0.000000\n",
            "[LightGBM] [Warning] No further splits with positive gain, best gain: -inf\n",
            "[LightGBM] [Info] Number of positive: 3356, number of negative: 34207\n",
            "[LightGBM] [Warning] No further splits with positive gain, best gain: -inf\n",
            "[LightGBM] [Info] Auto-choosing row-wise multi-threading, the overhead of testing was 0.085544 seconds.\n",
            "You can set `force_row_wise=true` to remove the overhead.\n",
            "And if memory is not enough, you can set `force_col_wise=true`.\n",
            "[LightGBM] [Info] Total Bins 1497\n",
            "[LightGBM] [Info] Number of data points in the train set: 37563, number of used features: 156\n",
            "[LightGBM] [Info] [binary:BoostFromScore]: pavg=0.500000 -> initscore=0.000000\n",
            "[LightGBM] [Info] Start training from score 0.000000\n",
            "[CV] END classifier__class_weight=balanced, classifier__learning_rate=0.05, classifier__max_depth=20, classifier__n_estimators=200, classifier__num_leaves=50; total time=   9.6s\n",
            "[LightGBM] [Warning] No further splits with positive gain, best gain: -inf\n",
            "[LightGBM] [Warning] No further splits with positive gain, best gain: -inf\n",
            "[LightGBM] [Warning] No further splits with positive gain, best gain: -inf\n",
            "[CV] END classifier__class_weight=balanced, classifier__learning_rate=0.1, classifier__max_depth=10, classifier__n_estimators=200, classifier__num_leaves=31; total time=   5.9s\n",
            "[LightGBM] [Warning] No further splits with positive gain, best gain: -inf\n",
            "[LightGBM] [Info] Number of positive: 3356, number of negative: 34206\n",
            "[LightGBM] [Warning] No further splits with positive gain, best gain: -inf\n",
            "[LightGBM] [Info] Auto-choosing row-wise multi-threading, the overhead of testing was 0.008900 seconds.\n",
            "You can set `force_row_wise=true` to remove the overhead.\n",
            "And if memory is not enough, you can set `force_col_wise=true`.\n",
            "[LightGBM] [Info] Total Bins 1493\n",
            "[LightGBM] [Info] Number of data points in the train set: 37562, number of used features: 156\n",
            "[LightGBM] [Info] [binary:BoostFromScore]: pavg=0.500000 -> initscore=0.000000\n",
            "[LightGBM] [Info] Start training from score 0.000000\n",
            "[LightGBM] [Warning] No further splits with positive gain, best gain: -inf\n",
            "[LightGBM] [Warning] No further splits with positive gain, best gain: -inf\n",
            "[CV] END classifier__class_weight=balanced, classifier__learning_rate=0.1, classifier__max_depth=10, classifier__n_estimators=200, classifier__num_leaves=31; total time=   6.1s\n",
            "[CV] END classifier__class_weight=balanced, classifier__learning_rate=0.1, classifier__max_depth=10, classifier__n_estimators=200, classifier__num_leaves=31; total time=   6.1s\n",
            "[LightGBM] [Warning] No further splits with positive gain, best gain: -inf\n",
            "[LightGBM] [Warning] No further splits with positive gain, best gain: -inf\n",
            "[LightGBM] [Info] Number of positive: 3356, number of negative: 34207\n",
            "[LightGBM] [Info] Auto-choosing row-wise multi-threading, the overhead of testing was 0.029653 seconds.\n",
            "You can set `force_row_wise=true` to remove the overhead.\n",
            "And if memory is not enough, you can set `force_col_wise=true`.\n",
            "[LightGBM] [Info] Total Bins 1491\n",
            "[LightGBM] [Info] Number of data points in the train set: 37563, number of used features: 156\n",
            "[LightGBM] [Info] [binary:BoostFromScore]: pavg=0.500000 -> initscore=0.000000\n",
            "[LightGBM] [Info] Start training from score 0.000000\n",
            "[LightGBM] [Warning] No further splits with positive gain, best gain: -inf\n",
            "[LightGBM] [Warning] No further splits with positive gain, best gain: -inf\n",
            "[LightGBM] [Warning] No further splits with positive gain, best gain: -inf\n",
            "[LightGBM] [Warning] No further splits with positive gain, best gain: -inf\n",
            "[LightGBM] [Warning] No further splits with positive gain, best gain: -inf\n",
            "[LightGBM] [Warning] No further splits with positive gain, best gain: -inf\n",
            "[CV] END classifier__class_weight=balanced, classifier__learning_rate=0.1, classifier__max_depth=20, classifier__n_estimators=100, classifier__num_leaves=31; total time=   3.9s\n",
            "[LightGBM] [Info] Number of positive: 3356, number of negative: 34207\n",
            "[LightGBM] [Info] Number of positive: 3356, number of negative: 34206\n",
            "[LightGBM] [Info] Auto-choosing row-wise multi-threading, the overhead of testing was 0.102046 seconds.\n",
            "You can set `force_row_wise=true` to remove the overhead.\n",
            "And if memory is not enough, you can set `force_col_wise=true`.\n",
            "[LightGBM] [Info] Total Bins 1497\n",
            "[LightGBM] [Info] Number of data points in the train set: 37563, number of used features: 156\n",
            "[LightGBM] [Info] [binary:BoostFromScore]: pavg=0.500000 -> initscore=0.000000\n",
            "[LightGBM] [Info] Start training from score 0.000000\n",
            "[CV] END classifier__class_weight=balanced, classifier__learning_rate=0.1, classifier__max_depth=20, classifier__n_estimators=100, classifier__num_leaves=31; total time=   3.5s\n",
            "[LightGBM] [Warning] No further splits with positive gain, best gain: -inf\n",
            "[LightGBM] [Info] Auto-choosing row-wise multi-threading, the overhead of testing was 0.065138 seconds.\n",
            "You can set `force_row_wise=true` to remove the overhead.\n",
            "And if memory is not enough, you can set `force_col_wise=true`.\n",
            "[LightGBM] [Info] Total Bins 1493\n",
            "[LightGBM] [Info] Number of data points in the train set: 37562, number of used features: 156\n",
            "[LightGBM] [Info] [binary:BoostFromScore]: pavg=0.500000 -> initscore=0.000000\n",
            "[LightGBM] [Info] Start training from score 0.000000\n",
            "[LightGBM] [Warning] No further splits with positive gain, best gain: -inf\n",
            "[LightGBM] [Warning] No further splits with positive gain, best gain: -inf\n",
            "[LightGBM] [Warning] No further splits with positive gain, best gain: -inf\n",
            "[CV] END classifier__class_weight=balanced, classifier__learning_rate=0.1, classifier__max_depth=20, classifier__n_estimators=100, classifier__num_leaves=31; total time=   3.5s\n",
            "[LightGBM] [Info] Number of positive: 3356, number of negative: 34207\n",
            "[LightGBM] [Info] Auto-choosing row-wise multi-threading, the overhead of testing was 0.088997 seconds.\n",
            "You can set `force_row_wise=true` to remove the overhead.\n",
            "And if memory is not enough, you can set `force_col_wise=true`.\n",
            "[LightGBM] [Info] Total Bins 1491\n",
            "[LightGBM] [Info] Number of data points in the train set: 37563, number of used features: 156\n",
            "[LightGBM] [Info] [binary:BoostFromScore]: pavg=0.500000 -> initscore=0.000000\n",
            "[LightGBM] [Info] Start training from score 0.000000\n",
            "[LightGBM] [Info] Number of positive: 3356, number of negative: 34207\n",
            "[LightGBM] [Info] Auto-choosing row-wise multi-threading, the overhead of testing was 0.102231 seconds.\n",
            "You can set `force_row_wise=true` to remove the overhead.\n",
            "And if memory is not enough, you can set `force_col_wise=true`.\n",
            "[LightGBM] [Info] Total Bins 1497\n",
            "[LightGBM] [Info] Number of data points in the train set: 37563, number of used features: 156\n",
            "[LightGBM] [Info] [binary:BoostFromScore]: pavg=0.500000 -> initscore=0.000000\n",
            "[LightGBM] [Info] Start training from score 0.000000\n",
            "[LightGBM] [Warning] No further splits with positive gain, best gain: -inf\n",
            "[LightGBM] [Info] Number of positive: 3356, number of negative: 34206\n",
            "[LightGBM] [Warning] No further splits with positive gain, best gain: -inf\n",
            "[LightGBM] [Info] Auto-choosing row-wise multi-threading, the overhead of testing was 0.054794 seconds.\n",
            "You can set `force_row_wise=true` to remove the overhead.\n",
            "And if memory is not enough, you can set `force_col_wise=true`.\n",
            "[LightGBM] [Info] Total Bins 1493\n",
            "[LightGBM] [Info] Number of data points in the train set: 37562, number of used features: 156\n",
            "[LightGBM] [Info] [binary:BoostFromScore]: pavg=0.500000 -> initscore=0.000000\n",
            "[LightGBM] [Info] Start training from score 0.000000\n",
            "[LightGBM] [Warning] No further splits with positive gain, best gain: -inf\n",
            "[LightGBM] [Warning] No further splits with positive gain, best gain: -inf\n",
            "[LightGBM] [Warning] No further splits with positive gain, best gain: -inf\n",
            "[LightGBM] [Warning] No further splits with positive gain, best gain: -inf\n",
            "[CV] END classifier__class_weight=balanced, classifier__learning_rate=0.1, classifier__max_depth=10, classifier__n_estimators=200, classifier__num_leaves=50; total time=   8.9s\n",
            "[LightGBM] [Warning] No further splits with positive gain, best gain: -inf\n",
            "[LightGBM] [Info] Number of positive: 3356, number of negative: 34207\n",
            "[LightGBM] [Info] Auto-choosing row-wise multi-threading, the overhead of testing was 0.010552 seconds.\n",
            "You can set `force_row_wise=true` to remove the overhead.\n",
            "And if memory is not enough, you can set `force_col_wise=true`.\n",
            "[LightGBM] [Info] Total Bins 1491\n",
            "[LightGBM] [Info] Number of data points in the train set: 37563, number of used features: 156\n",
            "[LightGBM] [Info] [binary:BoostFromScore]: pavg=0.500000 -> initscore=0.000000\n",
            "[LightGBM] [Info] Start training from score 0.000000\n",
            "[LightGBM] [Warning] No further splits with positive gain, best gain: -inf\n",
            "[LightGBM] [Warning] No further splits with positive gain, best gain: -inf\n",
            "[LightGBM] [Warning] No further splits with positive gain, best gain: -inf\n",
            "[CV] END classifier__class_weight=balanced, classifier__learning_rate=0.1, classifier__max_depth=20, classifier__n_estimators=100, classifier__num_leaves=50; total time=   5.2s\n",
            "[CV] END classifier__class_weight=balanced, classifier__learning_rate=0.1, classifier__max_depth=10, classifier__n_estimators=200, classifier__num_leaves=50; total time=   8.6s\n",
            "[LightGBM] [Info] Number of positive: 3356, number of negative: 34207\n",
            "[CV] END classifier__class_weight=balanced, classifier__learning_rate=0.1, classifier__max_depth=20, classifier__n_estimators=100, classifier__num_leaves=50; total time=   5.2s\n",
            "[LightGBM] [Info] Auto-choosing row-wise multi-threading, the overhead of testing was 0.071211 seconds.\n",
            "You can set `force_row_wise=true` to remove the overhead.\n",
            "And if memory is not enough, you can set `force_col_wise=true`.\n",
            "[LightGBM] [Info] Total Bins 1497\n",
            "[LightGBM] [Info] Number of data points in the train set: 37563, number of used features: 156\n",
            "[LightGBM] [Info] [binary:BoostFromScore]: pavg=0.500000 -> initscore=0.000000\n",
            "[LightGBM] [Info] Start training from score 0.000000\n",
            "[CV] END classifier__class_weight=balanced, classifier__learning_rate=0.1, classifier__max_depth=10, classifier__n_estimators=200, classifier__num_leaves=50; total time=   8.6s\n",
            "[CV] END classifier__class_weight=balanced, classifier__learning_rate=0.1, classifier__max_depth=20, classifier__n_estimators=100, classifier__num_leaves=50; total time=   5.3s\n",
            "[CV] END classifier__class_weight=balanced, classifier__learning_rate=0.1, classifier__max_depth=20, classifier__n_estimators=200, classifier__num_leaves=31; total time=   6.0s\n",
            "[CV] END classifier__class_weight=balanced, classifier__learning_rate=0.1, classifier__max_depth=20, classifier__n_estimators=200, classifier__num_leaves=31; total time=   5.7s\n",
            "[CV] END classifier__class_weight=balanced, classifier__learning_rate=0.1, classifier__max_depth=20, classifier__n_estimators=200, classifier__num_leaves=31; total time=   5.5s\n",
            "[CV] END classifier__class_weight=balanced, classifier__learning_rate=0.1, classifier__max_depth=20, classifier__n_estimators=200, classifier__num_leaves=50; total time=   6.7s\n",
            "[CV] END classifier__class_weight=balanced, classifier__learning_rate=0.1, classifier__max_depth=20, classifier__n_estimators=200, classifier__num_leaves=50; total time=   5.1s\n",
            "[CV] END classifier__class_weight=balanced, classifier__learning_rate=0.1, classifier__max_depth=20, classifier__n_estimators=200, classifier__num_leaves=50; total time=   4.2s\n",
            "[LightGBM] [Info] Number of positive: 5034, number of negative: 51310\n",
            "[LightGBM] [Info] Auto-choosing row-wise multi-threading, the overhead of testing was 0.006249 seconds.\n",
            "You can set `force_row_wise=true` to remove the overhead.\n",
            "And if memory is not enough, you can set `force_col_wise=true`.\n",
            "[LightGBM] [Info] Total Bins 1523\n",
            "[LightGBM] [Info] Number of data points in the train set: 56344, number of used features: 160\n",
            "[LightGBM] [Info] [binary:BoostFromScore]: pavg=0.500000 -> initscore=0.000000\n",
            "[LightGBM] [Info] Start training from score 0.000000\n",
            "Best F1-score for LightGBM: 0.2186\n",
            "Best parameters: {'classifier__class_weight': 'balanced', 'classifier__learning_rate': 0.05, 'classifier__max_depth': 20, 'classifier__n_estimators': 200, 'classifier__num_leaves': 50}\n",
            "--------------------------------------------------\n"
          ]
        }
      ],
      "source": [
        "# Define hyperparameter grids with cost-sensitive parameters\n",
        "param_grids = {\n",
        "    'Logistic Regression': {\n",
        "        'classifier__C': [0.01, 0.1, 1, 10],\n",
        "        'classifier__penalty': ['l1', 'l2'],\n",
        "        'classifier__class_weight': ['balanced']\n",
        "    },\n",
        "    'Random Forest': {\n",
        "        'classifier__n_estimators': [100, 200],\n",
        "        'classifier__max_depth': [10, 20, None],\n",
        "        'classifier__min_samples_leaf': [1, 2, 4],\n",
        "        'classifier__class_weight': ['balanced', 'balanced_subsample']\n",
        "    },\n",
        "    'XGBoost': {\n",
        "        'classifier__n_estimators': [100, 200],\n",
        "        'classifier__max_depth': [5, 10],\n",
        "        'classifier__learning_rate': [0.05, 0.1],\n",
        "        'classifier__subsample': [0.7, 1.0],\n",
        "        'classifier__scale_pos_weight': [scale_pos_weight]\n",
        "    },\n",
        "    'LightGBM': {\n",
        "        'classifier__n_estimators': [100, 200],\n",
        "        'classifier__max_depth': [10, 20],\n",
        "        'classifier__learning_rate': [0.05, 0.1],\n",
        "        'classifier__num_leaves': [31, 50],\n",
        "        'classifier__class_weight': ['balanced']\n",
        "    }\n",
        "}\n",
        "\n",
        "\n",
        "results = {}\n",
        "\n",
        "# Loop through models\n",
        "for model_name, model in models.items():\n",
        "\t\tprint(f'Running {model_name} with cost-sensitive learning...')\n",
        "\t\t\n",
        "\t\t# Create pipeline (no sampler)\n",
        "\t\tpipeline = Pipeline(steps=[('preprocessor', preprocessor),\n",
        "\t\t\t\t\t\t\t\t\t\t\t\t\t\t\t\t\t('classifier', model)])\n",
        "\t\t\n",
        "\t\tcv = StratifiedKFold(n_splits=3)\n",
        "\t\t# We are scoring on F1 for the positive class (label '1')\n",
        "\t\tgrid_search = GridSearchCV(pipeline, param_grid=param_grids[model_name], cv=cv, scoring='f1'\n",
        ", n_jobs=-1, verbose=2)\n",
        "\t\t\n",
        "\t\tgrid_search.fit(X_train, y_train)\n",
        "\t\t\n",
        "\t\tresults[model_name] = {\n",
        "\t\t\t\t'best_score': grid_search.best_score_,\n",
        "\t\t\t\t'best_params': grid_search.best_params_,\n",
        "\t\t\t\t'best_estimator': grid_search.best_estimator_\n",
        "\t\t}\n",
        "\t\t\n",
        "\t\tprint(f'Best F1-score for {model_name}: {grid_search.best_score_:.4f}')\n",
        "\t\tprint(f'Best parameters: {grid_search.best_params_}')\n",
        "\t\tprint('-'*50)"
      ]
    },
    {
      "cell_type": "code",
      "execution_count": 77,
      "id": "bd048d2b",
      "metadata": {},
      "outputs": [
        {
          "name": "stdout",
          "output_type": "stream",
          "text": [
            "\\n## Model Performance Summary (Cost-Sensitive Learning)\n",
            "| Model               |   Accuracy |   F1-score (Class 1) |   Recall (Class 1) |   Precision (Class 1) |   F1-score (Class 0) |   Recall (Class 0) |   Precision (Class 0) |   Macro Avg F1 |   Weighted Avg F1 |\n",
            "|:--------------------|-----------:|---------------------:|-------------------:|----------------------:|---------------------:|-------------------:|----------------------:|---------------:|------------------:|\n",
            "| Logistic Regression |     0.6714 |               0.225  |             0.5338 |                0.1426 |               0.7915 |             0.6849 |                0.9374 |         0.5083 |            0.7409 |\n",
            "| Random Forest       |     0.7508 |               0.2353 |             0.4289 |                0.1621 |               0.8512 |             0.7824 |                0.9332 |         0.5432 |            0.7961 |\n",
            "| XGBoost             |     0.6832 |               0.2314 |             0.5338 |                0.1478 |               0.8005 |             0.6978 |                0.9385 |         0.516  |            0.7496 |\n",
            "| LightGBM            |     0.718  |               0.234  |             0.4821 |                0.1545 |               0.8272 |             0.7411 |                0.9358 |         0.5306 |            0.7742 |\n"
          ]
        }
      ],
      "source": [
        "# 3. Results and Analysis\n",
        "results_summary = []\n",
        "for model_name, model_data in results.items():\n",
        "\t\tbest_estimator = model_data['best_estimator']\n",
        "\t\ty_pred = best_estimator.predict(X_test)\n",
        "\t\treport = classification_report(y_test, y_pred, output_dict=True)\n",
        "\t\taccuracy = accuracy_score(y_test, y_pred)\n",
        "\t\t\n",
        "\t\tresults_summary.append({\n",
        "\t\t\t\t'Model': model_name,\n",
        "\t\t\t\t'Accuracy': f\"{accuracy:.4f}\",\n",
        "\t\t\t\t'F1-score (Class 1)': f\"{report['1']['f1-score']:.4f}\",\n",
        "\t\t\t\t'Recall (Class 1)': f\"{report['1']['recall']:.4f}\",\n",
        "\t\t\t\t'Precision (Class 1)': f\"{report['1']['precision']:.4f}\",\n",
        "\t\t\t\t'F1-score (Class 0)': f\"{report['0']['f1-score']:.4f}\",\n",
        "\t\t\t\t'Recall (Class 0)': f\"{report['0']['recall']:.4f}\",\n",
        "\t\t\t\t'Precision (Class 0)': f\"{report['0']['precision']:.4f}\",\n",
        "\t\t\t\t'Macro Avg F1': f\"{report['macro avg']['f1-score']:.4f}\",\n",
        "\t\t\t\t'Weighted Avg F1': f\"{report['weighted avg']['f1-score']:.4f}\"\n",
        "\t\t})\n",
        "\n",
        "summary_df = pd.DataFrame(results_summary)\n",
        "print(\"\\\\n## Model Performance Summary (Cost-Sensitive Learning)\")\n",
        "print(summary_df.to_markdown(index=False))"
      ]
    },
    {
      "cell_type": "code",
      "execution_count": 78,
      "id": "36c060d3",
      "metadata": {},
      "outputs": [
        {
          "data": {
            "image/png": "[encoded data removed]",
            "text/plain": [
              "<Figure size 800x2400 with 8 Axes>"
            ]
          },
          "metadata": {},
          "output_type": "display_data"
        }
      ],
      "source": [
        "# Plot confusion matrices\n",
        "num_models = len(results)\n",
        "fig, axes = plt.subplots(num_models, 1, figsize=(8, num_models * 6))\n",
        "if num_models == 1: axes = [axes] # Make it iterable if only one model\n",
        "fig.tight_layout(pad=6.0)\n",
        "\n",
        "for i, (model_name, model_data) in enumerate(results.items()):\n",
        "\t\tbest_estimator = model_data['best_estimator']\n",
        "\t\ty_pred = best_estimator.predict(X_test)\n",
        "\t\tcm = confusion_matrix(y_test, y_pred)\n",
        "\t\t\n",
        "\t\tsns.heatmap(cm, annot=True, fmt='d', cmap='Blues', ax=axes[i])\n",
        "\t\taxes[i].set_title(f'Confusion Matrix for {model_name}')\n",
        "\t\taxes[i].set_xlabel('Predicted Label')\n",
        "\t\taxes[i].set_ylabel('True Label')\n",
        "\n",
        "plt.show()"
      ]
    },
    {
      "cell_type": "markdown",
      "id": "39fe73e1",
      "metadata": {},
      "source": [
        "# Ensemble METHOD"
      ]
    },
    {
      "cell_type": "code",
      "execution_count": 79,
      "id": "d052c424",
      "metadata": {},
      "outputs": [
        {
          "name": "stdout",
          "output_type": "stream",
          "text": [
            "### Creating and Evaluating an Ensemble Voting Classifier ###\n",
            "\\nTraining the Voting Classifier...\n",
            "[LightGBM] [Info] Number of positive: 5034, number of negative: 51310\n",
            "[LightGBM] [Info] Auto-choosing row-wise multi-threading, the overhead of testing was 0.006167 seconds.\n",
            "You can set `force_row_wise=true` to remove the overhead.\n",
            "And if memory is not enough, you can set `force_col_wise=true`.\n",
            "[LightGBM] [Info] Total Bins 1523\n",
            "[LightGBM] [Info] Number of data points in the train set: 56344, number of used features: 160\n",
            "[LightGBM] [Info] [binary:BoostFromScore]: pavg=0.500000 -> initscore=0.000000\n",
            "[LightGBM] [Info] Start training from score 0.000000\n",
            "Training complete.\n",
            "\\nEvaluating the Voting Classifier...\n",
            "\\n## Ensemble Model Performance Summary\n",
            "| Model             |   Accuracy |   Precision (0) |   Recall (0) |   F1-score (0) |   Precision (1) |   Recall (1) |   F1-score (1) |   Macro Avg F1 |   Weighted Avg F1 |\n",
            "|:------------------|-----------:|----------------:|-------------:|---------------:|----------------:|-------------:|---------------:|---------------:|------------------:|\n",
            "| Voting Classifier |     0.7128 |          0.9371 |       0.7339 |         0.8231 |          0.1552 |        0.498 |         0.2366 |         0.5299 |            0.7707 |\n"
          ]
        },
        {
          "data": {
            "image/png": "[encoded data removed]",
            "text/plain": [
              "<Figure size 800x600 with 2 Axes>"
            ]
          },
          "metadata": {},
          "output_type": "display_data"
        }
      ],
      "source": [
        "print(\"### Creating and Evaluating an Ensemble Voting Classifier ###\")\n",
        "\n",
        "# 1. Extract the best estimators from the previous cost-sensitive learning run\n",
        "# This uses the 'results' dictionary you generated in the last step.\n",
        "lr_best = results['Logistic Regression']['best_estimator']\n",
        "rf_best = results['Random Forest']['best_estimator']\n",
        "xgb_best = results['XGBoost']['best_estimator']\n",
        "lgbm_best = results['LightGBM']['best_estimator']\n",
        "\n",
        "# 2. Create the Voting Classifier\n",
        "# We use 'soft' voting to average the predicted probabilities.\n",
        "voting_clf = VotingClassifier(\n",
        "    estimators=[\n",
        "        ('lr', lr_best),\n",
        "        ('rf', rf_best),\n",
        "        ('xgb', xgb_best),\n",
        "        ('lgbm', lgbm_best)\n",
        "    ],\n",
        "    voting='soft'\n",
        ")\n",
        "\n",
        "# 3. Train the ensemble model on the full training data\n",
        "print(\"\\\\nTraining the Voting Classifier...\")\n",
        "voting_clf.fit(X_train, y_train)\n",
        "print(\"Training complete.\")\n",
        "\n",
        "# 4. Evaluate the ensemble model on the test set\n",
        "print(\"\\\\nEvaluating the Voting Classifier...\")\n",
        "y_pred_ensemble = voting_clf.predict(X_test)\n",
        "\n",
        "# Generate and print the classification report\n",
        "report = classification_report(y_test, y_pred_ensemble, output_dict=True)\n",
        "accuracy = accuracy_score(y_test, y_pred_ensemble)\n",
        "\n",
        "\n",
        "# Create a summary DataFrame\n",
        "ensemble_summary = {\n",
        "    'Model': 'Voting Classifier',\n",
        "    'Accuracy': f\"{accuracy:.4f}\",\n",
        "    'Precision (0)': f\"{report['0']['precision']:.4f}\",\n",
        "    'Recall (0)': f\"{report['0']['recall']:.4f}\",\n",
        "    'F1-score (0)': f\"{report['0']['f1-score']:.4f}\",\n",
        "    'Precision (1)': f\"{report['1']['precision']:.4f}\",\n",
        "    'Recall (1)': f\"{report['1']['recall']:.4f}\",\n",
        "    'F1-score (1)': f\"{report['1']['f1-score']:.4f}\",\n",
        "    'Macro Avg F1': f\"{report['macro avg']['f1-score']:.4f}\",\n",
        "    'Weighted Avg F1': f\"{report['weighted avg']['f1-score']:.4f}\"\n",
        "}\n",
        "summary_df = pd.DataFrame([ensemble_summary])\n",
        "\n",
        "print(\"\\\\n## Ensemble Model Performance Summary\")\n",
        "print(summary_df.to_markdown(index=False))\n",
        "\n",
        "\n",
        "# Plot the confusion matrix for the ensemble model\n",
        "plt.figure(figsize=(8, 6))\n",
        "cm = confusion_matrix(y_test, y_pred_ensemble)\n",
        "sns.heatmap(cm, annot=True, fmt='d', cmap='Blues')\n",
        "plt.title('Confusion Matrix for Ensemble Voting Classifier')\n",
        "plt.xlabel('Predicted Label')\n",
        "plt.ylabel('True Label')\n",
        "plt.show()"
      ]
    },
    {
      "cell_type": "code",
      "execution_count": null,
      "id": "1511eb0c",
      "metadata": {},
      "outputs": [],
      "source": []
    },
    {
      "cell_type": "code",
      "execution_count": null,
      "id": "zPa7XSo7yNt0",
      "metadata": {
        "id": "zPa7XSo7yNt0"
      },
      "outputs": [],
      "source": []
    },
    {
      "cell_type": "code",
      "execution_count": null,
      "id": "3ce62e25",
      "metadata": {},
      "outputs": [],
      "source": []
    }
  ],
  "metadata": {
    "colab": {
      "provenance": [],
      "toc_visible": true
    },
    "kernelspec": {
      "display_name": ".venv",
      "language": "python",
      "name": "python3"
    },
    "language_info": {
      "codemirror_mode": {
        "name": "ipython",
        "version": 3
      },
      "file_extension": ".py",
      "mimetype": "text/x-python",
      "name": "python",
      "nbconvert_exporter": "python",
      "pygments_lexer": "ipython3",
      "version": "3.13.1"
    }
  },
  "nbformat": 4,
  "nbformat_minor": 5
}
